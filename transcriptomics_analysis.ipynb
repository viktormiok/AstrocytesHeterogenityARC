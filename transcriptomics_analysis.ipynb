{
 "cells": [
  {
   "cell_type": "markdown",
   "metadata": {},
   "source": [
    "## Loading packages\n",
    "Required packages for downstream analysis"
   ]
  },
  {
   "cell_type": "code",
   "execution_count": 1,
   "metadata": {},
   "outputs": [],
   "source": [
    "inst <- suppressMessages(lapply(c('DESeq2',\n",
    "                                  'vidger',\n",
    "                                  'pheatmap',\n",
    "                                  'ggplot2',\n",
    "                                  'EnhancedVolcano',\n",
    "                                  'VennDiagram',\n",
    "                                  'org.Mm.eg.db',\n",
    "                                  'clusterProfiler',\n",
    "                                  'UpSetR',\n",
    "                                  'readxl',\n",
    "                                  'tidyverse',\n",
    "                                  'KEGGREST'),\n",
    "                                library,\n",
    "                                character.only=TRUE)\n",
    ") "
   ]
  },
  {
   "cell_type": "markdown",
   "metadata": {},
   "source": [
    "Set whether to produce plots, set to False for test runs."
   ]
  },
  {
   "cell_type": "code",
   "execution_count": 2,
   "metadata": {},
   "outputs": [],
   "source": [
    "bool_plot = FALSE"
   ]
  },
  {
   "cell_type": "code",
   "execution_count": 3,
   "metadata": {},
   "outputs": [],
   "source": [
    "prot_input_file = '~/Documents/consultation/Luiza/omics_data/data/astrocyteprotoeme12102017-1.xlsx'\n",
    "options(repr.plot.width=8, repr.plot.height=8)\n",
    "my_palette = colorRampPalette(c(\"blue\", \"white\", \"red\"))(n=255)"
   ]
  },
  {
   "cell_type": "code",
   "execution_count": 4,
   "metadata": {},
   "outputs": [],
   "source": [
    "dat <- read.csv(file=\"/Users/viktorian.miok/Documents/data/RNA-seq_Data-NEW/new_counts1.csv\", \n",
    "                header=TRUE,\n",
    "                sep=\",\"\n",
    ")\n",
    "rownames(dat) = dat[,1]\n",
    "dat = dat[,-1]"
   ]
  },
  {
   "cell_type": "code",
   "execution_count": 5,
   "metadata": {},
   "outputs": [],
   "source": [
    "group = c(rep(\"HPT_Chow\",6), rep(\"HPT_HFD\",7), rep(\"Hippo_Chow\",6), \n",
    "          rep(\"Hippo_HFD\",7), rep(\"CTX_Chow\",6), rep(\"CTX_HFD\",7))\n",
    "lab = colnames(dat)\n",
    "loc = c(rep(\"Hypothalamus\",13), rep(\"Hippocampus\",13), rep(\"Cortex\",13))\n",
    "diet = c(rep(\"chow\",6), rep(\"hfd\",7), rep(\"chow\",6), rep(\"hfd\",7), rep(\"chow\",6), rep(\"hfd\",7))\n",
    "id = colnames(dat)\n",
    "metaData = data.frame(id, group, loc,diet)"
   ]
  },
  {
   "cell_type": "code",
   "execution_count": 6,
   "metadata": {},
   "outputs": [],
   "source": [
    "# remove probleatic samples\n",
    "dat = dat[,-c(10,13,19,34)] #dat[,-c(10,13,19,34,36)]    19,,36  #10,13,19,32,39\n",
    "metaData = metaData[-c(10,13,19,34),] #metaData[-c(10,13,19,34,36),]    19,36"
   ]
  },
  {
   "cell_type": "code",
   "execution_count": 7,
   "metadata": {},
   "outputs": [
    {
     "name": "stderr",
     "output_type": "stream",
     "text": [
      "'select()' returned 1:many mapping between keys and columns\n",
      "\n",
      "Warning message in bitr(gsub(\"\\\\..*\", \"\", rownames(dat)), fromType = \"ENSEMBL\", :\n",
      "“50.55% of input gene IDs are fail to map...”\n"
     ]
    }
   ],
   "source": [
    "# convert from ensembl to symbol gene id\n",
    "rownames(dat) = gsub(\"\\\\..*\",\"\",rownames(dat))\n",
    "sig.gene <- bitr(gsub(\"\\\\..*\",\"\",rownames(dat)), \n",
    "                 fromType=\"ENSEMBL\", \n",
    "                 toType=\"SYMBOL\",\n",
    "                 OrgDb=org.Mm.eg.db\n",
    ")\n",
    "symb = sig.gene$SYMBOL[ match(rownames(dat), sig.gene$ENSEMBL) ]\n",
    "dat = dat[!is.na(symb),]\n",
    "symb = symb[!is.na(symb)]\n",
    "rownames(dat) = make.names(symb, TRUE\n",
    ")"
   ]
  },
  {
   "cell_type": "code",
   "execution_count": 8,
   "metadata": {},
   "outputs": [],
   "source": [
    "# filtering\n",
    "keep = rowSums(dat) > 10\n",
    "dat = dat[keep,]\n",
    "\n",
    "keep = rowSums(dat >= 10) >= 5\n",
    "dat = dat[keep,]"
   ]
  },
  {
   "cell_type": "markdown",
   "metadata": {},
   "source": [
    "## Comparison of diet effect for each tissue"
   ]
  },
  {
   "cell_type": "code",
   "execution_count": 9,
   "metadata": {},
   "outputs": [
    {
     "name": "stderr",
     "output_type": "stream",
     "text": [
      "Warning message in DESeqDataSet(se, design = design, ignoreRank):\n",
      "“some variables in design formula are characters, converting to factors”\n",
      "estimating size factors\n",
      "\n",
      "estimating dispersions\n",
      "\n",
      "gene-wise dispersion estimates\n",
      "\n",
      "mean-dispersion relationship\n",
      "\n",
      "final dispersion estimates\n",
      "\n",
      "fitting model and testing\n",
      "\n",
      "-- replacing outliers and refitting for 155 genes\n",
      "-- DESeq argument 'minReplicatesForReplace' = 7 \n",
      "-- original counts are preserved in counts(dds)\n",
      "\n",
      "estimating dispersions\n",
      "\n",
      "fitting model and testing\n",
      "\n"
     ]
    }
   ],
   "source": [
    "dds <- DESeqDataSetFromMatrix(countData=dat, \n",
    "                              colData=metaData,\n",
    "                              design=~group\n",
    ")\n",
    "dds <- DESeq(dds)"
   ]
  },
  {
   "cell_type": "code",
   "execution_count": 10,
   "metadata": {},
   "outputs": [],
   "source": [
    "# variance stabilizing transformation data\n",
    "vsd <- assay(vst(dds, \n",
    "                 blind=TRUE\n",
    "             )\n",
    ")"
   ]
  },
  {
   "cell_type": "code",
   "execution_count": 11,
   "metadata": {},
   "outputs": [],
   "source": [
    "options(repr.plot.width=10, repr.plot.height=8)"
   ]
  },
  {
   "cell_type": "code",
   "execution_count": 12,
   "metadata": {},
   "outputs": [],
   "source": [
    "if(bool_plot){\n",
    "    pcaData <- plotPCA(vst(dds[,1:11]),\n",
    "                       intgroup=c(\"group\"),\n",
    "                       returnData=TRUE\n",
    "    )\n",
    "    gr1 = dds@colData$group[1:11]\n",
    "    percentVar = round(100 * attr(pcaData, \"percentVar\"))\n",
    "\n",
    "    p <- ggplot(pcaData, aes(x=PC1, y=PC2, color=gr1)) +\n",
    "                geom_point(aes(color=gr1), size=5) + \n",
    "                geom_point(shape=1, color=\"black\", size=5) + \n",
    "                xlab(paste0(\"PC1: \",percentVar[1],\"% variance\")) + \n",
    "                ylab(paste0(\"PC2: \",percentVar[2],\"% variance\")) +\n",
    "                theme(axis.text=element_text(size=20), \n",
    "                      axis.title=element_text(size=20), \n",
    "                      legend.title=element_text(siz=20),\n",
    "                      legend.text=element_text(size=20),\n",
    "                      plot.title=element_text(size=20)) + \n",
    "                scale_color_manual(values=c(\"chocolate\",\"tan1\")) +\n",
    "                ylim(-25,15) +\n",
    "                xlim(-20,20)\n",
    "    p\n",
    "}"
   ]
  },
  {
   "cell_type": "code",
   "execution_count": 13,
   "metadata": {},
   "outputs": [],
   "source": [
    "if(bool_plot){\n",
    "    pcaData <- plotPCA(vst(dds[,12:23]),\n",
    "                       intgroup=c(\"group\"),\n",
    "                       returnData=TRUE\n",
    "    )\n",
    "    gr1 = metaData$group[12:23]\n",
    "    percentVar = round(100 * attr(pcaData, \"percentVar\"))\n",
    "\n",
    "    p <- ggplot(pcaData, aes(x=PC1, y=PC2, color=gr1)) +\n",
    "                geom_point(aes(color=gr1), size=5) + \n",
    "                geom_point(shape = 1, color = \"black\", size = 5) + \n",
    "                xlab(paste0(\"PC1: \",percentVar[1], \"% variance\")) + \n",
    "                ylab(paste0(\"PC2: \",percentVar[2], \"% variance\")) +\n",
    "                theme(axis.text = element_text(size=20), \n",
    "                      axis.title = element_text(size=20), \n",
    "                      legend.title = element_text(siz=20),\n",
    "                      legend.text = element_text(size=20),\n",
    "                      plot.title = element_text(size=20)) + \n",
    "                scale_color_manual(values = c(\"mediumseagreen\", \"lightgreen\"))\n",
    "    p \n",
    "}"
   ]
  },
  {
   "cell_type": "code",
   "execution_count": 14,
   "metadata": {},
   "outputs": [],
   "source": [
    "if(bool_plot){\n",
    "    pcaData <- plotPCA(vst(dds[,24:35]),\n",
    "                       intgroup=c(\"group\"),\n",
    "                       returnData=TRUE\n",
    "    )\n",
    "    gr1 = metaData$group[24:35]\n",
    "    percentVar = round(100 * attr(pcaData, \"percentVar\"))\n",
    "\n",
    "    ggplot(pcaData, aes(x=PC1, y=PC2, color=gr1)) +\n",
    "           geom_point(aes(color=gr1), size=5) + \n",
    "           geom_point(shape=1, color=\"black\", size=5) + \n",
    "           xlab(paste0(\"PC1: \",percentVar[1], \"% variance\")) + \n",
    "           ylab(paste0(\"PC2: \",percentVar[2], \"% variance\")) +\n",
    "           theme(axis.text=element_text(size=20), \n",
    "                 axis.title=element_text(size=20), \n",
    "                 legend.title=element_text(siz=20),\n",
    "                 legend.text=element_text(size=20),\n",
    "                 plot.title=element_text(size=20)) + \n",
    "           scale_color_manual(values=c(\"lightblue4\", \"lightblue\"))\n",
    "}"
   ]
  },
  {
   "cell_type": "code",
   "execution_count": 15,
   "metadata": {
    "scrolled": false
   },
   "outputs": [],
   "source": [
    "if(bool_plot){ \n",
    "    df_pca <- prcomp(t(vsd))\n",
    "\n",
    "    df_out = as.data.frame(df_pca$x)\n",
    "    df_out$tissue = as.factor(metaData$group) \n",
    "\n",
    "    ggplot(df_out, aes(x=PC1, y=PC2, color=tissue)) + \n",
    "           geom_point(aes(color=tissue), size=5) + \n",
    "           geom_point(shape=1, color=\"black\", size=5) + \n",
    "           xlab(paste0(\"PC1: \",round(df_pca$sdev[1]), \"% variance\")) + \n",
    "           ylab(paste0(\"PC2: \",round(df_pca$sdev[2]), \"% variance\")) +\n",
    "           theme(axis.text=element_text(size=20), \n",
    "                 axis.title=element_text(size=20), \n",
    "                 legend.title=element_text(siz=20),\n",
    "                 legend.text=element_text(size=20),\n",
    "                 plot.title=element_text(size=20)) + \n",
    "           scale_color_manual(values=c(\"lightblue\", \"lightblue4\", \"tan1\",\n",
    "                                       \"chocolate\", \"lightgreen\", \"mediumseagreen\"))\n",
    "}"
   ]
  },
  {
   "cell_type": "code",
   "execution_count": 16,
   "metadata": {},
   "outputs": [],
   "source": [
    "options(repr.plot.width=10, repr.plot.height=10)"
   ]
  },
  {
   "cell_type": "code",
   "execution_count": 18,
   "metadata": {
    "scrolled": false
   },
   "outputs": [
    {
     "data": {
      "text/html": [
       "<strong>pdf:</strong> 2"
      ],
      "text/latex": [
       "\\textbf{pdf:} 2"
      ],
      "text/markdown": [
       "**pdf:** 2"
      ],
      "text/plain": [
       "pdf \n",
       "  2 "
      ]
     },
     "metadata": {},
     "output_type": "display_data"
    }
   ],
   "source": [
    "pdf(file=\"PCA.pdf\", width=10, height=10)\n",
    "    pcaData <- plotPCA(vst(dds),\n",
    "                       intgroup=c(\"group\"),\n",
    "                       returnData=TRUE\n",
    "    )\n",
    "    percentVar = round(100 * attr(pcaData, \"percentVar\"))\n",
    "\n",
    "    ggplot(pcaData, aes(x=PC1, y=PC2, color=metaData$group)) +\n",
    "           geom_point(aes(color=metaData$group), size=10) + \n",
    "           geom_point(shape=1, color=\"black\", size=10) + \n",
    "           xlab(paste0(\"PC1: \",percentVar[1],\"% variance\")) + \n",
    "           ylab(paste0(\"PC2: \",percentVar[2],\"% variance\")) +\n",
    "           theme(axis.text=element_text(size=25), \n",
    "                 axis.title=element_text(size=30)) +\n",
    "           scale_color_manual(values=c(\"aquamarine4\", \"aquamarine2\", \"darkorange2\",\n",
    "                                       \"orange\", \"blueviolet\", \"mediumpurple1\")) +\n",
    "           theme(legend.position=\"none\")\n",
    "dev.off()"
   ]
  },
  {
   "cell_type": "code",
   "execution_count": 19,
   "metadata": {
    "scrolled": false
   },
   "outputs": [],
   "source": [
    "# Heatmap of all samples and genes\n",
    "if(bool_plot){  \n",
    "    agsh <- pheatmap(vsd,\n",
    "                     cluster_rows=T, \n",
    "                     scale=\"row\", \n",
    "                     show_rownames=FALSE, \n",
    "                     color=my_palette,\n",
    "                     cluster_cols=F, \n",
    "                     annotation_col=as.data.frame(colData(dds)[,c(\"diet\", \"loc\")]),\n",
    "                     fontsize=10,\n",
    "                     breaks=seq(-3, 3, length.out=255)\n",
    "    )\n",
    "}"
   ]
  },
  {
   "cell_type": "code",
   "execution_count": 20,
   "metadata": {},
   "outputs": [],
   "source": [
    "hpt <- results(dds,\n",
    "               contrast=c(\"group\", \"HPT_HFD\", \"HPT_Chow\")\n",
    ")\n",
    "hippo <- results(dds,\n",
    "                 contrast=c(\"group\", \"Hippo_HFD\", \"Hippo_Chow\")\n",
    ")\n",
    "ctx <- results(dds, \n",
    "               contrast=c(\"group\", \"CTX_HFD\", \"CTX_Chow\")\n",
    ")\n",
    "\n",
    "hpt = hpt[complete.cases(hpt), ]\n",
    "hippo = hippo[complete.cases(hippo), ]\n",
    "ctx = ctx[complete.cases(ctx), ]"
   ]
  },
  {
   "cell_type": "markdown",
   "metadata": {},
   "source": [
    "### HPT"
   ]
  },
  {
   "cell_type": "code",
   "execution_count": 21,
   "metadata": {},
   "outputs": [
    {
     "data": {
      "text/html": [
       "569"
      ],
      "text/latex": [
       "569"
      ],
      "text/markdown": [
       "569"
      ],
      "text/plain": [
       "[1] 569"
      ]
     },
     "metadata": {},
     "output_type": "display_data"
    },
    {
     "data": {
      "text/html": [
       "581"
      ],
      "text/latex": [
       "581"
      ],
      "text/markdown": [
       "581"
      ],
      "text/plain": [
       "[1] 581"
      ]
     },
     "metadata": {},
     "output_type": "display_data"
    },
    {
     "data": {
      "text/html": [
       "1150"
      ],
      "text/latex": [
       "1150"
      ],
      "text/markdown": [
       "1150"
      ],
      "text/plain": [
       "[1] 1150"
      ]
     },
     "metadata": {},
     "output_type": "display_data"
    }
   ],
   "source": [
    "nrow(hpt[(hpt$pvalue < 0.05) & (hpt$log2FoldChange < 0),])\n",
    "nrow(hpt[(hpt$pvalue < 0.05) & (hpt$log2FoldChange > 0),])\n",
    "nrow(hpt[(hpt$pvalue < 0.05),])"
   ]
  },
  {
   "cell_type": "markdown",
   "metadata": {},
   "source": [
    "### CTX"
   ]
  },
  {
   "cell_type": "code",
   "execution_count": 22,
   "metadata": {},
   "outputs": [
    {
     "data": {
      "text/html": [
       "1510"
      ],
      "text/latex": [
       "1510"
      ],
      "text/markdown": [
       "1510"
      ],
      "text/plain": [
       "[1] 1510"
      ]
     },
     "metadata": {},
     "output_type": "display_data"
    },
    {
     "data": {
      "text/html": [
       "1309"
      ],
      "text/latex": [
       "1309"
      ],
      "text/markdown": [
       "1309"
      ],
      "text/plain": [
       "[1] 1309"
      ]
     },
     "metadata": {},
     "output_type": "display_data"
    },
    {
     "data": {
      "text/html": [
       "2819"
      ],
      "text/latex": [
       "2819"
      ],
      "text/markdown": [
       "2819"
      ],
      "text/plain": [
       "[1] 2819"
      ]
     },
     "metadata": {},
     "output_type": "display_data"
    }
   ],
   "source": [
    "nrow(ctx[(ctx$pvalue < 0.05) & (ctx$log2FoldChange < 0),])\n",
    "nrow(ctx[(ctx$pvalue < 0.05) & (ctx$log2FoldChange > 0),])\n",
    "nrow(ctx[(ctx$pvalue < 0.05),])"
   ]
  },
  {
   "cell_type": "markdown",
   "metadata": {},
   "source": [
    "### Hippo"
   ]
  },
  {
   "cell_type": "code",
   "execution_count": 23,
   "metadata": {},
   "outputs": [
    {
     "data": {
      "text/html": [
       "488"
      ],
      "text/latex": [
       "488"
      ],
      "text/markdown": [
       "488"
      ],
      "text/plain": [
       "[1] 488"
      ]
     },
     "metadata": {},
     "output_type": "display_data"
    },
    {
     "data": {
      "text/html": [
       "270"
      ],
      "text/latex": [
       "270"
      ],
      "text/markdown": [
       "270"
      ],
      "text/plain": [
       "[1] 270"
      ]
     },
     "metadata": {},
     "output_type": "display_data"
    },
    {
     "data": {
      "text/html": [
       "758"
      ],
      "text/latex": [
       "758"
      ],
      "text/markdown": [
       "758"
      ],
      "text/plain": [
       "[1] 758"
      ]
     },
     "metadata": {},
     "output_type": "display_data"
    }
   ],
   "source": [
    "nrow(hippo[(hippo$pvalue < 0.05) & (hippo$log2FoldChange < 0),])\n",
    "nrow(hippo[(hippo$pvalue < 0.05) & (hippo$log2FoldChange > 0),])\n",
    "nrow(hippo[(hippo$pvalue < 0.05),])"
   ]
  },
  {
   "cell_type": "code",
   "execution_count": 24,
   "metadata": {},
   "outputs": [
    {
     "name": "stderr",
     "output_type": "stream",
     "text": [
      "Warning message:\n",
      "“Removed 2 rows containing missing values (geom_vline).”\n"
     ]
    },
    {
     "data": {
      "text/html": [
       "<strong>pdf:</strong> 2"
      ],
      "text/latex": [
       "\\textbf{pdf:} 2"
      ],
      "text/markdown": [
       "**pdf:** 2"
      ],
      "text/plain": [
       "pdf \n",
       "  2 "
      ]
     },
     "metadata": {},
     "output_type": "display_data"
    }
   ],
   "source": [
    "pdf(file=\"volcano_hpt.pdf\", width=10, height=10)\n",
    "    EnhancedVolcano(hpt,\n",
    "                    lab=rownames(hpt),\n",
    "                    pCutoff=0.05,\n",
    "                    FCcutoff=100,\n",
    "                    axisLabSize=30,\n",
    "                    x='log2FoldChange',\n",
    "                    y='pvalue',\n",
    "                    title=NULL,\n",
    "                    subtitle=NULL,\n",
    "                    caption=NULL,\n",
    "                    ylim=c(0, 8),\n",
    "                    xlim=c(-8, 8),\n",
    "                    col=c(\"grey30\", \"grey30\", \"red2\", \"red2\"),\n",
    "                    legendLabels=c('NS', expression(Log[2]~FC), 'p-value>0.05', expression(p-value~and~log[2]~FC)),\n",
    "                    legendLabSize=30)\n",
    "dev.off()"
   ]
  },
  {
   "cell_type": "code",
   "execution_count": 25,
   "metadata": {},
   "outputs": [
    {
     "name": "stderr",
     "output_type": "stream",
     "text": [
      "Warning message:\n",
      "“Removed 2 rows containing missing values (geom_vline).”\n"
     ]
    },
    {
     "data": {
      "text/html": [
       "<strong>pdf:</strong> 2"
      ],
      "text/latex": [
       "\\textbf{pdf:} 2"
      ],
      "text/markdown": [
       "**pdf:** 2"
      ],
      "text/plain": [
       "pdf \n",
       "  2 "
      ]
     },
     "metadata": {},
     "output_type": "display_data"
    }
   ],
   "source": [
    "pdf(file=\"volcano_hippo.pdf\", width=10, height=10)\n",
    "    EnhancedVolcano(hippo,\n",
    "                    lab=rownames(hippo),\n",
    "                    pCutoff=0.05,\n",
    "                    FCcutoff=100,\n",
    "                    axisLabSize=30,\n",
    "                    x='log2FoldChange',\n",
    "                    y='pvalue',\n",
    "                    title=NULL,\n",
    "                    subtitle=NULL,\n",
    "                    caption=NULL,\n",
    "                    ylim=c(0, 8),\n",
    "                    xlim=c(-8, 8),\n",
    "                    col=c(\"grey30\", \"grey30\", \"red2\", \"red2\"),\n",
    "                    legendLabels=c('NS', expression(Log[2]~FC), 'p-value>0.05', expression(p-value~and~log[2]~FC)),\n",
    "                    legendLabSize=30)\n",
    "dev.off()"
   ]
  },
  {
   "cell_type": "code",
   "execution_count": 26,
   "metadata": {},
   "outputs": [
    {
     "name": "stderr",
     "output_type": "stream",
     "text": [
      "Warning message:\n",
      "“Removed 2 rows containing missing values (geom_vline).”\n"
     ]
    },
    {
     "data": {
      "text/html": [
       "<strong>pdf:</strong> 2"
      ],
      "text/latex": [
       "\\textbf{pdf:} 2"
      ],
      "text/markdown": [
       "**pdf:** 2"
      ],
      "text/plain": [
       "pdf \n",
       "  2 "
      ]
     },
     "metadata": {},
     "output_type": "display_data"
    }
   ],
   "source": [
    "pdf(file = \"volcano_ctx.pdf\", width = 10, height = 10)\n",
    "    EnhancedVolcano(ctx,\n",
    "                    lab=rownames(ctx),\n",
    "                    pCutoff=0.05,\n",
    "                    FCcutoff=100,\n",
    "                    axisLabSize=30,\n",
    "                    x='log2FoldChange',\n",
    "                    y='pvalue',\n",
    "                    title=NULL,\n",
    "                    subtitle=NULL,\n",
    "                    caption=NULL,\n",
    "                    ylim=c(0, 8),\n",
    "                    xlim=c(-8, 8),\n",
    "                    col=c(\"grey30\", \"grey30\", \"red2\", \"red2\"),\n",
    "                    legendLabels=c('NS', expression(Log[2]~FC), 'p-value>0.05', expression(p-value~and~log[2]~FC)),\n",
    "                    legendLabSize=30)\n",
    "dev.off()"
   ]
  },
  {
   "cell_type": "code",
   "execution_count": 27,
   "metadata": {},
   "outputs": [],
   "source": [
    "if(bool_plot){\n",
    "    df = data.frame(Tissue=c(\"CTX\", \"HPT\", \"Hippo\"),\n",
    "                    Nr_significant_genes = c(sum(ctx[,5] < 0.05, na.rm=T),\n",
    "                                             sum(hpt[,5] < 0.05, na.rm=T), \n",
    "                                             sum(hippo[,5] < 0.05, na.rm=T))\n",
    "    )\n",
    "    ggplot(df, aes(x=Tissue, y=Nr_significant_genes, fill=Tissue))  +\n",
    "           geom_bar(stat=\"identity\") + \n",
    "            theme(axis.text=element_text(size=20), \n",
    "                  axis.title=element_text(size=20), \n",
    "                  legend.title=element_text(siz=20),\n",
    "                  legend.text=element_text(size=20),\n",
    "                  plot.title=element_text(size=20)) +\n",
    "           theme(legend.position=\"none\") +\n",
    "           scale_fill_manual(values=c(\"lightblue\", \"tan1\", \"lightgreen\"))\n",
    "}"
   ]
  },
  {
   "cell_type": "code",
   "execution_count": 28,
   "metadata": {},
   "outputs": [],
   "source": [
    "if(bool_plot){\n",
    "    df = data.frame(Tissue=c(\"CTX\", \"HPT\", \"Hippo\"),\n",
    "                    Nr_significant_genes=c(sum(ctx[,5] < 0.01, na.rm=T), \n",
    "                                           sum(hpt[,5] < 0.01, na.rm=T),\n",
    "                                           sum(hippo[,5] < 0.01, na.rm=T))\n",
    "    )\n",
    "    ggplot(df, aes(x=Tissue, y=Nr_significant_genes, fill=Tissue)) +\n",
    "           geom_bar(stat=\"identity\") + \n",
    "           theme(axis.text=element_text(size=20), \n",
    "                 axis.title=element_text(size=20), \n",
    "                 legend.title=element_text(siz=20),\n",
    "                 legend.text=element_text(size=20),\n",
    "                 plot.title=element_text(size=20)) +\n",
    "           theme(legend.position=\"none\") +\n",
    "           scale_fill_manual(values=c(\"lightblue\", \"tan1\", \"lightgreen\"))\n",
    "}"
   ]
  },
  {
   "cell_type": "code",
   "execution_count": 29,
   "metadata": {},
   "outputs": [],
   "source": [
    "options(repr.plot.width=8, repr.plot.height=8)"
   ]
  },
  {
   "cell_type": "code",
   "execution_count": 30,
   "metadata": {},
   "outputs": [],
   "source": [
    "if(bool_plot){\n",
    "    pdf(file=\"venn_tran.pdf\", width=8, height=8)\n",
    "    vp <- venn.diagram(list(' '=rownames(hpt[hpt[,5] < 0.05,]), \n",
    "                            ' '=rownames(hippo[hippo[,5] < 0.05,]),\n",
    "                            ' '=rownames(ctx[ctx[,5] < 0.05,])),\n",
    "                       fill=c(\"orange\", \"mediumpurple1\", \"aquamarine2\"),\n",
    "                       filename=NULL,\n",
    "                       cex=3.5, \n",
    "                       col=\"transparent\",\n",
    "                       cat.cex=0.01,\n",
    "                       margin=0.01,\n",
    "                       main.cex=3,\n",
    "                       main=NULL);\n",
    "    grid.draw(vp)  \n",
    "    dev.off()\n",
    "}"
   ]
  },
  {
   "cell_type": "markdown",
   "metadata": {},
   "source": [
    "# Comparison between tissues"
   ]
  },
  {
   "cell_type": "code",
   "execution_count": 31,
   "metadata": {},
   "outputs": [
    {
     "name": "stderr",
     "output_type": "stream",
     "text": [
      "Warning message in DESeqDataSet(se, design = design, ignoreRank):\n",
      "“some variables in design formula are characters, converting to factors”\n",
      "estimating size factors\n",
      "\n",
      "estimating dispersions\n",
      "\n",
      "gene-wise dispersion estimates\n",
      "\n",
      "mean-dispersion relationship\n",
      "\n",
      "final dispersion estimates\n",
      "\n",
      "fitting model and testing\n",
      "\n",
      "-- replacing outliers and refitting for 325 genes\n",
      "-- DESeq argument 'minReplicatesForReplace' = 7 \n",
      "-- original counts are preserved in counts(dds)\n",
      "\n",
      "estimating dispersions\n",
      "\n",
      "fitting model and testing\n",
      "\n"
     ]
    }
   ],
   "source": [
    "dds <- DESeqDataSetFromMatrix(countData=dat,\n",
    "                              colData=metaData,\n",
    "                              design=~ loc\n",
    ")\n",
    "dds <- DESeq(dds)"
   ]
  },
  {
   "cell_type": "code",
   "execution_count": 32,
   "metadata": {},
   "outputs": [],
   "source": [
    "hpt_vs_hippo <- results(dds,\n",
    "                        contrast=c(\"loc\", \"Hypothalamus\", \"Hippocampus\")\n",
    ")\n",
    "hpt_vs_ctx <- results(dds,\n",
    "                      contrast=c(\"loc\", \"Hypothalamus\", \"Cortex\")\n",
    ")\n",
    "ctx_vs_hippo <- results(dds, \n",
    "                        contrast=c(\"loc\", \"Cortex\", \"Hippocampus\")\n",
    ")"
   ]
  },
  {
   "cell_type": "code",
   "execution_count": 33,
   "metadata": {},
   "outputs": [],
   "source": [
    "if(bool_plot){\n",
    "    EnhancedVolcano(hpt_vs_hippo,\n",
    "                    lab=rownames(hpt_vs_hippo),\n",
    "                    pCutoff=0.05,\n",
    "                    FCcutoff=15,\n",
    "                    x='log2FoldChange',\n",
    "                    y='pvalue',\n",
    "                    ylim=c(0, 100),\n",
    "                    xlim=c(-12, 12),\n",
    "                    col=c(\"grey30\", \"grey30\", \"red2\", \"red2\"),\n",
    "                    title=\"HPT vs. Hippo\"\n",
    "    )\n",
    "}"
   ]
  },
  {
   "cell_type": "code",
   "execution_count": 34,
   "metadata": {},
   "outputs": [],
   "source": [
    "if(bool_plot){\n",
    "    EnhancedVolcano(hpt_vs_ctx,\n",
    "                    lab=rownames(hpt_vs_ctx),\n",
    "                    pCutoff=0.05,\n",
    "                    FCcutoff=15,\n",
    "                    x='log2FoldChange',\n",
    "                    y='pvalue',\n",
    "                    ylim=c(0, 100),\n",
    "                    xlim=c(-12, 12),\n",
    "                    col=c(\"grey30\", \"grey30\", \"red2\", \"red2\"),\n",
    "                    title=\"HPT vs. CTX\"\n",
    "    )\n",
    "}"
   ]
  },
  {
   "cell_type": "code",
   "execution_count": 35,
   "metadata": {},
   "outputs": [],
   "source": [
    "if(bool_plot){\n",
    "    EnhancedVolcano(ctx_vs_hippo,\n",
    "                    lab=rownames(ctx_vs_hippo),\n",
    "                    pCutoff=0.05,\n",
    "                    FCcutoff=15,\n",
    "                    x='log2FoldChange',\n",
    "                    y='pvalue',\n",
    "                    ylim=c(0, 100),\n",
    "                    xlim=c(-12, 12),\n",
    "                    col=c(\"grey30\", \"grey30\", \"red2\", \"red2\"),\n",
    "                    title=\"CTX vs. Hippo\"\n",
    "    )\n",
    "}"
   ]
  },
  {
   "cell_type": "code",
   "execution_count": 36,
   "metadata": {},
   "outputs": [],
   "source": [
    "hpt_vs_hippo1 = hpt_vs_hippo[which(hpt_vs_hippo[,5] < 0.05),]\n",
    "hpt_vs_ctx1 = hpt_vs_ctx[which(hpt_vs_ctx[,5] < 0.05),]\n",
    "ctx_vs_hippo1 = ctx_vs_hippo[which(ctx_vs_hippo[,5] < 0.05),]"
   ]
  },
  {
   "cell_type": "code",
   "execution_count": 37,
   "metadata": {},
   "outputs": [],
   "source": [
    "if(bool_plot){\n",
    "    df = data.frame(location=c(\"HPT_vs_Hippo\", \"HPT_vs_CTX\", \"CTX_vs_Hippo\"),\n",
    "                    Sig_genes=c(sum(hpt_vs_hippo[,5] < 0.05, na.rm=T), \n",
    "                                sum(hpt_vs_ctx[,5] < 0.05, na.rm=T), \n",
    "                                sum(ctx_vs_hippo[,5] < 0.05, na.rm=T))\n",
    "    )\n",
    "    ggplot(df, aes(x=location, y=Sig_genes, fill=location)) +\n",
    "           geom_bar(stat=\"identity\") +\n",
    "           theme_minimal() +\n",
    "           theme(legend.position=\"none\") +\n",
    "           scale_fill_manual(values=c(\"purple\", \"brown\", \"blue\"))\n",
    "}"
   ]
  },
  {
   "cell_type": "markdown",
   "metadata": {},
   "source": [
    "# Integrative Analysis Transcriptomics and Proteomics Data"
   ]
  },
  {
   "cell_type": "code",
   "execution_count": 38,
   "metadata": {},
   "outputs": [],
   "source": [
    "# load the results from Persus\n",
    "cnam = c(\"GeneName\", \"pvalue\", \"log2FoldChange\")\n",
    "diffHippo <- read_excel(prot_input_file,\n",
    "                        sheet=10)[,c(4, 6, 7)]\n",
    "colnames(diffHippo) = cnam\n",
    "for (i in 1:nrow(diffHippo)) diffHippo[i,2] = 10 ^ -diffHippo[i,2]\n",
    "\n",
    "# load the results from Persus\n",
    "diffCTX <- read_excel(prot_input_file,\n",
    "                      sheet=8)[,c(4,6,7)]\n",
    "colnames(diffCTX) = cnam\n",
    "for (i in 1:nrow(diffCTX)) diffCTX[i,2] = 10 ^ -diffCTX[i,2]\n",
    "\n",
    "# load the results from Persus\n",
    "diffHPT <- read_excel(prot_input_file,\n",
    "                      sheet=6)[,c(4,6,7)]\n",
    "colnames(diffHPT) = cnam\n",
    "for (i in 1:nrow(diffHPT)) diffHPT[i,2] = 10 ^ -diffHPT[i,2]"
   ]
  },
  {
   "cell_type": "code",
   "execution_count": 39,
   "metadata": {},
   "outputs": [],
   "source": [
    "# cut-off\n",
    "cutoff=0.05"
   ]
  },
  {
   "cell_type": "code",
   "execution_count": 40,
   "metadata": {},
   "outputs": [],
   "source": [
    "diffCTX1 = diffCTX[which(diffCTX$pvalue < cutoff),]\n",
    "diffHippo1 = diffHippo[which(diffHippo$pvalue < cutoff),]\n",
    "diffHPT1 = diffHPT[which(diffHPT$pvalue < cutoff),]"
   ]
  },
  {
   "cell_type": "code",
   "execution_count": 41,
   "metadata": {},
   "outputs": [],
   "source": [
    "cnam1 = c(\"GeneName\", \"log2FoldChange\", \"lfcSE\", \"stat\", \"pvalue\", \"padj\")\n",
    "hippo[,1] = rownames(hippo)\n",
    "colnames(hippo) = cnam1\n",
    "hippo = as.data.frame(hippo)\n",
    "\n",
    "hpt[,1] = rownames(hpt)\n",
    "colnames(hpt) = cnam1\n",
    "hpt = as.data.frame(hpt)\n",
    "\n",
    "ctx[,1] = rownames(ctx)\n",
    "colnames(ctx) = cnam1\n",
    "ctx = as.data.frame(ctx)"
   ]
  },
  {
   "cell_type": "code",
   "execution_count": 42,
   "metadata": {},
   "outputs": [],
   "source": [
    "ctx1 = ctx[which(ctx$pvalue < cutoff),]\n",
    "hippo1 = hippo[which(hippo$pvalue < cutoff),]\n",
    "hpt1 = hpt[which(hpt$pvalue < cutoff),]"
   ]
  },
  {
   "cell_type": "code",
   "execution_count": 43,
   "metadata": {
    "scrolled": false
   },
   "outputs": [],
   "source": [
    "if(bool_plot){\n",
    "    listInput = list(CTX_transciptomics=rownames(ctx1), \n",
    "                     Hippo_transciptomics=rownames(hippo1),\n",
    "                     HPT_transciptomics=rownames(hpt1),\n",
    "                     CTX_proteomics=as.matrix(diffCTX1[,1]),\n",
    "                     Hippo_proteomics=as.matrix(diffHippo1[,1]),\n",
    "                     HPT_proteomics=as.matrix(diffHPT1[,1])\n",
    "    )\n",
    "    upset(fromList(listInput), \n",
    "          order.by=\"freq\", \n",
    "          text.scale=c(2.5, 2.5, 2.5, 2.5, 2, 2.5),\n",
    "          nsets=10\n",
    "    )\n",
    "}"
   ]
  },
  {
   "cell_type": "code",
   "execution_count": 44,
   "metadata": {},
   "outputs": [],
   "source": [
    "if(bool_plot){\n",
    "#pdf(file = \"venn_ctx.pdf\", width=8, height=8)\n",
    "vp <- venn.diagram(list(t=rownames(ctx1),\n",
    "                        p=as.matrix(diffCTX1[,1])),\n",
    "                   fill=c(\"blue\",\"lightblue\"),\n",
    "                   filename=NULL, \n",
    "                   cex=3.5, \n",
    "                   col=\"transparent\",\n",
    "                   cat.cex=0.01,\n",
    "                   margin=0.01, \n",
    "                   main.cex=3, \n",
    "                   na='remove');\n",
    "#grid.draw(vp) \n",
    "dev.off()\n",
    "}"
   ]
  },
  {
   "cell_type": "code",
   "execution_count": 45,
   "metadata": {},
   "outputs": [],
   "source": [
    "if(bool_plot){\n",
    "#pdf(file=\"venn_hpt.pdf\", width=8, height=8)\n",
    "vp <- venn.diagram(list(t=rownames(hpt1),\n",
    "                        p=as.matrix(diffHPT1[,1])),\n",
    "                   fill=c(\"blue\", \"lightblue\"),\n",
    "                   filename=NULL,\n",
    "                   cex=3.5, \n",
    "                   col=\"transparent\",\n",
    "                   cat.cex=0.01, \n",
    "                   margin=0.01,\n",
    "                   na='remove');\n",
    "grid.draw(vp) \n",
    "#dev.off()\n",
    "}"
   ]
  },
  {
   "cell_type": "code",
   "execution_count": 46,
   "metadata": {},
   "outputs": [],
   "source": [
    "if(bool_plot){\n",
    "#pdf(file=\"venn_hippo.pdf\", width=8, height=8)\n",
    "vp <- venn.diagram(list(t=rownames(hippo1),\n",
    "                        p=as.matrix(diffHippo1[,1])),\n",
    "                   fill=c(\"blue\",\"lightblue\"),\n",
    "                   filename=NULL,\n",
    "                   cex=3.5, \n",
    "                   col=\"transparent\",\n",
    "                   cat.cex=0.01,\n",
    "                   margin=0.01,\n",
    "                   na='remove');\n",
    "grid.draw(vp) \n",
    "#dev.off()\n",
    "}"
   ]
  },
  {
   "cell_type": "code",
   "execution_count": 47,
   "metadata": {},
   "outputs": [],
   "source": [
    "vsd = as.data.frame(assay(vst(dds, \n",
    "                              fitType=\"local\", \n",
    "                              blind=TRUE))\n",
    ")\n",
    "vsd1 = vsd[,c(24:35, 1:23)]"
   ]
  },
  {
   "cell_type": "code",
   "execution_count": 48,
   "metadata": {},
   "outputs": [],
   "source": [
    "astro = c('Slc1a2', 'Slc1a3', 'Aqp4', 'S100b', 'Sox9', 'Gfap', 'Aldh1l1', 'Gja1', 'Gjb6', 'Agt', 'Atp1b2')\n",
    "neuro = c('Syp', 'Tubb3','Snap25','Syt1')\n",
    "microglia = c('Itgam','Aif1')\n",
    "oligodendrocyte = c('Mog','Mag')\n",
    "endothelial = c('Slco1c1')\n",
    "mural = c('Mustn1','Pdgfrb','Des')\n",
    "tanycyes = c('Crym', 'Ppp1r1b','Rax','Dio2','Slc16a2','Col23a1','Lhx2','Ptm')\n",
    "npc = c('Nes','Sox2','Prom1')\n",
    "vlmc = c('Col1a1')"
   ]
  },
  {
   "cell_type": "code",
   "execution_count": 49,
   "metadata": {},
   "outputs": [],
   "source": [
    "datfin = data.frame(CTX=apply(vsd1 %>% select(starts_with(\"ctx_\")), 1, mean),\n",
    "                    HPT=apply(vsd1 %>% select(starts_with(\"hpt_\")), 1, mean),\n",
    "                    Hippo=apply(vsd1 %>% select(starts_with(\"hippo_\")), 1, mean))"
   ]
  },
  {
   "cell_type": "code",
   "execution_count": 50,
   "metadata": {},
   "outputs": [],
   "source": [
    "astro = datfin[rownames(datfin)%in%c('Slc1a2', 'Slc1a3', 'Aqp4', 'S100b', 'Sox9', 'Gfap', 'Aldh1l1', 'Gja1', 'Gjb6', 'Agt','Atp1b2'),]\n",
    "neuro = datfin[rownames(datfin)%in%c('Syp', 'Tubb3', 'Snap25', 'Syt1'),]\n",
    "mglia = datfin[rownames(datfin)%in%c('Itgam', 'Aif1'),]\n",
    "oligo = datfin[rownames(datfin)%in%c('Mog', 'Mag'),]\n",
    "endo = datfin[rownames(datfin)%in%c('Slco1c1'),]\n",
    "mural = datfin[rownames(datfin)%in%c('Mustn1', 'Pdgfrb', 'Des'),]\n",
    "tcyes = datfin[rownames(datfin)%in%c('Crym'),]\n",
    "npc = datfin[rownames(datfin)%in%c('Nes', 'Sox2', 'Prom1'),]\n",
    "vlmc = datfin[rownames(datfin)%in%c('Col1a1'),]"
   ]
  },
  {
   "cell_type": "code",
   "execution_count": 51,
   "metadata": {},
   "outputs": [],
   "source": [
    "astro = astro[order(row.names(astro)),]\n",
    "neuro = neuro[order(row.names(neuro)),]\n",
    "mglia = mglia[order(row.names(mglia)),]\n",
    "oligo = oligo[order(row.names(oligo)),]\n",
    "mural = mural[order(row.names(mural)),]\n",
    "tcyes = tcyes[order(row.names(tcyes)),]"
   ]
  },
  {
   "cell_type": "code",
   "execution_count": 52,
   "metadata": {},
   "outputs": [],
   "source": [
    "options(repr.plot.width=5, repr.plot.height=8)"
   ]
  },
  {
   "cell_type": "code",
   "execution_count": 53,
   "metadata": {},
   "outputs": [],
   "source": [
    "mat = as.matrix(rbind(astro, neuro, mglia, oligo, endo, mural)) # npc,vlmc,tcyes\n",
    "    \n",
    "Omics = c(rep(\"transcriptomics\", 3))\n",
    "Acsa2 = rep(\"Acsa2_pos\", 3)\n",
    "Tissue = c(\"cortex\", \"hypothalamus\", \"hippocampus\")\n",
    "dcol = as.data.frame(cbind(Tissue, Acsa2, Omics))\n",
    "rownames(dcol) = colnames(mat)\n",
    "\n",
    "pheatmap(mat, \n",
    "         scale=\"column\",\n",
    "         show_rownames=F, \n",
    "         show_colnames=F,\n",
    "         color=my_palette, \n",
    "         cluster_cols=F,\n",
    "         cluster_rows=F, \n",
    "         gaps_col=3,\n",
    "         gaps_row=c(11,15,17,19,20,23), \n",
    "         fontsize=18,\n",
    "         filename=\"heatmap_ACSA2.pdf\",\n",
    "         legend=F,\n",
    "         width=3.3, \n",
    "         height=8\n",
    ") "
   ]
  },
  {
   "cell_type": "markdown",
   "metadata": {},
   "source": [
    "# Heatmap clustering and enrichment"
   ]
  },
  {
   "cell_type": "markdown",
   "metadata": {},
   "source": [
    "### Per tissue heatmap"
   ]
  },
  {
   "cell_type": "code",
   "execution_count": 54,
   "metadata": {},
   "outputs": [],
   "source": [
    "options(repr.plot.width=5, repr.plot.height=8)"
   ]
  },
  {
   "cell_type": "code",
   "execution_count": 55,
   "metadata": {},
   "outputs": [],
   "source": [
    "vsd_hpt = vsd[rownames(vsd)%in%rownames(hpt1),] \n",
    "pheatmap(vsd_hpt[,1:11], \n",
    "         scale=\"row\",\n",
    "         show_rownames=FALSE,\n",
    "         show_colnames=FALSE,\n",
    "         color=my_palette, \n",
    "         cluster_cols=F,\n",
    "         legend=FALSE,\n",
    "         fontsize=15,\n",
    "         filename=\"heatmap_hpt.pdf\",\n",
    "         width=5,\n",
    "         height=8,\n",
    "         breaks=seq(-2, 2, length.out=255)) "
   ]
  },
  {
   "cell_type": "code",
   "execution_count": 56,
   "metadata": {},
   "outputs": [],
   "source": [
    "vsd_hip = vsd[rownames(vsd)%in%rownames(hippo1),] \n",
    "pheatmap(vsd_hip[,12:23], \n",
    "         scale = \"row\", \n",
    "         show_rownames=FALSE,\n",
    "         show_colnames=FALSE,\n",
    "         color=my_palette,\n",
    "         cluster_cols=F, \n",
    "         legend=FALSE,\n",
    "         fontsize=15, \n",
    "         filename=\"heatmap_hippo.pdf\",\n",
    "         width=5, \n",
    "         height=8,\n",
    "         breaks=seq(-2, 2, length.out=255)\n",
    ") "
   ]
  },
  {
   "cell_type": "code",
   "execution_count": 57,
   "metadata": {},
   "outputs": [],
   "source": [
    "vsd_ctx=vsd[rownames(vsd)%in%rownames(ctx1),] \n",
    "pheatmap(vsd_ctx[,24:35],\n",
    "             scale=\"row\",\n",
    "             show_rownames=FALSE,\n",
    "             show_colnames=FALSE,\n",
    "             color=my_palette, \n",
    "             cluster_cols=F,\n",
    "             legend=F,\n",
    "             fontsize=15,\n",
    "             filename=\"heatmap_ctx.pdf\",\n",
    "             width=5, \n",
    "             height=8,\n",
    "             breaks=seq(-2, 2, length.out=255)\n",
    ")"
   ]
  },
  {
   "cell_type": "markdown",
   "metadata": {},
   "source": [
    "## GO - pathway enrichment"
   ]
  },
  {
   "cell_type": "code",
   "execution_count": 58,
   "metadata": {},
   "outputs": [
    {
     "name": "stderr",
     "output_type": "stream",
     "text": [
      "'select()' returned 1:1 mapping between keys and columns\n",
      "\n",
      "Warning message in bitr(rownames(vsd_ctx), fromType = \"SYMBOL\", toType = \"ENTREZID\", :\n",
      "“2.63% of input gene IDs are fail to map...”\n",
      "'select()' returned 1:1 mapping between keys and columns\n",
      "\n",
      "Warning message in bitr(rownames(vsd_hpt), fromType = \"SYMBOL\", toType = \"ENTREZID\", :\n",
      "“2.26% of input gene IDs are fail to map...”\n",
      "'select()' returned 1:1 mapping between keys and columns\n",
      "\n",
      "Warning message in bitr(rownames(vsd_hip), fromType = \"SYMBOL\", toType = \"ENTREZID\", :\n",
      "“5.15% of input gene IDs are fail to map...”\n"
     ]
    }
   ],
   "source": [
    "sg.ctx <- bitr(rownames(vsd_ctx),\n",
    "               fromType=\"SYMBOL\", \n",
    "               toType=\"ENTREZID\", \n",
    "               OrgDb=org.Mm.eg.db\n",
    ")\n",
    "go.ctx <- enrichGO(sg.ctx[,2],\n",
    "                   'org.Mm.eg.db', \n",
    "                   ont=\"BP\",\n",
    "                   pvalueCutoff=0.1\n",
    ")\n",
    "\n",
    "sg.hpt <- bitr(rownames(vsd_hpt), \n",
    "               fromType=\"SYMBOL\",\n",
    "               toType=\"ENTREZID\",\n",
    "               OrgDb=org.Mm.eg.db\n",
    ")\n",
    "go.hpt <- enrichGO(sg.hpt[,2],\n",
    "                   'org.Mm.eg.db', \n",
    "                   ont=\"BP\",\n",
    "                   pvalueCutoff=0.1\n",
    ")\n",
    "\n",
    "sg.hip <- bitr(rownames(vsd_hip),\n",
    "               fromType=\"SYMBOL\",\n",
    "               toType=\"ENTREZID\",\n",
    "               OrgDb=org.Mm.eg.db\n",
    ")\n",
    "go.hip <- enrichGO(sg.hip[,2],\n",
    "                   'org.Mm.eg.db', \n",
    "                   ont=\"BP\",\n",
    "                   pvalueCutoff=0.1\n",
    ")"
   ]
  },
  {
   "cell_type": "code",
   "execution_count": 59,
   "metadata": {},
   "outputs": [],
   "source": [
    "go = c(\"insulin receptor signaling pathway\",\n",
    "       \"response to insulin\",\n",
    "       \"TOR signaling\",\n",
    "       \"pyruvate metabolic process\",\n",
    "       \"intracellular lipid transport\",\n",
    "       \"fatty acid metabolic process\",\n",
    "       \"fatty acid oxidation\",\n",
    "       \"response to reactive oxygen species\",\n",
    "       \"response to endoplasmic reticulum stress\",\n",
    "       \"regulation of mitotic cell cycle\",\n",
    "       \"transforming growth factor beta receptor signaling pathway\",\n",
    "       \"I-kappaB kinase/NF-kappaB signaling\",\n",
    "       \"regulation of inflammatory response\",\n",
    "       \"regulation of cell junction assembly\",\n",
    "       \"cell-matrix adhesion\",\n",
    "       \"regulation of cytosolic calcium ion concentration\",\n",
    "       \"vesicle budding from membrane\",\n",
    "       \"axon ensheathment\",\n",
    "       \"maintenance of synapse structure\",\n",
    "       \"regulation of synapse structure or activity\",\n",
    "       \"synaptic transmission, GABAergic\",\n",
    "       \"AMPA glutamate receptor clustering\",\n",
    "       \"positive regulation of blood vessel endothelial cell migration\",\n",
    "       \"sprouting angiogenesis\",\n",
    "       \"regulation of angiogenesis\",\n",
    "       \"locomotory behavior\",\n",
    "       \"feeding behavior\"\n",
    ")\n",
    "        #\"cellular carbohydrate metabolic process\" ,\n",
    "        #\"response to interleukin-1\", \n",
    "        #\"cell junction assembly\",\n",
    "        #\"regulation of neurotransmitter levels\", \n",
    "        #\"positive regulation of endothelial cell migration\",\n",
    "        #\"circadian rhythm\",\n",
    "        # ,\"regulation of neurotransmitter levels\" , \n",
    "        #\"positive regulation of lipid metabolic process\",\n",
    "        #\"ERK1 and ERK2 cascade\","
   ]
  },
  {
   "cell_type": "code",
   "execution_count": 60,
   "metadata": {
    "scrolled": false
   },
   "outputs": [
    {
     "data": {
      "text/html": [
       "<strong>pdf:</strong> 2"
      ],
      "text/latex": [
       "\\textbf{pdf:} 2"
      ],
      "text/markdown": [
       "**pdf:** 2"
      ],
      "text/plain": [
       "pdf \n",
       "  2 "
      ]
     },
     "metadata": {},
     "output_type": "display_data"
    }
   ],
   "source": [
    "pdf(file=\"enrich_path.pdf\", width=15, height=15)\n",
    "    enr_ctx.go = go.ctx@result[go.ctx@result[,6] < 0.05, c(2,5,6,8,9)]\n",
    "    enr_ctx.go$Tissue = 'CTX'\n",
    "    enr_hpt.go = go.hpt@result[go.hpt@result[,6] < 0.05, c(2,5,6,8,9)]\n",
    "    enr_hpt.go$Tissue = 'HPT'\n",
    "    enr_hip.go = go.hip@result[go.hip@result[,6] < 0.05, c(2,5,6,8,9)]\n",
    "    enr_hip.go$Tissue = 'Hippo'\n",
    "    \n",
    "    all = rbind(enr_ctx.go, enr_hpt.go, enr_hip.go)\n",
    "    #write.csv(all, file=\"GO_transcriptome.csv\")\n",
    "    all = all[all$Description%in%go,]\n",
    "    options(repr.plot.width=20, repr.plot.height=15)\n",
    "    colnames(all) = c('Description', 'pvalue', 'p.adjust', 'geneID', 'count', 'Tissue')\n",
    "    ggplot(all,   \n",
    "           aes(Tissue, y=factor(Description, level=go[length(go):1]), col=pvalue, size=count)) + \n",
    "           geom_point() + \n",
    "           scale_colour_gradient(low=\"red\", high=\"blue\") +\n",
    "           scale_size_continuous(range=c(3, 10)) +\n",
    "           xlab(\"\") + \n",
    "           ylab(\"\") + \n",
    "           theme(axis.text.x=element_blank()) + theme(legend.position=\"none\") +\n",
    "           theme(text=element_text(size=40))\n",
    "dev.off()"
   ]
  },
  {
   "cell_type": "code",
   "execution_count": 61,
   "metadata": {},
   "outputs": [],
   "source": [
    "options(repr.plot.width=7, repr.plot.height=15)"
   ]
  },
  {
   "cell_type": "code",
   "execution_count": 62,
   "metadata": {},
   "outputs": [],
   "source": [
    "all = rbind(enr_ctx.go, enr_hpt.go, enr_hip.go)\n",
    "all = all[all$Description%in%go,]"
   ]
  },
  {
   "cell_type": "code",
   "execution_count": 63,
   "metadata": {},
   "outputs": [
    {
     "name": "stderr",
     "output_type": "stream",
     "text": [
      "'select()' returned 1:1 mapping between keys and columns\n",
      "\n",
      "Warning message in bitr(rownames(hpt), fromType = \"SYMBOL\", toType = \"ENTREZID\", :\n",
      "“3.93% of input gene IDs are fail to map...”\n",
      "'select()' returned 1:1 mapping between keys and columns\n",
      "\n",
      "Warning message in bitr(rownames(ctx), fromType = \"SYMBOL\", toType = \"ENTREZID\", :\n",
      "“3.93% of input gene IDs are fail to map...”\n",
      "'select()' returned 1:1 mapping between keys and columns\n",
      "\n",
      "Warning message in bitr(rownames(hippo), fromType = \"SYMBOL\", toType = \"ENTREZID\", :\n",
      "“3.93% of input gene IDs are fail to map...”\n"
     ]
    }
   ],
   "source": [
    "sig.gene.hpt.all <- bitr(rownames(hpt),\n",
    "                         fromType=\"SYMBOL\",\n",
    "                         toType=\"ENTREZID\",\n",
    "                         OrgDb=org.Mm.eg.db\n",
    ")\n",
    "sig.gene.ctx.all <- bitr(rownames(ctx), \n",
    "                         fromType=\"SYMBOL\", \n",
    "                         toType=\"ENTREZID\", \n",
    "                         OrgDb=org.Mm.eg.db\n",
    ")\n",
    "sig.gene.hip.all <- bitr(rownames(hippo), \n",
    "                         fromType=\"SYMBOL\",\n",
    "                         toType=\"ENTREZID\", \n",
    "                         OrgDb=org.Mm.eg.db\n",
    ")"
   ]
  },
  {
   "cell_type": "code",
   "execution_count": 64,
   "metadata": {},
   "outputs": [
    {
     "name": "stderr",
     "output_type": "stream",
     "text": [
      "Warning message:\n",
      "“Removed 12 rows containing missing values (geom_point).”\n"
     ]
    },
    {
     "data": {
      "text/html": [
       "<strong>pdf:</strong> 2"
      ],
      "text/latex": [
       "\\textbf{pdf:} 2"
      ],
      "text/markdown": [
       "**pdf:** 2"
      ],
      "text/plain": [
       "pdf \n",
       "  2 "
      ]
     },
     "metadata": {},
     "output_type": "display_data"
    }
   ],
   "source": [
    "pdf(file=\"enrichdot_ctx.pdf\", width=7, height=15)\n",
    "    df_total.ctx = data.frame()\n",
    "    for(i in 1:nrow(all)){   \n",
    "        p = as.data.frame(ctx[which(rownames(ctx)%in%\n",
    "                          sig.gene.ctx.all[sig.gene.ctx.all[,2]%in%unlist(strsplit(all$geneID[i],\"/\")),1]), c(2,5)])\n",
    "        p$pathway = all$Description[i]\n",
    "        p$padjPath = all$p.adjust[i]\n",
    "        p$count = all$Count[i]\n",
    "        df_total.ctx = rbind(df_total.ctx, p)    \n",
    "    }\n",
    "    df_total.ctx$significance <- ifelse(df_total.ctx$pvalue < 0.05,\n",
    "                                        \"significant\",\n",
    "                                        \"not significant\"\n",
    "    )\n",
    "    ggplot(df_total.ctx, aes(log2FoldChange, y=factor(pathway, level=go[length(go):1]))) + \n",
    "           geom_point(aes(colour=significance, size=-log10(pvalue)), alpha=0.5) + \n",
    "           scale_size_continuous(range=c(0,8)) +\n",
    "           scale_color_manual(values=c(\"gray85\", \"red\")) +\n",
    "           geom_vline(xintercept=0) +\n",
    "           theme(axis.title=element_text(size=20),\n",
    "                 title=element_text(size=20), \n",
    "                 text=element_text(size=35)) + #guides(color = guide_legend(override.aes = list(size=5) ) ) +\n",
    "           theme(legend.position=\"none\") + \n",
    "           theme(axis.text.y=element_blank()) +\n",
    "           ylab(\"\") +\n",
    "           xlab(\"\") + \n",
    "           xlim(-2.68, 3.82)\n",
    "dev.off() "
   ]
  },
  {
   "cell_type": "code",
   "execution_count": 65,
   "metadata": {},
   "outputs": [
    {
     "name": "stderr",
     "output_type": "stream",
     "text": [
      "Warning message:\n",
      "“Removed 10 rows containing missing values (geom_point).”\n"
     ]
    },
    {
     "data": {
      "text/html": [
       "<strong>pdf:</strong> 2"
      ],
      "text/latex": [
       "\\textbf{pdf:} 2"
      ],
      "text/markdown": [
       "**pdf:** 2"
      ],
      "text/plain": [
       "pdf \n",
       "  2 "
      ]
     },
     "metadata": {},
     "output_type": "display_data"
    }
   ],
   "source": [
    "pdf(file=\"enrichdot_hpt.pdf\", width=7, height=15)\n",
    "    df_total.hpt = data.frame()\n",
    "    for(i in 1:nrow(all)){\n",
    "        p = as.data.frame(hpt[which(rownames(hpt)%in%\n",
    "                          sig.gene.hpt.all[sig.gene.hpt.all[,2]%in%unlist(strsplit(all$geneID[i],\"/\")),1]),c(2,5)])\n",
    "        p$pathway = all$Description[i]\n",
    "        p$padjPath = all$p.adjust[i]\n",
    "        p$count = all$Count[i]\n",
    "        df_total.hpt = rbind(df_total.hpt, p)    \n",
    "    } \n",
    "    df_total.hpt$col <- ifelse(df_total.hpt$pvalue < 0.05, \n",
    "                               \"red\", \n",
    "                               \"grey\"\n",
    "    )\n",
    "    ggplot(df_total.hpt, aes(log2FoldChange, y=factor(pathway, level=go[length(go):1]))) + \n",
    "           geom_point(aes(colour=col, size=-log10(pvalue)), alpha=0.5) + \n",
    "           scale_size_continuous(range=c(0, 8)) +\n",
    "           scale_color_manual(values=c(\"gray85\", \"red\")) + \n",
    "           geom_vline(xintercept=0) +\n",
    "           theme(axis.title=element_text(size=20),\n",
    "                 title=element_text(size=20), \n",
    "                 text=element_text(size=35)) +\n",
    "           theme(legend.position=\"none\") + \n",
    "           theme(axis.text.y=element_blank()) +\n",
    "           ylab(\"\") +\n",
    "           xlab(\"\") + \n",
    "           xlim(-2.68,3.82)\n",
    "dev.off()"
   ]
  },
  {
   "cell_type": "code",
   "execution_count": 66,
   "metadata": {},
   "outputs": [
    {
     "name": "stderr",
     "output_type": "stream",
     "text": [
      "Warning message:\n",
      "“Removed 15 rows containing missing values (geom_point).”\n"
     ]
    },
    {
     "data": {
      "text/html": [
       "<strong>pdf:</strong> 2"
      ],
      "text/latex": [
       "\\textbf{pdf:} 2"
      ],
      "text/markdown": [
       "**pdf:** 2"
      ],
      "text/plain": [
       "pdf \n",
       "  2 "
      ]
     },
     "metadata": {},
     "output_type": "display_data"
    }
   ],
   "source": [
    "pdf(file=\"enrichdot_hippo.pdf\", width=7, height=15)\n",
    "    df_total.hip=data.frame()\n",
    "    for(i in 1:nrow(all)){\n",
    "        p = as.data.frame(hippo[which(rownames(hippo)%in%\n",
    "                         sig.gene.hip.all[sig.gene.hip.all[,2]%in%unlist(strsplit(all$geneID[i],\"/\")),1]), c(2,5)])\n",
    "        p$pathway = all$Description[i]\n",
    "        p$padjPath = all$p.adjust[i]\n",
    "        p$count = all$Count[i]\n",
    "        df_total.hip = rbind(df_total.hip, p)    \n",
    "    }    \n",
    "    df_total.hip$col<-ifelse(df_total.hip$pvalue<0.05, \n",
    "                             \"red\",\n",
    "                             \"grey\"\n",
    "    )\n",
    "    ggplot(df_total.hip, aes(log2FoldChange, y=factor(pathway, level=go[length(go):1]))) + \n",
    "           geom_point(aes(colour=col, size=-log10(pvalue)), alpha=0.5) + \n",
    "           scale_color_manual(values=c(\"gray85\", \"red\")) + \n",
    "           scale_size_continuous(range = c(0, 6)) + \n",
    "           geom_vline(xintercept = 0) +\n",
    "           theme(axis.title=element_text(size=20),\n",
    "                 title=element_text(size=20), \n",
    "                 text = element_text(size=35)) +\n",
    "           theme(legend.position=\"none\") + \n",
    "           theme(axis.text.y=element_blank()) +\n",
    "           ylab(\"\") + \n",
    "           xlab(\"\") +\n",
    "           xlim(-2.68, 3.82)\n",
    "dev.off()"
   ]
  },
  {
   "cell_type": "code",
   "execution_count": 67,
   "metadata": {},
   "outputs": [],
   "source": [
    "#ggplot(df_total.ctx, aes(log2FoldChange, y=factor(pathway, level=go[length(go):1]))) + \n",
    "#       scale_color_gradient(low=\"gray90\", high=\"red3\", limits=c(0,7.1)) +\n",
    "#       geom_point(aes(color=-log10(pvalue)), size=7, alpha=0.8) + \n",
    "#       geom_vline(xintercept=0) +\n",
    "#       theme(axis.title=element_text(size=20,face=\"bold\"),\n",
    "#             title=element_text(size=20,face=\"bold\"), \n",
    "#             text = element_text(size=35)) +\n",
    "#       ylab(\"\") + \n",
    "#       theme(legend.position=\"none\") +\n",
    "#       xlab(\"\") +\n",
    "#       theme(axis.text.y=element_blank()) + \n",
    "#       xlim(-6.5,4.7)"
   ]
  },
  {
   "cell_type": "markdown",
   "metadata": {},
   "source": [
    "### KEGG"
   ]
  },
  {
   "cell_type": "code",
   "execution_count": null,
   "metadata": {},
   "outputs": [],
   "source": [
    "#kegg = c(\"Apoptosis\",\"Calcium signaling pathway\",\"Circadian rhythm\",\"Adherens junction\",\"ECM-receptor interaction\",\n",
    "#         \"Endocytosis\",\"AMPK signaling pathway\",\"Fructose and mannose metabolism\",\"Glycolysis / Gluconeogenesis\",\n",
    "#         \"Pyruvate metabolism\",\"Hedgehog signaling pathway\",\"GnRH signaling pathway\",\n",
    "#         \"Growth hormone synthesis, secretion and action\",\"Thyroid hormone signaling pathway\",\n",
    "#         \"TGF-beta signaling pathway\",\n",
    "#         \"Adipocytokine signaling pathway\",\"PPAR signaling pathway\",\n",
    "#         \"Insulin signaling pathway\",\"mTOR signaling pathway\",\"Wnt signaling pathway\",\"FoxO signaling pathway\",\n",
    "#         \"Insulin resistance\",\"PI3K-Akt signaling pathway\",\"VEGF signaling pathway\",\n",
    "#         \"HIF-1 signaling pathway\",\"Cholinergic synapse\",\"Dopaminergic synapse\",\"Axon guidance\",\n",
    "#         \"GABAergic synapse\",\"Neuroactive ligand-receptor interaction\",\"Oxytocin signaling pathway\",\"Thermogenesis\")\n",
    "#         ,\"Fatty acid metabolism\",\"NF-kappa B signaling pathway\",\"Chemokine signaling pathway\",\"TNF signaling pathway\","
   ]
  },
  {
   "cell_type": "code",
   "execution_count": null,
   "metadata": {
    "scrolled": false
   },
   "outputs": [],
   "source": [
    "#if(bool_plot){  \n",
    "#    enr_ctx.kegg = kegg.ctx@result[kegg.ctx@result[,5] < 0.05, c(2,5,6,8,9)]\n",
    "#    enr_ctx.kegg$Tissue = 'CTX'\n",
    "#    enr_hpt.kegg = kegg.hpt@result[kegg.hpt@result[,5]<0.05,c(2,5,6,8,9)]\n",
    "#    enr_hpt.kegg$Tissue = 'HPT'\n",
    "#    enr_hip.kegg = kegg.hip@result[kegg.hip@result[,5]<0.05,c(2,5,6,8,9)]\n",
    "#    enr_hip.kegg$Tissue = 'Hippo'\n",
    "#\n",
    "#    all = rbind(enr_ctx.kegg, enr_hpt.kegg, enr_hip.kegg)\n",
    "#    #write.csv(all, file=\"KEGG_transcriptom.csv\")\n",
    "#    all = all[all$Description%in%kegg,]\n",
    "#    options(repr.plot.width=10, repr.plot.height=15)\n",
    "#    ggplot(all, \n",
    "#           aes(Tissue, Description, col=pvalue, size=Count)) +  # p.adjust  pvalue\n",
    "#           geom_point()+ \n",
    "#           scale_colour_gradient(low=\"red\", high=\"blue\") +\n",
    "#           xlab(\"Tissue\") + \n",
    "#           ylab(\"KEGG enriched pathways\") + \n",
    "#          theme(text = element_text(size=25),axis.text.x = element_text(angle=45, hjust=1))\n",
    "#}"
   ]
  },
  {
   "cell_type": "code",
   "execution_count": null,
   "metadata": {},
   "outputs": [],
   "source": [
    "#if(bool_plot){  \n",
    "#    options(repr.plot.width=12, repr.plot.height=15)\n",
    "#\n",
    "#    all = rbind(enr_ctx.kegg, enr_hpt.kegg, enr_hip.kegg)\n",
    "#    all = all[all$Description%in%kegg,]\n",
    "#\n",
    "#    sig.gene.hpt.all = bitr(rownames(hpt), fromType=\"SYMBOL\", toType=\"ENTREZID\", OrgDb=org.Mm.eg.db)\n",
    "#    sig.gene.ctx.all = bitr(rownames(ctx), fromType=\"SYMBOL\", toType=\"ENTREZID\", OrgDb=org.Mm.eg.db)\n",
    "#    sig.gene.hip.all = bitr(rownames(hippo), fromType=\"SYMBOL\", toType=\"ENTREZID\", OrgDb=org.Mm.eg.db)\n",
    "#}"
   ]
  },
  {
   "cell_type": "code",
   "execution_count": null,
   "metadata": {},
   "outputs": [],
   "source": [
    "#if(bool_plot){   \n",
    "#    df_total.ctx = data.frame()\n",
    "#    for(i in 1:nrow(all)){   \n",
    "#        names = keggGet(substr(rownames(all)[i],1,8))[[1]]$GENE\n",
    "#        namesodd =  names[seq(0,length(names),2)]\n",
    "#        p = ctx[ctx[,1]%in%gsub(\"\\\\;.*\",\"\",namesodd),c(2,5)]\n",
    "#        \n",
    "#        p$pathway = all$Description[i]\n",
    "#        p$padjPath = all$p.adjust[i]\n",
    "#        p$count = all$Count[i]\n",
    "#        df_total.ctx = rbind(df_total.ctx, p)\n",
    "#    } \n",
    "#    ggplot(df_total.ctx, aes(log2FoldChange, pathway)) + \n",
    "#           scale_color_gradient(low=\"grey\", high=\"red\") +\n",
    "#           geom_point(aes(color = -log10(pvalue))) +\n",
    "#           geom_vline(xintercept = 0)+\n",
    "#           theme(axis.title=element_text(size=20,face=\"bold\"),\n",
    "#                 title=element_text(size=20,face=\"bold\"), \n",
    "#                 text = element_text(size=25)) +\n",
    "#           ylab(\"Pathway Names\") +\n",
    "#           ggtitle(\"CTX\") + \n",
    "#           xlab(\"log2FC\")\n",
    "#}"
   ]
  },
  {
   "cell_type": "code",
   "execution_count": null,
   "metadata": {},
   "outputs": [],
   "source": [
    "#if(bool_plot){       \n",
    "#    df_total.hpt = data.frame()\n",
    "#    for(i in 1:nrow(all)){\n",
    "#        names = keggGet(substr(rownames(all)[i],1,8))[[1]]$GENE\n",
    "#        namesodd =  names[seq(0,length(names),2)]\n",
    "#        p = hpt[hpt[,1]%in%gsub(\"\\\\;.*\",\"\",namesodd),c(2,5)]\n",
    "#        \n",
    "#        p$pathway = all$Description[i]\n",
    "#        p$padjPath = all$p.adjust[i]\n",
    "#        p$count = all$Count[i]\n",
    "#        df_total.hpt = rbind(df_total.hpt, p)\n",
    "#    }\n",
    "#    ggplot(df_total.hpt, aes(log2FoldChange, pathway)) +\n",
    "#           scale_color_gradient(low=\"grey\", high=\"red\") +\n",
    "#           geom_point(aes(color = -log10(pvalue))) +\n",
    "#           geom_vline(xintercept = 0)+\n",
    "#           theme(axis.title=element_text(size=20,face=\"bold\"),\n",
    "#                 title=element_text(size=20,face=\"bold\"),\n",
    "#                 text = element_text(size=25)) +\n",
    "#           ylab(\"Pathway Names\") +\n",
    "#           ggtitle(\"HPT\") +\n",
    "#           xlab(\"log2FC\")\n",
    "#}"
   ]
  },
  {
   "cell_type": "code",
   "execution_count": null,
   "metadata": {},
   "outputs": [],
   "source": [
    "#if(bool_plot){ \n",
    "#    df_total.hip = data.frame()\n",
    "#    for(i in 1:nrow(all)){\n",
    "#        names = keggGet(substr(rownames(all)[i],1,8))[[1]]$GENE\n",
    "#        namesodd = names[seq(0,length(names),2)]\n",
    "#        p = hippo[hippo[,1]%in%gsub(\"\\\\;.*\",\"\",namesodd),c(2,5)]\n",
    "#        \n",
    "#        p$pathway = all$Description[i]\n",
    "#        p$padjPath = all$p.adjust[i]\n",
    "#        p$count = all$Count[i]\n",
    "#        df_total.hip = rbind(df_total.hip, p)\n",
    "#    }\n",
    "#    ggplot(df_total.hip, aes(log2FoldChange, pathway)) +\n",
    "#           scale_color_gradient(low=\"grey\", high=\"red\") +\n",
    "#           geom_point(aes(color = -log10(pvalue))) +\n",
    "#           geom_vline(xintercept = 0)+\n",
    "#           theme(axis.title=element_text(size=20,face=\"bold\"),\n",
    "#                 title=element_text(size=20,face=\"bold\"),\n",
    "#                 text = element_text(size=25)) +\n",
    "#           ylab(\"Pathway Names\") +\n",
    "#           ggtitle(\"Hippo\") +\n",
    "#           xlab(\"log2FC\")\n",
    "#}"
   ]
  },
  {
   "cell_type": "code",
   "execution_count": null,
   "metadata": {},
   "outputs": [],
   "source": [
    "#if(bool_plot){\n",
    "#    gen_heatmap = union(union(hpt[hpt$pvalue < 0.05,1], ctx[ctx$pvalue < 0.05,1]), hippo[hippo$pvalue < 0.05,1])\n",
    "#    vsd_cl = vsd[rownames(vsd)%in%gen_heatmap,]\n",
    "#    hr = hclust(dist(vsd_cl, method=\"maximum\"), method=\"ward.D\") \n",
    "#    mycl.r = cutree(hr, k=4)\n",
    "#    \n",
    "#    options(repr.plot.width=10, repr.plot.height=10)\n",
    "#    my_palette = colorRampPalette(c(\"blue\", \"white\", \"red\"))(n = 255) \n",
    "#    df = as.data.frame(colData(dds)[,c(\"group\", \"loc\")])\n",
    "#    annotation_row = data.frame(Cluster = factor(mycl.r))\n",
    "#\n",
    "#    pheatmap(vsd_cl, cluster_rows=hr, scale=\"row\", show_rownames=FALSE,color=my_palette, cutree_rows=4, \n",
    "#             cluster_cols=F, annotation_col=df, annotation_row=annotation_row, fontsize=8,main=\"All samples\",\n",
    "#             breaks = seq(-4, 4, length.out=255))\n",
    "#}"
   ]
  },
  {
   "cell_type": "code",
   "execution_count": null,
   "metadata": {},
   "outputs": [],
   "source": [
    "#if(bool_plot){       \n",
    "#    df_total.hpt = data.frame()\n",
    "#    for(i in 1:nrow(all)){\n",
    "#        p = as.data.frame(hpt[which(rownames(hpt)%in%\n",
    "#                          sig.gene.hpt.all[sig.gene.hpt.all[,2]%in%unlist(strsplit(all$geneID[i],\"/\")),1]),c(2,5)])\n",
    "#        p$pathway = all$Description[i]\n",
    "#        p$padjPath = all$p.adjust[i]\n",
    "#        p$count = all$Count[i]\n",
    "#        df_total.hpt = rbind(df_total.hpt,p)\n",
    "#    }\n",
    "#    df_total.hpt$log2FoldChange <- ifelse(df_total.hpt$log2FoldChange>8,8,df_total.ctx$log2FoldChange )\n",
    "#    df_total.hpt$log2FoldChange  <- ifelse(df_total.hpt$log2FoldChange< -8,-8,df_total.ctx$log2FoldChange )\n",
    "#    df_total.hpt$pvalue  <- ifelse(df_total.hpt$pvalue<1e-05,1e-05,df_total.ctx$pvalue )\n",
    "#\n",
    "#    ggplot(df_total.hpt, aes(log2FoldChange, pathway)) +\n",
    "#           scale_color_gradient(low=\"grey\", high=\"red\") +\n",
    "#           geom_point(aes(color = -log10(pvalue))) +\n",
    "#           geom_vline(xintercept = 0)+\n",
    "#           theme(axis.title=element_text(size=20,face=\"bold\"),\n",
    "#                 title=element_text(size=20,face=\"bold\"),\n",
    "#                 text = element_text(size=25)) +\n",
    "#           ylab(\"Pathway Names\") +\n",
    "#           ggtitle(\"Significant Genes\") +\n",
    "#           xlab(\"log2FC\")\n",
    "#}"
   ]
  }
 ],
 "metadata": {
  "kernelspec": {
   "display_name": "R",
   "language": "R",
   "name": "ir"
  },
  "language_info": {
   "codemirror_mode": "r",
   "file_extension": ".r",
   "mimetype": "text/x-r-source",
   "name": "R",
   "pygments_lexer": "r",
   "version": "4.0.3"
  }
 },
 "nbformat": 4,
 "nbformat_minor": 2
}
