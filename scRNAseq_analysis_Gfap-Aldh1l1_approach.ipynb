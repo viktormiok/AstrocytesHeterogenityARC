{
 "cells": [
  {
   "cell_type": "markdown",
   "metadata": {},
   "source": [
    "# Analysis of scRNA-seq data set from ARC\n",
    "## focusing on Gfap and Aldh1l1 Astrocyte populations"
   ]
  },
  {
   "cell_type": "markdown",
   "metadata": {},
   "source": [
    "In this script the scRNA-seq data generated from ARC of the hypothalamus from mice under standard chow, 5 days and 15 days high fat high sugar diet are analysed. Here we contretate on astrocytes, with special focus on Gfap and Aldh1l1 cell populations. Following steps were performed in order to analyse our scRNA-seq data:\n",
    "- Loading Data, quality control and preprocessing.\n",
    "- Filtering, normalization and clustering and projection.\n",
    "- Cell type identification.\n",
    "- Analysis and visualisation of the Astrocyte population.\n",
    "- Visualization of Gfap and Aldh1l1 cell populations.\n",
    "- Creating Diffusion maps to visualise Gfap and Aldh1l1 populations over the pseudotime.\n",
    "- Inferring the genes with significant correlation with Gfap and Aldh1l1 and their enrichment in GO and KEGG repositories.\n",
    "- Stringent filtering (60% of cells) to identify the common genes among the populations and diets.\n",
    "- Visualise the literature based marker genes over the marker-diet groups\n",
    "- Differential expression analysis comparing populations within and between diets (using various tests).\n",
    "- For differential expression analysis the Welch-ANOVA test was implemented.\n",
    "- Enrichment analysis and visualisation of the differential expression results implemented in R script.\n",
    "- Exploring different ways of visualisation of differentially expressed genes using violin plots.\n",
    "- RNA velocity of astrocytes was performed for different diets in order to recovery of directed dynamic information and to learn about cellular decision making\n"
   ]
  },
  {
   "cell_type": "markdown",
   "metadata": {},
   "source": [
    "## Table of contents:\n",
    "\n",
    "* <a href=#Load>Load Packages and Set Global Variables</a>\n",
    "    * <a href=#Imports>Imports and Settings</a>\n",
    "    * <a href=#Global>Global Variables</a> \n",
    "* <a href=#Dataloading>Loading Data, Quality Control and Preprocessing</a>\n",
    "    * <a href=#Counts>Gene numbers and counts with and without mitochondrial RNA</a>\n",
    "    * <a href>Number of Genes versus Number of Counts</a>\n",
    "\t* <a href>Distribution of Counts and Genes</a>\n",
    "\t* <a href>Filtering</a>\n",
    "* <a href>Normalization, projection and clustering</a>\n",
    "* <a href>Define Cell Types</a>\n",
    "\t* <a href>Differentialy expressed Genes</a>\n",
    "\t* <a href>Define Marker Sets</a>\n",
    "    * <a href>Summary heatmap, dotplot and stacked_violin for cluster assignments</a>\n",
    "    * <a href>UMAP with assigned cell types</a>\n",
    "* <a href>Astorcytes</a>\n",
    "\t* <a href>Embedding and Clustering</a>\n",
    "* <a href>Define Cell Types</a>\n",
    "\t* <a href>Differentialy Expressed Genes</a>\n",
    "    * <a href>Summary heatmap, dotplot and stacked_violin for cluster assignments</a>\n",
    "    * <a href>Count distribution for Aldh1l1 and Gfap</a>\n",
    "* <a href>Gfap, Aldh1l1 and double positive populations</a>\n",
    "\t* <a href>Chow</a>\n",
    "\t* <a href>Hfd_5</a>\n",
    "\t* <a href>Hfd_15</a>\n",
    "* <a href>RNA Velocitiy</a>\n",
    "\t* <a href>All cells</a>\n",
    "\t* <a href>Astrocytes</a>\n",
    "* <a href>Common genes</a>\n",
    "\t* <a href>Chow</a>\n",
    "\t* <a href>Hfd_5</a>\n",
    "\t* <a href>Hfd_15</a>\n",
    "* <a href>Visualisation of well known marker genes</a>\n",
    "\t* <a href>Stacked violin plots</a>\n",
    "* <a href>Illustration and differential expression analysis</a>\n",
    "\t* <a href>Scatter plot and pie chart - chow</a>\n",
    "\t* <a href>Differential gene expression - chow</a>\n",
    "\t* <a href>Scatter plot and pie chart - hfd 5</a>\n",
    "\t* <a href>Differential gene expression - hfd 5</a>\n",
    "\t* <a href>Scatter plot and pie chart - hfd 15</a>\n",
    "\t* <a href>Differential gene expression - hfd 15</a>\n",
    "* <a href>Differential expression - diet effect</a>\n",
    "\t* <a href>Aldh1l1</a>\n",
    "\t* <a href>Gfap</a>\n",
    "\t* <a href>Double positive</a>\n",
    "* <a href>Welch ANOVA - marker effect</a>\n",
    "\t* <a href>Chow</a>\n",
    "\t* <a href>Hfd_5</a>\n",
    "\t* <a href>Hfd_15</a>\n",
    "\t* <a href>Stacked violin plot visualisation over the diets and marker populations</a>\n",
    "* <a href>Welch ANOVA - diet effect</a>\n",
    "\t* <a href>Aldh1l1</a>\n",
    "\t* <a href>Gfap</a>\n",
    "\t* <a href>Double positive</a>\n",
    "\t* <a href>Different types of stacked violin plot visualisation</a>\n",
    "* <a href>Diffusion maps of Astrocytes</a>\n",
    "\t* <a href>Chow</a>\n",
    "\t* <a href>Hfd_5</a>\n",
    "\t* <a href>Hfd_15</a>\n",
    "\t* <a href>Pseudotime</a>\n",
    "* <a href>Corrleation analysis of Gfap and Aldh1l1</a>\n",
    "\t* <a href>Chow</a>\n",
    "\t* <a href>Hfd_5</a>\n",
    "\t* <a href>Hfd_15</a>\n",
    "* <a href>Clusters 0,1 and 2 - potential astrocyte population</a>\n",
    "\t* <a href>Embedding and Clustering</a>\n",
    "* <a href>Define Cell Types</a>\n",
    "\t* <a href>Differentialy Expressed Genes</a>\n",
    "    * <a href>Summary heatmap, dotplot and stacked_violin for cluster assignments</a>\n",
    "    * <a href>Count distribution for Aldh1l1 and Gfap</a>\n",
    "* <a href>Gfap, Aldh1l1 and double positive populations</a>\n",
    "\t* <a href>Chow</a>\n",
    "\t* <a href>Hfd_5</a>\n",
    "\t* <a href>Hfd_15</a>\n",
    "* <a href>Differential gene expression - chow</a>\n",
    "* <a href>Differential gene expression - hfd 5</a>\n",
    "* <a href>Differential gene expression - hfd15</a>"
   ]
  },
  {
   "cell_type": "markdown",
   "metadata": {},
   "source": [
    "<a id=\"Load\"></a>"
   ]
  },
  {
   "cell_type": "markdown",
   "metadata": {},
   "source": [
    "# Load Packages and Set Global Variables"
   ]
  },
  {
   "cell_type": "markdown",
   "metadata": {},
   "source": [
    "<a id=\"imports\"></a>"
   ]
  },
  {
   "cell_type": "markdown",
   "metadata": {},
   "source": [
    "## Imports and Settings"
   ]
  },
  {
   "cell_type": "code",
   "execution_count": 1,
   "metadata": {},
   "outputs": [
    {
     "name": "stderr",
     "output_type": "stream",
     "text": [
      "WARNING: If you miss a compact list, please try `print_header`!\n"
     ]
    },
    {
     "name": "stdout",
     "output_type": "stream",
     "text": [
      "-----\n",
      "anndata     0.7.5\n",
      "scanpy      1.7.1\n",
      "sinfo       0.3.1\n",
      "-----\n",
      "PIL                 8.1.2\n",
      "PyObjCTools         NA\n",
      "anndata             0.7.5\n",
      "appdirs             1.4.4\n",
      "appnope             0.1.2\n",
      "autoreload          NA\n",
      "backcall            0.2.0\n",
      "batchglm            v0.7.4\n",
      "bioservices         1.7.11\n",
      "bs4                 4.9.3\n",
      "certifi             2020.12.05\n",
      "cffi                1.14.5\n",
      "chardet             4.0.0\n",
      "cloudpickle         1.6.0\n",
      "colorama            0.4.4\n",
      "colorlog            NA\n",
      "custom_functions    NA\n",
      "cycler              0.10.0\n",
      "cython_runtime      NA\n",
      "dask                2021.03.0\n",
      "dateutil            2.8.1\n",
      "decorator           4.4.2\n",
      "diffxpy             v0.7.4\n",
      "docutils            0.16\n",
      "easydev             0.11.0\n",
      "get_version         2.1\n",
      "gprofiler           1.0.0\n",
      "gseapy              0.10.4\n",
      "h5py                3.2.1\n",
      "idna                2.10\n",
      "igraph              0.9.0\n",
      "ipykernel           5.4.3\n",
      "ipython_genutils    0.2.0\n",
      "ipywidgets          7.6.3\n",
      "jedi                0.17.2\n",
      "joblib              1.0.1\n",
      "kiwisolver          1.3.1\n",
      "legacy_api_wrap     1.2\n",
      "leidenalg           0.8.3\n",
      "littleutils         NA\n",
      "llvmlite            0.36.0\n",
      "lxml                4.6.3\n",
      "matplotlib          3.3.4\n",
      "matplotlib_venn     0.11.6\n",
      "mpl_toolkits        NA\n",
      "natsort             7.1.1\n",
      "numba               0.53.1\n",
      "numexpr             2.7.3\n",
      "numpy               1.20.1\n",
      "outdated            0.2.1\n",
      "packaging           20.9\n",
      "pandas              1.2.3\n",
      "pandas_flavor       NA\n",
      "parso               0.7.0\n",
      "patsy               0.5.1\n",
      "pexpect             4.8.0\n",
      "pickleshare         0.7.5\n",
      "pingouin            0.3.12\n",
      "pkg_resources       NA\n",
      "prompt_toolkit      3.0.14\n",
      "psutil              5.8.0\n",
      "ptyprocess          0.7.0\n",
      "pyexpat             NA\n",
      "pygments            2.7.4\n",
      "pylab               NA\n",
      "pyparsing           2.4.7\n",
      "pytz                2021.1\n",
      "requests            2.25.1\n",
      "requests_cache      0.5.2\n",
      "scanpy              1.7.1\n",
      "scipy               1.6.1\n",
      "scvelo              0.2.3\n",
      "seaborn             0.11.1\n",
      "sinfo               0.3.1\n",
      "six                 1.15.0\n",
      "sklearn             0.24.1\n",
      "soupsieve           2.2.1\n",
      "sparse              0.12.0\n",
      "sphinxcontrib       NA\n",
      "statsmodels         0.12.2\n",
      "storemagic          NA\n",
      "tables              3.6.1\n",
      "tabulate            0.8.9\n",
      "texttable           1.6.3\n",
      "tlz                 0.11.1\n",
      "toolz               0.11.1\n",
      "tornado             6.1\n",
      "traitlets           5.0.5\n",
      "typing_extensions   NA\n",
      "urllib3             1.26.3\n",
      "wcwidth             0.2.5\n",
      "wrapt               1.12.1\n",
      "xarray              0.18.2\n",
      "yaml                5.4.1\n",
      "zmq                 22.0.2\n",
      "zope                NA\n",
      "-----\n",
      "IPython             7.20.0\n",
      "jupyter_client      6.1.11\n",
      "jupyter_core        4.7.1\n",
      "notebook            6.2.0\n",
      "-----\n",
      "Python 3.9.2 (v3.9.2:1a79785e3e, Feb 19 2021, 09:06:10) [Clang 6.0 (clang-600.0.57)]\n",
      "macOS-10.16-x86_64-i386-64bit\n",
      "12 logical CPU cores, i386\n",
      "-----\n",
      "Session information updated at 2021-08-04 06:42\n",
      "\n",
      "3.9.2 (v3.9.2:1a79785e3e, Feb 19 2021, 09:06:10) \n",
      "[Clang 6.0 (clang-600.0.57)]\n"
     ]
    }
   ],
   "source": [
    "import numpy as np\n",
    "import scanpy as sc\n",
    "import scipy as sci\n",
    "import scipy.sparse\n",
    "import pandas as pd\n",
    "import seaborn as sb\n",
    "import scvelo as scv\n",
    "import matplotlib as mpl\n",
    "import matplotlib.pyplot as plt\n",
    "from matplotlib import colors\n",
    "from gprofiler import GProfiler\n",
    "import custom_functions as cf\n",
    "from matplotlib_venn import venn3_unweighted\n",
    "from scipy import stats\n",
    "import pingouin as pg\n",
    "import matplotlib_venn\n",
    "import statistics\n",
    "import gseapy\n",
    "import sys\n",
    "import re\n",
    "import os\n",
    "\n",
    "import batchglm\n",
    "import diffxpy.api as de\n",
    "\n",
    "import warnings\n",
    "warnings.filterwarnings('ignore')\n",
    "\n",
    "%load_ext autoreload\n",
    "%autoreload 2\n",
    "sc.settings.verbosity=3 # amount of output\n",
    "\n",
    "base_dir = '/Users/viktorian.miok/Documents/consultation/Luiza/single_cell/data/scanpy_AnnData/'\n",
    "dir_out = '/Users/viktorian.miok/Documents/consultation/Luiza/single_cell/results/'\n",
    "dir_tables = dir_out+'tables/'\n",
    "sc_settings_figdir = dir_out+'figures/'\n",
    "sc_settings_writedir = dir_out+'anndata/'\n",
    "sc.logging.print_versions()\n",
    "os.chdir(dir_out)\n",
    "sc.settings.set_figure_params(dpi=80, \n",
    "                              scanpy=True\n",
    ")\n",
    "print(sys.version)"
   ]
  },
  {
   "cell_type": "code",
   "execution_count": 2,
   "metadata": {},
   "outputs": [],
   "source": [
    "#Define a nice colour map for gene expression\n",
    "colors2 = plt.cm.Reds(np.linspace(0, 1, 128))\n",
    "colors3 = plt.cm.Greys_r(np.linspace(0.7, 0.8, 20))\n",
    "colorsComb = np.vstack([colors3, colors2])\n",
    "mymap = colors.LinearSegmentedColormap.from_list('my_colormap', \n",
    "                                                 colorsComb\n",
    ")\n",
    "sc.set_figure_params(scanpy=True, \n",
    "                     fontsize=17\n",
    ")"
   ]
  },
  {
   "cell_type": "markdown",
   "metadata": {},
   "source": [
    "## Global Variables"
   ]
  },
  {
   "cell_type": "markdown",
   "metadata": {},
   "source": [
    "All embeddings and clusterings can be saved and loaded into this script. Be carful with overwriting cluster caches as soon as cell type annotation has started as cluster labels may be shuffled."
   ]
  },
  {
   "cell_type": "markdown",
   "metadata": {},
   "source": [
    "Set whether anndata objects are recomputed or loaded from cache."
   ]
  },
  {
   "cell_type": "code",
   "execution_count": 3,
   "metadata": {},
   "outputs": [],
   "source": [
    "bool_recomp = False"
   ]
  },
  {
   "cell_type": "markdown",
   "metadata": {},
   "source": [
    "Set whether clustering is recomputed or loaded from saved .obs file. Loading makes sense if the clustering changes due to a change in scanpy or one of its dependencies and the number of clusters or the cluster labels change accordingly."
   ]
  },
  {
   "cell_type": "code",
   "execution_count": 4,
   "metadata": {},
   "outputs": [],
   "source": [
    "bool_recluster = False"
   ]
  },
  {
   "cell_type": "markdown",
   "metadata": {},
   "source": [
    "Set whether cluster cache is overwritten. Note that the cache exists for reproducibility of clustering, see above."
   ]
  },
  {
   "cell_type": "code",
   "execution_count": 5,
   "metadata": {},
   "outputs": [],
   "source": [
    "bool_write_cluster_cache = False"
   ]
  },
  {
   "cell_type": "markdown",
   "metadata": {},
   "source": [
    "Set whether to produce plots, set to False for test runs."
   ]
  },
  {
   "cell_type": "code",
   "execution_count": 6,
   "metadata": {},
   "outputs": [],
   "source": [
    "bool_plot = False"
   ]
  },
  {
   "cell_type": "markdown",
   "metadata": {},
   "source": [
    "Set whether observations should be calculated. If false, it is necessary to read cacheed file that contains the necssary information. It then shows the the distributions of counts and genes, as well as mt_frac after filtering. \n",
    "Set to true in order to see the data before filtering and follow the decisions for cutoffs."
   ]
  },
  {
   "cell_type": "code",
   "execution_count": 7,
   "metadata": {},
   "outputs": [],
   "source": [
    "bool_create_observations = True"
   ]
  },
  {
   "cell_type": "markdown",
   "metadata": {},
   "source": [
    "<a id=\"Dataloading\"></a>"
   ]
  },
  {
   "cell_type": "markdown",
   "metadata": {},
   "source": [
    "# Loading Data, Quality Control and Preprocessing"
   ]
  },
  {
   "cell_type": "markdown",
   "metadata": {},
   "source": [
    "Read the data in:"
   ]
  },
  {
   "cell_type": "code",
   "execution_count": 8,
   "metadata": {},
   "outputs": [],
   "source": [
    "if bool_recomp:\n",
    "    adata_raw1 = sc.read(base_dir+'MUC26030/filtered_feature_bc_matrix.h5ad')\n",
    "    adata_raw2 = sc.read(base_dir+'MUC26031/filtered_feature_bc_matrix.h5ad')\n",
    "    adata_raw3 = sc.read(base_dir+'MUC26032/filtered_feature_bc_matrix.h5ad')\n",
    "    adata_raw = adata_raw1.concatenate([adata_raw2, adata_raw3],\n",
    "                                       batch_key='diet', \n",
    "                                       batch_categories=['chow', 'hfd_5', 'hfd_15']\n",
    "    )\n",
    "    sc.write(sc_settings_writedir+'adata_raw.h5ad', adata_raw)\n",
    "else:\n",
    "    adata_raw = sc.read(sc_settings_writedir+'adata_raw.h5ad')"
   ]
  },
  {
   "cell_type": "markdown",
   "metadata": {},
   "source": [
    "<a id=\"QC\"></a>"
   ]
  },
  {
   "cell_type": "markdown",
   "metadata": {},
   "source": [
    "Summary of steps performed here: Only cells with at least 500 UMIs are kept. Counts per cell are cell library depth normalized. The gene (feature) space is reduced with PCA to 50 PCs. A nearest neighbour graph and umap are computed based on the PC space. Cell are clustered with louvain clustering based on the nearest neighbour graph. Graph abstraction is computed based on the louvain clustering."
   ]
  },
  {
   "cell_type": "code",
   "execution_count": 9,
   "metadata": {},
   "outputs": [],
   "source": [
    "sc.pp.filter_cells(adata_raw, min_counts=1)"
   ]
  },
  {
   "cell_type": "markdown",
   "metadata": {},
   "source": [
    "The data contains 21143 observations with 31253 different genes. Due to dropouts, some of the observations might not show any counts and genes. In order to calculate the fraction of mitochondrial RNA in the next steps, each observations without counts must be filtered out to prevent NaN from emerging. "
   ]
  },
  {
   "cell_type": "code",
   "execution_count": 10,
   "metadata": {},
   "outputs": [
    {
     "name": "stdout",
     "output_type": "stream",
     "text": [
      "Number of cells: 21143\n",
      "Number of genes: 31253\n",
      "Number of cells per diet:\n"
     ]
    },
    {
     "data": {
      "text/plain": [
       "chow      7116\n",
       "hfd_5     6204\n",
       "hfd_15    7823\n",
       "Name: diet, dtype: int64"
      ]
     },
     "execution_count": 10,
     "metadata": {},
     "output_type": "execute_result"
    }
   ],
   "source": [
    "print('Number of cells: {:d}'.format(adata_raw.n_obs))\n",
    "print('Number of genes: {:d}'.format(adata_raw.shape[1]))\n",
    "print('Number of cells per diet:')\n",
    "adata_raw.obs['diet'].value_counts().sort_index()"
   ]
  },
  {
   "cell_type": "markdown",
   "metadata": {},
   "source": [
    "### Gene numbers and counts with and without mitochondrial RNA"
   ]
  },
  {
   "cell_type": "markdown",
   "metadata": {},
   "source": [
    "Create necessary obs:"
   ]
  },
  {
   "cell_type": "code",
   "execution_count": 11,
   "metadata": {},
   "outputs": [],
   "source": [
    "adata_qc=adata_raw.copy()\n",
    "adata_qc.obs['n_genes'] = (adata_qc.X > 0).sum(1)\n",
    "mt_gene_mask = [gene.startswith('mt-') for gene in adata_qc.var_names]\n",
    "temp_mt_sum = adata_qc[:,mt_gene_mask].X.sum(1)\n",
    "temp_mt_sum = np.squeeze(np.asarray(temp_mt_sum))\n",
    "adata_qc.obs['n_counts'] = adata_qc.X.sum(1)\n",
    "temp_n_counts = adata_qc.obs['n_counts']\n",
    "adata_qc.obs['mt_frac'] = temp_mt_sum/adata_qc.obs['n_counts']"
   ]
  },
  {
   "cell_type": "markdown",
   "metadata": {},
   "source": [
    "Plot n_counts and mt_frac:"
   ]
  },
  {
   "cell_type": "code",
   "execution_count": 12,
   "metadata": {},
   "outputs": [],
   "source": [
    "if bool_plot == True:\n",
    "    t1 = sc.pl.violin(adata_qc, \n",
    "                      ['n_counts', 'n_genes', 'mt_frac'],\n",
    "                      size=1, \n",
    "                      log=False, \n",
    "                      jitter=3,\n",
    "                      multi_panel=True\n",
    "    )"
   ]
  },
  {
   "cell_type": "code",
   "execution_count": 13,
   "metadata": {},
   "outputs": [],
   "source": [
    "if bool_plot==True:\n",
    "    sc.pl.highest_expr_genes(adata_qc,\n",
    "                             n_top=20\n",
    "    ) "
   ]
  },
  {
   "cell_type": "markdown",
   "metadata": {},
   "source": [
    "Overall, the data contains a lot of observations with high fractions of mitochondrial RNA. Additionally, most observations show counts below 100, suggesting poor data quality. To further investigate the distributions counts over genes per observations, scatterplots are created:"
   ]
  },
  {
   "cell_type": "markdown",
   "metadata": {},
   "source": [
    "### Number of Genes versus Number of Counts"
   ]
  },
  {
   "cell_type": "code",
   "execution_count": 14,
   "metadata": {},
   "outputs": [],
   "source": [
    "if bool_plot == True:\n",
    "    p1 = sc.pl.scatter(adata_qc,\n",
    "                       'n_counts',\n",
    "                       'n_genes',\n",
    "                       color='mt_frac', \n",
    "                       size=5\n",
    "    )\n",
    "    p2 = sc.pl.scatter(adata_qc[adata_qc.obs['n_counts'] < 5000],\n",
    "                       'n_counts',\n",
    "                       'n_genes',\n",
    "                       color='mt_frac',\n",
    "                       size=5\n",
    "    )"
   ]
  },
  {
   "cell_type": "markdown",
   "metadata": {},
   "source": [
    "### Distribution of Counts and Genes"
   ]
  },
  {
   "cell_type": "markdown",
   "metadata": {},
   "source": [
    "For the remaining observations, the fraction of mitochondrial RNA is generally very low and at most 20%"
   ]
  },
  {
   "cell_type": "code",
   "execution_count": 15,
   "metadata": {},
   "outputs": [],
   "source": [
    "if bool_plot == True:\n",
    "    p6 = sb.distplot(adata_qc.obs['n_counts'],\n",
    "                     kde=False\n",
    "    )\n",
    "    plt.show()\n",
    "    p7 = sb.distplot(adata_qc.obs['n_counts'][adata_qc.obs['n_counts'] < 1000],\n",
    "                     kde=False\n",
    "    )\n",
    "    plt.show()"
   ]
  },
  {
   "cell_type": "code",
   "execution_count": 16,
   "metadata": {},
   "outputs": [],
   "source": [
    "if bool_plot == True:\n",
    "    p9 = sb.distplot(adata_qc.obs['n_genes'],\n",
    "                     kde=False, \n",
    "                     bins=60\n",
    "    )\n",
    "    plt.show()\n",
    "    p10 = sb.distplot(adata_qc.obs['n_genes'][adata_qc.obs['n_genes'] < 500],\n",
    "                      kde=False,\n",
    "                      bins=60\n",
    "    )\n",
    "    plt.show()"
   ]
  },
  {
   "cell_type": "markdown",
   "metadata": {},
   "source": [
    "### Filtering"
   ]
  },
  {
   "cell_type": "code",
   "execution_count": 17,
   "metadata": {},
   "outputs": [
    {
     "name": "stdout",
     "output_type": "stream",
     "text": [
      "Total number of cells: 21143\n"
     ]
    },
    {
     "name": "stderr",
     "output_type": "stream",
     "text": [
      "filtered out 35 cells that have more than 100000 counts\n"
     ]
    },
    {
     "name": "stdout",
     "output_type": "stream",
     "text": [
      "Number of cells after min count filter: 21143\n",
      "Number of cells after max count filter: 21108\n",
      "Number of cells after MT filter: 20491\n"
     ]
    },
    {
     "name": "stderr",
     "output_type": "stream",
     "text": [
      "filtered out 496 cells that have less than 350 genes expressed\n",
      "Trying to set attribute `.obs` of view, copying.\n"
     ]
    },
    {
     "name": "stdout",
     "output_type": "stream",
     "text": [
      "Number of cells after gene filter: 19995\n"
     ]
    }
   ],
   "source": [
    "# Filter cells according to identified QC thresholds:\n",
    "print('Total number of cells: {:d}'.format(adata_qc.n_obs))\n",
    "\n",
    "sc.pp.filter_cells(adata_qc, \n",
    "                   min_counts=200\n",
    ")\n",
    "print('Number of cells after min count filter: {:d}'.format(adata_qc.n_obs))\n",
    "\n",
    "sc.pp.filter_cells(adata_qc, \n",
    "                   max_counts=100000\n",
    ")\n",
    "print('Number of cells after max count filter: {:d}'.format(adata_qc.n_obs))\n",
    "\n",
    "adata_qc=adata_qc[adata_qc.obs['mt_frac'] < 0.5]\n",
    "print('Number of cells after MT filter: {:d}'.format(adata_qc.n_obs))\n",
    "\n",
    "sc.pp.filter_cells(adata_qc, \n",
    "                   min_genes=350\n",
    ")\n",
    "print('Number of cells after gene filter: {:d}'.format(adata_qc.n_obs))"
   ]
  },
  {
   "cell_type": "code",
   "execution_count": 18,
   "metadata": {},
   "outputs": [
    {
     "name": "stdout",
     "output_type": "stream",
     "text": [
      "Total number of genes: 31253\n"
     ]
    },
    {
     "name": "stderr",
     "output_type": "stream",
     "text": [
      "filtered out 13164 genes that are detected in less than 20 cells\n"
     ]
    },
    {
     "name": "stdout",
     "output_type": "stream",
     "text": [
      "Number of genes after cell filter: 18089\n"
     ]
    }
   ],
   "source": [
    "#Filter genes:\n",
    "print('Total number of genes: {:d}'.format(adata_qc.n_vars))\n",
    "\n",
    "# Min 20 cells - filters out 0 count genes\n",
    "sc.pp.filter_genes(adata_qc,\n",
    "                   min_cells=20\n",
    ")\n",
    "print('Number of genes after cell filter: {:d}'.format(adata_qc.n_vars))"
   ]
  },
  {
   "cell_type": "code",
   "execution_count": 19,
   "metadata": {},
   "outputs": [],
   "source": [
    "if bool_plot == True:\n",
    "    p1 = sc.pl.scatter(adata_qc,\n",
    "                       'n_counts',\n",
    "                       'n_genes',\n",
    "                       color='mt_frac',\n",
    "                       size=5\n",
    "    )\n",
    "    p3 = sc.pl.scatter(adata_qc[adata_qc.obs['n_counts'] < 5000],\n",
    "                       'n_counts',\n",
    "                       'n_genes',\n",
    "                       color='mt_frac',\n",
    "                       size=5\n",
    "    )"
   ]
  },
  {
   "cell_type": "code",
   "execution_count": 20,
   "metadata": {},
   "outputs": [
    {
     "name": "stdout",
     "output_type": "stream",
     "text": [
      "Number of cells: 19995\n",
      "Number of genes: 18089\n",
      "Number of cells per diet:\n"
     ]
    },
    {
     "data": {
      "text/plain": [
       "chow      6741\n",
       "hfd_5     5886\n",
       "hfd_15    7368\n",
       "Name: diet, dtype: int64"
      ]
     },
     "execution_count": 20,
     "metadata": {},
     "output_type": "execute_result"
    }
   ],
   "source": [
    "print('Number of cells: {:d}'.format(adata_qc.n_obs))\n",
    "print('Number of genes: {:d}'.format(adata_qc.shape[1]))\n",
    "print('Number of cells per diet:')\n",
    "adata_qc.obs['diet'].value_counts().sort_index()"
   ]
  },
  {
   "cell_type": "markdown",
   "metadata": {},
   "source": [
    "# Normalization, projection and clustering"
   ]
  },
  {
   "cell_type": "code",
   "execution_count": 21,
   "metadata": {
    "scrolled": false
   },
   "outputs": [
    {
     "name": "stderr",
     "output_type": "stream",
     "text": [
      "running PAGA\n",
      "    finished: added\n",
      "    'paga/connectivities', connectivities adjacency (adata.uns)\n",
      "    'paga/connectivities_tree', connectivities subtree (adata.uns) (0:00:01)\n"
     ]
    }
   ],
   "source": [
    "if bool_recomp == True:\n",
    "    adata_proc=adata_qc.copy()\n",
    "    adata_proc.raw=adata_qc\n",
    "    sc.pp.normalize_per_cell(adata_proc)\n",
    "    sc.pp.log1p(adata_proc)\n",
    "    sc.pp.combat(adata_proc,\n",
    "                 key='diet'\n",
    "    )\n",
    "    sc.pp.highly_variable_genes(adata_proc, \n",
    "                                flavor='cell_ranger',\n",
    "                                n_top_genes=4000\n",
    "    )\n",
    "    sc.pl.highly_variable_genes(adata_proc)\n",
    "    #adata_proc.X=adata_proc.X.toarray()\n",
    "    \n",
    "    sc.pp.pca(adata_proc,\n",
    "              n_comps=50, \n",
    "              random_state=0,\n",
    "              use_highly_variable=True, \n",
    "              svd_solver='arpack'\n",
    "    )\n",
    "    sc.pp.neighbors(adata_proc,\n",
    "                    n_neighbors=100,\n",
    "                    knn=True,\n",
    "                    method='umap',\n",
    "                    n_pcs=50,\n",
    "                    random_state=0\n",
    "    )\n",
    "    sc.tl.umap(adata_proc)\n",
    "    if bool_recluster == True:\n",
    "        #sc.tl.louvain(adata_proc, resolution=0.5, flavor='vtraag', random_state=0)\n",
    "        sc.tl.leiden(adata_proc,\n",
    "                     resolution=0.3\n",
    "        )\n",
    "        pd.DataFrame(adata_proc.obs).to_csv(path_or_buf=sc_settings_writedir+\"obs_adata_proc.csv\")\n",
    "    else:\n",
    "        obs = pd.read_csv(sc_settings_writedir+'obs_adata_proc.csv')\n",
    "        adata_proc.obs['leiden'] = pd.Series(obs['leiden'].values, \n",
    "                                             dtype='category'\n",
    "        )\n",
    "    sc.write(sc_settings_writedir+'adata_proc.h5ad', adata_proc)\n",
    "else:\n",
    "    adata_proc=sc.read(sc_settings_writedir+'adata_proc.h5ad') \n",
    "sc.tl.paga(adata_proc)"
   ]
  },
  {
   "cell_type": "markdown",
   "metadata": {},
   "source": [
    "Produce some summarizing plots that show the global characteristics of the data."
   ]
  },
  {
   "cell_type": "code",
   "execution_count": 22,
   "metadata": {},
   "outputs": [],
   "source": [
    "if bool_plot == True:\n",
    "    cf.plot_umap_marker(adata_proc,\n",
    "                        ['leiden'],\n",
    "                        save=\"_all_cells_leiden\",\n",
    "                        use_raw=False\n",
    "    )"
   ]
  },
  {
   "cell_type": "code",
   "execution_count": 23,
   "metadata": {},
   "outputs": [],
   "source": [
    "#####################################################################################################################\n",
    "if bool_plot == True:\n",
    "    plt.rcParams['figure.figsize']=[5,5]\n",
    "    cf.plot_umap_marker(adata_proc,\n",
    "                        ['leiden'],\n",
    "                        save=\"_all_cells_leiden_ondata\",\n",
    "                        use_raw=False,\n",
    "                        legend_loc='on data',\n",
    "                        frameon=False,\n",
    "                        title='', \n",
    "                        size=20\n",
    "    )"
   ]
  },
  {
   "cell_type": "code",
   "execution_count": 24,
   "metadata": {},
   "outputs": [],
   "source": [
    "if bool_plot == True:\n",
    "    cf.plot_umap_marker(adata_proc, \n",
    "                        ['n_genes', 'n_counts', 'mt_frac'], \n",
    "                        color_map=mymap,\n",
    "                        size=10,\n",
    "                        save=\"_all_cells_n_gene_count_mt\",\n",
    "                        use_raw=False\n",
    "    )"
   ]
  },
  {
   "cell_type": "markdown",
   "metadata": {},
   "source": [
    "A high fraction of mitochondrial RNA is in cluster 3 and around the central cluster 8."
   ]
  },
  {
   "cell_type": "code",
   "execution_count": 25,
   "metadata": {},
   "outputs": [],
   "source": [
    "if bool_plot == True:\n",
    "    cf.plot_umap_marker(adata_proc,\n",
    "                        ['Gfap','Aldh1l1'],\n",
    "                        color_map=mymap,\n",
    "                        size=20,\n",
    "                        save=\"_all_cells_gfap-aldh\", \n",
    "                        use_raw=False\n",
    "    )"
   ]
  },
  {
   "cell_type": "code",
   "execution_count": 26,
   "metadata": {},
   "outputs": [],
   "source": [
    "if bool_plot == True:\n",
    "    cf.plot_umap_marker(adata_proc,\n",
    "                        ['diet'], \n",
    "                        save=\"_all_cells_diet\",\n",
    "                        use_raw=False\n",
    "    )"
   ]
  },
  {
   "cell_type": "code",
   "execution_count": 27,
   "metadata": {},
   "outputs": [],
   "source": [
    "if bool_plot == True:\n",
    "    sc.pl.paga(adata_proc,\n",
    "               save=\"_all_cells.png\"\n",
    "    )"
   ]
  },
  {
   "cell_type": "code",
   "execution_count": 28,
   "metadata": {},
   "outputs": [],
   "source": [
    "if bool_plot == True:\n",
    "    cf.cell_percent(adata_proc,\n",
    "                    cluster='leiden',\n",
    "                    condition='diet', \n",
    "                    xlabel='clusters', \n",
    "                    ylabel='percentage', \n",
    "                    title='barplot_all_cells_diet_per_clusters',\n",
    "                    save=sc_settings_figdir,\n",
    "                    table=False\n",
    "    )"
   ]
  },
  {
   "cell_type": "code",
   "execution_count": 29,
   "metadata": {},
   "outputs": [],
   "source": [
    "if bool_plot == True:\n",
    "    aldh_pos = adata_proc.obs_names[np.asarray(adata_proc[:,'Aldh1l1'].X).flatten() > 0]\n",
    "    gfap_pos = adata_proc.obs_names[np.asarray(adata_proc[:,'Gfap'].X).flatten() > 0]\n",
    "    glast_pos = adata_proc.obs_names[np.asarray(adata_proc[:,'Slc1a3'].X).flatten() > 0]\n",
    "\n",
    "    matplotlib_venn.venn3([set(aldh_pos),\n",
    "                           set(gfap_pos),\n",
    "                           set(glast_pos)],\n",
    "                          set_labels=(\"Aldh1l1\", \"Gfap\", \"Slc1a3\"))\n",
    "    plt.savefig(sc_settings_figdir+'venndiagram_all_cells_gfap-aldh-glast.png')"
   ]
  },
  {
   "cell_type": "code",
   "execution_count": 30,
   "metadata": {},
   "outputs": [],
   "source": [
    "if bool_plot == True:\n",
    "    aldh_pos = adata_proc.obs_names[np.asarray(adata_proc[:,'Aldh1l1'].X).flatten() > 0]\n",
    "    gfap_pos = adata_proc.obs_names[np.asarray(adata_proc[:,'Gfap'].X).flatten() > 0]\n",
    "\n",
    "    matplotlib_venn.venn2([set(aldh_pos),\n",
    "                           set(gfap_pos)],\n",
    "                          set_labels=(\"Aldh1l1\", \"Gfap\"))#, \"Slc1a3\"))\n",
    "    plt.savefig(sc_settings_figdir+'venndiagram_all_cells_gfap-aldh.png')"
   ]
  },
  {
   "cell_type": "markdown",
   "metadata": {},
   "source": [
    "Number of cells in each cluster:"
   ]
  },
  {
   "cell_type": "code",
   "execution_count": 31,
   "metadata": {},
   "outputs": [
    {
     "data": {
      "text/plain": [
       "0     3921\n",
       "1     2547\n",
       "2     2386\n",
       "3     2247\n",
       "4     1466\n",
       "5     1403\n",
       "6     1233\n",
       "7     1080\n",
       "8     1075\n",
       "9     1056\n",
       "10     877\n",
       "11     515\n",
       "12     109\n",
       "13      80\n",
       "Name: leiden, dtype: int64"
      ]
     },
     "execution_count": 31,
     "metadata": {},
     "output_type": "execute_result"
    }
   ],
   "source": [
    "adata_proc.obs[\"leiden\"].value_counts()"
   ]
  },
  {
   "cell_type": "markdown",
   "metadata": {},
   "source": [
    "## Define Cell Types"
   ]
  },
  {
   "cell_type": "markdown",
   "metadata": {},
   "source": [
    "<a id=\"DE\"></a>"
   ]
  },
  {
   "cell_type": "markdown",
   "metadata": {},
   "source": [
    "### Differentialy expressd Genes"
   ]
  },
  {
   "cell_type": "code",
   "execution_count": 32,
   "metadata": {
    "scrolled": false
   },
   "outputs": [
    {
     "name": "stderr",
     "output_type": "stream",
     "text": [
      "WARNING: Default of the method has been changed to 't-test' from 't-test_overestim_var'\n",
      "ranking genes\n",
      "    finished: added to `.uns['rank_genes']`\n",
      "    'names', sorted np.recarray to be indexed by group ids\n",
      "    'scores', sorted np.recarray to be indexed by group ids\n",
      "    'logfoldchanges', sorted np.recarray to be indexed by group ids\n",
      "    'pvals', sorted np.recarray to be indexed by group ids\n",
      "    'pvals_adj', sorted np.recarray to be indexed by group ids (0:00:04)\n"
     ]
    }
   ],
   "source": [
    "sc.tl.rank_genes_groups(adata_proc, \n",
    "                        groupby='leiden',\n",
    "                        key_added='rank_genes'\n",
    ")\n",
    "if bool_plot==True:\n",
    "    sc.pl.rank_genes_groups(adata_proc,\n",
    "                            key='rank_genes',\n",
    "                            groups=['0','1','2'],\n",
    "                            save=\"_all_cells_1.png\"\n",
    "    )\n",
    "    sc.pl.rank_genes_groups(adata_proc, \n",
    "                            key='rank_genes', \n",
    "                            groups=['3','4','5'],\n",
    "                            save=\"_all_cells_2.png\"\n",
    "    )\n",
    "    sc.pl.rank_genes_groups(adata_proc, \n",
    "                            key='rank_genes', \n",
    "                            groups=['6','7','8'],\n",
    "                            save=\"_all_cells_3.png\"\n",
    "    )\n",
    "    sc.pl.rank_genes_groups(adata_proc,\n",
    "                            key='rank_genes',\n",
    "                            groups=['9','10','11'], \n",
    "                            save=\"_all_cells_4.png\"\n",
    "    )\n",
    "    sc.pl.rank_genes_groups(adata_proc,\n",
    "                            key='rank_genes',\n",
    "                            groups=['12'], \n",
    "                            save=\"_all_cells_5.png\"\n",
    "    )"
   ]
  },
  {
   "cell_type": "markdown",
   "metadata": {},
   "source": [
    "### Define Marker Sets"
   ]
  },
  {
   "cell_type": "markdown",
   "metadata": {},
   "source": [
    "Define marker sets for some of the expected cell types and add DE genes."
   ]
  },
  {
   "cell_type": "code",
   "execution_count": 33,
   "metadata": {},
   "outputs": [],
   "source": [
    "astrocyte_markers=['Slc1a2','Slc1a3','Aqp4', 'S100b','Gfap','Aldh1l1',\n",
    "                   'Gja1','Gjb6','Agt','Atp1b2'] # , 'Sox9'\n",
    "neuron_markers=['Rbfox3','Syp', 'Tubb3','Snap25','Syt1']\n",
    "microglia_markers=['Itgam','Tmem119','Cx3cr1','Csf1r','Aif1','P2ry12']\n",
    "oligodendrocyte_markers=['Olig1','Mog','Mag']\n",
    "endothelial_markers=['Cldn5', 'Pecam1','Slco1c1']\n",
    "mural_markers=['Mustn1','Pdgfrb','Des']\n",
    "ependymal_markers=['Ccdc153','Rarres2','Hdc','Tm4sf1'] \n",
    "tanycyes_markers=['Rax','Lhx2','Col23a1','Slc16a2','Crym','Adm']\n",
    "npc_markers=['Nes','Sox2','Notch1','Pax6','Prom1']\n",
    "vlmc_markers=['Lum','Col1a1','Col3a1']"
   ]
  },
  {
   "cell_type": "markdown",
   "metadata": {},
   "source": [
    "Only keep markers occurring in data set."
   ]
  },
  {
   "cell_type": "code",
   "execution_count": 34,
   "metadata": {},
   "outputs": [],
   "source": [
    "astrocyte_markers=np.array([x for x in astrocyte_markers if x in adata_proc.var_names])\n",
    "neuron_markers=np.array([x for x in neuron_markers if x in adata_proc.var_names])\n",
    "microglia_markers=np.array([x for x in microglia_markers if x in adata_proc.var_names])\n",
    "oligodendrocyte_markers=np.array([x for x in oligodendrocyte_markers if x in adata_proc.var_names])\n",
    "endothelial_markers=np.array([x for x in endothelial_markers if x in adata_proc.var_names])\n",
    "mural_markers=np.array([x for x in mural_markers if x in adata_proc.var_names])\n",
    "ependymal_markers=np.array([x for x in ependymal_markers if x in adata_proc.var_names])\n",
    "tanycyes_markers=np.array([x for x in tanycyes_markers if x in adata_proc.var_names])\n",
    "npc_markers=np.array([x for x in npc_markers if x in adata_proc.var_names])\n",
    "vlmc_markers=np.array([x for x in vlmc_markers if x in adata_proc.var_names])"
   ]
  },
  {
   "cell_type": "markdown",
   "metadata": {},
   "source": [
    "Plot the vioilin plot of the markers for cell types of interest"
   ]
  },
  {
   "cell_type": "markdown",
   "metadata": {},
   "source": [
    "### Astrocyte Markers"
   ]
  },
  {
   "cell_type": "code",
   "execution_count": 35,
   "metadata": {},
   "outputs": [],
   "source": [
    "if bool_plot == True:\n",
    "    cf.plot_violin_marker(adata_proc,\n",
    "                          astrocyte_markers.tolist(),\n",
    "                          save=\"_all_cells_astrocyte_markers\",\n",
    "                          use_raw=False\n",
    "    )"
   ]
  },
  {
   "cell_type": "markdown",
   "metadata": {},
   "source": [
    "### Neuron Markers"
   ]
  },
  {
   "cell_type": "code",
   "execution_count": 36,
   "metadata": {
    "scrolled": true
   },
   "outputs": [],
   "source": [
    "if bool_plot == True:\n",
    "    cf.plot_violin_marker(adata_proc, \n",
    "                          neuron_markers.tolist(),\n",
    "                          save=\"_all_cells_neuron_markers\"\n",
    "    )"
   ]
  },
  {
   "cell_type": "markdown",
   "metadata": {},
   "source": [
    "### Microglia Markers"
   ]
  },
  {
   "cell_type": "code",
   "execution_count": 37,
   "metadata": {
    "scrolled": true
   },
   "outputs": [],
   "source": [
    "if bool_plot == True:\n",
    "    cf.plot_violin_marker(adata_proc,\n",
    "                          microglia_markers.tolist(),\n",
    "                          save=\"_all_cells_microglia_markers\"\n",
    "    )"
   ]
  },
  {
   "cell_type": "markdown",
   "metadata": {},
   "source": [
    "### Oligodendrocytes Markers"
   ]
  },
  {
   "cell_type": "code",
   "execution_count": 38,
   "metadata": {},
   "outputs": [],
   "source": [
    "if bool_plot == True:\n",
    "    cf.plot_violin_marker(adata_proc, \n",
    "                          oligodendrocyte_markers.tolist(),\n",
    "                          save=\"_all_cells_oligodendrocyte_markers\"\n",
    "    )"
   ]
  },
  {
   "cell_type": "markdown",
   "metadata": {},
   "source": [
    "### Endothelial Markers"
   ]
  },
  {
   "cell_type": "code",
   "execution_count": 39,
   "metadata": {},
   "outputs": [],
   "source": [
    "if bool_plot == True:\n",
    "    cf.plot_violin_marker(adata_proc,\n",
    "                          endothelial_markers.tolist(),\n",
    "                          save=\"_all_cells_endothelial_markers\"\n",
    "    )"
   ]
  },
  {
   "cell_type": "markdown",
   "metadata": {},
   "source": [
    "### Mural Markers"
   ]
  },
  {
   "cell_type": "code",
   "execution_count": 40,
   "metadata": {},
   "outputs": [],
   "source": [
    "if bool_plot == True:\n",
    "    cf.plot_violin_marker(adata_proc,\n",
    "                          mural_markers.tolist(), \n",
    "                          save=\"_all_cells_mural_markers\"\n",
    "    )"
   ]
  },
  {
   "cell_type": "markdown",
   "metadata": {},
   "source": [
    "### Ependymal Markers"
   ]
  },
  {
   "cell_type": "code",
   "execution_count": 41,
   "metadata": {
    "scrolled": true
   },
   "outputs": [],
   "source": [
    "if bool_plot == True:\n",
    "    cf.plot_violin_marker(adata_proc,\n",
    "                          ependymal_markers.tolist(), \n",
    "                          save=\"_all_cells_ependymal_markers\"\n",
    "    )"
   ]
  },
  {
   "cell_type": "markdown",
   "metadata": {},
   "source": [
    "### Tanycyes Markers"
   ]
  },
  {
   "cell_type": "code",
   "execution_count": 42,
   "metadata": {},
   "outputs": [],
   "source": [
    "if bool_plot == True:\n",
    "    cf.plot_violin_marker(adata_proc, \n",
    "                          tanycyes_markers.tolist(),\n",
    "                          save=\"_all_cells_tanycyes_markers\")"
   ]
  },
  {
   "cell_type": "markdown",
   "metadata": {},
   "source": [
    "### Neural Progenitor Cells Markers"
   ]
  },
  {
   "cell_type": "code",
   "execution_count": 43,
   "metadata": {},
   "outputs": [],
   "source": [
    "if bool_plot == True:\n",
    "    cf.plot_violin_marker(adata_proc,\n",
    "                          npc_markers.tolist(),\n",
    "                          save=\"_all_cells_npc_markers\"\n",
    "    )"
   ]
  },
  {
   "cell_type": "markdown",
   "metadata": {},
   "source": [
    "### VLMC Markers"
   ]
  },
  {
   "cell_type": "code",
   "execution_count": 44,
   "metadata": {},
   "outputs": [],
   "source": [
    "if bool_plot == True:\n",
    "    cf.plot_violin_marker(adata_proc,\n",
    "                          vlmc_markers.tolist(),\n",
    "                          save=\"_all_cells_vlmc_markers\"\n",
    "    )"
   ]
  },
  {
   "cell_type": "markdown",
   "metadata": {},
   "source": [
    "## Summary heatmap, dotplot and stacked_violin for cluster assignments"
   ]
  },
  {
   "cell_type": "code",
   "execution_count": 45,
   "metadata": {},
   "outputs": [],
   "source": [
    "selected_astrocyte_markers=['Slc1a2','Slc1a3','Aqp4', 'S100b', 'Sox9','Gfap',\n",
    "                            'Aldh1l1','Gja1','Gjb6','Agt','Atp1b2']\n",
    "selected_neuron_markers=['Rbfox3','Syp','Tubb3','Snap25','Syt1']\n",
    "selected_microglia_markers=['Itgam','Tmem119','Cx3cr1','Csf1r','Aif1','P2ry12']\n",
    "selected_oligodendrocyte_markers=['Olig1','Mog','Mag']\n",
    "selected_endothelial_markers=['Cldn5','Pecam1','Slco1c1']\n",
    "selected_mural_markers=['Mustn1','Pdgfrb','Des']\n",
    "selected_ependymal_markers=['Ccdc153','Rarres2','Hdc','Tm4sf1'] \n",
    "selected_tanycyes_markers=['Rax','Lhx2','Col23a1','Slc16a2','Crym','Adm']\n",
    "selected_npc_markers=['Nes','Sox2','Notch1','Pax6','Prom1']\n",
    "selected_vlmc_markers=['Lum','Col1a1','Col3a1']"
   ]
  },
  {
   "cell_type": "code",
   "execution_count": 46,
   "metadata": {},
   "outputs": [],
   "source": [
    "selected_cell_markers=selected_astrocyte_markers + \\\n",
    "selected_neuron_markers + \\\n",
    "selected_microglia_markers + \\\n",
    "selected_oligodendrocyte_markers + \\\n",
    "selected_endothelial_markers + \\\n",
    "selected_mural_markers + \\\n",
    "selected_ependymal_markers + \\\n",
    "selected_tanycyes_markers + \\\n",
    "selected_npc_markers + \\\n",
    "selected_vlmc_markers"
   ]
  },
  {
   "cell_type": "code",
   "execution_count": 47,
   "metadata": {},
   "outputs": [],
   "source": [
    "marker_genes_dict = {'Astrocytes': ['Slc1a2', 'Slc1a3', 'Aqp4', 'S100b', 'Sox9','Gfap',\n",
    "                                    'Aldh1l1','Gja1','Gjb6','Agt','Atp1b2'],\n",
    "                     'Endothelial cells': ['Cldn5', 'Pecam1','Slco1c1'],\n",
    "                     'Ependymal cells': ['Ccdc153','Rarres2','Hdc','Tm4sf1'],\n",
    "                     'Microglia': ['Itgam','Tmem119','Cx3cr1','Csf1r','Aif1','P2ry12'],\n",
    "                     'Mural cells': ['Mustn1','Pdgfrb','Des'],\n",
    "                     'Neurons': ['Rbfox3','Syp', 'Tubb3','Snap25','Syt1'],\n",
    "                     'Oligodendrocytes': ['Olig1','Mog','Mag'],\n",
    "                     'Mural cells': ['Mustn1','Pdgfrb','Des'],\n",
    "                     'Tanycytes': ['Rax','Lhx2','Col23a1','Slc16a2','Crym','Adm'],\n",
    "                     'VLMCs': ['Lum','Col1a1','Col3a1']}\n",
    "\n",
    "neuron={'ARC_neuro': ['Pomc','Cartpt','Npy','Agrp','Cited1','Tbx3']}"
   ]
  },
  {
   "cell_type": "code",
   "execution_count": 48,
   "metadata": {},
   "outputs": [],
   "source": [
    "marker_genes_dict['Astrocytes'].sort()\n",
    "marker_genes_dict['Neurons'].sort()\n",
    "marker_genes_dict['Microglia'].sort()\n",
    "marker_genes_dict['Oligodendrocytes'].sort()\n",
    "marker_genes_dict['Mural cells'].sort()\n",
    "marker_genes_dict['Ependymal cells'].sort()\n",
    "marker_genes_dict['Tanycytes'].sort()\n",
    "marker_genes_dict['VLMCs'].sort()"
   ]
  },
  {
   "cell_type": "markdown",
   "metadata": {},
   "source": [
    "Plot the heatmap where clusters are ploted against the cell type and neuron marker genes"
   ]
  },
  {
   "cell_type": "code",
   "execution_count": 49,
   "metadata": {},
   "outputs": [],
   "source": [
    "if bool_plot==True:\n",
    "    sc.pl.heatmap(adata=adata_proc, \n",
    "                  var_names=marker_genes_dict, \n",
    "                  groupby=\"leiden\", \n",
    "                  use_raw=False, \n",
    "                  log=True, \n",
    "                  dendrogram=True, \n",
    "                  var_group_rotation=90, \n",
    "                  show_gene_labels=True, \n",
    "                  show=True, \n",
    "                  save=\"_all_cells_celltypes_markers.png\"\n",
    "    )"
   ]
  },
  {
   "cell_type": "code",
   "execution_count": 50,
   "metadata": {},
   "outputs": [],
   "source": [
    "if bool_plot==True:\n",
    "    sc.pl.heatmap(adata=adata_proc, \n",
    "                  var_names=neuron, \n",
    "                  groupby=\"leiden\", \n",
    "                  use_raw=False, \n",
    "                  log=True, \n",
    "                  dendrogram=True, \n",
    "                  var_group_rotation=90, \n",
    "                  show_gene_labels=True, \n",
    "                  show=True, \n",
    "                  save=\"_all_cells_ARCneuro_markers.png\"\n",
    "    )"
   ]
  },
  {
   "cell_type": "markdown",
   "metadata": {},
   "source": [
    "Plot the dotplot where clusters are ploted against the cell type and neuron marker genes"
   ]
  },
  {
   "cell_type": "code",
   "execution_count": 51,
   "metadata": {},
   "outputs": [],
   "source": [
    "#####################################################################################################################\n",
    "if bool_plot==True:\n",
    "    sc.pl.dotplot(adata=adata_proc,\n",
    "                  var_names=marker_genes_dict, \n",
    "                  groupby='leiden',\n",
    "                  use_raw=False, \n",
    "                  log=False, \n",
    "                  dendrogram=True, \n",
    "                  var_group_rotation=90, \n",
    "                  show=True, \n",
    "                  #size_title=5,\n",
    "                  save=\"all_cells_celltypes_markers.pdf\"\n",
    "    )"
   ]
  },
  {
   "cell_type": "code",
   "execution_count": 52,
   "metadata": {},
   "outputs": [],
   "source": [
    "if bool_plot==True:\n",
    "    sc.pl.dotplot(adata=adata_proc,\n",
    "                  var_names=neuron, \n",
    "                  groupby='leiden',\n",
    "                  use_raw=False, \n",
    "                  log=False, \n",
    "                  dendrogram=True, \n",
    "                  var_group_rotation=90, \n",
    "                  show=True, \n",
    "                  save=\"all_cells_ARCneuro_markers.png\"\n",
    "    )"
   ]
  },
  {
   "cell_type": "markdown",
   "metadata": {},
   "source": [
    "Plot the stacked violin where clusters are ploted against the cell type and neuron marker genes"
   ]
  },
  {
   "cell_type": "code",
   "execution_count": 53,
   "metadata": {},
   "outputs": [],
   "source": [
    "if bool_plot==True:\n",
    "    sc.pl.stacked_violin(adata_proc, \n",
    "                         marker_genes_dict, \n",
    "                         groupby='leiden', \n",
    "                         show=True,\n",
    "                         use_raw=False,\n",
    "                         dendrogram=True,\n",
    "                         cmap='viridis_r',\n",
    "                         save=\"all_cells_celltypes_markers.png\"\n",
    "    )"
   ]
  },
  {
   "cell_type": "markdown",
   "metadata": {},
   "source": [
    "Identify the cell types using differential expressed genes"
   ]
  },
  {
   "cell_type": "code",
   "execution_count": 54,
   "metadata": {},
   "outputs": [],
   "source": [
    "if bool_plot==True:\n",
    "    plt.figure(figsize=(7,7))\n",
    "    cell_annotation = sc.tl.marker_gene_overlap(adata_proc,\n",
    "                                                marker_genes_dict, \n",
    "                                                key='rank_genes', \n",
    "                                                normalize='data'\n",
    "    )\n",
    "    sb.heatmap(cell_annotation,\n",
    "               cbar=False,\n",
    "               annot=True\n",
    "    )\n",
    "    plt.savefig(sc_settings_figdir+'heatmap_all_cells_rank_genes_cell_annotation.png')"
   ]
  },
  {
   "cell_type": "markdown",
   "metadata": {},
   "source": [
    "## Gfap vs. Aldh1l1 - per diet"
   ]
  },
  {
   "cell_type": "markdown",
   "metadata": {},
   "source": [
    "Visualise Gfap versus Aldh1l1 populations per diet."
   ]
  },
  {
   "cell_type": "markdown",
   "metadata": {},
   "source": [
    "###  chow diet cells"
   ]
  },
  {
   "cell_type": "code",
   "execution_count": 55,
   "metadata": {},
   "outputs": [],
   "source": [
    "if bool_plot == True:\n",
    "    fig, (ax1, ax2) = plt.subplots(1, 2, figsize=(12,4), gridspec_kw={'wspace':0.8})\n",
    "    ax1_dict = ax1.scatter(adata_proc[adata_proc.obs['diet'] == 'chow', ][:, ['Gfap']].X, \n",
    "                           adata_proc[adata_proc.obs['diet'] == 'chow', ][:, ['Aldh1l1']].X, \n",
    "                           s=9, \n",
    "                           cmap='seismic',\n",
    "                           c='dodgerblue'\n",
    "    )\n",
    "    ax1.set_title('chow')\n",
    "    ax1.set_ylabel('Gfap')\n",
    "    ax1.set_xlabel('Aldh1l1')\n",
    "    ax2_dict = sc.pl.umap(adata_proc[adata_proc.obs['diet'] == 'chow', ],\n",
    "                          color=['leiden'],\n",
    "                          size=5, \n",
    "                          ax=ax2,\n",
    "                          show=False\n",
    "    )\n",
    "    plt.savefig(sc_settings_figdir+'umap_all_cells_chow_gfap-aldh_1')"
   ]
  },
  {
   "cell_type": "code",
   "execution_count": 56,
   "metadata": {},
   "outputs": [],
   "source": [
    "if bool_plot == True:\n",
    "    cf.plot_umap_marker(adata_proc[adata_proc.obs['diet'] == 'chow', ],\n",
    "                        ['Gfap', 'Aldh1l1'],\n",
    "                        color_map=mymap, \n",
    "                        size=20, \n",
    "                        save=\"_all_cells_chow_gfap-aldh.png\",\n",
    "                        use_raw=False\n",
    "    )"
   ]
  },
  {
   "cell_type": "markdown",
   "metadata": {},
   "source": [
    "### hfd_5 diet cells"
   ]
  },
  {
   "cell_type": "code",
   "execution_count": 57,
   "metadata": {},
   "outputs": [],
   "source": [
    "if bool_plot == True:\n",
    "    fig, (ax1, ax2) = plt.subplots(1, 2, figsize=(12,4), gridspec_kw={'wspace':0.8})\n",
    "    ax1_dict = ax1.scatter(adata_proc[adata_proc.obs['diet'] == 'hfd_5', ][:, ['Gfap']].X, \n",
    "                           adata_proc[adata_proc.obs['diet'] == 'hfd_5', ][:, ['Aldh1l1']].X, \n",
    "                           s=9,\n",
    "                           cmap='seismic', \n",
    "                           c='darkorange'\n",
    "    )\n",
    "    ax1.set_title('chow')\n",
    "    ax1.set_ylabel('Gfap')\n",
    "    ax1.set_xlabel('Aldh1l1')\n",
    "    ax2_dict = sc.pl.umap(adata_proc[adata_proc.obs['diet'] == 'hfd_5', ],\n",
    "                          color=['leiden'], \n",
    "                          size=5, \n",
    "                          ax=ax2,\n",
    "                          show=False\n",
    "    )\n",
    "    plt.savefig(sc_settings_figdir+'umap_all_cells_hfd5_gfap-aldh_1.png')"
   ]
  },
  {
   "cell_type": "code",
   "execution_count": 58,
   "metadata": {},
   "outputs": [],
   "source": [
    "if bool_plot == True:\n",
    "    cf.plot_umap_marker(adata_proc[adata_proc.obs['diet'] == 'hfd_5', ],\n",
    "                        ['Gfap', 'Aldh1l1'],\n",
    "                        color_map=mymap,\n",
    "                        size=20,\n",
    "                        save=\"_all_cells_hfd5_gfap-aldh.png\",\n",
    "                        use_raw=False\n",
    "    )"
   ]
  },
  {
   "cell_type": "markdown",
   "metadata": {},
   "source": [
    "### hfd15 diet cells"
   ]
  },
  {
   "cell_type": "code",
   "execution_count": 59,
   "metadata": {},
   "outputs": [],
   "source": [
    "if bool_plot == True:\n",
    "    fig, (ax1, ax2) = plt.subplots(1, 2, figsize=(12,4), gridspec_kw={'wspace':0.8})\n",
    "    ax1_dict = ax1.scatter(adata_proc[adata_proc.obs['diet'] == 'hfd_15', ][:, ['Gfap']].X, \n",
    "                           adata_proc[adata_proc.obs['diet'] == 'hfd_15', ][:, ['Aldh1l1']].X, \n",
    "                           s=9,\n",
    "                           cmap='seismic',\n",
    "                           c='green'\n",
    "    )\n",
    "    ax1.set_title('chow')\n",
    "    ax1.set_ylabel('Gfap')\n",
    "    ax1.set_xlabel('Aldh1l1')\n",
    "    ax2_dict = sc.pl.umap(adata_proc[adata_proc.obs['diet'] == 'hfd_15', ],\n",
    "                          color=['leiden'],\n",
    "                          size=5,\n",
    "                          ax=ax2,\n",
    "                          show=False\n",
    "    )\n",
    "    plt.savefig(sc_settings_figdir+'umap_all_cells_hfd15_gfap-aldh_1.png')"
   ]
  },
  {
   "cell_type": "code",
   "execution_count": 60,
   "metadata": {},
   "outputs": [],
   "source": [
    "if bool_plot == True:\n",
    "    cf.plot_umap_marker(adata_proc[adata_proc.obs['diet'] == 'hfd_15', ], \n",
    "                        ['Gfap', 'Aldh1l1'],\n",
    "                        color_map=mymap,\n",
    "                        size=20,\n",
    "                        save=\"_all_cells_hfd15_gfap-aldh.png\", \n",
    "                        use_raw=False\n",
    "    )"
   ]
  },
  {
   "cell_type": "markdown",
   "metadata": {},
   "source": [
    "## UMAP with assigned cell types"
   ]
  },
  {
   "cell_type": "markdown",
   "metadata": {},
   "source": [
    "Plot the UMAP projectioin with assigned cell type per culster"
   ]
  },
  {
   "cell_type": "code",
   "execution_count": 61,
   "metadata": {},
   "outputs": [],
   "source": [
    "new_cluster_names = {'0': \"Astrocytes\",\n",
    "                     '1': \"Tanycytes\",\n",
    "                     '2': \"Ependymal cells\",\n",
    "                     '3': \"Neurons\",\n",
    "                     '4': \"Endothelial cells\",\n",
    "                     '5': \"Oligodendrocytes\",\n",
    "                     '6': \"Microglia\",\n",
    "                     '7': \"Oligodendrocytes\",\n",
    "                     '8': \"Neurons\",\n",
    "                     '9': \"Microglia\",\n",
    "                     '10': \"Oligodendrocytes\",\n",
    "                     '11': \"Mural cells\",\n",
    "                     '12': \"VLMCs\",\n",
    "                     '13': \"Oligodendrocytes\"\n",
    "}\n",
    "adata_proc.obs['celltypes'] = [new_cluster_names[x] for x in  adata_proc.obs['leiden']]"
   ]
  },
  {
   "cell_type": "code",
   "execution_count": 62,
   "metadata": {},
   "outputs": [],
   "source": [
    "#####################################################################################################################\n",
    "if bool_plot == True:\n",
    "    cf.plot_umap_marker(adata_proc,\n",
    "                        ['celltypes'],\n",
    "                        save=\"_all_cells_celltypes.png\",\n",
    "                        use_raw=False, \n",
    "                        frameon=False,\n",
    "                        size=20,\n",
    "                        title=''\n",
    "    )"
   ]
  },
  {
   "cell_type": "code",
   "execution_count": 63,
   "metadata": {},
   "outputs": [],
   "source": [
    "if bool_plot == True:\n",
    "    cf.plot_umap_marker(adata_proc,\n",
    "                        ['celltypes'],\n",
    "                        save=\"_all_cells_celltypes_ondata.png\",\n",
    "                        use_raw=False, \n",
    "                        legend_loc='on data'\n",
    "    )"
   ]
  },
  {
   "cell_type": "code",
   "execution_count": 64,
   "metadata": {},
   "outputs": [],
   "source": [
    "if bool_plot == True:\n",
    "    sc.pl.paga(adata_proc,\n",
    "               save=\"_all_cells_celltypes.png\"\n",
    "    )"
   ]
  },
  {
   "cell_type": "markdown",
   "metadata": {},
   "source": [
    "Plot of the number of differentially expressed genes comparinig the chow and hfd diets per cell type"
   ]
  },
  {
   "cell_type": "code",
   "execution_count": 65,
   "metadata": {},
   "outputs": [],
   "source": [
    "######################################################################################################################\n",
    "if bool_plot == True:\n",
    "    adata_proc.obs['diet_leiden'] = adata_proc.obs['diet'].str.cat(adata_proc.obs['leiden'],\n",
    "                                                                   sep='_'\n",
    "    )\n",
    "    adata_proc.obs['diet_celltypes'] = adata_proc.obs['diet'].str.cat(adata_proc.obs['celltypes'],\n",
    "                                                                      sep='_'\n",
    "    )\n",
    "    sc.tl.rank_genes_groups(adata_proc,\n",
    "                            'diet_celltypes',\n",
    "                            groups=['hfd_5_Astrocytes'], \n",
    "                            reference='chow_Astrocytes', \n",
    "                            key_added=\"ct5_ast\",\n",
    "                            method='t-test'\n",
    "    ) #  wilcoxon\n",
    "    sc.tl.rank_genes_groups(adata_proc,\n",
    "                            'diet_celltypes', \n",
    "                            groups=['hfd_5_Endothelial cells'],\n",
    "                            reference='chow_Endothelial cells',\n",
    "                            key_added=\"ct5_end\",\n",
    "                            method='t-test'\n",
    "    )\n",
    "    sc.tl.rank_genes_groups(adata_proc,\n",
    "                            'diet_celltypes',\n",
    "                            groups=['hfd_5_Ependymal cells'],\n",
    "                            reference='chow_Ependymal cells',\n",
    "                            key_added=\"ct5_epe\",\n",
    "                            method='t-test'\n",
    "    )\n",
    "    sc.tl.rank_genes_groups(adata_proc, \n",
    "                            'diet_celltypes',\n",
    "                            groups=['hfd_5_Microglia'],\n",
    "                            reference='chow_Microglia',\n",
    "                            key_added=\"ct5_mic\",\n",
    "                            method='t-test'\n",
    "    )\n",
    "    sc.tl.rank_genes_groups(adata_proc,\n",
    "                            'diet_celltypes',\n",
    "                            groups=['hfd_5_Mural cells'],\n",
    "                            reference='chow_Mural cells', \n",
    "                            key_added=\"ct5_mur\", \n",
    "                            method='t-test'\n",
    "    )\n",
    "    sc.tl.rank_genes_groups(adata_proc,\n",
    "                            'diet_celltypes',\n",
    "                            groups=['hfd_5_Neurons'],\n",
    "                            reference='chow_Neurons',\n",
    "                            key_added=\"ct5_neu\",\n",
    "                            method='t-test'\n",
    "    )\n",
    "    sc.tl.rank_genes_groups(adata_proc, \n",
    "                            'diet_celltypes',\n",
    "                            groups=['hfd_5_Oligodendrocytes'],\n",
    "                            reference='chow_Oligodendrocytes',\n",
    "                            key_added=\"ct5_oli\",\n",
    "                            method='t-test'\n",
    "    )\n",
    "    sc.tl.rank_genes_groups(adata_proc,\n",
    "                            'diet_celltypes',\n",
    "                            groups=['hfd_5_Tanycytes'],\n",
    "                            reference='chow_Tanycytes',\n",
    "                            key_added=\"ct5_tan\",\n",
    "                            method='t-test'\n",
    "    )\n",
    "    sc.tl.rank_genes_groups(adata_proc,\n",
    "                            'diet_celltypes', \n",
    "                            groups=['hfd_5_VLMCs'],\n",
    "                            reference='chow_VLMCs',\n",
    "                            key_added=\"ct5_vlmc\", \n",
    "                            method='t-test'\n",
    "    )\n",
    "\n",
    "    sc.tl.rank_genes_groups(adata_proc,\n",
    "                            'diet_celltypes',\n",
    "                            groups=['hfd_15_Astrocytes'], \n",
    "                            reference='chow_Astrocytes',\n",
    "                            key_added=\"ct15_ast\", \n",
    "                            method='t-test'\n",
    "    )\n",
    "    sc.tl.rank_genes_groups(adata_proc,\n",
    "                            'diet_celltypes', \n",
    "                            groups=['hfd_15_Endothelial cells'],\n",
    "                            reference='chow_Endothelial cells',\n",
    "                            key_added=\"ct15_end\",\n",
    "                            method='t-test'\n",
    "    )\n",
    "    sc.tl.rank_genes_groups(adata_proc,\n",
    "                            'diet_celltypes',\n",
    "                            groups=['hfd_15_Ependymal cells'], \n",
    "                            reference='chow_Ependymal cells',\n",
    "                            key_added=\"ct15_epe\", \n",
    "                            method='t-test'\n",
    "    )\n",
    "    sc.tl.rank_genes_groups(adata_proc,\n",
    "                            'diet_celltypes',\n",
    "                            groups=['hfd_15_Microglia'],\n",
    "                            reference='chow_Microglia',\n",
    "                            key_added=\"ct15_mic\",\n",
    "                            method='t-test'\n",
    "    )\n",
    "    sc.tl.rank_genes_groups(adata_proc,\n",
    "                            'diet_celltypes',\n",
    "                            groups=['hfd_15_Mural cells'],\n",
    "                            reference='chow_Mural cells',\n",
    "                            key_added=\"ct15_mur\", \n",
    "                            method='t-test'\n",
    "    )\n",
    "    sc.tl.rank_genes_groups(adata_proc,\n",
    "                            'diet_celltypes',\n",
    "                            groups=['hfd_15_Neurons'],\n",
    "                            reference='chow_Neurons',\n",
    "                            key_added=\"ct15_neu\",\n",
    "                            method='t-test'\n",
    "    )\n",
    "    sc.tl.rank_genes_groups(adata_proc, \n",
    "                            'diet_celltypes',\n",
    "                            groups=['hfd_15_Oligodendrocytes'],\n",
    "                            reference='chow_Oligodendrocytes',\n",
    "                            key_added=\"ct15_oli\",\n",
    "                            method='t-test'\n",
    "    )\n",
    "    sc.tl.rank_genes_groups(adata_proc,\n",
    "                            'diet_celltypes',\n",
    "                            groups=['hfd_15_Tanycytes'], \n",
    "                            reference='chow_Tanycytes',\n",
    "                            key_added=\"ct15_tan\", \n",
    "                            method='t-test'\n",
    "    )\n",
    "    sc.tl.rank_genes_groups(adata_proc,\n",
    "                            'diet_celltypes',\n",
    "                            groups=['hfd_15_VLMCs'],\n",
    "                            reference='chow_VLMCs', \n",
    "                            key_added=\"ct15_vlmc\", \n",
    "                            method='t-test'\n",
    "    )\n",
    "\n",
    "    clus=['ct5_ast','ct5_end','ct5_epe','ct5_mic','ct5_mur','ct5_neu','ct5_oli','ct5_tan','ct5_vlmc']\n",
    "    ct0_5=[]\n",
    "    for i in clus:\n",
    "        result=adata_proc.uns[i]\n",
    "        groups=result['names'].dtype.names\n",
    "        df = pd.DataFrame(\n",
    "             {group + '_' + key[:1]: result[key][group]\n",
    "             for group in groups for key in ['pvals_adj']})\n",
    "        ct0_5.append(sum(df.iloc[:, 0] < 0.05))\n",
    "\n",
    "\n",
    "    clus=['ct15_ast','ct15_end','ct15_epe','ct15_mic','ct15_mur','ct15_neu','ct15_oli','ct15_tan','ct15_vlmc']\n",
    "    ct0_15=[]\n",
    "    for i in clus:\n",
    "        result=adata_proc.uns[i]\n",
    "        groups=result['names'].dtype.names\n",
    "        df = pd.DataFrame(\n",
    "             {group + '_' + key[:1]: result[key][group]\n",
    "             for group in groups for key in ['pvals_adj']})\n",
    "        ct0_15.append(sum(df.iloc[:, 0] < 0.05))\n",
    "        \n",
    "    plt.rcParams[\"figure.figsize\"]=(7,7)\n",
    "\n",
    "    d={'0_5':ct0_5, '0_15':ct0_15}\n",
    "    df=pd.DataFrame(d)\n",
    "\n",
    "    df['0_0']=[0,0,0,0,0,0,0,0,0]\n",
    "    df = df.reindex(['0_0','0_5','0_15'],\n",
    "                    axis=1\n",
    "    )\n",
    "    line_chart1 = plt.plot(['SD', '5d HFHS diet', '15d HFHS diet'],\n",
    "                           df.iloc[0],\n",
    "                           linewidth=3\n",
    "    )\n",
    "    line_chart1 = plt.plot(['SD', '5d HFHS diet', '15d HFHS diet'],\n",
    "                           df.iloc[1],\n",
    "                           linewidth=3\n",
    "    )\n",
    "    line_chart1 = plt.plot(['SD', '5d HFHS diet', '15d HFHS diet'],\n",
    "                           df.iloc[2],\n",
    "                           linewidth=3\n",
    "    )\n",
    "    line_chart1 = plt.plot(['SD', '5d HFHS diet', '15d HFHS diet'],\n",
    "                           df.iloc[3],\n",
    "                           linewidth=3\n",
    "    )\n",
    "    line_chart1 = plt.plot(['SD', '5d HFHS diet', '15d HFHS diet'],\n",
    "                           df.iloc[4], \n",
    "                           linewidth=3\n",
    "    )\n",
    "    line_chart1 = plt.plot(['SD', '5d HFHS diet', '15d HFHS diet'],\n",
    "                           df.iloc[5], \n",
    "                           linewidth=3\n",
    "    )\n",
    "    line_chart1 = plt.plot(['SD', '5d HFHS diet', '15d HFHS diet'],\n",
    "                           df.iloc[6],\n",
    "                           linewidth=3\n",
    "    )\n",
    "    line_chart1 = plt.plot(['SD', '5d HFHS diet', '15d HFHS diet'], \n",
    "                           df.iloc[7],\n",
    "                           linewidth=3\n",
    "    )\n",
    "    line_chart1 = plt.plot(['SD', '5d HFHS diet', '15d HFHS diet'], \n",
    "                           df.iloc[8], \n",
    "                           linewidth=3\n",
    "    )\n",
    "\n",
    "    plt.ylabel(\"Number of DEGs\")"
   ]
  },
  {
   "cell_type": "markdown",
   "metadata": {},
   "source": [
    "# Astorcytes "
   ]
  },
  {
   "cell_type": "markdown",
   "metadata": {},
   "source": [
    "<a id=\"Embedding\"></a>"
   ]
  },
  {
   "cell_type": "markdown",
   "metadata": {},
   "source": [
    "## Embedding and Clustering"
   ]
  },
  {
   "cell_type": "code",
   "execution_count": 66,
   "metadata": {},
   "outputs": [
    {
     "name": "stderr",
     "output_type": "stream",
     "text": [
      "running PAGA\n",
      "    finished: added\n",
      "    'paga/connectivities', connectivities adjacency (adata.uns)\n",
      "    'paga/connectivities_tree', connectivities subtree (adata.uns) (0:00:00)\n"
     ]
    }
   ],
   "source": [
    "if bool_recomp == True:  \n",
    "    cell_ids_astro = np.asarray(adata_proc.obs_names)[\n",
    "        [x in ['astrocytes'] \n",
    "         for x in np.asarray(adata_proc.obs['celltypes'].values)]\n",
    "    ]\n",
    "    adata_astro=adata_raw[cell_ids_astro,:].copy()  # adata_raw\n",
    "    #dat = pd.DataFrame(adata_proc.X, index=adata_proc.obs.index, columns=adata_proc.var.index)\n",
    "    adata_astro.obs['n_genes'] = (adata_astro.X > 0).sum(1)\n",
    "    adata_astro.obs['n_counts'] = adata_astro.X.sum(1)\n",
    "    mt_gene_mask=[gene.startswith('mt-') for gene in adata_astro.var_names]\n",
    "    temp_mt_sum = adata_astro[:,mt_gene_mask].X.sum(1)\n",
    "    temp_mt_sum = np.squeeze(np.asarray(temp_mt_sum))\n",
    "    temp_n_counts = adata_astro.obs['n_counts']\n",
    "    adata_astro.obs['mt_frac'] = temp_mt_sum/adata_astro.obs['n_counts']\n",
    "    adata_astro.raw = adata_astro\n",
    "    sc.pp.normalize_per_cell(adata_astro)\n",
    "    sc.pp.log1p(adata_astro)\n",
    "    sc.pp.highly_variable_genes(adata_astro, \n",
    "                                n_top_genes=4000\n",
    "    )\n",
    "    sc.pl.highly_variable_genes(adata_astro)\n",
    "    adata_astro.X = adata_astro.X.toarray()\n",
    "    \n",
    "    sc.pp.pca(adata_astro,\n",
    "              n_comps=50,\n",
    "              use_highly_variable=True,\n",
    "              random_state=0, \n",
    "              svd_solver='arpack'\n",
    "    )\n",
    "    sc.pp.neighbors(adata_astro,\n",
    "                    n_neighbors=100,\n",
    "                    knn=True,\n",
    "                    method='umap',\n",
    "                    n_pcs=50, \n",
    "                    random_state=0\n",
    "    )\n",
    "    sc.tl.umap(adata_astro)\n",
    "    if bool_recluster == True:\n",
    "        sc.tl.leiden(adata_astro,\n",
    "                     resolution=0.5\n",
    "        )\n",
    "        pd.DataFrame(adata_astro.obs).to_csv(path_or_buf=sc_settings_writedir+'obs_adata_astro.csv')\n",
    "    else:\n",
    "        obs = pd.read_csv(sc_settings_writedir+'obs_adata_astro.csv')\n",
    "        adata_astro.obs['leiden'] = pd.Series(obs['leiden'].values,\n",
    "                                              dtype='category'\n",
    "        )\n",
    "    sc.write(sc_settings_writedir+'adata_astro.h5ad', adata_astro)\n",
    "else:\n",
    "    adata_astro = sc.read(sc_settings_writedir+'adata_astro.h5ad') \n",
    "sc.tl.paga(adata_astro)"
   ]
  },
  {
   "cell_type": "code",
   "execution_count": 67,
   "metadata": {},
   "outputs": [],
   "source": [
    "if bool_plot == True:\n",
    "    cf.plot_umap_marker(adata_astro, \n",
    "                        ['leiden'],\n",
    "                        save=\"_astrocyte_leiden.png\", \n",
    "                        use_raw=False,\n",
    "                        size=30\n",
    "    )"
   ]
  },
  {
   "cell_type": "code",
   "execution_count": 68,
   "metadata": {},
   "outputs": [],
   "source": [
    "if bool_plot == True:\n",
    "    cf.plot_umap_marker(adata_astro,\n",
    "                        ['leiden'],\n",
    "                        save=\"_astrocyte_leiden_ondata.png\",\n",
    "                        use_raw=False, \n",
    "                        legend_loc='on data',\n",
    "                        size=30\n",
    "    )"
   ]
  },
  {
   "cell_type": "code",
   "execution_count": 69,
   "metadata": {},
   "outputs": [],
   "source": [
    "if bool_plot == True:\n",
    "    cf.plot_umap_marker(adata_astro,\n",
    "                        ['n_genes', 'n_counts', 'mt_frac'],\n",
    "                        color_map=mymap,\n",
    "                        size=30,\n",
    "                        save=\"_astrocyte_n_gene_count_mt.png\",\n",
    "                        use_raw=False\n",
    "    )"
   ]
  },
  {
   "cell_type": "markdown",
   "metadata": {},
   "source": [
    "Plot the expression of the Gfap and Aldh1l1 in astrocytes"
   ]
  },
  {
   "cell_type": "code",
   "execution_count": 70,
   "metadata": {},
   "outputs": [],
   "source": [
    "if bool_plot == True:\n",
    "    cf.plot_umap_marker(adata_astro, \n",
    "                        ['Gfap','Aldh1l1'],\n",
    "                        color_map=mymap, \n",
    "                        size=30, \n",
    "                        save=\"_astrocyte_markers.png\",\n",
    "                        use_raw=False\n",
    "    )"
   ]
  },
  {
   "cell_type": "code",
   "execution_count": 71,
   "metadata": {},
   "outputs": [],
   "source": [
    "if bool_plot == True:\n",
    "    cf.plot_umap_marker(adata_astro,\n",
    "                        ['diet'],\n",
    "                        save=\"_astrocytes_diet.png\",\n",
    "                        size=30, \n",
    "                        use_raw=False\n",
    "    )"
   ]
  },
  {
   "cell_type": "code",
   "execution_count": 72,
   "metadata": {},
   "outputs": [],
   "source": [
    "if bool_plot == True:\n",
    "    sc.pl.paga(adata_astro,\n",
    "               save=\"_astrocytes.png\"\n",
    "    )"
   ]
  },
  {
   "cell_type": "markdown",
   "metadata": {},
   "source": [
    "Visualize the marker and cluster populationis in astrocytes"
   ]
  },
  {
   "cell_type": "code",
   "execution_count": 73,
   "metadata": {},
   "outputs": [],
   "source": [
    "if bool_plot == True:\n",
    "    cf.cell_percent(adata_astro, \n",
    "                    cluster='leiden',\n",
    "                    condition='diet',\n",
    "                    xlabel='clusters', \n",
    "                    ylabel='percentage', \n",
    "                    title='barplot_astrocytes_diet_per_clusters',\n",
    "                    save=sc_settings_figdir,\n",
    "                    table=False\n",
    "    )"
   ]
  },
  {
   "cell_type": "code",
   "execution_count": 74,
   "metadata": {},
   "outputs": [],
   "source": [
    "if bool_plot == True:\n",
    "    aldh_pos = adata_astro.obs_names[np.asarray(adata_astro[:,'Aldh1l1'].X).flatten() > 0]\n",
    "    gfap_pos = adata_astro.obs_names[np.asarray(adata_astro[:,'Gfap'].X).flatten() > 0]\n",
    "    glast_pos = adata_astro.obs_names[np.asarray(adata_astro[:,'Slc1a3'].X).flatten() > 0]\n",
    "\n",
    "    matplotlib_venn.venn3([set(aldh_pos),\n",
    "                           set(gfap_pos),\n",
    "                           set(glast_pos)],\n",
    "                          set_labels = (\"Aldh1l1\", \"Gfap\", \"Slc1a3\")\n",
    "    )\n",
    "    plt.savefig(sc_settings_figdir+'venndiagram_astrocytes_gfap-aldh-glast.png')"
   ]
  },
  {
   "cell_type": "code",
   "execution_count": 75,
   "metadata": {},
   "outputs": [],
   "source": [
    "if bool_plot == True:\n",
    "    aldh_pos = adata_astro.obs_names[np.asarray(adata_astro[:,'Aldh1l1'].X).flatten() > 0]\n",
    "    gfap_pos = adata_astro.obs_names[np.asarray(adata_astro[:,'Gfap'].X).flatten() > 0]\n",
    "\n",
    "    matplotlib_venn.venn2([set(aldh_pos),\n",
    "                           set(gfap_pos)],\n",
    "                          set_labels=(\"Aldh1l1\", \"Gfap\"),\n",
    "                          set_colors=('lime', 'magenta')\n",
    "    )\n",
    "    plt.savefig(sc_settings_figdir+'venndiagram_astrocytes_gfap-aldh.png')"
   ]
  },
  {
   "cell_type": "markdown",
   "metadata": {},
   "source": [
    "## Define Cell Types"
   ]
  },
  {
   "cell_type": "markdown",
   "metadata": {},
   "source": [
    "### Differentialy Expressed Genes"
   ]
  },
  {
   "cell_type": "code",
   "execution_count": 76,
   "metadata": {
    "scrolled": false
   },
   "outputs": [],
   "source": [
    "if bool_plot == True:\n",
    "    sc.tl.rank_genes_groups(adata_astro,\n",
    "                            groupby='leiden',\n",
    "                            key_added='rank_genes'\n",
    "    )\n",
    "    sc.pl.rank_genes_groups(adata_astro,\n",
    "                            key='rank_genes',\n",
    "                            groups=['0','1','2'],\n",
    "                            save=\"_astorcytes_1.png\"\n",
    "    )"
   ]
  },
  {
   "cell_type": "markdown",
   "metadata": {},
   "source": [
    "### Summary heatmap, dotplot and stacked_violin for cluster assignments"
   ]
  },
  {
   "cell_type": "code",
   "execution_count": 77,
   "metadata": {},
   "outputs": [],
   "source": [
    "if bool_plot == True:\n",
    "    sc.pl.heatmap(adata=adata_astro, \n",
    "                  var_names=marker_genes_dict, \n",
    "                  groupby=\"leiden\", \n",
    "                  use_raw=False, \n",
    "                  log=False, \n",
    "                  dendrogram=True, \n",
    "                  var_group_rotation=90, \n",
    "                  show_gene_labels=True, \n",
    "                  show=True, \n",
    "                  save=\"_astrocytes_celltypes.png\"\n",
    "    )"
   ]
  },
  {
   "cell_type": "code",
   "execution_count": 78,
   "metadata": {},
   "outputs": [],
   "source": [
    "if bool_plot == True:\n",
    "    sc.pl.dotplot(adata=adata_astro,\n",
    "                  var_names=marker_genes_dict, \n",
    "                  groupby='leiden',\n",
    "                  use_raw=False, \n",
    "                  log=False, \n",
    "                  dendrogram=True, \n",
    "                  var_group_rotation=90, \n",
    "                  show=True, \n",
    "                  save=\"_astrocytes_celltypes.png\"\n",
    "    )"
   ]
  },
  {
   "cell_type": "code",
   "execution_count": 79,
   "metadata": {},
   "outputs": [],
   "source": [
    "if bool_plot == True:\n",
    "    sc.pl.stacked_violin(adata=adata_astro, \n",
    "                         var_names=marker_genes_dict, \n",
    "                         groupby='leiden', \n",
    "                         use_raw=False,\n",
    "                         dendrogram=True,\n",
    "                         cmap='viridis_r',\n",
    "                         show=True,\n",
    "                         save=\"_astrocytes_celltypes.png\"\n",
    "    )"
   ]
  },
  {
   "cell_type": "code",
   "execution_count": 80,
   "metadata": {},
   "outputs": [],
   "source": [
    "if bool_plot == True:\n",
    "    plt.figure(figsize=(7,7))\n",
    "    cell_annotation = sc.tl.marker_gene_overlap(adata_astro,\n",
    "                                                marker_genes_dict, \n",
    "                                                key='rank_genes', \n",
    "                                                normalize='data'\n",
    "    )\n",
    "    sb.heatmap(cell_annotation, \n",
    "               cbar=False,\n",
    "               annot=True\n",
    "    )\n",
    "    plt.savefig(sc_settings_figdir+'heatmap_astrocytes_rank_genes_cell_annotation.png')"
   ]
  },
  {
   "cell_type": "code",
   "execution_count": 81,
   "metadata": {},
   "outputs": [],
   "source": [
    "if bool_plot==True:\n",
    "    sc.tl.embedding_density(adata_astro,\n",
    "                            basis='umap',\n",
    "                            groupby='diet'\n",
    "    )\n",
    "    sc.pl.embedding_density(adata_astro,\n",
    "                            basis='umap',\n",
    "                            key='umap_density_diet',\n",
    "                            group=['chow', 'hfd_5', 'hfd_15'], \n",
    "                            bg_dotsize=5, \n",
    "                            fg_dotsize=30,\n",
    "                            save=\"astrocytes.png\"\n",
    "    )"
   ]
  },
  {
   "cell_type": "markdown",
   "metadata": {},
   "source": [
    "### Count distribution for Aldh1l1 and Gfap"
   ]
  },
  {
   "cell_type": "markdown",
   "metadata": {},
   "source": [
    "#### Single and double positive counts¶"
   ]
  },
  {
   "cell_type": "markdown",
   "metadata": {},
   "source": [
    "Define booleans for single and double positive counts of Gfap and Aldh1l1"
   ]
  },
  {
   "cell_type": "code",
   "execution_count": 82,
   "metadata": {},
   "outputs": [],
   "source": [
    "non_boolean_int = np.array((adata_astro[:,'Gfap'].X <= 0) & \n",
    "                           (adata_astro[:,'Aldh1l1'].X <= 0), \n",
    "                           dtype=int\n",
    ")\n",
    "\n",
    "gfap_single_boolean = (adata_astro[:,'Gfap'].X > 0) & (adata_astro[:,'Aldh1l1'].X <= 0)\n",
    "aldh_single_boolean = (adata_astro[:,'Aldh1l1'].X > 0) & (adata_astro[:,'Gfap'].X <= 0) \n",
    "single_boolean_int = np.array((gfap_single_boolean | aldh_single_boolean), \n",
    "                            dtype=int)*1\n",
    "\n",
    "gfap_aldh_double_boolean = (adata_astro[:,'Gfap'].X > 0) & (adata_astro[:,'Aldh1l1'].X > 0)\n",
    "double_boolean_int = np.array((gfap_aldh_double_boolean),\n",
    "                              dtype=int)*2\n",
    "\n",
    "non_boolean_int *=0"
   ]
  },
  {
   "cell_type": "code",
   "execution_count": 83,
   "metadata": {},
   "outputs": [
    {
     "name": "stdout",
     "output_type": "stream",
     "text": [
      "Gfap Single Positive  683\n",
      "Aldh1l1 Single Positive  851\n",
      "Gfap/Aldh1l1 Double Positive  624\n"
     ]
    }
   ],
   "source": [
    "gfap_single_pos = adata_astro[:,'Gfap'].X[gfap_single_boolean]\n",
    "aldh_single_pos = adata_astro[:,'Aldh1l1'].X[aldh_single_boolean]\n",
    "\n",
    "print('Gfap Single Positive ', len(gfap_single_pos))\n",
    "print('Aldh1l1 Single Positive ', len(aldh_single_pos))\n",
    "\n",
    "gfap_aldh_double_pos = adata_astro[:,'Gfap'].X[gfap_aldh_double_boolean]\n",
    "\n",
    "print('Gfap/Aldh1l1 Double Positive', len(gfap_aldh_double_pos))\n"
   ]
  },
  {
   "cell_type": "markdown",
   "metadata": {},
   "source": [
    "<a id=\"adipmarkers\"></a>"
   ]
  },
  {
   "cell_type": "code",
   "execution_count": 84,
   "metadata": {},
   "outputs": [],
   "source": [
    "adata_astro.obs['sdt_pos'] = np.array((non_boolean_int + single_boolean_int + double_boolean_int),\n",
    "                                      dtype=str\n",
    ")\n",
    "adata_astro.obs['s_pos'] = np.array((np.array(gfap_single_boolean,\n",
    "                                              dtype=int)*1)+(np.array(aldh_single_boolean,\n",
    "                                                                                           dtype=int)*2),\n",
    "                                    dtype=str\n",
    ")\n",
    "adata_astro.obs['d_pos'] = np.array((np.array(gfap_aldh_double_boolean, dtype=int)*1),\n",
    "                                    dtype=str\n",
    ")\n",
    "\n",
    "# make them categorical\n",
    "adata_astro.obs['sdt_pos'] = pd.Series(adata_astro.obs['sdt_pos'],\n",
    "                                       dtype=\"category\"\n",
    ")\n",
    "adata_astro.obs['s_pos'] = pd.Series(adata_astro.obs['s_pos'], \n",
    "                                     dtype=\"category\"\n",
    ")\n",
    "adata_astro.obs['d_pos'] = pd.Series(adata_astro.obs['d_pos'],\n",
    "                                     dtype=\"category\"\n",
    ")"
   ]
  },
  {
   "cell_type": "code",
   "execution_count": 85,
   "metadata": {},
   "outputs": [],
   "source": [
    "if bool_plot == True:\n",
    "    new_cluster_names = ['Non Positives', 'Single Positives', 'Double Positives']\n",
    "    adata_astro.rename_categories('sdt_pos', \n",
    "                                  new_cluster_names\n",
    "    )\n",
    "    sc.pl.umap(adata_astro,\n",
    "               color=['sdt_pos'],\n",
    "               size=30, \n",
    "               palette=[\"lightgrey\", \"tomato\", \"blue\"], \n",
    "               save=\"_astrocytes_gfap-aldh_single_double_positiv.png\"\n",
    "    )\n",
    "    new_cluster_names=['Non Single Positives', 'Gfap Single Positives', 'Aldh1l1 Single Positives']\n",
    "    adata_astro.rename_categories('s_pos',\n",
    "                                  new_cluster_names\n",
    "    )\n",
    "    sc.pl.umap(adata_astro[adata_astro.obs['s_pos'] != 'Non Single Positives'],\n",
    "               color=['s_pos'],\n",
    "               size=30, \n",
    "               palette=[\"magenta\", \"lime\"],\n",
    "               save=\"_astrocytes_gfap-aldh_single_positiv.png\"\n",
    "    )\n",
    "    new_cluster_names=['Non Double Positives', 'Gfap/Aldh1l1 Double Positive']\n",
    "    adata_astro.rename_categories('d_pos', new_cluster_names)\n",
    "    sc.pl.umap(adata_astro[adata_astro.obs['d_pos'] != 'Non Double Positives'],\n",
    "               color=['d_pos'],\n",
    "               size=30,\n",
    "               save=\"_astrocytes_gfap-aldh_doble_positiv.png\"\n",
    "    )"
   ]
  },
  {
   "cell_type": "markdown",
   "metadata": {},
   "source": [
    "Visualize Gfap and Aldh1l1 populations of astrocytes"
   ]
  },
  {
   "cell_type": "markdown",
   "metadata": {},
   "source": [
    "### Astrocyte chow diet"
   ]
  },
  {
   "cell_type": "code",
   "execution_count": 86,
   "metadata": {},
   "outputs": [],
   "source": [
    "if bool_plot == True:\n",
    "    fig, (ax1, ax2) = plt.subplots(1, 2, figsize=(12,4), gridspec_kw={'wspace':0.8})\n",
    "    ax1_dict = ax1.scatter(adata_astro[adata_astro.obs['diet'] == 'chow', ][:, ['Gfap']].X, \n",
    "                           adata_astro[adata_astro.obs['diet'] == 'chow', ][:, ['Aldh1l1']].X, \n",
    "                           s=9,\n",
    "                           cmap='seismic',\n",
    "                           c='dodgerblue'\n",
    "    )\n",
    "    ax1.set_title('chow')\n",
    "    ax1.set_ylabel('Gfap')\n",
    "    ax1.set_xlabel('Aldh1l1')\n",
    "    ax2_dict = sc.pl.umap(adata_astro[adata_astro.obs['diet'] == 'chow', ],\n",
    "                          color=['leiden'],\n",
    "                          size=30,\n",
    "                          ax=ax2, \n",
    "                          show=False\n",
    "    )\n",
    "    plt.savefig(sc_settings_figdir+'gfap-aldh_astrocytes_chow.png')"
   ]
  },
  {
   "cell_type": "code",
   "execution_count": 87,
   "metadata": {},
   "outputs": [],
   "source": [
    "if bool_plot == True:\n",
    "    cf.plot_umap_marker(adata_astro[adata_astro.obs['diet'] == 'chow', ],\n",
    "                        ['Gfap', 'Aldh1l1'],\n",
    "                        save=\"_astrocyte_chow_gfap-aldh.png\", \n",
    "                        size=30, \n",
    "                        color_map=mymap, \n",
    "                        use_raw=False\n",
    "    )"
   ]
  },
  {
   "cell_type": "code",
   "execution_count": 88,
   "metadata": {},
   "outputs": [],
   "source": [
    "if bool_plot == True:\n",
    "    aldh_pos = adata_astro[adata_astro.obs['diet'] == 'chow', ].obs_names[np.asarray(adata_astro[adata_astro.obs['diet'] == 'chow', ][:,'Aldh1l1'].X).flatten() > 0]\n",
    "    gfap_pos = adata_astro[adata_astro.obs['diet'] =='chow', ].obs_names[np.asarray(adata_astro[adata_astro.obs['diet'] == 'chow', ][:,'Gfap'].X).flatten() > 0]\n",
    "\n",
    "    matplotlib_venn.venn2([set(aldh_pos),\n",
    "                           set(gfap_pos)],\n",
    "                          set_labels=(\"Aldh1l1\", \"Gfap\"),\n",
    "                          set_colors=('lime', 'magenta'))\n",
    "    plt.savefig(sc_settings_figdir+'venn_diagram_astrocytes_chow_gfap-aldh.png')"
   ]
  },
  {
   "cell_type": "markdown",
   "metadata": {},
   "source": [
    "### Astrocyte hfd_5 diet"
   ]
  },
  {
   "cell_type": "code",
   "execution_count": 89,
   "metadata": {},
   "outputs": [],
   "source": [
    "if bool_plot == True:\n",
    "    fig, (ax1, ax2) = plt.subplots(1, 2, figsize=(12,4), gridspec_kw={'wspace':0.8})\n",
    "    ax1_dict = ax1.scatter(adata_astro[adata_astro.obs['diet'] == 'hfd_5', ][:, ['Gfap']].X, \n",
    "                           adata_astro[adata_astro.obs['diet'] == 'hfd_5', ][:, ['Aldh1l1']].X, \n",
    "                           s=9, \n",
    "                           cmap='seismic',\n",
    "                           c='darkorange'\n",
    "    )\n",
    "    ax1.set_title('hfd_5')\n",
    "    ax1.set_ylabel('Gfap')\n",
    "    ax1.set_xlabel('Aldh1l1')\n",
    "    ax2_dict = sc.pl.umap(adata_astro[adata_astro.obs['diet'] == 'hfd_5', ],\n",
    "                          color=['leiden'], \n",
    "                          size=30,\n",
    "                          ax=ax2,\n",
    "                          show=False\n",
    "    )\n",
    "    plt.savefig(sc_settings_figdir+'gfap-aldh_astrocytes_hfd5.png')"
   ]
  },
  {
   "cell_type": "code",
   "execution_count": 90,
   "metadata": {},
   "outputs": [],
   "source": [
    "if bool_plot == True:\n",
    "    cf.plot_umap_marker(adata_astro[adata_astro.obs['diet'] == 'hfd_5', ],\n",
    "                        ['Gfap', 'Aldh1l1'],\n",
    "                        save=\"_astrocyte_hfd5_gfap-aldh.png\", \n",
    "                        size=30, \n",
    "                        color_map=mymap,\n",
    "                        use_raw=False\n",
    "    )"
   ]
  },
  {
   "cell_type": "code",
   "execution_count": 91,
   "metadata": {},
   "outputs": [],
   "source": [
    "if bool_plot == True:\n",
    "    aldh_pos = adata_astro[adata_astro.obs['diet'] == 'hfd_5', ].obs_names[np.asarray(adata_astro[adata_astro.obs['diet'] == 'hfd_5', ][:,'Aldh1l1'].X).flatten() > 0]\n",
    "    gfap_pos = adata_astro[adata_astro.obs['diet'] == 'hfd_5', ].obs_names[np.asarray(adata_astro[adata_astro.obs['diet'] == 'hfd_5', ][:,'Gfap'].X).flatten() > 0]\n",
    "\n",
    "    matplotlib_venn.venn2([set(aldh_pos),\n",
    "                           set(gfap_pos)],\n",
    "                          set_labels=(\"Aldh1l1\", \"Gfap\"),\n",
    "                          set_colors=('lime', 'magenta')\n",
    "    )\n",
    "    plt.savefig(sc_settings_figdir+'venn_diagram_astrocytes_hfd5_gfap-aldh.png')"
   ]
  },
  {
   "cell_type": "markdown",
   "metadata": {},
   "source": [
    "### Astrocyte hfd_15 diet"
   ]
  },
  {
   "cell_type": "code",
   "execution_count": 92,
   "metadata": {},
   "outputs": [],
   "source": [
    "if bool_plot == True:\n",
    "    fig, (ax1, ax2) = plt.subplots(1, 2, figsize=(12,4), gridspec_kw={'wspace':0.8})\n",
    "    ax1_dict = ax1.scatter(adata_astro[adata_astro.obs['diet'] == 'hfd_15', ][:, ['Gfap']].X, \n",
    "                           adata_astro[adata_astro.obs['diet'] == 'hfd_15', ][:, ['Aldh1l1']].X, \n",
    "                           s=9, \n",
    "                           cmap='seismic',\n",
    "                           c='green'\n",
    "    )\n",
    "    ax1.set_title('hfd_15')\n",
    "    ax1.set_ylabel('Gfap')\n",
    "    ax1.set_xlabel('Aldh1l1')\n",
    "    ax2_dict = sc.pl.umap(adata_astro[adata_astro.obs['diet'] == 'hfd_15', ],\n",
    "                          color=['leiden'],\n",
    "                          size=30,\n",
    "                          ax=ax2, \n",
    "                          show=False\n",
    "    )\n",
    "    plt.savefig(sc_settings_figdir+'gfap-aldh_astrocytes_hfd15.png')"
   ]
  },
  {
   "cell_type": "code",
   "execution_count": 93,
   "metadata": {},
   "outputs": [],
   "source": [
    "if bool_plot == True:\n",
    "    cf.plot_umap_marker(adata_astro[adata_astro.obs['diet'] == 'hfd_15', ], \n",
    "                        ['Gfap', 'Aldh1l1'],\n",
    "                        save=\"_astrocyte_hfd15_gfap-aldh.png\", \n",
    "                        size=30,\n",
    "                        color_map=mymap,\n",
    "                        use_raw=False\n",
    "    )"
   ]
  },
  {
   "cell_type": "code",
   "execution_count": 94,
   "metadata": {},
   "outputs": [],
   "source": [
    "if bool_plot == True:\n",
    "    aldh_pos = adata_astro[adata_astro.obs['diet'] == 'hfd_15', ].obs_names[np.asarray(adata_astro[adata_astro.obs['diet'] == 'hfd_15', ][:,'Aldh1l1'].X).flatten()>0]\n",
    "    gfap_pos = adata_astro[adata_astro.obs['diet'] == 'hfd_15', ].obs_names[np.asarray(adata_astro[adata_astro.obs['diet'] == 'hfd_15', ][:,'Gfap'].X).flatten()>0]\n",
    "\n",
    "    matplotlib_venn.venn2([set(aldh_pos),\n",
    "                           set(gfap_pos)],\n",
    "                          set_labels=(\"Aldh1l1\", \"Gfap\"),\n",
    "                          set_colors=('lime', 'magenta')) \n",
    "    plt.savefig(sc_settings_figdir+'venn_diagram_astrocytes_hfd15_gfap-aldh.png')"
   ]
  },
  {
   "cell_type": "markdown",
   "metadata": {},
   "source": [
    "## Gfap, Aldh1l1 and double positive populations"
   ]
  },
  {
   "cell_type": "markdown",
   "metadata": {},
   "source": [
    "Define populatioin of cells: gfap only, aldh1l1 only, dobulbe positive and none"
   ]
  },
  {
   "cell_type": "code",
   "execution_count": 95,
   "metadata": {},
   "outputs": [],
   "source": [
    "adata_astro.obs['gfap_aldh'] = np.select([((adata_astro[:,'Gfap'].X > 0) & (adata_astro[:,'Aldh1l1'].X == 0)), \n",
    "                                          ((adata_astro[:,'Gfap'].X == 0) & (adata_astro[:,'Aldh1l1'].X > 0)),\n",
    "                                          ((adata_astro[:,'Gfap'].X > 0) & (adata_astro[:,'Aldh1l1'].X > 0)), \n",
    "                                          ((adata_astro[:,'Gfap'].X == 0) & (adata_astro[:,'Aldh1l1'].X == 0))],\n",
    "                                          ['gfap_only', 'aldh_only', 'both', 'none'])"
   ]
  },
  {
   "cell_type": "markdown",
   "metadata": {},
   "source": [
    "UMAP projection with the pie chart of populations over the diets"
   ]
  },
  {
   "cell_type": "markdown",
   "metadata": {},
   "source": [
    "### Chow"
   ]
  },
  {
   "cell_type": "code",
   "execution_count": 96,
   "metadata": {},
   "outputs": [],
   "source": [
    "if bool_plot==True:\n",
    "    data = adata_astro[adata_astro.obs['diet'] == 'chow', ].obs['gfap_aldh'].value_counts().sort_index()\n",
    "\n",
    "    fig, (ax0, ax1) = plt.subplots(ncols=2, figsize=(16, 6), subplot_kw=dict(aspect=\"equal\"))\n",
    "    ax0 = sc.pl.umap(adata_astro[adata_astro.obs['diet'] == 'chow', ], \n",
    "                     color=['gfap_aldh'],\n",
    "                     size=30,\n",
    "                     ax=ax0,\n",
    "                     show=False,\n",
    "                     palette=['green', 'blue', 'magenta', 'gainsboro']\n",
    "    )\n",
    "    wedges, texts, autotexts = ax1.pie(data,\n",
    "                                       autopct=lambda pct: func(pct, data),\n",
    "                                       textprops=dict(color=\"w\"), \n",
    "                                       colors=['green', 'blue', 'magenta', 'gainsboro']\n",
    "    )\n",
    "    ax1.set_title('Chow diet cells - markers share')\n",
    "\n",
    "    fig.savefig(sc_settings_figdir+'umap_pie_chart_astrocyte_chow_gfap-aldh.png')"
   ]
  },
  {
   "cell_type": "markdown",
   "metadata": {},
   "source": [
    "### HFD_5"
   ]
  },
  {
   "cell_type": "code",
   "execution_count": 97,
   "metadata": {},
   "outputs": [],
   "source": [
    "if bool_plot==True:\n",
    "    data = adata_astro[adata_astro.obs['diet'] == 'hfd_5', ].obs['gfap_aldh'].value_counts().sort_index()\n",
    "    \n",
    "    fig, (ax0, ax1) = plt.subplots(ncols=2, figsize=(16, 6), subplot_kw=dict(aspect=\"equal\"))\n",
    "    ax0 = sc.pl.umap(adata_astro[adata_astro.obs['diet']=='hfd_5', ], \n",
    "                     color=['gfap_aldh'],\n",
    "                     size=30,\n",
    "                     ax=ax0,\n",
    "                     show=False,\n",
    "                     palette=['green', 'blue', 'magenta', 'gainsboro']\n",
    "    )\n",
    "    wedges, texts, autotexts = ax1.pie(data,\n",
    "                                       autopct=lambda pct: func(pct, data),\n",
    "                                       textprops=dict(color=\"w\"),\n",
    "                                       colors=['green', 'blue', 'magenta', 'gainsboro']\n",
    "    )\n",
    "    ax1.set_title('Chow diet cells - markers share')\n",
    "\n",
    "    fig.savefig(sc_settings_figdir+'umap_pie_chart_astrocyte_hfd5_gfap-aldh.png')"
   ]
  },
  {
   "cell_type": "markdown",
   "metadata": {},
   "source": [
    "### HFD_15"
   ]
  },
  {
   "cell_type": "code",
   "execution_count": 98,
   "metadata": {},
   "outputs": [],
   "source": [
    "if bool_plot==True:   \n",
    "    data = adata_astro[adata_astro.obs['diet'] == 'hfd_15', ].obs['gfap_aldh'].value_counts().sort_index()\n",
    "\n",
    "    fig, (ax0, ax1) = plt.subplots(ncols=2, figsize=(16, 6), subplot_kw=dict(aspect=\"equal\"))\n",
    "    ax0 = sc.pl.umap(adata_astro[adata_astro.obs['diet'] == 'hfd_15', ], \n",
    "                     color=['gfap_aldh'], \n",
    "                     size=30, \n",
    "                     ax=ax0,\n",
    "                     show=False,\n",
    "                     palette=['green', 'blue', 'magenta', 'gainsboro']\n",
    "    )\n",
    "    wedges, texts, autotexts = ax1.pie(data,\n",
    "                                       autopct=lambda pct: func(pct, data), \n",
    "                                       textprops=dict(color=\"w\"),\n",
    "                                       colors=['green', 'blue', 'magenta', 'gainsboro']\n",
    "    )\n",
    "    ax1.set_title('Chow diet cells - markers share')\n",
    "\n",
    "    fig.savefig(sc_settings_figdir+'umap_pie_chart_astrocyte_hfd15_gfap-aldh.png')"
   ]
  },
  {
   "cell_type": "code",
   "execution_count": 99,
   "metadata": {},
   "outputs": [],
   "source": [
    "if bool_plot == True:\n",
    "    cf.cell_percent(adata_astro, \n",
    "                    cluster='diet',\n",
    "                    condition='gfap_aldh',\n",
    "                    xlabel='clusters',\n",
    "                    ylabel='percentage', \n",
    "                    title='barplot_per_diet_astrocytes_gfap-aldh',\n",
    "                    save=sc_settings_figdir, \n",
    "                    table=False\n",
    "    )"
   ]
  },
  {
   "cell_type": "markdown",
   "metadata": {},
   "source": [
    "# RNA Velocitiy"
   ]
  },
  {
   "cell_type": "markdown",
   "metadata": {},
   "source": [
    "## All cells\n"
   ]
  },
  {
   "cell_type": "markdown",
   "metadata": {},
   "source": [
    "RNA velocity of all the cells ploted in the UMAP plots with indication of the cell types"
   ]
  },
  {
   "cell_type": "code",
   "execution_count": 100,
   "metadata": {},
   "outputs": [],
   "source": [
    "if bool_plot == True:\n",
    "    adata_loom0 = scv.read(dir_scv+'MUC26030/possorted_genome_bam_Z0I20.loom',\n",
    "                           cache=True\n",
    "    )\n",
    "    adata_loom5 = scv.read(dir_scv+'MUC26031/possorted_genome_bam_VXMFJ.loom',\n",
    "                           cache=True\n",
    "    )\n",
    "    adata_loom15 = scv.read(dir_scv+'MUC26032/possorted_genome_bam_2UK19.loom', \n",
    "                            cache=True\n",
    "    )"
   ]
  },
  {
   "cell_type": "markdown",
   "metadata": {},
   "source": [
    "### chow"
   ]
  },
  {
   "cell_type": "code",
   "execution_count": 101,
   "metadata": {},
   "outputs": [],
   "source": [
    "if bool_plot == True:    \n",
    "    astro_chow = adata_proc[adata_proc.obs['diet'] == 'chow', ]\n",
    "\n",
    "    astro_chow_v = scv.utils.merge(astro_chow,\n",
    "                                   adata_loom0\n",
    "    )\n",
    "    scv.pl.proportions(astro_chow_v)\n",
    "    scv.pp.filter_and_normalize(astro_chow_v,\n",
    "                                min_shared_counts=20, \n",
    "                                n_top_genes=2000\n",
    "    )\n",
    "    scv.pp.moments(astro_chow_v,\n",
    "                   n_pcs=30,\n",
    "                   n_neighbors=30\n",
    "    )\n",
    "    scv.tl.velocity(astro_chow_v)\n",
    "    scv.tl.velocity_graph(astro_chow_v)\n",
    "    scv.pl.velocity_embedding_stream(astro_chow_v,\n",
    "                                     basis='umap',\n",
    "                                     color='leiden',\n",
    "                                     use_raw=True\n",
    "    )"
   ]
  },
  {
   "cell_type": "markdown",
   "metadata": {},
   "source": [
    "### hfd_5"
   ]
  },
  {
   "cell_type": "code",
   "execution_count": 102,
   "metadata": {},
   "outputs": [],
   "source": [
    "if bool_plot == True:\n",
    "    astro_hfd5 = adata_proc[adata_proc.obs['diet'] == 'hfd_5', ]\n",
    "\n",
    "    astro_hfd5_v = scv.utils.merge(astro_hfd5, \n",
    "                                   adata_loom5\n",
    "    )\n",
    "    scv.pl.proportions(astro_hfd5_v)\n",
    "    scv.pp.filter_and_normalize(astro_hfd5_v,\n",
    "                                min_shared_counts=20,\n",
    "                                n_top_genes=2000\n",
    "    )\n",
    "    scv.pp.moments(astro_hfd5_v,\n",
    "                   n_pcs=30,\n",
    "                   n_neighbors=30\n",
    "    )\n",
    "    scv.tl.velocity(astro_hfd5_v)\n",
    "    scv.tl.velocity_graph(astro_hfd5_v)\n",
    "    scv.pl.velocity_embedding_stream(astro_hfd5_v,\n",
    "                                     basis='umap',\n",
    "                                     color='leiden',\n",
    "                                     use_raw=True\n",
    "    )"
   ]
  },
  {
   "cell_type": "markdown",
   "metadata": {},
   "source": [
    "### hfd_15"
   ]
  },
  {
   "cell_type": "code",
   "execution_count": 103,
   "metadata": {},
   "outputs": [],
   "source": [
    "if bool_plot == True:\n",
    "    astro_hfd15 = adata_proc[adata_proc.obs['diet'] == 'hfd_15', ]\n",
    "\n",
    "    astro_hfd15_v = scv.utils.merge(astro_hfd15,\n",
    "                                    adata_loom15\n",
    "    )\n",
    "    scv.pl.proportions(astro_hfd15_v)\n",
    "    scv.pp.filter_and_normalize(astro_hfd15_v,\n",
    "                                min_shared_counts=20, \n",
    "                                n_top_genes=2000\n",
    "    )\n",
    "    scv.pp.moments(astro_hfd15_v, \n",
    "                   n_pcs=30,\n",
    "                   n_neighbors=30\n",
    "    )\n",
    "    scv.tl.velocity(astro_hfd15_v)\n",
    "    scv.tl.velocity_graph(astro_hfd15_v)\n",
    "    scv.pl.velocity_embedding_stream(astro_hfd15_v,\n",
    "                                     basis='umap', \n",
    "                                     color='leiden',\n",
    "                                     use_raw=True\n",
    "    )"
   ]
  },
  {
   "cell_type": "markdown",
   "metadata": {},
   "source": [
    "## Astrocytes "
   ]
  },
  {
   "cell_type": "markdown",
   "metadata": {},
   "source": [
    "Perform RNA velocity for astrocytes per diet "
   ]
  },
  {
   "cell_type": "markdown",
   "metadata": {},
   "source": [
    "### chow"
   ]
  },
  {
   "cell_type": "code",
   "execution_count": 104,
   "metadata": {},
   "outputs": [],
   "source": [
    "if bool_plot == True:\n",
    "    astro_chow = adata_astro[adata_astro.obs['diet'] == 'chow', ]\n",
    "\n",
    "    astro_chow_v = scv.utils.merge(astro_chow,\n",
    "                                   adata_loom0\n",
    "    )\n",
    "    scv.pl.proportions(astro_chow_v)\n",
    "    scv.pp.filter_and_normalize(astro_chow_v,\n",
    "                                min_shared_counts=20, \n",
    "                                n_top_genes=2000\n",
    "    )\n",
    "    scv.pp.moments(astro_chow_v, \n",
    "                   n_pcs=30, \n",
    "                   n_neighbors=30\n",
    "    )\n",
    "    scv.tl.recover_dynamics(astro_chow_v)\n",
    "    scv.tl.velocity(astro_chow_v)\n",
    "    scv.tl.velocity_graph(astro_chow_v)\n",
    "    scv.pl.velocity_embedding_stream(astro_chow_v,\n",
    "                                     basis='umap',\n",
    "                                     color='leiden',\n",
    "                                     use_raw=False, \n",
    "                                     size=60, \n",
    "                                     legend_loc='right margin'\n",
    "    ) # palette=['green','blue','magenta','silver'],"
   ]
  },
  {
   "cell_type": "code",
   "execution_count": 105,
   "metadata": {},
   "outputs": [],
   "source": [
    "if bool_plot == True:\n",
    "    top_genes = astro_chow_v.var['fit_likelihood'].sort_values(ascending=False).index\n",
    "\n",
    "    scv.tl.rank_dynamical_genes(astro_chow_v,\n",
    "                                groupby='leiden'\n",
    "    )\n",
    "    df = scv.get_df(astro_chow_v,\n",
    "                    'rank_dynamical_genes/names'\n",
    "    )\n",
    "    df.head(10)"
   ]
  },
  {
   "cell_type": "code",
   "execution_count": 106,
   "metadata": {},
   "outputs": [],
   "source": [
    "if bool_plot == True:\n",
    "    sc.pl.stacked_violin(astro_chow_v,\n",
    "                         top_genes[1:10],\n",
    "                         groupby='leiden',\n",
    "                         use_raw=False, \n",
    "                         log=False, \n",
    "                         dendrogram=False,\n",
    "                         rotation=90,\n",
    "                         title=\"\",\n",
    "                         swap_axes=True\n",
    "    )"
   ]
  },
  {
   "cell_type": "markdown",
   "metadata": {},
   "source": [
    "### hfd_5"
   ]
  },
  {
   "cell_type": "code",
   "execution_count": 107,
   "metadata": {},
   "outputs": [],
   "source": [
    "if bool_plot == True:\n",
    "    astro_hfd5 = adata_astro[adata_astro.obs['diet'] == 'hfd_5', ]\n",
    "\n",
    "    astro_hfd5_v = scv.utils.merge(astro_hfd5,\n",
    "                                   adata_loom5\n",
    "    )\n",
    "    scv.pl.proportions(astro_hfd5_v)\n",
    "    scv.pp.filter_and_normalize(astro_hfd5_v,\n",
    "                                min_shared_counts=20,\n",
    "                                n_top_genes=2000\n",
    "    )\n",
    "    scv.pp.moments(astro_hfd5_v,\n",
    "                   n_pcs=30, \n",
    "                   n_neighbors=30\n",
    "    )\n",
    "    scv.tl.recover_dynamics(astro_hfd5_v)\n",
    "    scv.tl.velocity(astro_hfd5_v)\n",
    "    scv.tl.velocity_graph(astro_hfd5_v)\n",
    "    scv.pl.velocity_embedding_stream(astro_hfd5_v,\n",
    "                                     basis='umap',\n",
    "                                     color='leiden',\n",
    "                                     use_raw=False, \n",
    "                                     size=60, \n",
    "                                     legend_loc='right margin'\n",
    "    )"
   ]
  },
  {
   "cell_type": "code",
   "execution_count": 108,
   "metadata": {},
   "outputs": [],
   "source": [
    "if bool_plot == True:\n",
    "    top_genes = astro_hfd5_v.var['fit_likelihood'].sort_values(ascending=False).index\n",
    "\n",
    "    scv.tl.rank_dynamical_genes(astro_hfd5_v,\n",
    "                                groupby='leiden'\n",
    "    )\n",
    "    df = scv.get_df(astro_hfd5_v, \n",
    "                    'rank_dynamical_genes/names'\n",
    "    )\n",
    "    df.head(10)"
   ]
  },
  {
   "cell_type": "code",
   "execution_count": 109,
   "metadata": {},
   "outputs": [],
   "source": [
    "if bool_plot == True:\n",
    "    sc.pl.stacked_violin(astro_hfd5_v,\n",
    "                         top_genes[1:10],\n",
    "                         groupby='leiden',\n",
    "                         use_raw=False, \n",
    "                         log=False, \n",
    "                         dendrogram=False,\n",
    "                         rotation=90,\n",
    "                         title=\"\",\n",
    "                         swap_axes=True\n",
    "    )"
   ]
  },
  {
   "cell_type": "markdown",
   "metadata": {},
   "source": [
    "### hfd_15"
   ]
  },
  {
   "cell_type": "code",
   "execution_count": 110,
   "metadata": {},
   "outputs": [],
   "source": [
    "if bool_plot == True:\n",
    "    astro_hfd15 = adata_astro[adata_astro.obs['diet'] == 'hfd_15', ]\n",
    "\n",
    "    astro_hfd15_v = scv.utils.merge(astro_hfd15,\n",
    "                                    adata_loom15\n",
    "    )\n",
    "    scv.pl.proportions(astro_hfd15_v)\n",
    "    scv.pp.filter_and_normalize(astro_hfd15_v,\n",
    "                                min_shared_counts=20,\n",
    "                                n_top_genes=2000\n",
    "    )\n",
    "    scv.pp.moments(astro_hfd15_v,\n",
    "                   n_pcs=30,\n",
    "                   n_neighbors=30\n",
    "    )\n",
    "    scv.tl.recover_dynamics(astro_hfd15_v)\n",
    "    scv.tl.velocity(astro_hfd15_v)\n",
    "    scv.tl.velocity_graph(astro_hfd15_v)\n",
    "    scv.pl.velocity_embedding_stream(astro_hfd15_v,\n",
    "                                     basis='umap', \n",
    "                                     color='leiden',\n",
    "                                     use_raw=True,\n",
    "                                     size=60, \n",
    "                                     legend_loc='right margin'\n",
    "    )"
   ]
  },
  {
   "cell_type": "code",
   "execution_count": 111,
   "metadata": {},
   "outputs": [],
   "source": [
    "if bool_plot == True:\n",
    "    top_genes = astro_hfd15_v.var['fit_likelihood'].sort_values(ascending=False).index\n",
    "\n",
    "    scv.tl.rank_dynamical_genes(astro_hfd15_v,\n",
    "                                groupby='leiden'\n",
    "    )\n",
    "    df = scv.get_df(astro_hfd15_v,\n",
    "                    'rank_dynamical_genes/names'\n",
    "    )\n",
    "    df.head(10)"
   ]
  },
  {
   "cell_type": "code",
   "execution_count": 112,
   "metadata": {},
   "outputs": [],
   "source": [
    "if bool_plot == True:\n",
    "    sc.pl.stacked_violin(astro_hfd15_v,\n",
    "                         top_genes[1:10],\n",
    "                         groupby='leiden',\n",
    "                         use_raw=False, \n",
    "                         log=False, \n",
    "                         dendrogram=False,\n",
    "                         rotation=90,\n",
    "                         title=\"\",\n",
    "                         swap_axes=True\n",
    "    )"
   ]
  },
  {
   "cell_type": "markdown",
   "metadata": {},
   "source": [
    "Plot the percentages of the marker genes in the particular clusters per diet"
   ]
  },
  {
   "cell_type": "code",
   "execution_count": 113,
   "metadata": {},
   "outputs": [],
   "source": [
    "if bool_plot == True:\n",
    "    cf.cell_percent(adata_astro[adata_astro.obs['diet'] == 'chow', ], \n",
    "                    cluster='leiden',\n",
    "                    condition='gfap_aldh',\n",
    "                    xlabel='clusters',\n",
    "                    ylabel='percentage', \n",
    "                    title='',\n",
    "                    save=sc_settings_figdir,\n",
    "                    table=False\n",
    "    )\n",
    "    cf.cell_percent(adata_astro[adata_astro.obs['diet'] == 'hfd_5', ],\n",
    "                    cluster='leiden',\n",
    "                    condition='gfap_aldh',\n",
    "                    xlabel='clusters',\n",
    "                    ylabel='percentage', \n",
    "                    title='', \n",
    "                    save=sc_settings_figdir,\n",
    "                    table=False\n",
    "    )\n",
    "    cf.cell_percent(adata_astro[adata_astro.obs['diet'] == 'hfd_15', ], \n",
    "                    cluster='leiden',\n",
    "                    condition='gfap_aldh',\n",
    "                    xlabel='clusters',\n",
    "                    ylabel='percentage', \n",
    "                    title='', \n",
    "                    save=sc_settings_figdir,\n",
    "                    table=False\n",
    "    )"
   ]
  },
  {
   "cell_type": "markdown",
   "metadata": {},
   "source": [
    "Perform RNA velocity of all the astrocytes"
   ]
  },
  {
   "cell_type": "code",
   "execution_count": 114,
   "metadata": {
    "scrolled": false
   },
   "outputs": [],
   "source": [
    "if bool_plot == True:  \n",
    "    adata_loom_all = adata_loom0.concatenate([adata_loom5, adata_loom15])\n",
    "    astro_all_v = scv.utils.merge(adata_astro,\n",
    "                                  adata_loom_all\n",
    "    )\n",
    "    scv.pl.proportions(astro_all_v)\n",
    "    scv.pp.filter_and_normalize(astro_all_v,\n",
    "                                min_shared_counts=20,\n",
    "                                n_top_genes=2000\n",
    "    )\n",
    "    scv.pp.moments(astro_all_v,\n",
    "                   n_pcs=30,\n",
    "                   n_neighbors=30\n",
    "    )\n",
    "    scv.tl.recover_dynamics(astro_all_v)\n",
    "    scv.tl.velocity(astro_all_v)\n",
    "    scv.tl.velocity_graph(astro_all_v)\n",
    "    scv.pl.velocity_embedding_stream(astro_all_v,\n",
    "                                     basis='umap', \n",
    "                                     color='leiden',\n",
    "                                     use_raw=True,\n",
    "                                     size=60, \n",
    "                                     legend_loc='right margin'\n",
    "    )"
   ]
  },
  {
   "cell_type": "code",
   "execution_count": 115,
   "metadata": {},
   "outputs": [],
   "source": [
    "if bool_plot == True:\n",
    "    cf.cell_percent(adata_astro,\n",
    "                    cluster='leiden',\n",
    "                    condition='gfap_aldh',\n",
    "                    xlabel='clusters',\n",
    "                    ylabel='percentage', \n",
    "                    title='', \n",
    "                    save=sc_settings_figdir,\n",
    "                    table=False\n",
    "    )"
   ]
  },
  {
   "cell_type": "markdown",
   "metadata": {},
   "source": [
    "## Per marker and diet"
   ]
  },
  {
   "cell_type": "code",
   "execution_count": 116,
   "metadata": {},
   "outputs": [],
   "source": [
    "if bool_plot == True:    \n",
    "    cutoff = statistics.median(adata_astro[adata_astro.obs['gfap_aldh'] == 'gfap_only', 'Gfap'].X)\n",
    "    adata_astro.obs['gfap_only'] = np.select([((adata_astro[:,'Gfap'].X >= cutoff) & \n",
    "                                               (adata_astro[:,'Aldh1l1'].X == 0)),\n",
    "                                              ((adata_astro[:,'Gfap'].X < cutoff) & \n",
    "                                               (adata_astro[:,'Gfap'].X > 0) & \n",
    "                                               (adata_astro[:,'Aldh1l1'].X == 0))],\n",
    "                                              ['h', 'l']\n",
    "    )\n",
    "    c = pd.Categorical(adata_astro.obs['gfap_only'])\n",
    "    adata_astro.obs['gfap_only'] = c.rename_categories({'h': 'gfap_only_high', \n",
    "                                                        'l': 'gfap_only_low',\n",
    "                                                        '0': 'none'}\n",
    "    )"
   ]
  },
  {
   "cell_type": "code",
   "execution_count": 117,
   "metadata": {},
   "outputs": [],
   "source": [
    "if bool_plot == True: \n",
    "    adata_astro.obs['gfap_only'] = np.select([((adata_astro[:,'Gfap'].X > 0) & \n",
    "                                               (adata_astro[:,'Aldh1l1'].X == 0)), \n",
    "                                              ((adata_astro[:,'Gfap'].X == 0) &\n",
    "                                               (adata_astro[:,'Aldh1l1'].X > 0)),\n",
    "                                              ((adata_astro[:,'Gfap'].X > 0) &\n",
    "                                               (adata_astro[:,'Aldh1l1'].X > 0)), \n",
    "                                              ((adata_astro[:,'Gfap'].X == 0) &\n",
    "                                               (adata_astro[:,'Aldh1l1'].X == 0))],\n",
    "                                              ['gfap_only', 'none', 'none', 'none']\n",
    "    )"
   ]
  },
  {
   "cell_type": "code",
   "execution_count": 118,
   "metadata": {},
   "outputs": [],
   "source": [
    "#####################################################################################################################\n",
    "if bool_plot == True: \n",
    "    adata_astro.obs['gfap_only'] = np.select([((adata_astro[:,'Gfap'].X > 0) & \n",
    "                                               (adata_astro[:,'Aldh1l1'].X == 0))],\n",
    "                                              ['gfap_only']\n",
    "    )\n",
    "    c=pd.Categorical(adata_astro.obs['gfap_only'])\n",
    "    adata_astro.obs['gfap_only'] = c.rename_categories({'gfap_only': 'gfap_only',\n",
    "                                                        '0': 'none'}\n",
    "    )"
   ]
  },
  {
   "cell_type": "code",
   "execution_count": 119,
   "metadata": {},
   "outputs": [],
   "source": [
    "if bool_plot == True:\n",
    "    cutoff=statistics.median(adata_astro[adata_astro.obs['gfap_aldh'] == 'aldh_only', 'Aldh1l1'].X)\n",
    "    adata_astro.obs['aldh_only'] = np.select([((adata_astro[:,'Aldh1l1'].X >= cutoff) &\n",
    "                                               (adata_astro[:,'Gfap'].X == 0)),\n",
    "                                              ((adata_astro[:,'Aldh1l1'].X < cutoff) &\n",
    "                                               (adata_astro[:,'Aldh1l1'].X > 0) & \n",
    "                                               (adata_astro[:,'Gfap'].X == 0))],\n",
    "                                              ['h', 'l']\n",
    "    )\n",
    "    c = pd.Categorical(adata_astro.obs['aldh_only'])\n",
    "    adata_astro.obs['aldh_only'] = c.rename_categories({'h': 'aldh_only_high', \n",
    "                                                        'l': 'aldh_only_low', \n",
    "                                                        '0': 'none'}\n",
    "    )"
   ]
  },
  {
   "cell_type": "code",
   "execution_count": 120,
   "metadata": {},
   "outputs": [],
   "source": [
    "if bool_plot == True:\n",
    "    adata_astro.obs['aldh_only'] = np.select([((adata_astro[:,'Gfap'].X > 0) &\n",
    "                                               (adata_astro[:,'Aldh1l1'].X == 0)), \n",
    "                                              ((adata_astro[:,'Gfap'].X == 0) & \n",
    "                                               (adata_astro[:,'Aldh1l1'].X > 0)),\n",
    "                                              ((adata_astro[:,'Gfap'].X > 0) & \n",
    "                                               (adata_astro[:,'Aldh1l1'].X > 0)), \n",
    "                                              ((adata_astro[:,'Gfap'].X == 0) & \n",
    "                                               (adata_astro[:,'Aldh1l1'].X == 0))],\n",
    "                                              ['none', 'aldh_only', 'none', 'none']\n",
    "    )"
   ]
  },
  {
   "cell_type": "code",
   "execution_count": 121,
   "metadata": {},
   "outputs": [],
   "source": [
    "#####################################################################################################################\n",
    "if bool_plot == True: \n",
    "    adata_astro.obs['aldh_only'] = np.select([((adata_astro[:,'Gfap'].X == 0) & \n",
    "                                               (adata_astro[:,'Aldh1l1'].X > 0))],\n",
    "                                             ['aldh_only']\n",
    "    )\n",
    "    c=pd.Categorical(adata_astro.obs['aldh_only'])\n",
    "    adata_astro.obs['aldh_only'] = c.rename_categories({'aldh_only': 'aldh_only',\n",
    "                                                        '0': 'none'}\n",
    "    )"
   ]
  },
  {
   "cell_type": "code",
   "execution_count": 122,
   "metadata": {},
   "outputs": [],
   "source": [
    "if bool_plot == True:    \n",
    "    cutoff=statistics.median(adata_astro[adata_astro.obs['gfap_aldh'] == 'both', 'Gfap'].X)\n",
    "    adata_astro.obs['both'] = np.select([((adata_astro[:,'Aldh1l1'].X >= cutoff) & \n",
    "                                          (adata_astro[:,'Gfap'].X >= cutoff)),\n",
    "                                         ((adata_astro[:,'Aldh1l1'].X < cutoff) & \n",
    "                                          (adata_astro[:,'Aldh1l1'].X > 0) & \n",
    "                                          (adata_astro[:,'Gfap'].X < cutoff) &\n",
    "                                          (adata_astro[:,'Gfap'].X>0))],\n",
    "                                        ['h','l']\n",
    "    )\n",
    "    c = pd.Categorical(adata_astro.obs['both'])\n",
    "    adata_astro.obs['both'] = c.rename_categories({'h': 'both_high',\n",
    "                                                   'l': 'both_low',\n",
    "                                                   '0': 'none'}\n",
    "    )"
   ]
  },
  {
   "cell_type": "code",
   "execution_count": 123,
   "metadata": {},
   "outputs": [],
   "source": [
    "if bool_plot == True:\n",
    "    adata_astro.obs['both'] = np.select([((c > 0) & (adata_astro[:,'Aldh1l1'].X == 0)), \n",
    "                                        ((adata_astro[:,'Gfap'].X == 0) & (adata_astro[:,'Aldh1l1'].X > 0)),\n",
    "                                        ((adata_astro[:,'Gfap'].X > 0) & (adata_astro[:,'Aldh1l1'].X > 0)), \n",
    "                                        ((adata_astro[:,'Gfap'].X == 0) & (adata_astro[:,'Aldh1l1'].X == 0))],\n",
    "                                        ['none','none','both','none']\n",
    "    )"
   ]
  },
  {
   "cell_type": "code",
   "execution_count": 124,
   "metadata": {},
   "outputs": [],
   "source": [
    "#####################################################################################################################\n",
    "if bool_plot == True: \n",
    "    adata_astro.obs['both'] = np.select([((adata_astro[:,'Gfap'].X>0) & (adata_astro[:,'Aldh1l1'].X>0))],\n",
    "                                        ['both']\n",
    "    )\n",
    "    c=pd.Categorical(adata_astro.obs['both'])\n",
    "    adata_astro.obs['both'] = c.rename_categories({'both': 'both',\n",
    "                                                   '0': 'none'}\n",
    "    )"
   ]
  },
  {
   "cell_type": "markdown",
   "metadata": {},
   "source": [
    "## Common genes"
   ]
  },
  {
   "cell_type": "markdown",
   "metadata": {},
   "source": [
    "In order to identify the common genes across the diet and marker populations, additional filtering is applied. \n",
    "We keep the gene if it is expressed in at least 60% of the cells in a given diet marker population. "
   ]
  },
  {
   "cell_type": "code",
   "execution_count": 125,
   "metadata": {},
   "outputs": [],
   "source": [
    "# define the percentage per group\n",
    "pcent=0.6"
   ]
  },
  {
   "cell_type": "markdown",
   "metadata": {},
   "source": [
    "### chow"
   ]
  },
  {
   "cell_type": "code",
   "execution_count": 126,
   "metadata": {},
   "outputs": [],
   "source": [
    "if bool_plot == True: \n",
    "    chow_a = adata_astro[(adata_astro.obs['diet']=='chow') & \n",
    "                         (adata_astro.obs['gfap_aldh']=='aldh_only'), ]\n",
    "    chow_g = adata_astro[(adata_astro.obs['diet']=='chow') &\n",
    "                         (adata_astro.obs['gfap_aldh']=='gfap_only'), ]\n",
    "    chow_b = adata_astro[(adata_astro.obs['diet']=='chow') &\n",
    "                         (adata_astro.obs['gfap_aldh']=='both'), ]\n",
    "\n",
    "    sc.pp.filter_genes(chow_a,\n",
    "                       min_cells=len(chow_a)*pcent\n",
    "    )  \n",
    "    sc.pp.filter_genes(chow_g,\n",
    "                       min_cells=len(chow_g)*pcent\n",
    "    )\n",
    "    sc.pp.filter_genes(chow_b, \n",
    "                       min_cells=len(chow_b)*pcent\n",
    "    )"
   ]
  },
  {
   "cell_type": "code",
   "execution_count": 127,
   "metadata": {},
   "outputs": [],
   "source": [
    "if bool_plot == True: \n",
    "    chow_a.var.to_csv(path_or_buf=dir_tables+\"common_chow_aldh.csv\", \n",
    "                      sep=\"\\t\"\n",
    "    )\n",
    "    chow_g.var.to_csv(path_or_buf=dir_tables+\"common_chow_gfap.csv\",\n",
    "                      sep=\"\\t\"\n",
    "    )\n",
    "    chow_b.var.to_csv(path_or_buf=dir_tables+\"common_chow_both.csv\", \n",
    "                      sep=\"\\t\"\n",
    "    )\n",
    "\n",
    "    matplotlib_venn.venn3_unweighted([set(chow_a.var.index),\n",
    "                                      set(chow_g.var.index),\n",
    "                                      set(chow_b.var.index)],\n",
    "                                     set_labels=(\"Aldh1l1\", \"Gfap\", \"Both\")\n",
    "    )\n",
    "    chow_enrich = gseapy.enrichr(gene_list=chow_a.var.index.intersection(chow_g.var.index).intersection(chow_b.var.index).tolist(),\n",
    "                                 organism='Mouse',\n",
    "                                 gene_sets='GO_Biological_Process_2018',\n",
    "                                 description='pathway',\n",
    "                                 cutoff=0.05\n",
    "    )\n",
    "    gseapy.barplot(chow_enrich.res2d,\n",
    "                   title='GO_Biological_Process',\n",
    "                   top_term=15\n",
    "    )"
   ]
  },
  {
   "cell_type": "markdown",
   "metadata": {},
   "source": [
    "### HFD_5"
   ]
  },
  {
   "cell_type": "code",
   "execution_count": 128,
   "metadata": {},
   "outputs": [],
   "source": [
    "if bool_plot == True: \n",
    "    hfd5_a = adata_astro[(adata_astro.obs['diet'] == 'hfd_5') &\n",
    "                         (adata_astro.obs['gfap_aldh'] == 'aldh_only'), ]\n",
    "    hfd5_g = adata_astro[(adata_astro.obs['diet'] == 'hfd_5') &\n",
    "                         (adata_astro.obs['gfap_aldh'] == 'gfap_only'), ]\n",
    "    hfd5_b = adata_astro[(adata_astro.obs['diet'] == 'hfd_5') &\n",
    "                         (adata_astro.obs['gfap_aldh'] == 'both'), ]\n",
    "\n",
    "    sc.pp.filter_genes(hfd5_a, \n",
    "                       min_cells=len(hfd5_a)*pcent\n",
    "    ) \n",
    "    sc.pp.filter_genes(hfd5_g,\n",
    "                       min_cells=len(hfd5_g)*pcent\n",
    "    )\n",
    "    sc.pp.filter_genes(hfd5_b,\n",
    "                       min_cells=len(hfd5_b)*pcent\n",
    "    )"
   ]
  },
  {
   "cell_type": "code",
   "execution_count": 129,
   "metadata": {},
   "outputs": [],
   "source": [
    "if bool_plot == True: \n",
    "    hfd5_a.var.to_csv(path_or_buf=dir_tables+\"common_hfd5_aldh.csv\",\n",
    "                      sep=\"\\t\"\n",
    "    )\n",
    "    hfd5_g.var.to_csv(path_or_buf=dir_tables+\"common_hfd5_gfap.csv\",\n",
    "                      sep=\"\\t\"\n",
    "    )\n",
    "    hfd5_b.var.to_csv(path_or_buf=dir_tables+\"common_hfd5_both.csv\", \n",
    "                      sep=\"\\t\"\n",
    "    )\n",
    "\n",
    "    matplotlib_venn.venn3_unweighted([set(hfd5_a.var.index),\n",
    "                                      set(hfd5_g.var.index),\n",
    "                                      set(hfd5_b.var.index)],\n",
    "                                     set_labels=(\"Aldh1l1\", \"Gfap\", \"Both\"))\n",
    "\n",
    "    hfd5_enrich = gseapy.enrichr(gene_list=hfd5_a.var.index.intersection(hfd5_g.var.index).intersection(hfd5_b.var.index).tolist(),\n",
    "                                 organism='Mouse',\n",
    "                                 gene_sets='GO_Biological_Process_2018',\n",
    "                                 description='pathway',\n",
    "                                 cutoff=0.05\n",
    "    )\n",
    "    gseapy.barplot(hfd5_enrich.res2d,\n",
    "                   title='GO_Biological_Process',\n",
    "                   top_term=15\n",
    "    )"
   ]
  },
  {
   "cell_type": "markdown",
   "metadata": {},
   "source": [
    "### HFD_15"
   ]
  },
  {
   "cell_type": "code",
   "execution_count": 130,
   "metadata": {},
   "outputs": [],
   "source": [
    "if bool_plot == True: \n",
    "    hfd15_a = adata_astro[(adata_astro.obs['diet'] == 'hfd_15') &\n",
    "                          (adata_astro.obs['gfap_aldh'] == 'aldh_only'), ]\n",
    "    hfd15_g = adata_astro[(adata_astro.obs['diet'] == 'hfd_15') & \n",
    "                          (adata_astro.obs['gfap_aldh'] == 'gfap_only'), ]\n",
    "    hfd15_b = adata_astro[(adata_astro.obs['diet'] == 'hfd_15') & \n",
    "                          (adata_astro.obs['gfap_aldh'] == 'both'), ]\n",
    "\n",
    "    sc.pp.filter_genes(hfd15_a, \n",
    "                       min_cells=len(hfd15_a)*pcent\n",
    "    ) \n",
    "    sc.pp.filter_genes(hfd15_g,\n",
    "                       min_cells=len(hfd15_g)*pcent\n",
    "    )\n",
    "    sc.pp.filter_genes(hfd15_b,\n",
    "                       min_cells=len(hfd15_b)*pcent\n",
    "    )"
   ]
  },
  {
   "cell_type": "code",
   "execution_count": 131,
   "metadata": {},
   "outputs": [],
   "source": [
    "if bool_plot == True: \n",
    "    hfd15_a.var.to_csv(path_or_buf=dir_tables+\"common_hfd15_aldh.csv\", \n",
    "                       sep=\"\\t\"\n",
    "    )\n",
    "    hfd15_g.var.to_csv(path_or_buf=dir_tables+\"common_hfd15_gfap.csv\",\n",
    "                       sep=\"\\t\"\n",
    "    )\n",
    "    hfd15_b.var.to_csv(path_or_buf=dir_tables+\"common_hfd15_both.csv\",\n",
    "                       sep=\"\\t\"\n",
    "    )\n",
    "\n",
    "    matplotlib_venn.venn3_unweighted([set(hfd15_a.var.index),\n",
    "             set(hfd15_g.var.index),\n",
    "             set(hfd15_b.var.index)\n",
    "         ], set_labels = (\"Aldh1l1\", \"Gfap\", \"Both\"))\n",
    "\n",
    "    hfd15_enrich = gseapy.enrichr(gene_list=hfd15_a.var.index.intersection(hfd15_g.var.index).intersection(hfd15_b.var.index).tolist(),\n",
    "                                 organism='Mouse',\n",
    "                                 gene_sets='GO_Biological_Process_2018',\n",
    "                                 description='pathway',\n",
    "                                 cutoff=0.05\n",
    "    )\n",
    "    gseapy.barplot(hfd15_enrich.res2d,\n",
    "                   title='GO_Biological_Process',\n",
    "                   top_term=15\n",
    "    )"
   ]
  },
  {
   "cell_type": "markdown",
   "metadata": {},
   "source": [
    "Select the genes which apear to be expressed in more then 60% of the cell in at least one marker-diet group"
   ]
  },
  {
   "cell_type": "code",
   "execution_count": 132,
   "metadata": {},
   "outputs": [],
   "source": [
    "if bool_plot == True: \n",
    "    x = np.unique(list(chow_a.var.index)+list(chow_g.var.index)+list(chow_b.var.index)+\n",
    "                  list(hfd5_a.var.index)+list(hfd5_g.var.index)+list(hfd5_b.var.index)+\n",
    "                  list(hfd15_a.var.index)+list(hfd15_g.var.index)+list(hfd15_b.var.index))\n",
    "    print(len(x))"
   ]
  },
  {
   "cell_type": "markdown",
   "metadata": {},
   "source": [
    "# Visualisation of well known marker genes "
   ]
  },
  {
   "cell_type": "markdown",
   "metadata": {},
   "source": [
    "Visualisation of marker genes over the populations and diets. Maker genes are liturature based. For visualisation the dot plot and stacked violin plot are employed"
   ]
  },
  {
   "cell_type": "code",
   "execution_count": 133,
   "metadata": {},
   "outputs": [],
   "source": [
    "if bool_plot == True:\n",
    "    homeostasis=['Slc2a1','Slc2a2','Slc2a3','Slc2a4','Slc2a6','Slc38a1','Slc38a2','Slc1a5','Slc16a1','Slc16a3',\n",
    "                 'Slc5a12','Slc1a2','Slc1a3','Slc7a11','Gck','Pdk1','Pdk4','Prkaa1','Ffar4','Cpt1a','Abhd6','Acadvl',\n",
    "                 'Acadm','Lpl','Pfkfb3','Cyp11a1','Srd5a1','Srd5a2','Tspo','Apoe','Hcar2','Pkm']         \n",
    "    hormone=['Insr','Igf1r','Lepr','Glp1r','Ghsr','Mc4r','Mc3r','Npy1r','Npy4r']\n",
    "    gliotransmision=['Srr','Slc17a6','Kcnj10','Phgdh','Slc7a10','Thbs1','P2ry4','P2ry6','Npy','Nfatc3','Slc6a9',\n",
    "                     'Vamp2','Vamp3','Stx1a','Snap25','Bdnf','Grm5','Nlgn2','Gpc4'] #,'Odn'\n",
    "    angiogenic=['Vegfa','Vegfb','Vegfc','Angpt1','Angpt2','Epo','Pdgfa','Pdgfb','Fgf2','Ang','Edn1','Nos3','Havcr2']\n",
    "    ecm=['Vim','Col4a1','Cspg4','Tgfb1','Irf1','Cxcl12','Cxcr4','Sema4d','Cd44','Ncan']#,'Acan','Plaur','Sema3a'\n",
    "    ucp2thyroid=['Ucp2','Dio2','Dio3','Slc16a2','Slco1c1','Sod1','Cybb','Gpx1','Gpx4','Ddit3','Atf4']    \n",
    "    iron=['Cp','Tfrc','Fth1','Ftmt','Slc11a2']        \n",
    "    cellcycle=['E2f2','Pcna','Mcm2','H4c1','Slbp','Rrm2','Rfc4','Ccna2',\n",
    "               'Cdc25b','Rad21','Cdkn3','Pttg1','Kif11','Plk1','Psat1','Mybl2','Ccnd1']\n",
    "              #'Ccne1','Ccne2','Bub1','Top2a','Bub1b','Kif2c','Kif4','Aurka','Foxm1','Mki67','Ccnf','Ccnb1','Ccnb2',\n",
    "    inflamation=['Csf1','Cxcl1','Il4','Il2','Ccl9','Ccl11','Ccl19','Vegfa','Tlr4','Ccl12','Ifng','C5ar2','Il1b',\n",
    "                 'Il6','C3','Ccl5','Cxcl2','Il1r1','Il6ra','Lcn2']    \n",
    "                 ##,'Il12p70','Tnfa','Cxcl8','Ccl21a','Csf3','Il10','Il12b','Il3','Il5','Lep','Tnfsf11'\n",
    "    calcium=['Itpr2','Plcb1','Plcg1','Prkca','Prkcb','Nfatc1','Calm1']\n",
    "    hedgehog=['Smo','Shh','Ptch1','Ptch2','Gli1','Gli2','Gli3']\n",
    "    others=['Tbx3','Cited1','Fech','Cpe','Clu']\n",
    "    a1astro=['H2-T23','Serping1','H2-D1','Ggta1','Iigp1','Gbp2','Fbln5','Fkbp5','Psmb8','Srgn','Amigo2'] # ,'Ugt1a1'\n",
    "    a2astro=['Clcf1','Tgm1','Ptx3','S100a10','Sphk1','Cd109','Ptgs2','Emp1','Slc10a6','Tm4sf1','B3gnt5','Cd14']\n",
    "\n",
    "    marker_genes_dict={'homeostasis': ['Slc2a1','Slc2a2','Slc2a3','Slc2a4','Slc2a6','Slc38a1','Slc38a2','Slc1a5',\n",
    "                                       'Slc16a1','Slc16a3','Slc5a12','Slc1a2','Slc1a3','Slc7a11','Gck','Pdk1','Pdk4',\n",
    "                                       'Prkaa1','Ffar4','Cpt1a','Abhd6','Acadvl','Acadm','Lpl','Pfkfb3','Cyp11a1',\n",
    "                                       'Srd5a1','Srd5a2','Tspo','Apoe','Hcar2','Pkm'],\n",
    "                       'hormone': ['Insr','Igf1r','Lepr','Glp1r','Ghsr','Mc4r','Mc3r','Npy1r','Npy4r'],\n",
    "                       'gliotransmision': ['Srr','Slc17a6','Kcnj10','Phgdh','Slc7a10','Thbs1','P2ry4','P2ry6','Npy',\n",
    "                                           'Nfatc3','Slc6a9','Vamp2','Vamp3','Stx1a','Snap25','Bdnf','Grm5','Nlgn2',\n",
    "                                           'Gpc4'],\n",
    "                       'angiogenic': ['Vegfa','Vegfb','Vegfc','Angpt1','Angpt2','Epo','Pdgfa','Pdgfb','Fgf2','Ang',\n",
    "                                      'Edn1','Nos3','Havcr2'],\n",
    "                       'ecm': ['Vim','Col4a1','Cspg4','Tgfb1','Irf1','Cxcl12','Cxcr4','Plaur','Sema3a','Sema4d',\n",
    "                               'Cd44','Ncan','Acan'],\n",
    "                       'ucp2thyroid': ['Ucp2','Dio2','Dio3','Slc16a2','Slco1c1','Sod1','Cybb','Gpx1','Gpx4','Ddit3',\n",
    "                                       'Atf4'],\n",
    "                       'iron': ['Cp','Tfrc','Fth1','Ftmt','Slc11a2'],\n",
    "                       'cellcycle': ['Ccne1','Ccne2','E2f2','Pcna','Mcm2','H4c1','Slbp','Rrm2','Rfc4','Top2a','Ccna2',\n",
    "                                     'Ccnf','Ccnb1','Ccnb2','Bub1','Bub1b','Cdc25b','Rad21','Cdkn3','Pttg1','Kif11',\n",
    "                                     'Kif2c','Kif4','Plk1','Aurka','Psat1','Foxm1','Mki67','Mybl2','Ccnd1'],\n",
    "                       'inflamation': ['Ccl9','Ccl21a','Lep','Csf3','Ccl11','Il12b','Tnfsf11','Ccl19','Csf1','Cxcl1',\n",
    "                                       'Il4','Il2','Il5','Ccl12','Il10','Il3','Ifng','Vegfa','C5ar2','Il1b','Il6',\n",
    "                                       'C3','Ccl5','Cxcl2','Tlr4','Il1r1','Il6ra','Lcn2'],\n",
    "                       'calcium': ['Itpr2','Plcb1','Plcg1','Prkca','Prkcb','Nfatc1','Calm1'],\n",
    "                       'hedgehog': ['Smo','Shh','Ptch1','Ptch2','Gli1','Gli2','Gli3'],\n",
    "                       'others': ['Tbx3','Cited1','Fech','Cpe','Clu'],\n",
    "                       'a1astro': ['H2-T23','Serping1','H2-D1','Ggta1','Iigp1','Gbp2','Fbln5','Ugt1a1','Fkbp5',\n",
    "                                   'Psmb8','Srgn','Amigo2'],\n",
    "                       'a2astro': ['Clcf1','Tgm1','Ptx3','S100a10','Sphk1','Cd109','Ptgs2','Emp1','Slc10a6',\n",
    "                                   'Tm4sf1','B3gnt5','Cd14']}"
   ]
  },
  {
   "cell_type": "markdown",
   "metadata": {},
   "source": [
    "### Stacked violin plots"
   ]
  },
  {
   "cell_type": "code",
   "execution_count": 134,
   "metadata": {},
   "outputs": [],
   "source": [
    "if bool_plot == True:\n",
    "    adata_astro.obs['diet_marker'] = adata_astro.obs['gfap_aldh'] + '_' + adata_astro.obs['diet'].astype(str)\n",
    "    adata_proc.obs['diet_cluster'] = adata_proc.obs['leiden'].astype(str) + '_' + adata_proc.obs['diet'].astype(str)"
   ]
  },
  {
   "cell_type": "code",
   "execution_count": 135,
   "metadata": {},
   "outputs": [],
   "source": [
    "if bool_plot == True:\n",
    "    sc.pl.dotplot(adata=adata_astro[adata_astro.obs['gfap_aldh'] != 'none',],\n",
    "                  var_names=inflamation, \n",
    "                  groupby='diet_marker',\n",
    "                  use_raw=False, \n",
    "                  log=False, \n",
    "                  dendrogram=False, \n",
    "                  var_group_rotation=90, \n",
    "                  title=\"Inflamation\",\n",
    "                  swap_axes=True,\n",
    "                  show=True, \n",
    "                  save=\"all_cells_ARCneuro_markers.png\"\n",
    "    )"
   ]
  },
  {
   "cell_type": "code",
   "execution_count": 136,
   "metadata": {
    "scrolled": false
   },
   "outputs": [],
   "source": [
    "if bool_plot==True:\n",
    "    sc.pl.dotplot(adata=adata_astro[adata_astro.obs['gfap_aldh'] != 'none',],\n",
    "                  var_names=marker_genes_dict, \n",
    "                  groupby='diet_marker',\n",
    "                  use_raw=False, \n",
    "                  log=False, \n",
    "                  dendrogram=False, \n",
    "                  var_group_rotation=90, \n",
    "                  swap_axes=True,\n",
    "                  show=True, \n",
    "                  save=\"all_cells_ARCneuro_markers.png\"\n",
    "    )"
   ]
  },
  {
   "cell_type": "code",
   "execution_count": 137,
   "metadata": {
    "scrolled": false
   },
   "outputs": [],
   "source": [
    "if bool_plot == True:\n",
    "    sc.pl.stacked_violin(adata_astro[adata_astro.obs['gfap_aldh'] != 'none',],\n",
    "                         a1astro,\n",
    "                         groupby='diet_marker', \n",
    "                         use_raw=False, \n",
    "                         log=False, \n",
    "                         dendrogram=False,\n",
    "                         rotation=90,\n",
    "                         title=\"inflamation\",\n",
    "                         swap_axes=True\n",
    "    )"
   ]
  },
  {
   "cell_type": "code",
   "execution_count": 138,
   "metadata": {},
   "outputs": [],
   "source": [
    "if bool_plot == True:\n",
    "    sc.pl.stacked_violin(adata_proc,\n",
    "                         inflamation,\n",
    "                         groupby='diet_cluster', \n",
    "                         use_raw=False, \n",
    "                         log=False, \n",
    "                         dendrogram=False,\n",
    "                         rotation=90,\n",
    "                         title=\"inflamation\",\n",
    "                         swap_axes=True\n",
    "    )"
   ]
  },
  {
   "cell_type": "code",
   "execution_count": 139,
   "metadata": {},
   "outputs": [],
   "source": [
    "if bool_plot == True:\n",
    "    plt.rcParams['figure.figsize']=[8,8]\n",
    "\n",
    "    adata_c = adata_astro[adata_astro.obs['diet'] == \"chow\",]\n",
    "    adata_5 = adata_astro[adata_astro.obs['diet'] == \"hfd_5\",]\n",
    "    adata_15 = adata_astro[adata_astro.obs['diet'] == \"hfd_15\",]\n",
    "\n",
    "    gf_c = (adata_c[:,'Gfap'].X > 0) & (adata_c[:,'Aldh1l1'].X == 0) \n",
    "    gfsum_c = sum(gf_c)\n",
    "    al_c = (adata_c[:,'Gfap'].X == 0) & (adata_c[:,'Aldh1l1'].X > 0) \n",
    "    alsum_c = sum(al_c)\n",
    "    bt_c = (adata_c[:,'Gfap'].X > 0) & (adata_c[:,'Aldh1l1'].X > 0) \n",
    "    btsum_c = sum(bt_c)\n",
    "\n",
    "    gf_5 = (adata_5[:,'Gfap'].X > 0) & (adata_5[:,'Aldh1l1'].X == 0) \n",
    "    gfsum_5 = sum(gf_5)\n",
    "    al_5 = (adata_5[:,'Gfap'].X == 0) & (adata_5[:,'Aldh1l1'].X > 0) \n",
    "    alsum_5 = sum(al_5)\n",
    "    bt_5 = (adata_5[:,'Gfap'].X > 0) & (adata_5[:,'Aldh1l1'].X > 0) \n",
    "    btsum_5 = sum(bt_5)\n",
    "\n",
    "    gf_15 = (adata_15[:,'Gfap'].X > 0) & (adata_15[:,'Aldh1l1'].X == 0) \n",
    "    gfsum_15 = sum(gf_15)\n",
    "    al_15 = (adata_15[:,'Gfap'].X == 0) & (adata_15[:,'Aldh1l1'].X > 0) \n",
    "    alsum_15 = sum(al_15)\n",
    "    bt_15 = (adata_15[:,'Gfap'].X > 0) & (adata_15[:,'Aldh1l1'].X > 0) \n",
    "    btsum_15 = sum(bt_15)"
   ]
  },
  {
   "cell_type": "code",
   "execution_count": 140,
   "metadata": {
    "scrolled": true
   },
   "outputs": [],
   "source": [
    "if bool_plot == True:\n",
    "    df = pd.DataFrame(columns=['gfap_c','gfap_5','gfap_15','aldh_c','aldh_5','aldh_15','both_c','both_5','both_15'])\n",
    "    for i in hormone:\n",
    "        df = df.append({'gfap_c': sum((adata_c[:,i].X > 0) & gf_c)/gfsum_c*100,\n",
    "                        'gfap_5': sum((adata_5[:,i].X > 0) & gf_5)/gfsum_5*100,\n",
    "                        'gfap_15': sum((adata_15[:,i].X > 0) & gf_15)/gfsum_15*100,\n",
    "\n",
    "                        'aldh_c': sum((adata_c[:,i].X > 0) & al_c)/alsum_c*100,\n",
    "                        'aldh_5': sum((adata_5[:,i].X > 0) & al_5)/alsum_5*100,\n",
    "                        'aldh_15': sum((adata_15[:,i].X > 0) & al_15)/alsum_15*100,\n",
    "\n",
    "                        'both_c': sum((adata_c[:,i].X > 0) & bt_c)/btsum_c*100,\n",
    "                        'both_5': sum((adata_5[:,i].X > 0) & bt_5)/btsum_5*100,\n",
    "                        'both_15': sum((adata_15[:,i].X > 0) & bt_15)/btsum_15*100,\n",
    "\n",
    "                       }\n",
    "                       ,ignore_index=True\n",
    "        )\n",
    "    df.index=hormone\n",
    "    for i in df.columns:\n",
    "        df[i] = df[i].str.get(0)\n",
    "    df.round(1)#.to_csv(\"hormone_receptors.csv\")\n",
    "    sb.heatmap(df,\n",
    "               annot=True, \n",
    "               cmap=\"viridis\",\n",
    "               vmin=0,\n",
    "               vmax=100\n",
    "    )"
   ]
  },
  {
   "cell_type": "markdown",
   "metadata": {},
   "source": [
    "# Illustration and differential expression analysis "
   ]
  },
  {
   "cell_type": "markdown",
   "metadata": {},
   "source": [
    "## Scatter plot and pie chart - chow"
   ]
  },
  {
   "cell_type": "markdown",
   "metadata": {},
   "source": [
    "### chow"
   ]
  },
  {
   "cell_type": "code",
   "execution_count": 141,
   "metadata": {},
   "outputs": [],
   "source": [
    "#####################################################################################################################\n",
    "if bool_plot == True:    \n",
    "    cf.plot_umap_marker(adata_astro[adata_astro.obs['diet'] == 'chow', ],\n",
    "                        ['gfap_only'],\n",
    "                        palette=['silver', 'darkmagenta'],\n",
    "                        save=\"_astrocytes_gfap_only_chow.png\", \n",
    "                        size=40, \n",
    "                        color_map=mymap, \n",
    "                        use_raw=False,\n",
    "                        frameon=False,\n",
    "                        title='',\n",
    "                        legend_loc=None\n",
    "    ) \n",
    "    data = adata_astro[adata_astro.obs['diet'] == 'chow', ].obs['gfap_only'].value_counts().sort_index()\n",
    "    plt.pie(data,\n",
    "            autopct=lambda pct: cf.func(pct, data),\n",
    "            textprops=dict(color=\"black\", fontsize=24),\n",
    "            colors=['silver', 'darkmagenta'],\n",
    "            pctdistance=1.2\n",
    "    ) \n",
    "    plt.savefig(sc_settings_figdir+'pie_astrocytes_gfap_only_chow.pdf')"
   ]
  },
  {
   "cell_type": "code",
   "execution_count": 142,
   "metadata": {},
   "outputs": [],
   "source": [
    "if bool_plot == True:\n",
    "    data = adata_astro[adata_astro.obs['diet'] == 'chow', ].obs['gfap_only'].value_counts().sort_index()\n",
    "\n",
    "    fig, (ax0, ax1)=plt.subplots(ncols=2, figsize=(16, 6), subplot_kw=dict(aspect=\"equal\"))\n",
    "    ax0 = sc.pl.umap(adata_astro[adata_astro.obs['diet'] == 'chow', ], \n",
    "                     color=['gfap_only'],\n",
    "                     size=40,\n",
    "                     ax=ax0,\n",
    "                     show=False,\n",
    "                     palette=['silver','magenta'], #,'darkmagenta'\n",
    "                     frameon=False\n",
    "    ) \n",
    "    wedges, texts, autotexts = ax1.pie(data,\n",
    "                                       autopct=lambda pct: func(pct, data), \n",
    "                                       textprops=dict(color=\"black\", fontsize=24),\n",
    "                                       colors=['silver', 'magenta'],  #,'darkmagenta'\n",
    "                                       pctdistance=1.2\n",
    "    ) \n",
    "    ax1.set_title('Chow gfap_only share')\n",
    "\n",
    "    fig.savefig(sc_settings_figdir+'pie_astrocytes_gfap_only_chow.png')\n",
    "    #cf.plot_umap_marker(adata_astro[adata_astro.obs['diet']=='chow', ], ['gfap_only'], \n",
    "                        #palette=['gainsboro','darkmagenta','magenta'],\n",
    "                        #save=\"_astrocytes_gfap_only_chow.png\", size=30, color_map=mymap, use_raw=False)"
   ]
  },
  {
   "cell_type": "markdown",
   "metadata": {},
   "source": [
    "#### Aldh1l1"
   ]
  },
  {
   "cell_type": "code",
   "execution_count": 143,
   "metadata": {},
   "outputs": [],
   "source": [
    "#####################################################################################################################\n",
    "if bool_plot==True:    \n",
    "    cf.plot_umap_marker(adata_astro[adata_astro.obs['diet'] == 'chow', ],\n",
    "                        ['aldh_only'], \n",
    "                        palette=['silver', 'green'],\n",
    "                        save=\"_astrocytes_aldh_only_chow.png\",\n",
    "                        size=40, \n",
    "                        color_map=mymap,\n",
    "                        use_raw=False, \n",
    "                        frameon=False,\n",
    "                        title='', \n",
    "                        legend_loc=None\n",
    "    )\n",
    "    data = adata_astro[adata_astro.obs['diet'] == 'chow', ].obs['aldh_only'].value_counts().sort_index()\n",
    "    plt.pie(data, \n",
    "            autopct=lambda pct: cf.func(pct, data), \n",
    "            textprops=dict(color=\"black\", fontsize=24),\n",
    "            colors=['silver', 'green'],\n",
    "            pctdistance=1.2\n",
    "    ) \n",
    "    plt.savefig(sc_settings_figdir+'pie_astrocytes_aldh_only_chow.pdf')"
   ]
  },
  {
   "cell_type": "code",
   "execution_count": 144,
   "metadata": {},
   "outputs": [],
   "source": [
    "if bool_plot == True:  \n",
    "    data = adata_astro[adata_astro.obs['diet'] == 'chow', ].obs['aldh_only'].value_counts().sort_index()\n",
    "\n",
    "    fig, (ax0, ax1) = plt.subplots(ncols=2, figsize=(16, 6), subplot_kw=dict(aspect=\"equal\"))\n",
    "    ax0 = sc.pl.umap(adata_astro[adata_astro.obs['diet'] == 'chow', ], \n",
    "                     color=['aldh_only'],\n",
    "                     size=40,\n",
    "                     ax=ax0,\n",
    "                     show=False,\n",
    "                     palette=['silver', 'green'],\n",
    "                     frameon=False\n",
    "    )\n",
    "    wedges, texts, autotexts = ax1.pie(data,\n",
    "                                       autopct=lambda pct: func(pct, data),\n",
    "                                       textprops=dict(color=\"black\", fontsize=24),\n",
    "                                       colors=['silver', 'green'],\n",
    "                                       pctdistance=1.2\n",
    "    )\n",
    "    ax1.set_title('Chow aldh_only share')\n",
    "\n",
    "    fig.savefig(sc_settings_figdir+'umap_astrocytes_aldh_only_chow.png')\n",
    "    #cf.plot_umap_marker(adata_astro[adata_astro.obs['diet']=='chow', ], ['aldh_only'], palette=['gainsboro','green','lime'],\n",
    "    #                    save=\"_astrocytes_aldh_only_chow.png\", size=30, color_map=mymap, use_raw=False)"
   ]
  },
  {
   "cell_type": "markdown",
   "metadata": {},
   "source": [
    "#### Doble positive"
   ]
  },
  {
   "cell_type": "code",
   "execution_count": 145,
   "metadata": {},
   "outputs": [],
   "source": [
    "#####################################################################################################################\n",
    "if bool_plot == True:    \n",
    "    cf.plot_umap_marker(adata_astro[adata_astro.obs['diet'] == 'chow', ], \n",
    "                        ['both'], \n",
    "                        palette=['silver', 'blue'],\n",
    "                        save=\"_astrocytes_both_chow.png\", \n",
    "                        size=40,\n",
    "                        color_map=mymap,\n",
    "                        use_raw=False,\n",
    "                        frameon=False,\n",
    "                        title='', \n",
    "                        legend_loc=None\n",
    "    )\n",
    "\n",
    "    data = adata_astro[adata_astro.obs['diet'] == 'chow', ].obs['both'].value_counts().sort_index()\n",
    "    plt.pie(data, \n",
    "            autopct=lambda pct: cf.func(pct, data),\n",
    "            textprops=dict(color=\"black\", fontsize=24),\n",
    "            colors=['silver', 'blue'],\n",
    "            pctdistance=1.2\n",
    "    ) \n",
    "    plt.savefig(sc_settings_figdir+'pie_astrocytes_both_chow.pdf')"
   ]
  },
  {
   "cell_type": "code",
   "execution_count": 146,
   "metadata": {},
   "outputs": [],
   "source": [
    "if bool_plot == True:\n",
    "    data = adata_astro[adata_astro.obs['diet'] == 'chow', ].obs['both'].value_counts().sort_index()\n",
    "    \n",
    "    fig, (ax0, ax1) = plt.subplots(ncols=2, figsize=(16, 6), subplot_kw=dict(aspect=\"equal\"))\n",
    "    ax0 = sc.pl.umap(adata_astro[adata_astro.obs['diet'] == 'chow', ], \n",
    "                     color=['both'],\n",
    "                     size=40, \n",
    "                     ax=ax0,\n",
    "                     show=False,\n",
    "                     palette=['silver', 'blue'],\n",
    "                     frameon=False\n",
    "    )\n",
    "    wedges, texts, autotexts = ax1.pie(data, autopct=lambda pct: func(pct, data),\n",
    "                                       textprops=dict(color=\"black\", fontsize=24),\n",
    "                                       colors=['silver', 'blue'],\n",
    "                                       pctdistance=1.2  #,fontsize=12\n",
    "    ) \n",
    "    ax1.set_title('Chow both share')\n",
    "\n",
    "    fig.savefig(sc_settings_figdir+'_astrocytes_both_chow.png')\n",
    "    #cf.plot_umap_marker(adata_astro[adata_astro.obs['diet']=='chow', ], ['both'], palette=['gainsboro','blue','dodgerblue'],\n",
    "    #                    save=\"_astrocytes_both_chow.png\", size=30, color_map=mymap, use_raw=False)"
   ]
  },
  {
   "cell_type": "markdown",
   "metadata": {},
   "source": [
    "#### All together"
   ]
  },
  {
   "cell_type": "code",
   "execution_count": 147,
   "metadata": {},
   "outputs": [],
   "source": [
    "#####################################################################################################################\n",
    "if bool_plot == True:\n",
    "    cf.plot_umap_marker(adata_astro[adata_astro.obs['diet'] == 'chow', ],\n",
    "                        ['gfap_aldh'], \n",
    "                        palette=['green', 'blue', 'magenta', 'gainsboro'],\n",
    "                        save=\"_astrocytes_gfap_aldh_chow.png\",\n",
    "                        size=40,\n",
    "                        color_map=mymap,\n",
    "                        use_raw=False,\n",
    "                        frameon=False,\n",
    "                        title='', \n",
    "                        legend_loc=None\n",
    "    )\n",
    "    data = adata_astro[adata_astro.obs['diet'] == 'chow', ].obs['gfap_aldh'].value_counts().sort_index()\n",
    "    plt.pie(data,\n",
    "            autopct=lambda pct: cf.func(pct, data), \n",
    "            textprops=dict(color=\"black\", fontsize=24),\n",
    "            colors=['green', 'blue', 'darkmagenta', 'gainsboro'],\n",
    "            pctdistance=1.3\n",
    "    ) \n",
    "    plt.savefig(sc_settings_figdir+'pie_astrocytes_all_chow.pdf')"
   ]
  },
  {
   "cell_type": "code",
   "execution_count": 148,
   "metadata": {},
   "outputs": [],
   "source": [
    "if bool_plot == True:\n",
    "    cf.plot_umap_marker(adata_astro[(adata_astro.obs['diet'] == 'chow') & \n",
    "                                    (adata_astro.obs['gfap_aldh'] != 'gfap_only'), ],\n",
    "                        ['gfap_aldh'], \n",
    "                        palette=['green', 'blue', 'gainsboro'],\n",
    "                        save=\"_astrocytes_gfap_aldh_chow.png\", \n",
    "                        size=30,\n",
    "                        color_map=mymap,\n",
    "                        use_raw=False\n",
    "    )"
   ]
  },
  {
   "cell_type": "code",
   "execution_count": 149,
   "metadata": {},
   "outputs": [],
   "source": [
    "if bool_plot == True:\n",
    "    cf.plot_umap_marker(adata_astro[(adata_astro.obs['diet'] == 'chow') & \n",
    "                                    (adata_astro.obs['gfap_aldh'] != 'aldh_only'), ], \n",
    "                        ['gfap_aldh'], \n",
    "                        palette=['blue', 'magenta', 'gainsboro'],\n",
    "                        save=\"_astrocytes_gfap_aldh_chow.png\",\n",
    "                        size=30,\n",
    "                        color_map=mymap, \n",
    "                        use_raw=False\n",
    "    )"
   ]
  },
  {
   "cell_type": "code",
   "execution_count": 150,
   "metadata": {},
   "outputs": [],
   "source": [
    "if bool_plot == True:\n",
    "    cf.plot_umap_marker(adata_astro[(adata_astro.obs['diet'] == 'chow') & \n",
    "                                    (adata_astro.obs['gfap_aldh'] != 'both'), ],\n",
    "                        ['gfap_aldh'], \n",
    "                        palette=['green', 'magenta', 'gainsboro'],\n",
    "                        save=\"_astrocytes_gfap_aldh_chow.png\",\n",
    "                        size=30,\n",
    "                        color_map=mymap,\n",
    "                        use_raw=False\n",
    "    )"
   ]
  },
  {
   "cell_type": "code",
   "execution_count": 151,
   "metadata": {},
   "outputs": [],
   "source": [
    "if bool_plot == True:\n",
    "    data = adata_astro[adata_astro.obs['diet'] == 'chow', ].obs['gfap_aldh'].value_counts().sort_index()\n",
    "\n",
    "    fig, (ax0, ax1) = plt.subplots(ncols=2, figsize=(16, 6), subplot_kw=dict(aspect=\"equal\"))\n",
    "    ax0 = sc.pl.umap(adata_astro[adata_astro.obs['diet'] == 'chow', ], \n",
    "                     color=['gfap_aldh'],\n",
    "                     size=40, \n",
    "                     ax=ax0, \n",
    "                     show=False,\n",
    "                     palette=['green', 'blue', 'magenta', 'gainsboro'],\n",
    "                     frameon=False\n",
    "    )\n",
    "    wedges, texts, autotexts = ax1.pie(data,\n",
    "                                       autopct=lambda pct: func(pct, data),\n",
    "                                       textprops=dict(color=\"black\", fontsize=24),\n",
    "                                       colors=['green', 'blue', 'magenta', 'gainsboro'],\n",
    "                                       pctdistance=1.2\n",
    "    ) \n",
    "    fig.savefig(sc_settings_figdir+'_astrocytes_both_chow.png')"
   ]
  },
  {
   "cell_type": "markdown",
   "metadata": {},
   "source": [
    "## Differential gene expression - chow"
   ]
  },
  {
   "cell_type": "markdown",
   "metadata": {},
   "source": [
    "Differential expression analysis comparing each population agains another two using Welch t-test. With violin plot illustrattion of significant genes."
   ]
  },
  {
   "cell_type": "markdown",
   "metadata": {},
   "source": [
    "#### Aldh1l1"
   ]
  },
  {
   "cell_type": "code",
   "execution_count": 152,
   "metadata": {},
   "outputs": [],
   "source": [
    "#####################################################################################################################\n",
    "if bool_plot == True:\n",
    "    astro_0 = adata_astro[:,~adata_astro.var.index.isin(['Gfap','Aldh1l1'])]\n",
    "    astro_0.obs['aldh-gfap_both'] = astro_0.obs['gfap_aldh'].replace({'both': 'gfap_both',\n",
    "                                                                      'gfap_only': 'gfap_both'}\n",
    "    )\n",
    "    astro0a = astro_0[(astro_0.obs['diet'] == 'chow') & \n",
    "                      (astro_0.obs['aldh-gfap_both'].isin(['aldh_only', 'gfap_both'])), ]\n",
    "    astro0a = astro0a[:,astro0a.var.index.isin(x)]\n",
    "    \n",
    "    dets_mark = de.test.t_test(data=astro0a,\n",
    "                               sample_description=astro0a.obs,\n",
    "                               grouping=\"aldh-gfap_both\",\n",
    "                               is_logged=False\n",
    "    )\n",
    "    dets_mark_summary = dets_mark.summary()\n",
    "    dets_mark_summary.to_csv(path_or_buf=dir_tables+\"aldh-gfap_both-chow.csv\",\n",
    "                             sep=\"\\t\"\n",
    "    )\n",
    "    print(len(dets_mark_summary[dets_mark_summary['qval'] < 0.05]))\n",
    "    dets_mark_summary.sort_values(by=['qval']).iloc[:10,:]  # show the top 10 genes"
   ]
  },
  {
   "cell_type": "code",
   "execution_count": 153,
   "metadata": {},
   "outputs": [],
   "source": [
    "if bool_plot == True:\n",
    "    pk = dets_mark_summary.sort_values(by=['qval']).gene[:1]\n",
    "    sc.pl.stacked_violin(adata_astro[(adata_astro.obs['diet'].isin(['chow'])) & \n",
    "                                     (adata_astro.obs['gfap_aldh'].isin(['aldh_only', 'gfap_only', 'both']))], \n",
    "                         pk,      \n",
    "                         groupby='gfap_aldh', \n",
    "                         use_raw=False,\n",
    "                         swap_axes=True,\n",
    "                         dendrogram=False,\n",
    "                         title=''\n",
    "    )"
   ]
  },
  {
   "cell_type": "markdown",
   "metadata": {},
   "source": [
    "#### Gfap"
   ]
  },
  {
   "cell_type": "code",
   "execution_count": 154,
   "metadata": {},
   "outputs": [],
   "source": [
    "#####################################################################################################################\n",
    "if bool_plot == True:\n",
    "    astro_0 = adata_astro[:,~adata_astro.var.index.isin(['Gfap','Aldh1l1'])]\n",
    "    astro_0.obs['gfap-aldh_both'] = astro_0.obs['gfap_aldh'].replace({'both': 'aldh_both',\n",
    "                                                                      'aldh_only': 'aldh_both'}\n",
    "    )\n",
    "    # select only: gfap_only and aldh_both from chow\n",
    "    astro0g = astro_0[(astro_0.obs['diet'] == 'chow') &\n",
    "                      (astro_0.obs['gfap-aldh_both'].isin(['gfap_only','aldh_both'])), ]\n",
    "    astro0g = astro0g[:,astro0g.var.index.isin(x)]\n",
    "        \n",
    "    dets_mark = de.test.t_test(data=astro0g, \n",
    "                               sample_description=astro0g.obs, \n",
    "                               grouping=\"gfap-aldh_both\",\n",
    "                               is_logged=False\n",
    "    )\n",
    "    dets_mark_summary=dets_mark.summary()\n",
    "    dets_mark_summary.to_csv(path_or_buf=dir_tables+\"gfap-aldh_both-chow.csv\", \n",
    "                             sep=\"\\t\"\n",
    "    )\n",
    "    print(len(dets_mark_summary[dets_mark_summary['qval'] < 0.05]))\n",
    "    dets_mark_summary.sort_values(by=['pval']).iloc[:20,:]\n"
   ]
  },
  {
   "cell_type": "code",
   "execution_count": 155,
   "metadata": {},
   "outputs": [],
   "source": [
    "if bool_plot == True:\n",
    "    pk = dets_mark_summary.sort_values(by=['qval']).gene[:19]\n",
    "    sc.pl.stacked_violin(adata_astro[(adata_astro.obs['diet'].isin(['chow'])) & \n",
    "                                     (adata_astro.obs['gfap_aldh'].isin(['aldh_only', 'gfap_only', 'both']))],  \n",
    "                          pk,      \n",
    "                          groupby='gfap_aldh',\n",
    "                          use_raw=False,\n",
    "                          swap_axes=True,\n",
    "                          dendrogram=False,\n",
    "                          title=''\n",
    "    )"
   ]
  },
  {
   "cell_type": "markdown",
   "metadata": {},
   "source": [
    "#### Both"
   ]
  },
  {
   "cell_type": "code",
   "execution_count": 156,
   "metadata": {},
   "outputs": [],
   "source": [
    "#####################################################################################################################\n",
    "if bool_plot == True:\n",
    "    astro_0 = adata_astro[:,~adata_astro.var.index.isin(['Gfap', 'Aldh1l1'])]\n",
    "    astro_0.obs['both-aldh_gfap'] = astro_0.obs['gfap_aldh'].replace({'gfap_only': 'aldh_gfap', \n",
    "                                                                      'aldh_only': 'aldh_gfap'}\n",
    "    )\n",
    "    astro0b = astro_0[(astro_0.obs['diet'] == 'chow') &\n",
    "                      (astro_0.obs['both-aldh_gfap'].isin(['both', 'aldh_gfap'])), ]\n",
    "    astro0b = astro0b[:,astro0b.var.index.isin(x)]\n",
    "    \n",
    "    dets_mark = de.test.t_test(data=astro0b,\n",
    "                               sample_description=astro0b.obs,\n",
    "                               grouping=\"both-aldh_gfap\",\n",
    "                               is_logged=False\n",
    "    )\n",
    "    dets_mark_summary = dets_mark.summary()\n",
    "    dets_mark_summary.to_csv(path_or_buf=dir_tables+\"both-aldh_gfap-chow.csv\",\n",
    "                             sep=\"\\t\"\n",
    "    )\n",
    "    print(len(dets_mark_summary[dets_mark_summary['qval'] < 0.05]))\n",
    "    dets_mark_summary.sort_values(by=['pval']).iloc[:40,:]"
   ]
  },
  {
   "cell_type": "code",
   "execution_count": 157,
   "metadata": {},
   "outputs": [],
   "source": [
    "if bool_plot == True:\n",
    "    pk = dets_mark_summary.sort_values(by=['qval']).gene[:35]\n",
    "    sc.pl.stacked_violin(adata_astro[(adata_astro.obs['diet'].isin(['chow'])) & \n",
    "                                     (adata_astro.obs['gfap_aldh'].isin(['aldh_only', 'gfap_only', 'both']))],  \n",
    "                          pk,      \n",
    "                          groupby='gfap_aldh', \n",
    "                          use_raw=False,\n",
    "                          swap_axes=True,\n",
    "                          dendrogram=False,\n",
    "                          title=''\n",
    "    )"
   ]
  },
  {
   "cell_type": "code",
   "execution_count": 158,
   "metadata": {},
   "outputs": [],
   "source": [
    "if bool_plot == True:\n",
    "    matplotlib_venn.venn3_unweighted([set(dets_mark_summaryA[dets_mark_summaryA['qval'] < 0.05]['gene']),\n",
    "                                      set(dets_mark_summaryG[dets_mark_summaryG['qval'] < 0.05]['gene']),\n",
    "                                      set(dets_mark_summaryB[dets_mark_summaryB['qval'] < 0.05]['gene'])],\n",
    "                                     set_labels = (\"Aldh1l1\", \"Gfap\", \"Double_positive\")\n",
    "    )"
   ]
  },
  {
   "cell_type": "markdown",
   "metadata": {},
   "source": [
    "## Scatter plot and pie chart - hfd 5"
   ]
  },
  {
   "cell_type": "markdown",
   "metadata": {},
   "source": [
    "### hfd 5"
   ]
  },
  {
   "cell_type": "markdown",
   "metadata": {},
   "source": [
    "#### Gfap"
   ]
  },
  {
   "cell_type": "code",
   "execution_count": 159,
   "metadata": {},
   "outputs": [],
   "source": [
    "#####################################################################################################################\n",
    "if bool_plot == True:    \n",
    "    cf.plot_umap_marker(adata_astro[adata_astro.obs['diet'] == 'hfd_5', ],\n",
    "                        ['gfap_only'],\n",
    "                        palette=['silver', 'magenta'],\n",
    "                        save=\"_astrocytes_gfap_only_hfd5.png\",\n",
    "                        size=40,\n",
    "                        color_map=mymap,\n",
    "                        use_raw=False,\n",
    "                        frameon=False,\n",
    "                        title='', \n",
    "                        legend_loc=None\n",
    "    ) \n",
    "\n",
    "    data = adata_astro[adata_astro.obs['diet'] == 'hfd_5', ].obs['gfap_only'].value_counts().sort_index()\n",
    "    plt.pie(data,\n",
    "            autopct=lambda pct: cf.func(pct, data),\n",
    "            textprops=dict(color=\"black\", fontsize=24),\n",
    "            colors=['silver', 'magenta'],\n",
    "            pctdistance=1.2\n",
    "    ) \n",
    "    plt.savefig(sc_settings_figdir+'pie_astrocytes_gfap_only_hfd5.pdf')"
   ]
  },
  {
   "cell_type": "markdown",
   "metadata": {},
   "source": [
    "#### Aldhl1l"
   ]
  },
  {
   "cell_type": "code",
   "execution_count": 160,
   "metadata": {},
   "outputs": [],
   "source": [
    "#####################################################################################################################\n",
    "if bool_plot == True:    \n",
    "    cf.plot_umap_marker(adata_astro[adata_astro.obs['diet'] == 'hfd_5', ],\n",
    "                        ['aldh_only'], \n",
    "                        palette=['silver', 'limegreen'],\n",
    "                        save=\"_astrocytes_aldh_only_hfd5.png\", \n",
    "                        size=40, \n",
    "                        color_map=mymap,\n",
    "                        use_raw=False,\n",
    "                        frameon=False,\n",
    "                        title='',\n",
    "                        legend_loc=None\n",
    "    )\n",
    "    data = adata_astro[adata_astro.obs['diet'] == 'hfd_5', ].obs['aldh_only'].value_counts().sort_index()\n",
    "    plt.pie(data, \n",
    "            autopct=lambda pct: cf.func(pct, data), \n",
    "            textprops=dict(color=\"black\",fontsize=24),\n",
    "            colors=['silver','limegreen'],\n",
    "            pctdistance=1.2\n",
    "    ) \n",
    "    plt.savefig(sc_settings_figdir+'pie_astrocytes_aldh_only_hfd5.pdf')"
   ]
  },
  {
   "cell_type": "markdown",
   "metadata": {},
   "source": [
    "#### Doble positive"
   ]
  },
  {
   "cell_type": "code",
   "execution_count": 161,
   "metadata": {},
   "outputs": [],
   "source": [
    "#####################################################################################################################\n",
    "if bool_plot == True:    \n",
    "    cf.plot_umap_marker(adata_astro[adata_astro.obs['diet'] == 'hfd_5', ],\n",
    "                        ['both'],\n",
    "                        palette=['silver','dodgerblue'],\n",
    "                        save=\"_astrocytes_both_hfd5.png\", \n",
    "                        size=40, \n",
    "                        color_map=mymap,\n",
    "                        use_raw=False,\n",
    "                        frameon=False,\n",
    "                        title='',\n",
    "                        legend_loc=None\n",
    "    )\n",
    "    data = adata_astro[adata_astro.obs['diet'] == 'hfd_5', ].obs['both'].value_counts().sort_index()\n",
    "    plt.pie(data,\n",
    "            autopct=lambda pct: cf.func(pct, data),\n",
    "            textprops=dict(color=\"black\", fontsize=24),\n",
    "            colors=['silver', 'dodgerblue'],\n",
    "            pctdistance=1.2\n",
    "    ) \n",
    "    plt.savefig(sc_settings_figdir+'pie_astrocytes_both_hfd5.pdf')"
   ]
  },
  {
   "cell_type": "markdown",
   "metadata": {},
   "source": [
    "### Differential gene expression - hfd5"
   ]
  },
  {
   "cell_type": "markdown",
   "metadata": {},
   "source": [
    "#### Aldhl1l"
   ]
  },
  {
   "cell_type": "code",
   "execution_count": 162,
   "metadata": {},
   "outputs": [],
   "source": [
    "#####################################################################################################################\n",
    "if bool_plot == True:\n",
    "    astro_5 = adata_astro[:,~adata_astro.var.index.isin(['Gfap', 'Aldh1l1'])]\n",
    "    astro_5.obs['aldh-gfap_both'] = astro_5.obs['gfap_aldh'].replace({'both': 'gfap_both',\n",
    "                                                                      'gfap_only': 'gfap_both'}                                                              \n",
    "    )\n",
    "    \n",
    "    astro5a = astro_5[(astro_5.obs['diet'] == 'hfd_5') & \n",
    "                      (astro_5.obs['aldh-gfap_both'].isin(['aldh_only', 'gfap_both'])), ]\n",
    "    astro5a = astro5a[:,astro5a.var.index.isin(x)]\n",
    "    \n",
    "    dets_mark = de.test.t_test(data=astro5a,\n",
    "                               sample_description=astro5a.obs,\n",
    "                               grouping=\"aldh-gfap_both\",\n",
    "                               is_logged=False\n",
    "    )\n",
    "    dets_mark_summary = dets_mark.summary()\n",
    "    dets_mark_summary.to_csv(path_or_buf=dir_tables+\"aldh-gfap_both-hfd5.csv\",\n",
    "                             sep=\"\\t\"\n",
    "    )\n",
    "    print(len(dets_mark_summary[dets_mark_summary['pval'] < 0.05]))"
   ]
  },
  {
   "cell_type": "markdown",
   "metadata": {},
   "source": [
    "#### Gfap"
   ]
  },
  {
   "cell_type": "code",
   "execution_count": 163,
   "metadata": {},
   "outputs": [],
   "source": [
    "#####################################################################################################################\n",
    "if bool_plot == True:\n",
    "    astro_5 = adata_astro[:,~adata_astro.var.index.isin(['Gfap', 'Aldh1l1'])]\n",
    "    astro_5.obs['gfap-aldh_both'] = astro_5.obs['gfap_aldh'].replace({'both': 'aldh_both', \n",
    "                                                                      'aldh_only': 'aldh_both'}\n",
    "    )\n",
    "    # select only: gfap_only and aldh_both from chow\n",
    "    astro5g = astro_5[(astro_5.obs['diet'] == 'hfd_5') & \n",
    "                      (astro_5.obs['gfap-aldh_both'].isin(['gfap_only', 'aldh_both'])), ]\n",
    "    astro5g = astro5g[:,astro5g.var.index.isin(x)]\n",
    "        \n",
    "    dets_mark = de.test.t_test(data=astro5g, \n",
    "                               sample_description=astro5g.obs,\n",
    "                               grouping=\"gfap-aldh_both\",\n",
    "                               is_logged=False\n",
    "    )\n",
    "    dets_mark_summary = dets_mark.summary()\n",
    "    dets_mark_summary.to_csv(path_or_buf=dir_tables+\"gfap-aldh_both-hfd5.csv\",\n",
    "                             sep=\"\\t\"\n",
    "    )\n",
    "    print(len(dets_mark_summary[dets_mark_summary['pval'] < 0.05]))"
   ]
  },
  {
   "cell_type": "markdown",
   "metadata": {},
   "source": [
    "#### Doble positive"
   ]
  },
  {
   "cell_type": "code",
   "execution_count": 164,
   "metadata": {},
   "outputs": [],
   "source": [
    "#####################################################################################################################\n",
    "if bool_plot == True:\n",
    "    astro_5 = adata_astro[:,~adata_astro.var.index.isin(['Gfap', 'Aldh1l1'])]\n",
    "    astro_5.obs['both-aldh_gfap'] = astro_5.obs['gfap_aldh'].replace({'gfap_only': 'aldh_gfap', \n",
    "                                                                      'aldh_only': 'aldh_gfap'}\n",
    "    )\n",
    "   \n",
    "    astro5b = astro_5[(astro_5.obs['diet'] == 'hfd_5') & \n",
    "                      (astro_5.obs['both-aldh_gfap'].isin(['both', 'aldh_gfap'])), ]\n",
    "    astro5b = astro5b[:,astro5b.var.index.isin(x)]\n",
    "    \n",
    "    dets_mark = de.test.t_test(data=astro5b,\n",
    "                               sample_description=astro5b.obs,\n",
    "                               grouping=\"both-aldh_gfap\",\n",
    "                               is_logged=False\n",
    "    )\n",
    "    dets_mark_summary = dets_mark.summary()\n",
    "    dets_mark_summary.to_csv(path_or_buf=dir_tables+\"both-aldh_gfap-hfd5.csv\",\n",
    "                             sep=\"\\t\"\n",
    "    )\n",
    "    print(len(dets_mark_summary[dets_mark_summary['pval'] < 0.05]))"
   ]
  },
  {
   "cell_type": "markdown",
   "metadata": {},
   "source": [
    "### hfd 15"
   ]
  },
  {
   "cell_type": "markdown",
   "metadata": {},
   "source": [
    "#### Gfap"
   ]
  },
  {
   "cell_type": "code",
   "execution_count": 165,
   "metadata": {},
   "outputs": [],
   "source": [
    "#####################################################################################################################\n",
    "if bool_plot == True:    \n",
    "    cf.plot_umap_marker(adata_astro[adata_astro.obs['diet'] == 'hfd_15', ],\n",
    "                        ['gfap_only'], \n",
    "                        palette=['silver', 'violet'],\n",
    "                        save=\"_astrocytes_gfap_only_hfd15.png\",\n",
    "                        size=40, \n",
    "                        color_map=mymap, \n",
    "                        use_raw=False, \n",
    "                        frameon=False,\n",
    "                        title='', \n",
    "                        legend_loc=None\n",
    "    ) \n",
    "\n",
    "    data = adata_astro[adata_astro.obs['diet'] == 'hfd_15', ].obs['gfap_only'].value_counts().sort_index()\n",
    "    plt.pie(data, \n",
    "            autopct=lambda pct: cf.func(pct, data),\n",
    "            textprops=dict(color=\"black\", fontsize=24),\n",
    "            colors=['silver', 'violet'],\n",
    "            pctdistance=1.2\n",
    "    ) \n",
    "    plt.savefig(sc_settings_figdir+'pie_astrocytes_gfap_only_hfd15.pdf')"
   ]
  },
  {
   "cell_type": "markdown",
   "metadata": {},
   "source": [
    "#### Aldhl1l"
   ]
  },
  {
   "cell_type": "code",
   "execution_count": 166,
   "metadata": {},
   "outputs": [],
   "source": [
    "#####################################################################################################################\n",
    "if bool_plot == True:    \n",
    "    cf.plot_umap_marker(adata_astro[adata_astro.obs['diet'] == 'hfd_15', ], \n",
    "                        ['aldh_only'],\n",
    "                        palette=['silver','lime'],\n",
    "                        save=\"_astrocytes_aldh_only_hfd15.png\",\n",
    "                        size=40, \n",
    "                        color_map=mymap,\n",
    "                        use_raw=False,\n",
    "                        frameon=False,\n",
    "                        title='',\n",
    "                        legend_loc=None\n",
    "    )\n",
    "    data = adata_astro[adata_astro.obs['diet'] == 'hfd_15', ].obs['aldh_only'].value_counts().sort_index()\n",
    "    plt.pie(data, \n",
    "            autopct=lambda pct: cf.func(pct, data), \n",
    "            textprops=dict(color=\"black\", fontsize=24),\n",
    "            colors=['silver', 'lime'],\n",
    "            pctdistance=1.2\n",
    "    ) \n",
    "    plt.savefig(sc_settings_figdir+'pie_astrocytes_aldh_only_hfd15.pdf')"
   ]
  },
  {
   "cell_type": "markdown",
   "metadata": {},
   "source": [
    "#### Doble positive"
   ]
  },
  {
   "cell_type": "code",
   "execution_count": 167,
   "metadata": {},
   "outputs": [],
   "source": [
    "#####################################################################################################################\n",
    "if bool_plot == True:    \n",
    "    cf.plot_umap_marker(adata_astro[adata_astro.obs['diet'] == 'hfd_15', ], \n",
    "                        ['both'], \n",
    "                        palette=['silver', 'darkturquoise'],\n",
    "                        save=\"_astrocytes_both_hfd15.png\",\n",
    "                        size=40,\n",
    "                        color_map=mymap, \n",
    "                        use_raw=False, \n",
    "                        frameon=False,\n",
    "                        title='',\n",
    "                        legend_loc=None\n",
    "    )\n",
    "\n",
    "    data = adata_astro[adata_astro.obs['diet'] == 'hfd_15', ].obs['both'].value_counts().sort_index()\n",
    "    plt.pie(data, \n",
    "            autopct=lambda pct: cf.func(pct, data), \n",
    "            textprops=dict(color=\"black\", fontsize=24),\n",
    "            colors=['silver', 'darkturquoise'], \n",
    "            pctdistance=1.2\n",
    "    ) \n",
    "    plt.savefig(sc_settings_figdir+'pie_astrocytes_both_hfd15.pdf')"
   ]
  },
  {
   "cell_type": "markdown",
   "metadata": {},
   "source": [
    "### Differential gene expression - hfd15"
   ]
  },
  {
   "cell_type": "markdown",
   "metadata": {},
   "source": [
    "#### Aldhl1l"
   ]
  },
  {
   "cell_type": "code",
   "execution_count": 168,
   "metadata": {},
   "outputs": [],
   "source": [
    "#####################################################################################################################\n",
    "if bool_plot == True:\n",
    "    astro_15 = adata_astro[:,~adata_astro.var.index.isin(['Gfap', 'Aldh1l1'])]\n",
    "    astro_15.obs['aldh-gfap_both'] = astro_15.obs['gfap_aldh'].replace({'both': 'gfap_both', \n",
    "                                                                        'gfap_only': 'gfap_both'}\n",
    "    )\n",
    "    astro15a = astro_15[(astro_15.obs['diet'] == 'hfd_15') &\n",
    "                        (astro_15.obs['aldh-gfap_both'].isin(['aldh_only', 'gfap_both'])), ]\n",
    "    astro15a = astro15a[:,astro15a.var.index.isin(x)]\n",
    "    \n",
    "    dets_mark = de.test.t_test(data=astro15a,\n",
    "                               sample_description=astro15a.obs,\n",
    "                               grouping=\"aldh-gfap_both\", \n",
    "                               is_logged=False\n",
    "    )\n",
    "    dets_mark_summary = dets_mark.summary()\n",
    "    dets_mark_summary.to_csv(path_or_buf=dir_tables+\"aldh-gfap_both-hfd15.csv\",\n",
    "                             sep=\"\\t\"\n",
    "    )\n",
    "    print(len(dets_mark_summary[dets_mark_summary['pval'] < 0.05]))"
   ]
  },
  {
   "cell_type": "markdown",
   "metadata": {},
   "source": [
    "#### Gfap"
   ]
  },
  {
   "cell_type": "code",
   "execution_count": 169,
   "metadata": {},
   "outputs": [],
   "source": [
    "#####################################################################################################################\n",
    "if bool_plot == True:\n",
    "    astro_15 = adata_astro[:,~adata_astro.var.index.isin(['Gfap', 'Aldh1l1'])]\n",
    "    astro_15.obs['gfap-aldh_both'] = astro_15.obs['gfap_aldh'].replace({'both': 'aldh_both', \n",
    "                                                                        'aldh_only': 'aldh_both'}\n",
    "    )\n",
    "    # select only: gfap_only and aldh_both from chow\n",
    "    astro15g = astro_15[(astro_15.obs['diet'] == 'hfd_15') & \n",
    "                        (astro_15.obs['gfap-aldh_both'].isin(['gfap_only', 'aldh_both'])), ]\n",
    "    astro15g = astro15g[:,astro15g.var.index.isin(x)]\n",
    "        \n",
    "    dets_mark = de.test.t_test(data=astro15g,\n",
    "                               sample_description=astro15g.obs,\n",
    "                               grouping=\"gfap-aldh_both\",\n",
    "                               is_logged=False\n",
    "    )\n",
    "    dets_mark_summary = dets_mark.summary()\n",
    "    dets_mark_summary.to_csv(path_or_buf=dir_tables+\"gfap-aldh_both-hfd15.csv\",\n",
    "                             sep=\"\\t\"\n",
    "    )\n",
    "    print(len(dets_mark_summary[dets_mark_summary['pval'] < 0.05]))"
   ]
  },
  {
   "cell_type": "markdown",
   "metadata": {},
   "source": [
    "#### Doble positive"
   ]
  },
  {
   "cell_type": "code",
   "execution_count": 170,
   "metadata": {},
   "outputs": [],
   "source": [
    "#####################################################################################################################\n",
    "if bool_plot == True:\n",
    "    astro_15 = adata_astro[:,~adata_astro.var.index.isin(['Gfap', 'Aldh1l1'])]\n",
    "    astro_5.obs['both-aldh_gfap'] = astro_5.obs['gfap_aldh'].replace({'gfap_only': 'aldh_gfap',\n",
    "                                                                      'aldh_only': 'aldh_gfap'}\n",
    "    )\n",
    "    astro5b = astro_5[(astro_5.obs['diet'] == 'hfd_5') & \n",
    "                      (astro_5.obs['both-aldh_gfap'].isin(['both', 'aldh_gfap'])), ]\n",
    "    astro5b = astro5b[:,astro5b.var.index.isin(x)]\n",
    "    \n",
    "    dets_mark = de.test.t_test(data=astro5b, \n",
    "                               sample_description=astro5b.obs,\n",
    "                               grouping=\"both-aldh_gfap\",\n",
    "                               is_logged=False\n",
    "    )\n",
    "    dets_mark_summary = dets_mark.summary()\n",
    "    dets_mark_summary.to_csv(path_or_buf=dir_tables+\"both-aldh_gfap-hfd5.csv\",\n",
    "                             sep=\"\\t\"\n",
    "    )\n",
    "    print(len(dets_mark_summary[dets_mark_summary['pval'] < 0.05]))"
   ]
  },
  {
   "cell_type": "code",
   "execution_count": 171,
   "metadata": {},
   "outputs": [],
   "source": [
    "if bool_plot == True:\n",
    "    chow_aldh_gfap['Condition']='chow_aldh_gfap'\n",
    "    chow_both_gfap['Condition']='chow_both_gfap'\n",
    "    chow_aldh_both['Condition']='chow_aldh_both'\n",
    "\n",
    "    df = chow_aldh_gfap.append([chow_both_gfap, chow_aldh_both])\n",
    "    df['Count'] = df['Overlap'].str.split('/').str[0]\n",
    "    df = df.astype({'Count': 'int32'})\n",
    "\n",
    "    #plt.rcParams['figure.figsize'] = [5, 10]\n",
    "    \n",
    "    #df=df.loc[df['Term'].isin(rpath), ]  # select only the pathways of interest\n",
    "    sct = plt.scatter(x=\"Condition\",\n",
    "                      y=\"Term\",\n",
    "                      s=5*df['Count'], \n",
    "                      c=df['Adjusted P-value'], \n",
    "                      cmap='inferno',\n",
    "                      data=df\n",
    "    )\n",
    "    plt.margins(x=0.5,\n",
    "                y=0.05\n",
    "    )\n",
    "    #plt.xticks(rotation=30, ha='right')\n",
    "    plt.colorbar(alpha=0.05, \n",
    "                 aspect=16,\n",
    "                 shrink=0.4,\n",
    "                 label='adjusted p-value'\n",
    "    ) \n",
    "    #plt.legend(*sct.legend_elements('sizes', num=[5,10,20,30,40,80], alpha=0.6), title=\"number of genes\")\n",
    "    plt.show()"
   ]
  },
  {
   "cell_type": "code",
   "execution_count": 172,
   "metadata": {
    "scrolled": false
   },
   "outputs": [],
   "source": [
    "if bool_plot == True:\n",
    "    chow_aldh_gfap['Condition']='chow_aldh_gfap'\n",
    "    chow_both_gfap['Condition']='chow_both_gfap'\n",
    "    chow_aldh_both['Condition']='chow_aldh_both'\n",
    "    hfd5_aldh_gfap['Condition']='hfd5_aldh_gfap'\n",
    "    hfd5_both_gfap['Condition']='hfd5_both_gfap'\n",
    "    hfd5_aldh_both['Condition']='hfd5_aldh_both'\n",
    "    hfd15_aldh_gfap['Condition']='hfd15_aldh_gfap'\n",
    "    hfd15_both_gfap['Condition']='hfd15_both_gfap'\n",
    "    hfd15_aldh_both['Condition']='hfd15_aldh_both'\n",
    "\n",
    "    df = chow_aldh_gfap.append([chow_both_gfap, chow_aldh_both, hfd5_aldh_gfap,\n",
    "                                hfd5_both_gfap, hfd5_aldh_both, hfd15_aldh_gfap,\n",
    "                                hfd15_both_gfap, hfd15_aldh_both]\n",
    "    )\n",
    "    df['Count'] = df['Overlap'].str.split('/').str[0]\n",
    "    df=df.astype({'Count': 'int32'})\n",
    "\n",
    "    #plt.rcParams['figure.figsize']=[8, 20]\n",
    "    \n",
    "    #df=df.loc[df['Term'].isin(rpath), ]  # select only the pathways of interest\n",
    "    sct = plt.scatter(x=\"Condition\",\n",
    "                      y=\"Term\",\n",
    "                      s=df['Count'],\n",
    "                      c=df['Adjusted P-value'],\n",
    "                      cmap='inferno', \n",
    "                      data=df\n",
    "    )\n",
    "    plt.margins(0.02)\n",
    "    plt.xticks(rotation=30,\n",
    "               ha='right'\n",
    "    )\n",
    "    plt.colorbar(alpha=0.05,\n",
    "                 aspect=16,\n",
    "                 shrink=0.4,\n",
    "                 label='adjusted p-value'\n",
    "    ) \n",
    "    #plt.legend(*sct.legend_elements('sizes', num=[5,10,20,30,40,80], alpha=0.6), title=\"number of genes\")\n",
    "    plt.show()"
   ]
  },
  {
   "cell_type": "markdown",
   "metadata": {},
   "source": [
    "# Differential expression - diet effect"
   ]
  },
  {
   "cell_type": "markdown",
   "metadata": {},
   "source": [
    "### Aldh1l1"
   ]
  },
  {
   "cell_type": "markdown",
   "metadata": {},
   "source": [
    "#### chow_vs_hfd5"
   ]
  },
  {
   "cell_type": "code",
   "execution_count": 173,
   "metadata": {},
   "outputs": [],
   "source": [
    "#####################################################################################################################\n",
    "if bool_plot == True:\n",
    "    astro_0 = adata_astro[:,~adata_astro.var.index.isin(['Gfap', 'Aldh1l1'])]\n",
    "    astro5a = astro_0[(astro_0.obs['diet'].isin(['chow', 'hfd_5']) & \n",
    "                      (astro_0.obs['gfap_aldh'] == 'aldh_only')), ]\n",
    "    astro5a = astro5a[:,astro5a.var.index.isin(x)]\n",
    "    \n",
    "    dets_mark = de.test.t_test(data=astro5a,\n",
    "                               sample_description=astro5a.obs, \n",
    "                               grouping=\"diet\", \n",
    "                               is_logged=False\n",
    "    )\n",
    "    dets_mark_summary = dets_mark.summary()\n",
    "    dets_mark_summaryA5 = dets_mark_summary[dets_mark_summary['qval'] < 0.05]\n",
    "    dets_mark_summaryA5.to_csv(path_or_buf=dir_tables+\"diet_aldh_only_chow-hfd5.csv\",\n",
    "                               sep=\"\\t\"\n",
    "    )\n",
    "    print(len(dets_mark_summaryA5[dets_mark_summaryA5['qval'] < 0.05]))"
   ]
  },
  {
   "cell_type": "markdown",
   "metadata": {},
   "source": [
    "#### chow_vs_hfd15"
   ]
  },
  {
   "cell_type": "code",
   "execution_count": 174,
   "metadata": {},
   "outputs": [],
   "source": [
    "#####################################################################################################################\n",
    "if bool_plot == True:\n",
    "    astro_0 = adata_astro[:,~adata_astro.var.index.isin(['Gfap', 'Aldh1l1'])]\n",
    "    astro15a = astro_0[(astro_0.obs['diet'].isin(['chow', 'hfd_15']) & \n",
    "                      (astro_0.obs['gfap_aldh'] == 'aldh_only')), ]\n",
    "    astro15a = astro15a[:,astro15a.var.index.isin(x)]\n",
    "    \n",
    "    dets_mark = de.test.t_test(data=astro15a,\n",
    "                               sample_description=astro15a.obs,\n",
    "                               grouping=\"diet\",\n",
    "                               is_logged=False\n",
    "    )\n",
    "    dets_mark_summary = dets_mark.summary()\n",
    "    dets_mark_summaryA15 = dets_mark_summary[dets_mark_summary['qval'] < 0.05]  \n",
    "    dets_mark_summaryA15.to_csv(path_or_buf=dir_tables+\"diet_aldh_only_chow-hfd15.csv\",\n",
    "                                sep=\"\\t\"\n",
    "    )\n",
    "    print(len(dets_mark_summaryA15[dets_mark_summaryA15['qval'] < 0.05]))"
   ]
  },
  {
   "cell_type": "code",
   "execution_count": 175,
   "metadata": {},
   "outputs": [],
   "source": [
    "if bool_plot == True:\n",
    "    matplotlib_venn.venn2_unweighted([ set(dets_mark_summaryA5.iloc[:,0],),\n",
    "                                       set(dets_mark_summaryA15.iloc[:,0]),],\n",
    "                                     set_labels=(\"chow-hfd5\", \"chow-hfd15\")\n",
    "    )"
   ]
  },
  {
   "cell_type": "code",
   "execution_count": 176,
   "metadata": {
    "scrolled": false
   },
   "outputs": [],
   "source": [
    "if bool_plot == True:\n",
    "    for i in dets_mark_summary[dets_mark_summary['qval'] < 0.05]['gene']:\n",
    "        sc.pl.stacked_violin(adata_astro[adata_astro.obs['gfap_aldh'] != 'none',],\n",
    "                             i,#list(set(dets_mark_summaryA5.iloc[:,0])-set(dets_mark_summaryA15.iloc[:,0])),\n",
    "                             groupby='diet_marker1',\n",
    "                             use_raw=False, \n",
    "                             log=False, \n",
    "                             dendrogram=False,\n",
    "                             rotation=90,\n",
    "                             title=\"\",\n",
    "                             size=10,\n",
    "                             colorbar_title='',\n",
    "                             swap_axes=True\n",
    "        )"
   ]
  },
  {
   "cell_type": "markdown",
   "metadata": {},
   "source": [
    "### Gfap"
   ]
  },
  {
   "cell_type": "markdown",
   "metadata": {},
   "source": [
    "#### chow_vs_hfd5"
   ]
  },
  {
   "cell_type": "code",
   "execution_count": 177,
   "metadata": {},
   "outputs": [],
   "source": [
    "#####################################################################################################################\n",
    "if bool_plot == True:\n",
    "    astro5g = astro_0[(astro_0.obs['diet'].isin(['chow', 'hfd_5']) & \n",
    "                      (astro_0.obs['gfap_aldh'] == 'gfap_only')), ]\n",
    "    astro5g = astro5g[:,astro5g.var.index.isin(x)]\n",
    "    \n",
    "    dets_mark = de.test.t_test(data=astro5g,\n",
    "                               sample_description=astro5g.obs,\n",
    "                               grouping=\"diet\",\n",
    "                               is_logged=False\n",
    "    )\n",
    "    dets_mark_summary = dets_mark.summary()\n",
    "    dets_mark_summary.to_csv(path_or_buf=dir_tables+\"diet_gfap_only_chow-hfd5.csv\",\n",
    "                             sep=\"\\t\"\n",
    "    )\n",
    "    print(len(dets_mark_summary[dets_mark_summary['qval'] < 0.05]))"
   ]
  },
  {
   "cell_type": "markdown",
   "metadata": {},
   "source": [
    "#### chow_vs_hfd15"
   ]
  },
  {
   "cell_type": "code",
   "execution_count": 178,
   "metadata": {},
   "outputs": [],
   "source": [
    "#####################################################################################################################\n",
    "if bool_plot == True:\n",
    "    astro15g = astro_0[(astro_0.obs['diet'].isin(['chow', 'hfd_15']) & \n",
    "                       (astro_0.obs['gfap_aldh'] == 'gfap_only')), ]\n",
    "    astro15g = astro15g[:,astro15g.var.index.isin(x)]\n",
    "    \n",
    "    dets_mark = de.test.t_test(data=astro15g,\n",
    "                               sample_description=astro15g.obs,\n",
    "                               grouping=\"diet\", \n",
    "                               is_logged=False\n",
    "    )\n",
    "    dets_mark_summary=dets_mark.summary()\n",
    "    dets_mark_summary.to_csv(path_or_buf=dir_tables+\"diet_gfap_only_chow-hfd15.csv\", \n",
    "                             sep=\"\\t\"\n",
    "    )\n",
    "    print(len(dets_mark_summary[dets_mark_summary['qval'] < 0.05]))"
   ]
  },
  {
   "cell_type": "markdown",
   "metadata": {},
   "source": [
    "### Double positive"
   ]
  },
  {
   "cell_type": "markdown",
   "metadata": {},
   "source": [
    "#### chow_vs_hfd5"
   ]
  },
  {
   "cell_type": "code",
   "execution_count": 179,
   "metadata": {},
   "outputs": [],
   "source": [
    "#####################################################################################################################\n",
    "if bool_plot == True:\n",
    "    astro5b = astro_0[(astro_0.obs['diet'].isin(['chow', 'hfd_5']) & \n",
    "                      (astro_0.obs['gfap_aldh'] == 'both')), ]\n",
    "    astro5b = astro5b[:,astro5b.var.index.isin(x)]\n",
    "    \n",
    "    dets_mark = de.test.t_test(data=astro5b,\n",
    "                               sample_description=astro5b.obs, \n",
    "                               grouping=\"diet\", \n",
    "                               is_logged=False\n",
    "    )\n",
    "    dets_mark_summary = dets_mark.summary()\n",
    "    dets_mark_summary.to_csv(path_or_buf=dir_tables+\"diet_both_chow-hfd5.csv\",\n",
    "                             sep=\"\\t\"\n",
    "    )\n",
    "    print(len(dets_mark_summary[dets_mark_summary['qval'] < 0.05]))"
   ]
  },
  {
   "cell_type": "markdown",
   "metadata": {},
   "source": [
    "#### chow_vs_hfd15"
   ]
  },
  {
   "cell_type": "code",
   "execution_count": 180,
   "metadata": {},
   "outputs": [],
   "source": [
    "#####################################################################################################################\n",
    "if bool_plot == True:\n",
    "    astro15b = astro_0[(astro_0.obs['diet'].isin(['chow', 'hfd_15']) & \n",
    "                       (astro_0.obs['gfap_aldh'] == 'both')), ]\n",
    "    astro15b = astro15b[:,astro15b.var.index.isin(x)]\n",
    "    \n",
    "    dets_mark = de.test.t_test(data=astro15b, \n",
    "                               sample_description=astro15b.obs, \n",
    "                               grouping=\"diet\",\n",
    "                               is_logged=False\n",
    "    )\n",
    "    dets_mark_summary = dets_mark.summary()\n",
    "    dets_mark_summary.to_csv(path_or_buf=dir_tables+\"diet_both_chow-hfd15.csv\", \n",
    "                             sep=\"\\t\"\n",
    "    )\n",
    "    print(len(dets_mark_summary[dets_mark_summary['qval'] < 0.05]))"
   ]
  },
  {
   "cell_type": "markdown",
   "metadata": {},
   "source": [
    "# Welch ANOVA - marker effect"
   ]
  },
  {
   "cell_type": "markdown",
   "metadata": {},
   "source": [
    "First you need to run all diets (because it will give problem in the plots) and then plot"
   ]
  },
  {
   "cell_type": "markdown",
   "metadata": {},
   "source": [
    "### chow"
   ]
  },
  {
   "cell_type": "code",
   "execution_count": 181,
   "metadata": {
    "scrolled": true
   },
   "outputs": [],
   "source": [
    "if bool_plot == True:\n",
    "    ch = astro_0[(astro_0.obs['diet'].isin(['chow'])) & \n",
    "                 (astro_0.obs['gfap_aldh'].isin(['aldh_only', 'gfap_only', 'both']))]\n",
    "    ch = ch[:,ch.var.index.isin(x)]\n",
    "    gene_name=[]\n",
    "    pval=[]\n",
    "    aldh_both_pval=[]\n",
    "    aldh_gfap_pval=[]\n",
    "    both_gfap_pval=[]\n",
    "\n",
    "    for i in range(ch.n_vars):\n",
    "        gen = ch.var.index[i]\n",
    "\n",
    "        aldh = ch[ch.obs['gfap_aldh'] == 'aldh_only', gen].X.toarray()\n",
    "        gfap = ch[ch.obs['gfap_aldh'] == 'gfap_only', gen].X.toarray()\n",
    "        both = ch[ch.obs['gfap_aldh'] == 'both', gen].X.toarray()\n",
    "        args=(aldh, gfap, both)\n",
    "        xt = np.concatenate(args)\n",
    "        xt = xt.ravel()\n",
    "\n",
    "        #create DataFrame\n",
    "        df = pd.DataFrame({'score': xt,\n",
    "                           'group': np.repeat(['aldh', 'gfap', 'both'],\n",
    "                                              repeats=[len(aldh), len(gfap), len(both)])}\n",
    "        ) \n",
    "\n",
    "        #perform Welch's ANOVA\n",
    "        oall = pg.welch_anova(dv='score',\n",
    "                              between='group',\n",
    "                              data=df)['p-unc']\n",
    "\n",
    "        pergen = pg.pairwise_gameshowell(dv='score',\n",
    "                                         between='group',\n",
    "                                         data=df)['pval']\n",
    "        gene_name.append(gen)\n",
    "        pval.append(oall.loc[0])\n",
    "        aldh_both_pval.append(pergen[0])\n",
    "        aldh_gfap_pval.append(pergen[1])\n",
    "        both_gfap_pval.append(pergen[2])\n",
    "\n",
    "    d=pd.DataFrame()\n",
    "    d['gene_name']=gene_name\n",
    "    d['pval']=pval\n",
    "    d['aldh_both_pval']=aldh_both_pval\n",
    "    d['aldh_gfap_pval']=aldh_gfap_pval\n",
    "    d['both_gfap_pval']=both_gfap_pval\n",
    "\n",
    "    # perform BH multipliciity correctioin\n",
    "    d['pval_adj'] = cf.fdr(d['pval'])\n",
    "    # sorrt by corrected pval\n",
    "    dfin_0 = d.sort_values(by=['pval_adj'])"
   ]
  },
  {
   "cell_type": "code",
   "execution_count": 182,
   "metadata": {
    "scrolled": false
   },
   "outputs": [],
   "source": [
    "if bool_plot == True:\n",
    "    for i in list(set(dfin_0.iloc[:40,0])-set(dfin_5.iloc[:160,0])-set(dfin_15.iloc[:115,0])):\n",
    "        sc.pl.stacked_violin(adata_astro[adata_astro.obs['gfap_aldh'] != 'none',],\n",
    "                             i,#list(set(dfin_gf.iloc[:17,0])-set(dfin_al.iloc[:52,0])-set(dfin_b.iloc[:19,0])),\n",
    "                             groupby='diet_marker1',\n",
    "                             use_raw=False, \n",
    "                             log=False, \n",
    "                             dendrogram=False,\n",
    "                             rotation=90,\n",
    "                             #scale='area',  # area\n",
    "                             title=\"\",\n",
    "                             size=10,\n",
    "                             colorbar_title='',\n",
    "                             #vmin=-1, vmax=1,\n",
    "                             #cmap='bwr',\n",
    "                             #col_palette=['green','green','green','blue','blue','blue','magenta','magenta','magenta'],\n",
    "                             swap_axes=True\n",
    "        )"
   ]
  },
  {
   "cell_type": "code",
   "execution_count": 183,
   "metadata": {
    "scrolled": false
   },
   "outputs": [],
   "source": [
    "if bool_plot == True:\n",
    "    sc.pl.stacked_violin(astro_0[(astro_0.obs['diet'].isin(['chow'])) & \n",
    "                                 (astro_0.obs['gfap_aldh'].isin(['aldh_only', 'gfap_only', 'both']))],\n",
    "                         list(set(dfin_0.iloc[:40,0])-set(dfin_5.iloc[:160,0])-set(dfin_15.iloc[:115,0])),  \n",
    "                         groupby='gfap_aldh', \n",
    "                         use_raw=False,\n",
    "                         swap_axes=True,\n",
    "                         dendrogram=False,\n",
    "                         title=''\n",
    "    )"
   ]
  },
  {
   "cell_type": "markdown",
   "metadata": {},
   "source": [
    "#### hfd 5"
   ]
  },
  {
   "cell_type": "code",
   "execution_count": 184,
   "metadata": {},
   "outputs": [],
   "source": [
    "if bool_plot == True:\n",
    "    h5 = astro_0[(astro_0.obs['diet'].isin(['hfd_5'])) & \n",
    "                 (astro_0.obs['gfap_aldh'].isin(['aldh_only', 'gfap_only', 'both']))]\n",
    "    h5 = h5[:,h5.var.index.isin(x)]\n",
    "    gene_name=[]\n",
    "    pval=[]\n",
    "    aldh_both_pval=[]\n",
    "    aldh_gfap_pval=[]\n",
    "    both_gfap_pval=[]\n",
    "\n",
    "    for i in range(h5.n_vars):\n",
    "        gen = h5.var.index[i]\n",
    "\n",
    "        aldh = h5[h5.obs['gfap_aldh'] == 'aldh_only', gen].X.toarray()\n",
    "        gfap = h5[h5.obs['gfap_aldh'] == 'gfap_only', gen].X.toarray()\n",
    "        both = h5[h5.obs['gfap_aldh'] == 'both', gen].X.toarray()\n",
    "        args=(aldh, gfap, both)\n",
    "        xt = np.concatenate(args)\n",
    "        xt = xt.ravel()\n",
    "\n",
    "        #create DataFrame\n",
    "        df = pd.DataFrame({'score': xt,\n",
    "                           'group': np.repeat(['aldh', 'gfap', 'both'], \n",
    "                                              repeats=[len(aldh), len(gfap), len(both)])}\n",
    "        ) \n",
    "\n",
    "        #perform Welch's ANOVA\n",
    "        oall = pg.welch_anova(dv='score',\n",
    "                            between='group', \n",
    "                            data=df)['p-unc']\n",
    "\n",
    "        pergen = pg.pairwise_gameshowell(dv='score',\n",
    "                                         between='group', \n",
    "                                         data=df)['pval']\n",
    "\n",
    "        gene_name.append(gen)\n",
    "        pval.append(oall.loc[0])\n",
    "        aldh_both_pval.append(pergen[0])\n",
    "        aldh_gfap_pval.append(pergen[1])\n",
    "        both_gfap_pval.append(pergen[2])\n",
    "\n",
    "    d=pd.DataFrame()\n",
    "    d['gene_name']=gene_name\n",
    "    d['pval']=pval\n",
    "    d['aldh_both_pval']=aldh_both_pval\n",
    "    d['aldh_gfap_pval']=aldh_gfap_pval\n",
    "    d['both_gfap_pval']=both_gfap_pval\n",
    "\n",
    "    # perform BH multipliciity correctioin\n",
    "    d['pval_adj'] = cf.fdr(d['pval'])\n",
    "    # sorrt by corrected pval\n",
    "    dfin_5 = d.sort_values(by=['pval_adj'])"
   ]
  },
  {
   "cell_type": "code",
   "execution_count": 185,
   "metadata": {},
   "outputs": [],
   "source": [
    "if bool_plot == True:\n",
    "    sc.pl.stacked_violin(adata_astro[(astro_0.obs['diet'].isin(['hfd_5'])) & \n",
    "                                     (astro_0.obs['gfap_aldh'].isin(['aldh_only', 'gfap_only', 'both']))],\n",
    "                         list(set(dfin_5.iloc[:160,0])-set(dfin_15.iloc[:115,0])-set(dfin_0.iloc[:40,0])),\n",
    "                         groupby='gfap_aldh', \n",
    "                         use_raw=False,\n",
    "                         swap_axes=True,\n",
    "                         dendrogram=False,\n",
    "                         title=''\n",
    "    )"
   ]
  },
  {
   "cell_type": "markdown",
   "metadata": {},
   "source": [
    "#### hfd 15"
   ]
  },
  {
   "cell_type": "code",
   "execution_count": 186,
   "metadata": {},
   "outputs": [],
   "source": [
    "if bool_plot == True: \n",
    "    h15 = astro_0[(astro_0.obs['diet'].isin(['hfd_15'])) & \n",
    "                  (astro_0.obs['gfap_aldh'].isin(['aldh_only','gfap_only','both']))]\n",
    "    h15 = h15[:,h15.var.index.isin(x)]\n",
    "    gene_name=[]\n",
    "    pval=[]\n",
    "    aldh_both_pval=[]\n",
    "    aldh_gfap_pval=[]\n",
    "    both_gfap_pval=[]\n",
    "\n",
    "    for i in range(h15.n_vars):\n",
    "        gen=h15.var.index[i]\n",
    "\n",
    "        aldh = h15[h15.obs['gfap_aldh'] == 'aldh_only', gen].X.toarray()\n",
    "        gfap = h15[h15.obs['gfap_aldh'] == 'gfap_only', gen].X.toarray()\n",
    "        both = h15[h15.obs['gfap_aldh'] == 'both', gen].X.toarray()\n",
    "        args=(aldh, gfap, both)\n",
    "        xt = np.concatenate(args)\n",
    "        xt = xt.ravel()\n",
    "\n",
    "        #create DataFrame\n",
    "        df = pd.DataFrame({'score': xt,\n",
    "                           'group': np.repeat(['aldh', 'gfap', 'both'],\n",
    "                                              repeats=[len(aldh),len(gfap),len(both)])}) \n",
    "\n",
    "        #perform Welch's ANOVA\n",
    "        oall = pg.welch_anova(dv='score', \n",
    "                              between='group',\n",
    "                              data=df)['p-unc']\n",
    "\n",
    "        pergen = pg.pairwise_gameshowell(dv='score',\n",
    "                                         between='group',\n",
    "                                         data=df)['pval']\n",
    "\n",
    "        gene_name.append(gen)\n",
    "        pval.append(oall.loc[0])\n",
    "        aldh_both_pval.append(pergen[0])\n",
    "        aldh_gfap_pval.append(pergen[1])\n",
    "        both_gfap_pval.append(pergen[2])\n",
    "\n",
    "    d=pd.DataFrame()\n",
    "    d['gene_name']=gene_name\n",
    "    d['pval']=pval\n",
    "    d['aldh_both_pval']=aldh_both_pval\n",
    "    d['aldh_gfap_pval']=aldh_gfap_pval\n",
    "    d['both_gfap_pval']=both_gfap_pval\n",
    "\n",
    "    # perform BH multipliciity correctioin\n",
    "    d['pval_adj'] = cf.fdr(d['pval'])\n",
    "    # sorrt by corrected pval\n",
    "    dfin_15 = d.sort_values(by=['pval_adj'])"
   ]
  },
  {
   "cell_type": "code",
   "execution_count": 187,
   "metadata": {
    "scrolled": true
   },
   "outputs": [],
   "source": [
    "if bool_plot == True: \n",
    "    sc.pl.stacked_violin(astro_0[(astro_0.obs['diet'].isin(['hfd_15'])) & \n",
    "                                 (astro_0.obs['gfap_aldh'].isin(['aldh_only', 'gfap_only', 'both']))],\n",
    "                         list(set(dfin_15.iloc[:115,0])-set(dfin_5.iloc[:160,0])-set(dfin_0.iloc[:40,0])),      \n",
    "                         groupby='gfap_aldh', \n",
    "                         use_raw=False,\n",
    "                         swap_axes=True,\n",
    "                         dendrogram=False,\n",
    "                         title=''\n",
    "    )"
   ]
  },
  {
   "cell_type": "code",
   "execution_count": 188,
   "metadata": {},
   "outputs": [],
   "source": [
    "if bool_plot == True: \n",
    "    matplotlib_venn.venn3_unweighted([set(dfin_0.iloc[:40,0]),\n",
    "                                      set(dfin_5.iloc[:160,0]),\n",
    "                                      set(dfin_15.iloc[:115,0])],\n",
    "                                     set_labels = (\"Chow\", \"Hfd_5\", \"Hfd_15\"))"
   ]
  },
  {
   "cell_type": "markdown",
   "metadata": {},
   "source": [
    "### Stacked violin plot visualisation over the diets and marker populations"
   ]
  },
  {
   "cell_type": "code",
   "execution_count": 189,
   "metadata": {},
   "outputs": [],
   "source": [
    "if bool_plot == True:\n",
    "    adata_astro.obs['diet_marker1']=adata_astro.obs['diet'].astype(str) + '_' + adata_astro.obs['gfap_aldh'].astype(str) "
   ]
  },
  {
   "cell_type": "code",
   "execution_count": 190,
   "metadata": {
    "scrolled": false
   },
   "outputs": [],
   "source": [
    "if bool_plot == True:\n",
    "    sc.pl.stacked_violin(adata_astro[adata_astro.obs['gfap_aldh'] != 'none',],\n",
    "                         list(set(dfin_5.iloc[:160,0])-set(dfin_15.iloc[:115,0])-set(dfin_0.iloc[:40,0])),\n",
    "                         groupby='diet_marker1',\n",
    "                         use_raw=False, \n",
    "                         log=False, \n",
    "                         dendrogram=False,\n",
    "                         rotation=90,\n",
    "                         title=\"aastro\",\n",
    "                         swap_axes=True\n",
    "    )"
   ]
  },
  {
   "cell_type": "code",
   "execution_count": 191,
   "metadata": {},
   "outputs": [],
   "source": [
    "if bool_plot == True:\n",
    "    sc.pl.stacked_violin(adata_astro[adata_astro.obs['gfap_aldh'] != 'none',],\n",
    "                         list(set(dfin_0.iloc[:40,0])-set(dfin_5.iloc[:160,0])-set(dfin_15.iloc[:115,0])),  \n",
    "                         groupby='diet_marker1',\n",
    "                         use_raw=False, \n",
    "                         log=False, \n",
    "                         dendrogram=False,\n",
    "                         rotation=90,\n",
    "                         title=\"\",\n",
    "                         swap_axes=True\n",
    "    )"
   ]
  },
  {
   "cell_type": "markdown",
   "metadata": {},
   "source": [
    "# Welch ANOVA - diet effect"
   ]
  },
  {
   "cell_type": "markdown",
   "metadata": {},
   "source": [
    "### Aldh1l1"
   ]
  },
  {
   "cell_type": "code",
   "execution_count": 192,
   "metadata": {
    "scrolled": true
   },
   "outputs": [],
   "source": [
    "if bool_plot ==True:\n",
    "    astro_0 = adata_astro[:,~adata_astro.var.index.isin(['Gfap', 'Aldh1l1'])]\n",
    "\n",
    "    al = astro_0[astro_0.obs['gfap_aldh'] == 'aldh_only',]\n",
    "    al = al[:,al.var.index.isin(x)]\n",
    "    gene_name=[]\n",
    "    pval=[]\n",
    "    dt0_dt5_pval=[]\n",
    "    dt0_dt15_pval=[]\n",
    "    dt5_dt15_pval=[]\n",
    "\n",
    "    for i in range(al.n_vars):\n",
    "        gen=al.var.index[i]\n",
    "\n",
    "        dt0 = al[al.obs['diet'] == 'chow', gen].X.toarray()\n",
    "        dt5 = al[al.obs['diet'] == 'hfd_5', gen].X.toarray()\n",
    "        dt15 = al[al.obs['diet'] == 'hfd_15', gen].X.toarray()\n",
    "        args = (dt0, dt5, dt15)\n",
    "        xt  =  np.concatenate(args)\n",
    "        xt = xt.ravel()\n",
    "\n",
    "        #create DataFrame\n",
    "        df = pd.DataFrame({'score': xt,\n",
    "                           'group': np.repeat(['dt0', 'dt5', 'dt15'],\n",
    "                                              repeats=[len(dt0), len(dt5), len(dt15)])}\n",
    "        ) \n",
    "        #perform Welch's ANOVA\n",
    "        oall = pg.welch_anova(dv='score',\n",
    "                              between='group',\n",
    "                              data=df)['p-unc']\n",
    "\n",
    "        pergen = pg.pairwise_gameshowell(dv='score',\n",
    "                                         between='group',\n",
    "                                         data=df)['pval']\n",
    "        gene_name.append(gen)\n",
    "        pval.append(oall.loc[0])\n",
    "        dt0_dt5_pval.append(pergen[0])\n",
    "        dt0_dt15_pval.append(pergen[1])\n",
    "        dt5_dt15_pval.append(pergen[2])\n",
    "\n",
    "    d=pd.DataFrame()\n",
    "    d['gene_name']=gene_name\n",
    "    d['pval']=pval\n",
    "    d['dt0_dt5_pval']=dt0_dt5_pval\n",
    "    d['dt0_dt15_pval']=dt0_dt15_pval\n",
    "    d['dt5_dt15_pval']=dt5_dt15_pval\n",
    "\n",
    "    # perform BH multipliciity correctioin\n",
    "    d['pval_adj'] = cf.fdr(d['pval'])\n",
    "    # sorrt by corrected pval\n",
    "    dfin_al = d.sort_values(by=['pval_adj'])"
   ]
  },
  {
   "cell_type": "code",
   "execution_count": 193,
   "metadata": {
    "scrolled": false
   },
   "outputs": [],
   "source": [
    "if bool_plot == True:\n",
    "    sc.pl.stacked_violin(astro_0[astro_0.obs['gfap_aldh'] == 'aldh_only',],\n",
    "                         list(set(dfin_al.iloc[:52,0])-set(dfin_gf.iloc[:17,0])-set(dfin_b.iloc[:19,0])),  \n",
    "                         #dfin_al.iloc[:52,0],\n",
    "                         groupby='diet', \n",
    "                         use_raw=False,\n",
    "                         swap_axes=True,\n",
    "                         dendrogram=False,\n",
    "                         title=''\n",
    "    )"
   ]
  },
  {
   "cell_type": "markdown",
   "metadata": {},
   "source": [
    "#### Gfap"
   ]
  },
  {
   "cell_type": "code",
   "execution_count": 194,
   "metadata": {},
   "outputs": [],
   "source": [
    "if bool_plot == True:\n",
    "    astro_0 = adata_astro[:,~adata_astro.var.index.isin(['Gfap', 'Aldh1l1'])]\n",
    "\n",
    "    gf = astro_0[astro_0.obs['gfap_aldh'] == 'gfap_only',]\n",
    "    gf = gf[:,gf.var.index.isin(x)]\n",
    "    gene_name=[]\n",
    "    pval=[]\n",
    "    dt0_dt5_pval=[]\n",
    "    dt0_dt15_pval=[]\n",
    "    dt5_dt15_pval=[]\n",
    "\n",
    "    for i in range(gf.n_vars):\n",
    "        gen = gf.var.index[i]\n",
    "\n",
    "        dt0 = gf[gf.obs['diet'] == 'chow', gen].X.toarray()\n",
    "        dt5 = gf[gf.obs['diet'] == 'hfd_5', gen].X.toarray()\n",
    "        dt15 = gf[gf.obs['diet'] == 'hfd_15', gen].X.toarray()\n",
    "        args=(dt0, dt5, dt15)\n",
    "        xt = np.concatenate(args)\n",
    "        xt=xt.ravel()\n",
    "\n",
    "        #create DataFrame\n",
    "        df = pd.DataFrame({'score': xt,\n",
    "                           'group': np.repeat(['dt0', 'dt5', 'dt15'],\n",
    "                                              repeats=[len(dt0), len(dt5), len(dt15)])}\n",
    "        ) \n",
    "        #perform Welch's ANOVA\n",
    "        oall = pg.welch_anova(dv='score',\n",
    "                              between='group',\n",
    "                              data=df)['p-unc']\n",
    "\n",
    "        pergen = pg.pairwise_gameshowell(dv='score',\n",
    "                                         between='group',\n",
    "                                         data=df)['pval']\n",
    "        gene_name.append(gen)\n",
    "        pval.append(oall.loc[0])\n",
    "        dt0_dt5_pval.append(pergen[0])\n",
    "        dt0_dt15_pval.append(pergen[1])\n",
    "        dt5_dt15_pval.append(pergen[2])\n",
    "\n",
    "    d=pd.DataFrame()\n",
    "    d['gene_name']=gene_name\n",
    "    d['pval']=pval\n",
    "    d['dt0_dt5_pval']=dt0_dt5_pval\n",
    "    d['dt0_dt15_pval']=dt0_dt15_pval\n",
    "    d['dt5_dt15_pval']=dt5_dt15_pval\n",
    "\n",
    "    # perform BH multipliciity correctioin\n",
    "    d['pval_adj'] = cf.fdr(d['pval'])\n",
    "    # sorrt by corrected pval\n",
    "    dfin_gf = d.sort_values(by=['pval_adj'])"
   ]
  },
  {
   "cell_type": "code",
   "execution_count": 195,
   "metadata": {},
   "outputs": [],
   "source": [
    "if bool_plot == True:\n",
    "    sc.pl.stacked_violin(astro_0[astro_0.obs['gfap_aldh'] == 'gfap_only',],\n",
    "                         list(set(dfin_gf.iloc[:17,0])-set(dfin_al.iloc[:52,0])-set(dfin_b.iloc[:19,0])),\n",
    "                         #dfin_gf.iloc[:17,0],\n",
    "                         groupby='diet', \n",
    "                         use_raw=False,\n",
    "                         swap_axes=True,\n",
    "                         dendrogram=False,\n",
    "                         title=''\n",
    "    )"
   ]
  },
  {
   "cell_type": "markdown",
   "metadata": {},
   "source": [
    "#### Both"
   ]
  },
  {
   "cell_type": "code",
   "execution_count": 196,
   "metadata": {},
   "outputs": [],
   "source": [
    "if bool_plot == True:\n",
    "    astro_0 = adata_astro[:,~adata_astro.var.index.isin(['Gfap', 'Aldh1l1'])]\n",
    "    b = astro_0[astro_0.obs['gfap_aldh'] == 'both',]\n",
    "    b = b[:,b.var.index.isin(x)]\n",
    "    gene_name=[]\n",
    "    pval=[]\n",
    "    dt0_dt5_pval=[]\n",
    "    dt0_dt15_pval=[]\n",
    "    dt5_dt15_pval=[]\n",
    "\n",
    "    for i in range(b.n_vars):\n",
    "        gen = b.var.index[i]\n",
    "\n",
    "        dt0 = b[b.obs['diet'] == 'chow', gen].X.toarray()\n",
    "        dt5 = b[b.obs['diet'] == 'hfd_5', gen].X.toarray()\n",
    "        dt15 = b[b.obs['diet'] == 'hfd_15', gen].X.toarray()\n",
    "        args=(dt0, dt5, dt15)\n",
    "        xt = np.concatenate(args)\n",
    "        xt = xt.ravel()\n",
    "\n",
    "        #create DataFrame\n",
    "        df = pd.DataFrame({'score': xt,\n",
    "                           'group': np.repeat(['dt0', 'dt5', 'dt15'],\n",
    "                                              repeats=[len(dt0),len(dt5),len(dt15)])}\n",
    "        ) \n",
    "\n",
    "        #perform Welch's ANOVA\n",
    "        oall = pg.welch_anova(dv='score', \n",
    "                              between='group', \n",
    "                              data=df)['p-unc']\n",
    "\n",
    "        pergen = pg.pairwise_gameshowell(dv='score',\n",
    "                                         between='group',\n",
    "                                         data=df)['pval']\n",
    "        gene_name.append(gen)\n",
    "        pval.append(oall.loc[0])\n",
    "        dt0_dt5_pval.append(pergen[0])\n",
    "        dt0_dt15_pval.append(pergen[1])\n",
    "        dt5_dt15_pval.append(pergen[2])\n",
    "\n",
    "    d=pd.DataFrame()\n",
    "    d['gene_name']=gene_name\n",
    "    d['pval']=pval\n",
    "    d['dt0_dt5_pval']=dt0_dt5_pval\n",
    "    d['dt0_dt15_pval']=dt0_dt15_pval\n",
    "    d['dt5_dt15_pval']=dt5_dt15_pval\n",
    "\n",
    "    # perform BH multipliciity correctioin\n",
    "    d['pval_adj'] = fdr(d['pval'])\n",
    "    # sorrt by corrected pval\n",
    "    dfin_b = d.sort_values(by=['pval_adj'])"
   ]
  },
  {
   "cell_type": "code",
   "execution_count": 197,
   "metadata": {
    "scrolled": true
   },
   "outputs": [],
   "source": [
    "if bool_plot == True:\n",
    "    sc.pl.stacked_violin(astro_0[astro_0.obs['gfap_aldh'] == 'both',],\n",
    "                         list(set(dfin_b.iloc[:19,0])-set(dfin_al.iloc[:52,0])-set(dfin_gf.iloc[:17,0])),  \n",
    "                         #dfin_b.iloc[:19,0],\n",
    "                         groupby='diet', \n",
    "                         use_raw=False,\n",
    "                         swap_axes=True,\n",
    "                         dendrogram=False,\n",
    "                         title=''\n",
    "    )"
   ]
  },
  {
   "cell_type": "code",
   "execution_count": 198,
   "metadata": {
    "scrolled": true
   },
   "outputs": [],
   "source": [
    "if bool_plot == True:\n",
    "    matplotlib_venn.venn3_unweighted([set(dfin_al.iloc[:52,0],),\n",
    "                                      set(dfin_gf.iloc[:17,0]),\n",
    "                                      set(dfin_b.iloc[:19,0],)], \n",
    "                                     set_labels=(\"Aldh1l1\", \"Gfap\", \"Both\"))"
   ]
  },
  {
   "cell_type": "markdown",
   "metadata": {},
   "source": [
    "### Different types of stacked violin plot visualisation"
   ]
  },
  {
   "cell_type": "code",
   "execution_count": 199,
   "metadata": {},
   "outputs": [],
   "source": [
    "if bool_plot == True:\n",
    "    sc.pl.stacked_violin(adata_astro[adata_astro.obs['gfap_aldh'] != 'none',],\n",
    "                         list(set(dfin_gf.iloc[:17,0])-set(dfin_al.iloc[:52,0])-set(dfin_b.iloc[:19,0])),\n",
    "                         groupby='diet_marker',\n",
    "                         use_raw=False, \n",
    "                         log=False, \n",
    "                         dendrogram=False,\n",
    "                         rotation=90,\n",
    "                         scale='width',\n",
    "                         title=\"\",\n",
    "                         dendrogram_col=True,\n",
    "                         row_palette=['green', 'limegreen', 'lime', 'blue', 'dodgerblue',\n",
    "                                      'darkturquoise', 'darkmagenta', 'magenta', 'violet'],\n",
    "                         swap_axes=False\n",
    "    )"
   ]
  },
  {
   "cell_type": "code",
   "execution_count": 200,
   "metadata": {},
   "outputs": [],
   "source": [
    "if bool_plot == True:\n",
    "    sc.pl.stacked_violin(adata_astro[adata_astro.obs['gfap_aldh'] != 'none',],\n",
    "                         list(set(dfin_gf.iloc[:17,0])-set(dfin_al.iloc[:52,0])-set(dfin_b.iloc[:19,0])),\n",
    "                         groupby='diet_marker',\n",
    "                         use_raw=False, \n",
    "                         log=False, \n",
    "                         dendrogram=False,\n",
    "                         rotation=90,\n",
    "                         scale='width',\n",
    "                         #standard_scale='var',\n",
    "                         title=\"\",\n",
    "                         #vmin=-1, vmax=1,\n",
    "                         cmap='coolwarm',\n",
    "                         col_palette=['green', 'limegreen', 'lime', 'blue', 'dodgerblue',\n",
    "                                      'darkturquoise', 'darkmagenta', 'magenta', 'violet'],\n",
    "                         swap_axes=True\n",
    "    )"
   ]
  },
  {
   "cell_type": "code",
   "execution_count": 201,
   "metadata": {
    "scrolled": false
   },
   "outputs": [],
   "source": [
    "if bool_plot == True:\n",
    "    for i in list(set(dfin_gf.iloc[:17,0])-set(dfin_al.iloc[:52,0])-set(dfin_b.iloc[:19,0])):\n",
    "        sc.pl.stacked_violin(adata_astro[adata_astro.obs['gfap_aldh'] != 'none',],\n",
    "                             i,\n",
    "                             groupby='diet_marker',\n",
    "                             use_raw=False, \n",
    "                             log=False, \n",
    "                             dendrogram=False,\n",
    "                             rotation=90,\n",
    "                             scale='width',  # area\n",
    "                             title=\"\",\n",
    "                             colorbar_title='',\n",
    "                             #vmin=-1, vmax=1,\n",
    "                             cmap='bwr',\n",
    "                             #col_palette = ['green','green','green','blue','blue','blue','magenta','magenta','magenta'],\n",
    "                             swap_axes=True\n",
    "        )\n",
    "    "
   ]
  },
  {
   "cell_type": "markdown",
   "metadata": {},
   "source": [
    "## Differentia expression and enrichment analysis"
   ]
  },
  {
   "cell_type": "code",
   "execution_count": 202,
   "metadata": {},
   "outputs": [],
   "source": [
    "if bool_plot == True:\n",
    "    astro0 = astro_0[(astro_0.obs['diet'] == 'chow') & \n",
    "                   (astro_0.obs['gfap_aldh'].isin(['aldh_only', 'gfap_only'])), ]\n",
    "    dets_mark = de.test.t_test(data=astro0,\n",
    "                               sample_description=astro0.obs,\n",
    "                               grouping=\"gfap_aldh\",\n",
    "                               is_logged=False\n",
    "    )\n",
    "    dets_mark_summary = dets_mark.summary()#mean_thres=np.log(0.01), qval_thres=0.1, fc_lower_thres=1, fc_upper_thres=1)\n",
    "    \n",
    "    dets_mark_summary.to_csv(path_or_buf=dir_tables+\"aldh_only-gfap_only-chow.csv\",\n",
    "                             sep=\"\\t\"\n",
    "    )\n",
    "    print(sum(dets_mark_summary['pval'] < 0.05))\n",
    "    dets_mark.plot_volcano(alpha=0.05, \n",
    "                           corrected_pval=False,\n",
    "                           min_fc=1,\n",
    "                           size=15,\n",
    "                           log10_p_threshold=-5.5, \n",
    "                           log2_fc_threshold=3.7,\n",
    "                           save=sc_settings_figdir+\"dge_volcano_chow_aldh-gfap\",\n",
    "                           suffix=\"_astrocytes.png\"\n",
    "    )\n",
    "    enri_aldh_gfap_0 = gseapy.enrichr(gene_list=dets_mark_summary.loc[dets_mark_summary['pval'] < 0.05,]['gene'].tolist(),\n",
    "                                      organism='Mouse',\n",
    "                                      gene_sets=repository,\n",
    "                                      description='pathway',\n",
    "                                      cutoff=cfenr\n",
    "    )"
   ]
  },
  {
   "cell_type": "code",
   "execution_count": 203,
   "metadata": {},
   "outputs": [],
   "source": [
    "if bool_plot == True:\n",
    "    astro0 = astro_0[(astro_0.obs['diet'] == 'chow') & \n",
    "                    (astro_0.obs['gfap_aldh'].isin(['both','gfap_only'])), ]\n",
    "    dets_mark = de.test.t_test(data=astro0,\n",
    "                               sample_description=astro0.obs,\n",
    "                               grouping=\"gfap_aldh\",\n",
    "                               is_logged=False\n",
    "    )\n",
    "    dets_mark_summary = dets_mark.summary()#mean_thres=np.log(0.01), qval_thres=0.1, fc_lower_thres=1, fc_upper_thres=1)\n",
    "    \n",
    "    dets_mark_summary.to_csv(path_or_buf=dir_tables+\"both-gfap_only-chow.csv\",\n",
    "                             sep=\"\\t\"\n",
    "    )\n",
    "    dets_mark.plot_volcano(alpha=0.05,corrected_pval=False, min_fc=1, size=15, log10_p_threshold=-5.5,\n",
    "                           log2_fc_threshold=3.5, save=sc_settings_figdir+\"dge_volcano_chow_both-gfap\",\n",
    "                           suffix=\"_astrocytes.png\")\n",
    "    enri_both_gfap_0 = gseapy.enrichr(gene_list=dets_mark_summary.loc[dets_mark_summary['pval']<0.05,]['gene'].tolist(),\n",
    "                                       organism='Mouse',\n",
    "                                       gene_sets=repository,\n",
    "                                       description='pathway',\n",
    "                                       cutoff=cfenr)"
   ]
  },
  {
   "cell_type": "code",
   "execution_count": 204,
   "metadata": {},
   "outputs": [],
   "source": [
    "if bool_plot == True:\n",
    "    astro0 = astro_0[(astro_0.obs['diet'] == 'chow') & \n",
    "                    (astro_0.obs['gfap_aldh'].isin(['aldh_only', 'both'])), ]\n",
    "    dets_mark = de.test.t_test(data=astro0, \n",
    "                               sample_description=astro0.obs,\n",
    "                               grouping=\"gfap_aldh\",\n",
    "                               is_logged=False\n",
    "    )\n",
    "    dets_mark_summary = dets_mark.summary()#mean_thres=np.log(0.01), qval_thres=0.1, fc_lower_thres=1, fc_upper_thres=1)\n",
    "    \n",
    "    dets_mark_summary.to_csv(path_or_buf=dir_tables+\"aldh_only-both-chow.csv\",\n",
    "                             sep=\"\\t\"\n",
    "    )\n",
    "    dets_mark.plot_volcano(alpha=0.05, \n",
    "                           corrected_pval=False,\n",
    "                           min_fc=1,\n",
    "                           size=15,\n",
    "                           log10_p_threshold=-5.5, \n",
    "                           log2_fc_threshold=3.5,\n",
    "                           save=sc_settings_figdir+\"dge_volcano_chow_aldh-both\",\n",
    "                           suffix=\"_astrocytes.png\"\n",
    "    )\n",
    "    enri_aldh_both_0 = gseapy.enrichr(gene_list=dets_mark_summary.loc[dets_mark_summary['pval'] < 0.05,]['gene'].tolist(),\n",
    "                                       organism='Mouse',\n",
    "                                       gene_sets=repository,\n",
    "                                       description='pathway',\n",
    "                                       cutoff=cfenr\n",
    "    )"
   ]
  },
  {
   "cell_type": "code",
   "execution_count": 205,
   "metadata": {},
   "outputs": [],
   "source": [
    "if bool_plot == True:\n",
    "    chow_aldh_gfap = enri_aldh_gfap_0.res2d[enri_aldh_gfap_0.res2d['Adjusted P-value'] < 0.05]\n",
    "    chow_both_gfap = enri_both_gfap_0.res2d[enri_both_gfap_0.res2d['Adjusted P-value'] < 0.05]\n",
    "    chow_aldh_both = enri_aldh_both_0.res2d[enri_aldh_both_0.res2d['Adjusted P-value'] < 0.05]"
   ]
  },
  {
   "cell_type": "markdown",
   "metadata": {},
   "source": [
    "<a id=\"DE\"></a>"
   ]
  },
  {
   "cell_type": "markdown",
   "metadata": {},
   "source": [
    "# Diffusion maps of Astrocytes¶"
   ]
  },
  {
   "cell_type": "code",
   "execution_count": 206,
   "metadata": {},
   "outputs": [],
   "source": [
    "if bool_plot == True:\n",
    "    adata_astro_raw = adata_astro.copy()\n",
    "    adata_astro_raw.X = adata_astro.raw.X.copy()\n",
    "    sc.pp.log1p(adata_astro_raw)\n",
    "    sc.pp.neighbors(adata_astro_raw)\n",
    "    sc.tl.diffmap(adata_astro_raw)\n",
    "\n",
    "    sc.pp.neighbors(adata_astro)\n",
    "    sc.tl.diffmap(adata_astro) "
   ]
  },
  {
   "cell_type": "code",
   "execution_count": 207,
   "metadata": {
    "scrolled": false
   },
   "outputs": [],
   "source": [
    "if bool_plot == True:\n",
    "    cf.plot_diffmap_marker(adata_astro, \n",
    "                           ['gfap_aldh'], \n",
    "                           components='1,3',\n",
    "                           use_raw=False,\n",
    "                           size=20,\n",
    "                           save=\"_astrocyte_leiden.png\"\n",
    "    )"
   ]
  },
  {
   "cell_type": "markdown",
   "metadata": {},
   "source": [
    "### Chow"
   ]
  },
  {
   "cell_type": "code",
   "execution_count": 208,
   "metadata": {},
   "outputs": [],
   "source": [
    "if bool_plot == True:\n",
    "    cf.plot_diffmap_marker(adata_astro[adata_astro.obs['diet'] == 'chow', ], \n",
    "                           ['aldh_only'], \n",
    "                           components='1,3',#,'Aldh1l1'\n",
    "                           color_map=mymap,\n",
    "                           use_raw=False, \n",
    "                           palette=['gainsboro', 'green'],\n",
    "                           size=20,\n",
    "                           save=\"_astrocyte_chow_aldh.png\"\n",
    "    )"
   ]
  },
  {
   "cell_type": "code",
   "execution_count": 209,
   "metadata": {},
   "outputs": [],
   "source": [
    "if bool_plot == True:\n",
    "    cf.plot_diffmap_marker(adata_astro[adata_astro.obs['diet']  == 'chow', ],\n",
    "                           ['gfap_only'], \n",
    "                           components='1,3',# ,'Gfap' \n",
    "                           color_map=mymap,\n",
    "                           use_raw=False,\n",
    "                           palette=['gainsboro', 'magenta'],\n",
    "                           size=20, \n",
    "                           save=\"_astrocyte_chow_gfap.png\"\n",
    "    )"
   ]
  },
  {
   "cell_type": "code",
   "execution_count": 210,
   "metadata": {},
   "outputs": [],
   "source": [
    "if bool_plot == True:\n",
    "    cf.plot_diffmap_marker(adata_astro[adata_astro.obs['diet'] == 'chow', ],\n",
    "                           ['both'], \n",
    "                           components='1,3',\n",
    "                           use_raw=False,\n",
    "                           palette=['gainsboro', 'blue'],\n",
    "                           size=20, \n",
    "                           save=\"_astrocyte_chow_both.svg\"\n",
    "    )"
   ]
  },
  {
   "cell_type": "markdown",
   "metadata": {},
   "source": [
    "### hfd 5"
   ]
  },
  {
   "cell_type": "code",
   "execution_count": 211,
   "metadata": {},
   "outputs": [],
   "source": [
    "if bool_plot == True:\n",
    "    cf.plot_diffmap_marker(adata_astro[adata_astro.obs['diet'] == 'hfd_5', ],\n",
    "                           ['aldh_only'], \n",
    "                           components='1,3',# ,'Aldh1l1'\n",
    "                           color_map=mymap, \n",
    "                           use_raw=False,\n",
    "                           palette=['gainsboro', 'green'],\n",
    "                           size=20,\n",
    "                           save=\"_astrocyte_hfd5_aldh.png\"\n",
    "    )"
   ]
  },
  {
   "cell_type": "code",
   "execution_count": 212,
   "metadata": {},
   "outputs": [],
   "source": [
    "if bool_plot == True:\n",
    "    cf.plot_diffmap_marker(adata_astro[adata_astro.obs['diet'] == 'hfd_5', ],\n",
    "                           ['gfap_only'],\n",
    "                           components='1,3', #,'Gfap'\n",
    "                           color_map=mymap,\n",
    "                           use_raw=False,\n",
    "                           palette=['gainsboro', 'magenta'], \n",
    "                           size=20, \n",
    "                           save=\"_astrocyte_hfd5_gfap.png\"\n",
    "    )"
   ]
  },
  {
   "cell_type": "code",
   "execution_count": 213,
   "metadata": {},
   "outputs": [],
   "source": [
    "if bool_plot == True:\n",
    "    cf.plot_diffmap_marker(adata_astro[adata_astro.obs['diet'] == 'hfd_5', ],\n",
    "                           ['both'],\n",
    "                           components='1,3',\n",
    "                           use_raw=False,\n",
    "                           palette=['gainsboro','blue'],\n",
    "                           size=20, \n",
    "                           save=\"_astrocyte_hfd5_both.svg\"\n",
    "    )"
   ]
  },
  {
   "cell_type": "markdown",
   "metadata": {},
   "source": [
    "### hfd 15"
   ]
  },
  {
   "cell_type": "code",
   "execution_count": 214,
   "metadata": {},
   "outputs": [],
   "source": [
    "if bool_plot == True:\n",
    "    cf.plot_diffmap_marker(adata_astro[adata_astro.obs['diet'] == 'hfd_15', ],\n",
    "                           ['aldh_only'],\n",
    "                           components='1,3', #,'Aldh1l1'\n",
    "                           color_map=mymap,\n",
    "                           use_raw=False, \n",
    "                           palette=['gainsboro', 'green'],\n",
    "                           size=20,\n",
    "                           save=\"_astrocyte_hfd15_aldh.png\"\n",
    "    )"
   ]
  },
  {
   "cell_type": "code",
   "execution_count": 215,
   "metadata": {},
   "outputs": [],
   "source": [
    "if bool_plot == True:\n",
    "    cf.plot_diffmap_marker(adata_astro[adata_astro.obs['diet'] == 'hfd_15', ],\n",
    "                           ['gfap_only'], \n",
    "                           components='1,3', #,'Gfap'\n",
    "                           color_map=mymap,\n",
    "                           use_raw=False,\n",
    "                           palette=['gainsboro','magenta'],\n",
    "                           size=20, \n",
    "                           save=\"_astrocyte_hfd15_gfap.png\"\n",
    "    )"
   ]
  },
  {
   "cell_type": "code",
   "execution_count": 216,
   "metadata": {},
   "outputs": [],
   "source": [
    "if bool_plot == True:\n",
    "    cf.plot_diffmap_marker(adata_astro[adata_astro.obs['diet'] == 'hfd_15', ],\n",
    "                           ['both'], \n",
    "                           components='1,3',\n",
    "                           use_raw=False,\n",
    "                           palette=['gainsboro', 'blue'],\n",
    "                           size=20,\n",
    "                           save=\"_astrocyte_hfd15_both.svg\"\n",
    "    )"
   ]
  },
  {
   "cell_type": "markdown",
   "metadata": {},
   "source": [
    "### Pseudotime"
   ]
  },
  {
   "cell_type": "code",
   "execution_count": 217,
   "metadata": {},
   "outputs": [],
   "source": [
    "if bool_plot == True:\n",
    "    astrocyte_mask21 = np.isin(adata_astro.obs['leiden'],\n",
    "                               '0'\n",
    "    )\n",
    "    max_astrocyte_id21 = np.argmax(adata_astro.obsm['X_diffmap'][astrocyte_mask21,2])\n",
    "    max_astrocyte_id2_raw1 = np.argmax(adata_astro.obsm['X_diffmap'][astrocyte_mask21,2])\n",
    "    root_id21 = np.arange(len(astrocyte_mask21))[astrocyte_mask21][max_astrocyte_id21]\n",
    "    adata_astro.uns['iroot'] = root_id21\n",
    "    adata_astro_raw.uns['iroot'] = root_id21\n",
    "\n",
    "    #Compute dpt\n",
    "    sc.tl.dpt(adata_astro,\n",
    "              n_branchings=0\n",
    "    )\n",
    "    sc.tl.dpt(adata_astro_raw,\n",
    "              n_branchings=0\n",
    "    )"
   ]
  },
  {
   "cell_type": "code",
   "execution_count": 218,
   "metadata": {},
   "outputs": [],
   "source": [
    "if bool_plot == True:\n",
    "    cf.plot_diffmap_marker(adata_astro, \n",
    "                           ['dpt_pseudotime'],\n",
    "                           components='1,3',\n",
    "                           color_map=mymap,\n",
    "                           use_raw=False,\n",
    "                           size=20,\n",
    "                           save=\"_astrocyte_pseudotime.png\"\n",
    "    )"
   ]
  },
  {
   "cell_type": "markdown",
   "metadata": {},
   "source": [
    "# Corrleation analysis of Gfap and Aldh1l1"
   ]
  },
  {
   "cell_type": "markdown",
   "metadata": {},
   "source": [
    "Correlation analysis is performed in order to identify the genes which correlate with Gfap and Aldh1l1 over the populations and diets."
   ]
  },
  {
   "cell_type": "code",
   "execution_count": 219,
   "metadata": {},
   "outputs": [],
   "source": [
    "if bool_plot == True:\n",
    "    sc.pp.normalize_per_cell(adata_qc)\n",
    "    adata_qc.X = adata_qc.X.toarray()\n",
    "    adata_qc.obs['gfap_aldh'] = np.select([((adata_qc[:,'Gfap'].X > 0) & (adata_qc[:,'Aldh1l1'].X == 0)), \n",
    "                                           ((adata_qc[:,'Gfap'].X == 0) & (adata_qc[:,'Aldh1l1'].X > 0)),\n",
    "                                           ((adata_qc[:,'Gfap'].X > 0) & (adata_qc[:,'Aldh1l1'].X > 0)), \n",
    "                                           ((adata_qc[:,'Gfap'].X == 0) & (adata_qc[:,'Aldh1l1'].X == 0))],\n",
    "                                           ['gfap_only', 'aldh_only', 'both', 'none'])"
   ]
  },
  {
   "cell_type": "code",
   "execution_count": 220,
   "metadata": {},
   "outputs": [],
   "source": [
    "if bool_plot == True:\n",
    "    repository='KEGG_2019_Mouse'#   KEGG_2019_Mouse  GO_Biological_Process_2018\n",
    "    title='kegg'\n",
    "    cfcor=0.2\n",
    "    cfenr=0.1\n",
    "    plt.rcParams['figure.figsize']=[5, 5]\n",
    "\n",
    "    all = homeostasis+hormone+gliotransmision+angiogenic+ecm+ucp2thyroid+iron+cellcycle+inflamation+calcium+hedgehog+others+a1astro+a2astro\n",
    "    ph = [homeostasis, hormone, gliotransmision, angiogenic,\n",
    "          ecm, ucp2thyroid, iron, cellcycle, inflamation, \n",
    "          calcium, hedgehog, others, a1astro, a2astro]\n",
    "    pname = ['homeostasis', 'hormone', 'gliotransmision', 'angiogenic',\n",
    "             'ecm', 'ucp2thyroid', 'iron', 'cellcycle', 'inflamation',\n",
    "             'calcium', 'hedgehog', 'others', 'a1astro', 'a2astro']"
   ]
  },
  {
   "cell_type": "markdown",
   "metadata": {},
   "source": [
    "### Chow"
   ]
  },
  {
   "cell_type": "code",
   "execution_count": 221,
   "metadata": {},
   "outputs": [],
   "source": [
    "if bool_plot == True:\n",
    "    p = adata_qc[(adata_qc.obs['diet'] == 'chow') & (adata_astro.obs['gfap_aldh'] == 'aldh_only'), ]\n",
    "    df = pd.DataFrame(p.X.toarray(), \n",
    "                      index=p.obs.index, \n",
    "                      columns=p.var.index\n",
    "    )\n",
    "    p.var['chow_aldh_only'] = [stats.spearmanr(df.iloc[:,i],df['Aldh1l1'])[0] for i in range(df.shape[1])]  \n",
    "    \n",
    "    plt.hist(p.var['chow_aldh_only'][p.var.index!='Aldh1l1'], bins=15)  \n",
    "    plt.axvline(x=0.2,\n",
    "                color='r',\n",
    "                label='#genes: 394'\n",
    "    )\n",
    "    plt.legend(loc='upper right')\n",
    "    plt.title('chow_aldh_only')\n",
    "\n",
    "    enr_aldh_chow = gseapy.enrichr(gene_list=p.var[p.var['chow_aldh_only'] > cfcor].index.tolist(),\n",
    "                                  organism='Mouse',\n",
    "                                  gene_sets=repository,\n",
    "                                  description='pathway',\n",
    "                                  cutoff=cfenr)\n",
    "    #gseapy.barplot(enr_aldh_chow.res2d,title=title+'_chow_aldh1l1',\n",
    "    #               cutoff=cfenr, \n",
    "    #               top_term=25)#,\n",
    "    #               #ofname=sc_settings_figdir+title+'_chow_aldh1l1')\n",
    "\n",
    "    pvalue=[]\n",
    "    cnt=[]\n",
    "    gl=p.var[p.var['chow_aldh_only'] > cfcor].index\n",
    "    gl1=p.var[p.var['chow_aldh_only'] < cfcor].index\n",
    "    for i in ph:\n",
    "        pval = stats.fisher_exact([[len(set(gl) & set(i))+1, len(i)-len(set(gl) & set(i))],\n",
    "                                  [len(set(gl) & set(set(all)-set(i))), len(set(gl1) & (set(all)-set(i)))]])[1]\n",
    "        pvalue.append(pval)\n",
    "        cnt.append(len(set(gl) & set(i)))\n",
    "\n",
    "    ch_al = pd.DataFrame({'Term':pname, \n",
    "                          'P-value':pvalue,\n",
    "                          'Count':cnt,\n",
    "                          'Comparison':'chow_aldh_only'}\n",
    "    )"
   ]
  },
  {
   "cell_type": "code",
   "execution_count": 222,
   "metadata": {},
   "outputs": [],
   "source": [
    "if bool_plot == True:\n",
    "    p = adata_qc[(adata_qc.obs['diet'] == 'chow') & (adata_astro.obs['gfap_aldh'] == 'gfap_only'), ]\n",
    "    df = pd.DataFrame(p.X.toarray(),\n",
    "                      index=p.obs.index,\n",
    "                      columns=p.var.index\n",
    "    )\n",
    "    p.var['chow_gfap_only'] = [stats.spearmanr(df.iloc[:,i],df['Gfap'])[0] for i in range(df.shape[1])]  \n",
    "    \n",
    "    plt.hist(p.var['chow_gfap_only'][p.var.index != 'Gfap'], bins=15)  \n",
    "    plt.axvline(x=0.2, \n",
    "                color='r', \n",
    "                label='#genes: 766'\n",
    "    )\n",
    "    plt.legend(loc='upper right')\n",
    "    plt.title('chow_gfap_only')\n",
    "    \n",
    "    enr_gfap_chow = gseapy.enrichr(gene_list=p.var[p.var['chow_gfap_only'] > cfcor].index.tolist(),\n",
    "                                  organism='Mouse',\n",
    "                                  gene_sets=repository,\n",
    "                                  description='pathway',\n",
    "                                  cutoff=cfenr\n",
    "    )\n",
    "    #gseapy.barplot(enr_gfap_chow.res2d,title=title+'_chow_gfap',\n",
    "    #               cutoff=cfenr, \n",
    "    #               top_term=25    ),\n",
    "    #               ofname=sc_settings_figdir+title+'_chow_gfap')\n",
    "    \n",
    "    pvalue=[]\n",
    "    cnt=[]\n",
    "    gl = p.var[p.var['chow_gfap_only'] > cfcor].index\n",
    "    gl1 = p.var[p.var['chow_gfap_only'] < cfcor].index\n",
    "    for i in ph:\n",
    "        pval = stats.fisher_exact([[len(set(gl) & set(i))+1, len(i)-len(set(gl) & set(i))],\n",
    "                                  [len(set(gl) & set(set(all)-set(i))), len(set(gl1) & (set(all)-set(i)))]])[1]\n",
    "        pvalue.append(pval)\n",
    "        cnt.append(len(set(gl) & set(i)))\n",
    "\n",
    "    ch_gf = pd.DataFrame({'Term':pname,\n",
    "                          'P-value':pvalue, \n",
    "                          'Count':cnt, \n",
    "                          'Comparison':'chow_gfap_only'}\n",
    "    )"
   ]
  },
  {
   "cell_type": "code",
   "execution_count": 223,
   "metadata": {},
   "outputs": [],
   "source": [
    "if bool_plot == True:\n",
    "    gseapy.barplot(chow_aldh[chow_aldh['Term'].isin(z1)], \n",
    "                   title=title+'_chow_intersect_aldh',\n",
    "                   cutoff=cfenr,\n",
    "                   top_term=25\n",
    "    )#, ofname=sc_settings_figdir+title+'_chow_intersect_aldh')"
   ]
  },
  {
   "cell_type": "code",
   "execution_count": 224,
   "metadata": {},
   "outputs": [],
   "source": [
    "if bool_plot == True:    \n",
    "    gseapy.barplot(chow_gfap[chow_gfap['Term'].isin(z1)],\n",
    "                   title=title+'_chow_intersect_gfap',\n",
    "                   cutoff=cfenr,\n",
    "                   top_term=25\n",
    "    )#, ofname=sc_settings_figdir+title+'_chow_intersect_gfap')"
   ]
  },
  {
   "cell_type": "code",
   "execution_count": 225,
   "metadata": {},
   "outputs": [],
   "source": [
    "if bool_plot == True:\n",
    "    gseapy.barplot(chow_aldh[chow_aldh['Term'].isin(z2)],\n",
    "                   title=title+'_chow_only_aldh',\n",
    "                   cutoff=cfenr, \n",
    "                   top_term=25\n",
    "    )#ofname=sc_settings_figdir+title+'_chow_only_aldh')"
   ]
  },
  {
   "cell_type": "code",
   "execution_count": 226,
   "metadata": {},
   "outputs": [],
   "source": [
    "if bool_plot == True:\n",
    "    gseapy.barplot(chow_gfap[chow_gfap['Term'].isin(z3)],\n",
    "                   title=title+'_chow_only_gfap',\n",
    "                   cutoff=cfenr, \n",
    "                   top_term=25\n",
    "    )#ofname=sc_settings_figdir+title+'_chow_only_gfap')"
   ]
  },
  {
   "cell_type": "code",
   "execution_count": 227,
   "metadata": {},
   "outputs": [],
   "source": [
    "if bool_plot == True:    \n",
    "    p = adata_qc[(adata_qc.obs['diet'] == 'chow') & (adata_astro.obs['gfap_aldh'] == 'both'), ]\n",
    "    df = pd.DataFrame(p.X.toarray(),\n",
    "                      index=p.obs.index,\n",
    "                      columns=p.var.index\n",
    "    )\n",
    "    p.var['chow_both_gfap'] = [stats.spearmanr(df.iloc[:,i],df['Gfap'])[0] for i in range(df.shape[1])]  \n",
    "\n",
    "    plt.hist(p.var['chow_both_gfap'][p.var.index!='Gfap'], bins=20)  \n",
    "    plt.axvline(x=0.2, \n",
    "                color='r',\n",
    "                label='#genes: 1847'\n",
    "    )\n",
    "    plt.legend(loc='upper right')\n",
    "    plt.title('chow_both_gfap')\n",
    "    \n",
    "    enr_both_chow_gfap = gseapy.enrichr(gene_list=p.var[p.var['chow_both_gfap']>cfcor].index.tolist(),\n",
    "                                         organism='Mouse',\n",
    "                                         gene_sets=repository,\n",
    "                                         description='pathway',\n",
    "                                         cutoff=cfenr\n",
    "    )\n",
    "    #gseapy.barplot(enr_res.res2d,title=title+'_chow_both_gfap', cutoff=cfenr, top_term=25)#,\n",
    "                  # ofname=sc_settings_figdir+title+'_chow_both_gfap')\n",
    "    pvalue=[]\n",
    "    cnt=[]\n",
    "    gl = p.var[p.var['chow_both_gfap'] > cfcor].index\n",
    "    gl1 = p.var[p.var['chow_both_gfap'] < cfcor].index\n",
    "    for i in ph:\n",
    "        pval = stats.fisher_exact([[len(set(gl) & set(i))+1, len(i)-len(set(gl) & set(i))],\n",
    "                                  [len(set(gl) & set(set(all)-set(i))), len(set(gl1) & (set(all)-set(i)))]])[1]\n",
    "        pvalue.append(pval)\n",
    "        cnt.append(len(set(gl) & set(i)))\n",
    "\n",
    "    ch_bt_gf = pd.DataFrame({'Term':pname,\n",
    "                             'P-value':pvalue,\n",
    "                             'Count':cnt, \n",
    "                             'Comparison':'chow_both_gfap'}\n",
    "    )        "
   ]
  },
  {
   "cell_type": "code",
   "execution_count": 228,
   "metadata": {},
   "outputs": [],
   "source": [
    "if bool_plot == True:    \n",
    "    p = adata_qc[(adata_qc.obs['diet'] == 'chow') & (adata_astro.obs['gfap_aldh'] == 'both'), ]\n",
    "    df = pd.DataFrame(p.X.toarray(),\n",
    "                      index=p.obs.index,\n",
    "                      columns=p.var.index\n",
    "    )\n",
    "    p.var['chow_both_aldh'] = [stats.spearmanr(df.iloc[:,i],df['Aldh1l1'])[0] for i in range(df.shape[1])]  \n",
    "    \n",
    "    plt.hist(p.var['chow_both_aldh'][p.var.index!='Aldh1l1'], bins=15)#, bins=20)  \n",
    "    plt.axvline(x=0.2,\n",
    "                color='r',\n",
    "                label='#genes: 1212'\n",
    "    )\n",
    "    plt.legend(loc='upper right')\n",
    "    plt.title('chow_both_aldh')\n",
    "    \n",
    "    enr_both_chow_aldh = gseapy.enrichr(gene_list=p.var[p.var['chow_both_aldh'] > cfcor].index.tolist(),\n",
    "                                        organism='Mouse',\n",
    "                                        gene_sets=repository,\n",
    "                                        description='pathway',\n",
    "                                        cutoff=cfenr\n",
    "    )\n",
    "    #gseapy.barplot(enr_res.res2d,title=title+'_chow_both_aldh1l1',cutoff=cfenr, top_term=25)#,\n",
    "                   #ofname=sc_settings_figdir+title+'_chow_both_aldh1l1')\n",
    "    pvalue=[]\n",
    "    cnt=[]\n",
    "    gl = p.var[p.var['chow_both_aldh'] > cfcor].index\n",
    "    gl1 = p.var[p.var['chow_both_aldh'] < cfcor].index\n",
    "    for i in ph:\n",
    "        pval = stats.fisher_exact([[len(set(gl) & set(i))+1, len(i)-len(set(gl) & set(i))],\n",
    "                                  [len(set(gl) & set(set(all)-set(i))), len(set(gl1) & (set(all)-set(i)))]])[1]\n",
    "        pvalue.append(pval)\n",
    "        cnt.append(len(set(gl) & set(i)))\n",
    "\n",
    "    ch_bt_al = pd.DataFrame({'Term':pname, \n",
    "                             'P-value':pvalue,\n",
    "                             'Count':cnt,\n",
    "                             'Comparison':'chow_both_aldh'}\n",
    "    )        "
   ]
  },
  {
   "cell_type": "code",
   "execution_count": 229,
   "metadata": {},
   "outputs": [],
   "source": [
    "if bool_plot == True:\n",
    "    chow_aldh = enr_aldh_chow.res2d[enr_aldh_chow.res2d['Adjusted P-value'] < 0.05]\n",
    "    chow_gfap = enr_gfap_chow.res2d[enr_gfap_chow.res2d['Adjusted P-value'] < 0.05]\n",
    "    chow_both_aldh = enr_both_chow_aldh.res2d[enr_both_chow_aldh.res2d['Adjusted P-value'] < 0.05]\n",
    "    chow_both_gfap = enr_both_chow_gfap.res2d[enr_both_chow_gfap.res2d['Adjusted P-value'] < 0.05]\n",
    "    \n",
    "    ch_al = ch_al[ch_al['P-value'] < 0.05]\n",
    "    ch_gf = ch_gf[ch_gf['P-value'] < 0.05]\n",
    "    ch_bt_gf = ch_bt_gf[ch_bt_gf['P-value'] < 0.05]\n",
    "    ch_bt_al = ch_bt_al[ch_bt_al['P-value'] < 0.05]"
   ]
  },
  {
   "cell_type": "markdown",
   "metadata": {},
   "source": [
    "### HFD 5 days"
   ]
  },
  {
   "cell_type": "code",
   "execution_count": 230,
   "metadata": {},
   "outputs": [],
   "source": [
    "if bool_plot == True:\n",
    "    p = adata_qc[(adata_qc.obs['diet'] == 'hfd_5') & (adata_astro.obs['gfap_aldh'] == 'aldh_only'), ]\n",
    "    df = pd.DataFrame(p.X.toarray(), \n",
    "                      index=p.obs.index,\n",
    "                      columns=p.var.index\n",
    "    )\n",
    "    p.var['hfd5_aldh_only'] = [stats.spearmanr(df.iloc[:,i],df['Aldh1l1'])[0] for i in range(df.shape[1])]  \n",
    "    \n",
    "    plt.hist(p.var['hfd5_aldh_only'][p.var.index!='Aldh1l1'], bins=20)  \n",
    "    plt.axvline(x=0.2, \n",
    "                color='r',\n",
    "                label='#genes: 357'\n",
    "    )\n",
    "    plt.legend(loc='upper right')\n",
    "    plt.title('hfd5_aldh_only')\n",
    "    \n",
    "    enr_aldh_hfd5 = gseapy.enrichr(gene_list=p.var[p.var['hfd5_aldh_only'] > cfcor].index.tolist(),\n",
    "                                   organism='Mouse',\n",
    "                                   gene_sets=repository,\n",
    "                                   description='pathway',\n",
    "                                   cutoff=cfenr\n",
    "    )\n",
    "    #gseapy.barplot(enr_res_aldh.res2d,title=title+'_hfd5_aldh1l1',cutoff=cfenr, top_term=25)#,\n",
    "                   #ofname=sc_settings_figdir+title+'_hfd5_aldh1l1')\n",
    "    pvalue=[]\n",
    "    cnt=[]\n",
    "    gl = p.var[p.var['hfd5_aldh_only'] > cfcor].index\n",
    "    gl1 = p.var[p.var['hfd5_aldh_only'] < cfcor].index\n",
    "    for i in ph:\n",
    "        pval = stats.fisher_exact([[len(set(gl) & set(i))+1, len(i)-len(set(gl) & set(i))],\n",
    "                                  [len(set(gl) & set(set(all)-set(i))), len(set(gl1) & (set(all)-set(i)))]])[1]\n",
    "        pvalue.append(pval)\n",
    "        cnt.append(len(set(gl) & set(i)))\n",
    "\n",
    "    h5_al = pd.DataFrame({'Term':pname,\n",
    "                          'P-value':pvalue,\n",
    "                          'Count':cnt,\n",
    "                          'Comparison':'hfd5_aldh_only'}\n",
    "    )"
   ]
  },
  {
   "cell_type": "code",
   "execution_count": 231,
   "metadata": {},
   "outputs": [],
   "source": [
    "if bool_plot == True:    \n",
    "    p = adata_qc[(adata_qc.obs['diet'] == 'hfd_5') & (adata_astro.obs['gfap_aldh'] == 'gfap_only'), ]\n",
    "    df = pd.DataFrame(p.X.toarray(),\n",
    "                      index=p.obs.index,\n",
    "                      columns=p.var.index\n",
    "    )\n",
    "    p.var['hfd5_gfap_only'] = [stats.spearmanr(df.iloc[:,i],df['Gfap'])[0] for i in range(df.shape[1])]  \n",
    "    \n",
    "    plt.hist(p.var['hfd5_gfap_only'][p.var.index!='Gfap'], bins=20)  \n",
    "    plt.axvline(x=0.2,\n",
    "                color='r',\n",
    "                label='#genes: 958'\n",
    "    )\n",
    "    plt.legend(loc='upper right')\n",
    "    plt.title('hfd5_gfap_only')\n",
    "    print(len(p.var[p.var['hfd5_gfap_only'] > cfcor]))\n",
    "    \n",
    "    enr_gfap_hfd5 = gseapy.enrichr(gene_list=p.var[p.var['hfd5_gfap_only']>cfcor].index.tolist(),\n",
    "                             organism='Mouse',\n",
    "                             gene_sets=repository,\n",
    "                             description='pathway',\n",
    "                             cutoff=cfenr\n",
    "    )\n",
    "    #gseapy.barplot(enr_res_gfap.res2d,title=title+'_hfd5_gfap',cutoff=cfenr, top_term=25)#,\n",
    "                   #ofname=sc_settings_figdir+title+'_hfd5_gfap')\n",
    "    pvalue=[]\n",
    "    cnt=[]\n",
    "    gl = p.var[p.var['hfd5_gfap_only'] > cfcor].index\n",
    "    gl1 = p.var[p.var['hfd5_gfap_only'] < cfcor].index\n",
    "    for i in ph:\n",
    "        pval = stats.fisher_exact([[len(set(gl) & set(i))+1, len(i)-len(set(gl) & set(i))],\n",
    "                                  [len(set(gl) & set(set(all)-set(i))), len(set(gl1) & (set(all)-set(i)))]])[1]\n",
    "        pvalue.append(pval)\n",
    "        cnt.append(len(set(gl) & set(i)))\n",
    "\n",
    "    h5_gf = pd.DataFrame({'Term':pname, \n",
    "                          'P-value':pvalue, \n",
    "                          'Count':cnt,\n",
    "                          'Comparison':'hfd5_gfap_only'}\n",
    "    )    "
   ]
  },
  {
   "cell_type": "code",
   "execution_count": 232,
   "metadata": {},
   "outputs": [],
   "source": [
    "if bool_plot == True:\n",
    "    gseapy.barplot(hfd5_aldh[hfd5_aldh['Term'].isin(z1)], \n",
    "                   title=title+'_hfd5_intersect_aldh', \n",
    "                   cutoff=cfenr,\n",
    "                   top_term=25#, ofname=sc_settings_figdir+title+'_hfd5_intersect_aldh')\n",
    "    )"
   ]
  },
  {
   "cell_type": "code",
   "execution_count": 233,
   "metadata": {},
   "outputs": [],
   "source": [
    "if bool_plot == True:    \n",
    "    gseapy.barplot(hfd5_gfap[hfd5_gfap['Term'].isin(z1)],\n",
    "                   title=title+'_hfd5_intersect_gfap', \n",
    "                   cutoff=cfenr,\n",
    "                   top_term=25#, ofname=sc_settings_figdir+title+'_hfd5_intersect_gfap')\n",
    "    )"
   ]
  },
  {
   "cell_type": "code",
   "execution_count": 234,
   "metadata": {},
   "outputs": [],
   "source": [
    "if bool_plot == True:\n",
    "    gseapy.barplot(hfd5_aldh[hfd5_aldh['Term'].isin(z2)],\n",
    "                   title=title+'_hfd5_only_aldh',\n",
    "                   cutoff=cfenr,\n",
    "                   top_term=25#,#ofname=sc_settings_figdir+title+'_hfd5_only_aldh')\n",
    "    )"
   ]
  },
  {
   "cell_type": "code",
   "execution_count": 235,
   "metadata": {},
   "outputs": [],
   "source": [
    "if bool_plot == True:\n",
    "    gseapy.barplot(hfd5_gfap[hfd5_gfap['Term'].isin(z3)],\n",
    "                   title=title+'_hfd5_only_gfap',\n",
    "                   cutoff=cfenr,\n",
    "                   top_term=25#, # ofname=sc_settings_figdir+title+'_hfd5_only_gfap')\n",
    "    )"
   ]
  },
  {
   "cell_type": "code",
   "execution_count": 236,
   "metadata": {},
   "outputs": [],
   "source": [
    "if bool_plot == True:    \n",
    "    p = adata_qc[(adata_qc.obs['diet'] == 'hfd_5') & (adata_astro.obs['gfap_aldh'] == 'both'), ]\n",
    "    df = pd.DataFrame(p.X.toarray(),\n",
    "                      index=p.obs.index,\n",
    "                      columns=p.var.index\n",
    "    )\n",
    "    p.var['hfd5_both_gfap'] = [stats.spearmanr(df.iloc[:,i],df['Gfap'])[0] for i in range(df.shape[1])]  \n",
    "\n",
    "    plt.hist(p.var['hfd5_both_gfap'][p.var.index!='Gfap'], bins=15)  \n",
    "    plt.axvline(x=0.2, \n",
    "                color='r',\n",
    "                label='#genes: 2277'\n",
    "    )\n",
    "    plt.legend(loc='upper right')\n",
    "    plt.title('hfd5_both_gfap')\n",
    "    \n",
    "    enr_hfd5_both_gfap = gseapy.enrichr(gene_list=p.var[p.var['hfd5_both_gfap']>cfcor].index.tolist(),\n",
    "                             organism='Mouse',\n",
    "                             gene_sets=repository,\n",
    "                             description='pathway',\n",
    "                             cutoff=cfenr\n",
    "    )\n",
    "    #gseapy.barplot(enr_res.res2d,title=title+'_hfd5_both_gfap',cutoff=cfenr, top_term=25)#,\n",
    "                  # ofname=sc_settings_figdir+title+'_hfd5_both_gfap')\n",
    "    pvalue = []\n",
    "    cnt = []\n",
    "    gl = p.var[p.var['hfd5_both_gfap']>cfcor].index\n",
    "    gl1 = p.var[p.var['hfd5_both_gfap']<cfcor].index\n",
    "    for i in ph:\n",
    "        pval = stats.fisher_exact([[len(set(gl) & set(i))+1, len(i)-len(set(gl) & set(i))],\n",
    "                                  [len(set(gl) & set(set(all)-set(i))), len(set(gl1)&(set(all)-set(i)))]])[1]\n",
    "        pvalue.append(pval)\n",
    "        cnt.append(len(set(gl) & set(i)))\n",
    "\n",
    "    h5_bt_gf=pd.DataFrame({'Term':pname, 'P-value':pvalue, 'Count':cnt, 'Comparison':'hfd5_both_gfap'})           "
   ]
  },
  {
   "cell_type": "code",
   "execution_count": 237,
   "metadata": {},
   "outputs": [],
   "source": [
    "if bool_plot == True:    \n",
    "    p = adata_qc[(adata_qc.obs['diet'] == 'hfd_5')&(adata_astro.obs['gfap_aldh'] == 'both'), ]\n",
    "    df = pd.DataFrame(p.X.toarray(), index=p.obs.index, columns=p.var.index)\n",
    "    p.var['hfd5_both_aldh'] = [stats.spearmanr(df.iloc[:,i],df['Aldh1l1'])[0] for i in range(df.shape[1])]  \n",
    "\n",
    "    plt.hist(p.var['hfd5_both_aldh'][p.var.index!='Aldh1l1'], bins=20)  \n",
    "    plt.axvline(x=0.2, \n",
    "                color='r',\n",
    "                label='#genes: 501'\n",
    "    )\n",
    "    plt.legend(loc='upper right')\n",
    "    plt.title('hfd5_both_aldh')\n",
    "    print(len(p.var[p.var['hfd5_both_aldh']>cfcor]))\n",
    "    \n",
    "    enr_hfd5_both_aldh = gseapy.enrichr(gene_list=p.var[p.var['hfd5_both_aldh'] > cfcor].index.tolist(),\n",
    "                             organism='Mouse',\n",
    "                             gene_sets=repository,\n",
    "                             description='pathway',\n",
    "                             cutoff=cfenr)\n",
    "    #gseapy.barplot(enr_res.res2d,title=title+'_hfd5_both_aldh1l1',cutoff=cfenr, top_term=25)#,\n",
    "                   #ofname=sc_settings_figdir+title+'_hfd5_both_aldh1l1')\n",
    "    pvalue = []\n",
    "    cnt = []\n",
    "    gl = p.var[p.var['hfd5_both_aldh'] > cfcor].index\n",
    "    gl1 = p.var[p.var['hfd5_both_aldh'] < cfcor].index\n",
    "    for i in ph:\n",
    "        pval = stats.fisher_exact([[len(set(gl) & set(i))+1, len(i)-len(set(gl) & set(i))],\n",
    "                                  [len(set(gl) & set(set(all)-set(i))), len(set(gl1) & (set(all)-set(i)))]])[1]\n",
    "        pvalue.append(pval)\n",
    "        cnt.append(len(set(gl) & set(i)))\n",
    "\n",
    "    h5_bt_al = pd.DataFrame({'Term':pname, \n",
    "                             'P-value':pvalue,\n",
    "                             'Count':cnt,\n",
    "                             'Comparison':'hfd5_both_aldh'}\n",
    "    )           "
   ]
  },
  {
   "cell_type": "code",
   "execution_count": 238,
   "metadata": {},
   "outputs": [],
   "source": [
    "if bool_plot == True:\n",
    "    hfd5_aldh = enr_aldh_hfd5.res2d[enr_aldh_hfd5.res2d['Adjusted P-value'] < 0.05]\n",
    "    hfd5_gfap = enr_gfap_hfd5.res2d[enr_gfap_hfd5.res2d['Adjusted P-value'] < 0.05]\n",
    "    hfd5_both_aldh = enr_hfd5_both_aldh.res2d[enr_hfd5_both_aldh.res2d['Adjusted P-value'] < 0.05]\n",
    "    hfd5_both_gfap = enr_hfd5_both_gfap.res2d[enr_hfd5_both_gfap.res2d['Adjusted P-value'] < 0.05]\n",
    "\n",
    "    h5_al = h5_al[h5_al['P-value'] < 0.05]\n",
    "    h5_gf = h5_gf[h5_gf['P-value'] < 0.05]\n",
    "    h5_bt_gf = h5_bt_gf[h5_bt_gf['P-value'] < 0.05]\n",
    "    h5_bt_al = h5_bt_al[h5_bt_al['P-value'] < 0.05]"
   ]
  },
  {
   "cell_type": "markdown",
   "metadata": {},
   "source": [
    "### HFD 15 days"
   ]
  },
  {
   "cell_type": "code",
   "execution_count": 239,
   "metadata": {},
   "outputs": [],
   "source": [
    "if bool_plot == True:\n",
    "    p = adata_qc[(adata_qc.obs['diet'] == 'hfd_15') & (adata_astro.obs['gfap_aldh'] == 'aldh_only'), ]\n",
    "    df = pd.DataFrame(p.X.toarray(),\n",
    "                      index=p.obs.index,\n",
    "                      columns=p.var.index\n",
    "    )\n",
    "    p.var['hfd15_aldh_only'] = [stats.spearmanr(df.iloc[:,i],df['Aldh1l1'])[0] for i in range(df.shape[1])]  \n",
    "    \n",
    "    plt.hist(p.var['hfd15_aldh_only'][p.var.index!='Aldh1l1'], bins=15)  \n",
    "    plt.axvline(x=0.2, \n",
    "                color='r',\n",
    "                label='#genes: 499'\n",
    "    )\n",
    "    plt.legend(loc='upper right')\n",
    "    plt.title('hfd15_aldh_only')\n",
    "    \n",
    "    enr_aldh_hfd15 = gseapy.enrichr(gene_list=p.var[p.var['hfd15_aldh_only']>cfcor].index.tolist(),\n",
    "                             organism='Mouse',\n",
    "                             gene_sets=repository,\n",
    "                             description='pathway',\n",
    "                             cutoff=cfenr\n",
    "    )\n",
    "    #gseapy.barplot(enr_res_aldh.res2d,title=title+'_hfd15_aldh1l1',cutoff=cfenr, top_term=25)#,\n",
    "                 #  ofname=sc_settings_figdir+title+'_hfd15_aldh1l1')\n",
    "    pvalue=[]\n",
    "    cnt=[]\n",
    "    gl = p.var[p.var['hfd15_aldh_only']>cfcor].index\n",
    "    gl1 = p.var[p.var['hfd15_aldh_only']<cfcor].index\n",
    "    for i in ph:\n",
    "        pval = stats.fisher_exact([[len(set(gl) & set(i))+1, len(i)-len(set(gl) & set(i))],\n",
    "                                  [len(set(gl) & set(set(all)-set(i))), len(set(gl1) & (set(all)-set(i)))]])[1]\n",
    "        pvalue.append(pval)\n",
    "        cnt.append(len(set(gl) & set(i)))\n",
    "\n",
    "    h15_al = pd.DataFrame({'Term':pname, \n",
    "                           'P-value':pvalue, \n",
    "                           'Count':cnt,  \n",
    "                           'Comparison':'hfd15_aldh_only'}\n",
    "    )"
   ]
  },
  {
   "cell_type": "code",
   "execution_count": 240,
   "metadata": {},
   "outputs": [],
   "source": [
    "if bool_plot == True:    \n",
    "    p = adata_qc[(adata_qc.obs['diet'] == 'hfd_15') & (adata_astro.obs['gfap_aldh'] == 'gfap_only'), ]\n",
    "    df = pd.DataFrame(p.X.toarray(), \n",
    "                      index=p.obs.index,\n",
    "                      columns=p.var.index\n",
    "    )\n",
    "    p.var['hfd15_gfap_only'] = [stats.spearmanr(df.iloc[:,i],df['Gfap'])[0] for i in range(df.shape[1])]  \n",
    "\n",
    "    plt.hist(p.var['hfd15_gfap_only'][p.var.index!='Gfap'], bins=20)  \n",
    "    plt.axvline(x=0.2, \n",
    "                color='r',\n",
    "                label='#genes: 2052'\n",
    "    )\n",
    "    plt.legend(loc='upper right')\n",
    "    plt.title('hfd15_gfap_only')\n",
    "    print(len(p.var[p.var['hfd15_gfap_only'] > cfcor]))\n",
    "    \n",
    "    enr_gfap_hfd15 = gseapy.enrichr(gene_list=p.var[p.var['hfd15_gfap_only'] > cfcor].index.tolist(),\n",
    "                             organism='Mouse',\n",
    "                             gene_sets=repository,\n",
    "                             description='pathway',\n",
    "                             cutoff=cfenr\n",
    "    )\n",
    "    #gseapy.barplot(enr_res_gfap.res2d,title=title+'_hfd15_gfap',cutoff=cfenr, top_term=25)#,\n",
    "                  # ofname=sc_settings_figdir+title+'_hfd15_gfap')\n",
    "    pvalue=[]\n",
    "    cnt=[]\n",
    "    gl = p.var[p.var['hfd15_gfap_only'] > cfcor].index\n",
    "    gl1 = p.var[p.var['hfd15_gfap_only'] < cfcor].index\n",
    "    for i in ph:\n",
    "        pval = stats.fisher_exact([[len(set(gl) & set(i))+1, len(i)-len(set(gl) & set(i))],\n",
    "                                  [len(set(gl) & set(set(all)-set(i))), len(set(gl1) & (set(all)-set(i)))]])[1]\n",
    "        pvalue.append(pval)\n",
    "        cnt.append(len(set(gl) & set(i)))\n",
    "\n",
    "    h15_gf = pd.DataFrame({'Term':pname, \n",
    "                           'P-value':pvalue, \n",
    "                           'Count':cnt, \n",
    "                           'Comparison':'hfd15_gfap_only'}\n",
    "    )    "
   ]
  },
  {
   "cell_type": "code",
   "execution_count": 241,
   "metadata": {},
   "outputs": [],
   "source": [
    "if bool_plot == True:\n",
    "    gseapy.barplot(hfd15_aldh[hfd15_aldh['Term'].isin(z1)], \n",
    "                   title=title+'_hfd15_intersect_aldh', \n",
    "                   cutoff=cfenr,\n",
    "                   top_term=25#, ofname=sc_settings_figdir+title+'_hfd15_intersect_aldh')\n",
    "    )"
   ]
  },
  {
   "cell_type": "code",
   "execution_count": 242,
   "metadata": {},
   "outputs": [],
   "source": [
    "if bool_plot == True:    \n",
    "    gseapy.barplot(hfd15_gfap[hfd15_gfap['Term'].isin(z1)], \n",
    "                   title=title+'_hfd15_intersect_gfap', \n",
    "                   cutoff=cfenr,\n",
    "                   top_term=25#, ofname=sc_settings_figdir+title+'_hfd15_intersect_gfap')\n",
    "    )"
   ]
  },
  {
   "cell_type": "code",
   "execution_count": 243,
   "metadata": {},
   "outputs": [],
   "source": [
    "if bool_plot == True:\n",
    "    gseapy.barplot(hfd15_aldh[hfd15_aldh['Term'].isin(z2)], \n",
    "                   title=title+'_hfd15_only_aldh', \n",
    "                   cutoff=cfenr, \n",
    "                   top_term=25#,#ofname=sc_settings_figdir+title+'_hfd15_only_aldh')\n",
    "    )"
   ]
  },
  {
   "cell_type": "code",
   "execution_count": 244,
   "metadata": {},
   "outputs": [],
   "source": [
    "if bool_plot == True:\n",
    "    gseapy.barplot(hfd15_gfap[hfd15_gfap['Term'].isin(z3)],\n",
    "                   title=title+'_hfd15_only_gfap',\n",
    "                   cutoff=cfenr,\n",
    "                   top_term=25#,#ofname=sc_settings_figdir+title+'_hfd15_only_gfap')\n",
    "    )"
   ]
  },
  {
   "cell_type": "code",
   "execution_count": 245,
   "metadata": {},
   "outputs": [],
   "source": [
    "if bool_plot == True:    \n",
    "    p = adata_qc[(adata_qc.obs['diet'] == 'hfd_15') & (adata_astro.obs['gfap_aldh'] == 'both'), ]\n",
    "    df = pd.DataFrame(p.X.toarray(),\n",
    "                      index=p.obs.index,\n",
    "                      columns=p.var.index\n",
    "    )\n",
    "    p.var['hfd15_both_gfap'] = [stats.spearmanr(df.iloc[:,i],df['Gfap'])[0] for i in range(df.shape[1])]  \n",
    "\n",
    "    plt.hist(p.var['hfd15_both_gfap'][p.var.index!='Gfap'], bins=20)  \n",
    "    plt.axvline(x=0.2, \n",
    "                color='r', \n",
    "                label='#genes: 470'\n",
    "    )\n",
    "    plt.legend(loc='upper right')\n",
    "    plt.title('hfd15_both_gfap')\n",
    "    print(len(p.var[p.var['hfd15_both_gfap'] > cfcor]))\n",
    "\n",
    "    enr_both_hfd15_gfap = gseapy.enrichr(gene_list=p.var[p.var['hfd15_both_gfap']>cfcor].index.tolist(),\n",
    "                                    organism='Mouse',\n",
    "                                    gene_sets=repository,\n",
    "                                    description='pathway',\n",
    "                                    cutoff=cfenr\n",
    "    )\n",
    "    #gseapy.barplot(enr_res.res2d,title=title+'_hfd15_both_gfap',cutoff=cfenr, top_term=25)#,\n",
    "                   #ofname=sc_settings_figdir+title+'_hfd15_both_gfap')\n",
    "    pvalue = []\n",
    "    cnt = []\n",
    "    gl = p.var[p.var['hfd15_both_gfap'] > cfcor].index\n",
    "    gl1 = p.var[p.var['hfd15_both_gfap'] < cfcor].index\n",
    "    for i in ph:\n",
    "        pval = stats.fisher_exact([[len(set(gl) & set(i))+1, len(i)-len(set(gl) & set(i))],\n",
    "                                  [len(set(gl) & set(set(all)-set(i))), len(set(gl1) & (set(all)-set(i)))]])[1]\n",
    "        pvalue.append(pval)\n",
    "        cnt.append(len(set(gl) & set(i)))\n",
    "\n",
    "    h15_bt_gf = pd.DataFrame({'Term':pname,\n",
    "                              'P-value':pvalue, \n",
    "                              'Count':cnt, \n",
    "                              'Comparison':'hfd15_both_gfap'}\n",
    "    )           "
   ]
  },
  {
   "cell_type": "code",
   "execution_count": 246,
   "metadata": {},
   "outputs": [],
   "source": [
    "if bool_plot == True:    \n",
    "    p = adata_qc[(adata_qc.obs['diet'] == 'hfd_15') & (adata_astro.obs['gfap_aldh'] == 'both'), ]\n",
    "    df = pd.DataFrame(p.X.toarray(),\n",
    "                      index=p.obs.index,\n",
    "                      columns=p.var.index\n",
    "    )\n",
    "    p.var['hfd15_both_aldh'] = [stats.spearmanr(df.iloc[:,i],df['Aldh1l1'])[0] for i in range(df.shape[1])]  \n",
    "\n",
    "    plt.hist(p.var['hfd15_both_aldh'][p.var.index!='Aldh1l1'], bins=20)  \n",
    "    plt.axvline(x=0.2,  color='r', label='#genes: 543')\n",
    "    plt.legend(loc='upper right')\n",
    "    plt.title('hfd15_both_aldh')\n",
    "    print(len(p.var[p.var['hfd15_both_aldh'] > cfcor]))\n",
    "\n",
    "    enr_both_hfd15_aldh = gseapy.enrichr(gene_list=p.var[p.var['hfd15_both_aldh']>cfcor].index.tolist(),\n",
    "                                         organism='Mouse',\n",
    "                                         gene_sets=repository,\n",
    "                                         description='pathway',\n",
    "                                         cutoff=cfenr\n",
    "    )\n",
    "    #gseapy.barplot(enr_res.res2d,title=title+'_hfd15_both_aldh1l1',cutoff=cfenr, top_term=25)#,\n",
    "                   #ofname=sc_settings_figdir+title+'_hfd15_both_aldh1l1')\n",
    "    pvalue=[]\n",
    "    cnt=[]\n",
    "    gl = p.var[p.var['hfd15_both_aldh'] > cfcor].index\n",
    "    gl1 = p.var[p.var['hfd15_both_aldh'] < cfcor].index\n",
    "    for i in ph:\n",
    "        pval = stats.fisher_exact([[len(set(gl) & set(i))+1, len(i)-len(set(gl) & set(i))],\n",
    "                                  [len(set(gl) & set(set(all)-set(i))), len(set(gl1) & (set(all)-set(i)))]])[1]\n",
    "        pvalue.append(pval)\n",
    "        cnt.append(len(set(gl) & set(i)))\n",
    "\n",
    "    h15_bt_al = pd.DataFrame({'Term':pname,\n",
    "                              'P-value':pvalue, \n",
    "                              'Count':cnt, \n",
    "                              'Comparison':'hfd15_both_aldh'}\n",
    "    )           "
   ]
  },
  {
   "cell_type": "code",
   "execution_count": 247,
   "metadata": {},
   "outputs": [],
   "source": [
    "if bool_plot == True:\n",
    "    hfd15_aldh = enr_aldh_hfd15.res2d[enr_aldh_hfd15.res2d['Adjusted P-value'] < 0.05]\n",
    "    hfd15_gfap = enr_gfap_hfd15.res2d[enr_gfap_hfd15.res2d['Adjusted P-value'] < 0.05]\n",
    "    hfd15_both_aldh = enr_both_hfd15_aldh.res2d[enr_both_hfd15_aldh.res2d['Adjusted P-value'] < 0.05]\n",
    "    hfd15_both_gfap = enr_both_hfd15_gfap.res2d[enr_both_hfd15_gfap.res2d['Adjusted P-value'] < 0.05]\n",
    "    \n",
    "    h15_al = h15_al[h15_al['P-value'] < 0.05]\n",
    "    h15_gf = h15_gf[h15_gf['P-value'] < 0.05]\n",
    "    h15_bt_gf = h15_bt_gf[h15_bt_gf['P-value'] < 0.05]\n",
    "    h15_bt_al = h15_bt_al[h15_bt_al['P-value'] < 0.05]"
   ]
  },
  {
   "cell_type": "markdown",
   "metadata": {},
   "source": [
    "# Cluster 0,1, 2 only"
   ]
  },
  {
   "cell_type": "markdown",
   "metadata": {},
   "source": [
    "Here we focus on Clusters 0,1,2 as a potential astrocyte population"
   ]
  },
  {
   "cell_type": "markdown",
   "metadata": {},
   "source": [
    "<a id=\"Embedding\"></a>"
   ]
  },
  {
   "cell_type": "markdown",
   "metadata": {},
   "source": [
    "## Embedding and Clustering"
   ]
  },
  {
   "cell_type": "code",
   "execution_count": 248,
   "metadata": {},
   "outputs": [
    {
     "name": "stderr",
     "output_type": "stream",
     "text": [
      "running PAGA\n",
      "    finished: added\n",
      "    'paga/connectivities', connectivities adjacency (adata.uns)\n",
      "    'paga/connectivities_tree', connectivities subtree (adata.uns) (0:00:00)\n"
     ]
    }
   ],
   "source": [
    "if bool_recomp == True:  \n",
    "    cell_ids_012 = np.asarray(adata_proc.obs_names)[\n",
    "        [x in ['astrocytes','ependymal'] \n",
    "         for x in np.asarray(adata_proc.obs['celltypes'].values)]\n",
    "    ]\n",
    "    adata_012 = adata_raw[cell_ids_012,:].copy()\n",
    "    adata_012.obs['n_genes'] = (adata_012.X > 0).sum(1)\n",
    "    adata_012.obs['n_counts'] = adata_012.X.sum(1)\n",
    "    mt_gene_mask = [gene.startswith('mt-') for gene in adata_012.var_names]\n",
    "    temp_mt_sum = adata_012[:,mt_gene_mask].X.sum(1)\n",
    "    temp_mt_sum = np.squeeze(np.asarray(temp_mt_sum))\n",
    "    temp_n_counts = adata_012.obs['n_counts']\n",
    "    adata_012.obs['mt_frac'] = temp_mt_sum/adata_012.obs['n_counts']\n",
    "    adata_012.raw = adata_012\n",
    "    sc.pp.normalize_per_cell(adata_012)\n",
    "    sc.pp.log1p(adata_012)\n",
    "    sc.pp.highly_variable_genes(adata_012,n_top_genes=4000)\n",
    "    sc.pl.highly_variable_genes(adata_012)\n",
    "    adata_012.X = adata_012.X.toarray()\n",
    "    \n",
    "    sc.pp.pca(adata_012,\n",
    "              n_comps=50,\n",
    "              use_highly_variable=True,\n",
    "              random_state=0, \n",
    "              svd_solver='arpack'\n",
    "    )\n",
    "    sc.pp.neighbors(adata_012, \n",
    "                    n_neighbors=100, \n",
    "                    knn=True, \n",
    "                    method='umap', \n",
    "                    n_pcs=50,\n",
    "                    random_state=0\n",
    "    )\n",
    "    sc.tl.umap(adata_012)\n",
    "    if bool_recluster == True:\n",
    "        sc.tl.leiden(adata_012,\n",
    "                     resolution=0.5)\n",
    "        pd.DataFrame(adata_012.obs).to_csv(path_or_buf=sc_settings_writedir+'obs_adata_012.csv')\n",
    "    else:\n",
    "        obs = pd.read_csv(sc_settings_writedir+'obs_adata_012.csv')\n",
    "        adata_012.obs['louvain'] = pd.Series(obs['louvain'].values,\n",
    "                                             dtype = 'category'\n",
    "        )\n",
    "    sc.write(sc_settings_writedir+'adata_012.h5ad', adata_012)\n",
    "else:\n",
    "    adata_012 = sc.read(sc_settings_writedir+'adata_012.h5ad') \n",
    "sc.tl.paga(adata_012)"
   ]
  },
  {
   "cell_type": "code",
   "execution_count": 249,
   "metadata": {},
   "outputs": [],
   "source": [
    "if bool_plot == True:\n",
    "    cf.plot_umap_marker(adata_012, \n",
    "                        ['leiden'],\n",
    "                        save=\"_clust012_leiden.png\",\n",
    "                        use_raw=False, \n",
    "                        size=5\n",
    "    )"
   ]
  },
  {
   "cell_type": "code",
   "execution_count": 250,
   "metadata": {},
   "outputs": [],
   "source": [
    "if bool_plot == True:\n",
    "    cf.plot_umap_marker(adata_012, \n",
    "                        ['leiden'],\n",
    "                        save=\"_clust012_leiden_ondata.png\",\n",
    "                        use_raw=False, \n",
    "                        legend_loc='on data', \n",
    "                        size=5\n",
    "    )"
   ]
  },
  {
   "cell_type": "code",
   "execution_count": 251,
   "metadata": {},
   "outputs": [],
   "source": [
    "if bool_plot == True:\n",
    "    cf.plot_umap_marker(adata_012,\n",
    "                        ['n_genes', 'n_counts', 'mt_frac'], \n",
    "                        color_map=mymap, \n",
    "                        size=10,\n",
    "                        save=\"_clust012_n_gene_count_mt.png\",\n",
    "                        use_raw=False\n",
    "    )"
   ]
  },
  {
   "cell_type": "markdown",
   "metadata": {},
   "source": [
    "A high fraction of mitochondrial RNA is in cluster 3 and around the central cluster 8."
   ]
  },
  {
   "cell_type": "code",
   "execution_count": 252,
   "metadata": {},
   "outputs": [],
   "source": [
    "if bool_plot == True:\n",
    "    cf.plot_umap_marker(adata_012, \n",
    "                        ['Gfap', 'Aldh1l1'], \n",
    "                        color_map=mymap,\n",
    "                        size=10, \n",
    "                        save=\"_clust012_markers.png\",\n",
    "                        use_raw=False\n",
    "    )"
   ]
  },
  {
   "cell_type": "code",
   "execution_count": 253,
   "metadata": {},
   "outputs": [],
   "source": [
    "if bool_plot == True:\n",
    "    cf.plot_umap_marker(adata_012,\n",
    "                        ['diet'],\n",
    "                        save=\"_clust012_diet.png\",\n",
    "                        size=10,\n",
    "                        use_raw=False\n",
    "    )"
   ]
  },
  {
   "cell_type": "code",
   "execution_count": 254,
   "metadata": {},
   "outputs": [],
   "source": [
    "if bool_plot == True:\n",
    "    sc.pl.paga(adata_012,\n",
    "               save=\"_clust012.png\"\n",
    "    )"
   ]
  },
  {
   "cell_type": "code",
   "execution_count": 255,
   "metadata": {},
   "outputs": [],
   "source": [
    "if bool_plot == True:\n",
    "    cf.cell_percent(adata_012,\n",
    "                    cluster='leiden', \n",
    "                    condition='diet', \n",
    "                    xlabel='clusters',\n",
    "                    ylabel='percentage', \n",
    "                    title='barplot_clust012_diet_per_clusters',\n",
    "                    save=sc_settings_figdir,\n",
    "                    table=False\n",
    "    )"
   ]
  },
  {
   "cell_type": "code",
   "execution_count": 256,
   "metadata": {},
   "outputs": [],
   "source": [
    "if bool_plot == True:\n",
    "    aldh_pos = adata_012.obs_names[np.asarray(adata_012[:,'Aldh1l1'].X).flatten() > 0]\n",
    "    gfap_pos = adata_012.obs_names[np.asarray(adata_012[:,'Gfap'].X).flatten() > 0]\n",
    "    glast_pos = adata_012.obs_names[np.asarray(adata_012[:,'Slc1a3'].X).flatten() > 0]\n",
    "\n",
    "    matplotlib_venn.venn3([set(aldh_pos),\n",
    "                           set(gfap_pos),\n",
    "                           set(glast_pos)],\n",
    "                          set_labels=(\"Aldh1l1\", \"Gfap\", \"Slc1a3\")\n",
    "    )\n",
    "    plt.savefig(sc_settings_figdir+'venndiagram_clust012_gfap-aldh-glast.png')"
   ]
  },
  {
   "cell_type": "code",
   "execution_count": 257,
   "metadata": {},
   "outputs": [],
   "source": [
    "if bool_plot == True:\n",
    "    aldh_pos = adata_012.obs_names[np.asarray(adata_012[:,'Aldh1l1'].X).flatten() > 0]\n",
    "    gfap_pos = adata_012.obs_names[np.asarray(adata_012[:,'Gfap'].X).flatten() > 0]\n",
    "\n",
    "    matplotlib_venn.venn2([set(aldh_pos),\n",
    "                           set(gfap_pos)],\n",
    "                          set_labels=(\"Aldh1l1\", \"Gfap\"),\n",
    "                          set_colors=('lime', 'magenta'))\n",
    "    plt.savefig(sc_settings_figdir+'venndiagram_clust012_gfap-aldh.png')"
   ]
  },
  {
   "cell_type": "markdown",
   "metadata": {},
   "source": [
    "## Define Cell Types"
   ]
  },
  {
   "cell_type": "markdown",
   "metadata": {},
   "source": [
    "### DE Genes"
   ]
  },
  {
   "cell_type": "code",
   "execution_count": 258,
   "metadata": {
    "scrolled": false
   },
   "outputs": [
    {
     "name": "stderr",
     "output_type": "stream",
     "text": [
      "WARNING: Default of the method has been changed to 't-test' from 't-test_overestim_var'\n",
      "ranking genes\n",
      "    finished: added to `.uns['rank_genes']`\n",
      "    'names', sorted np.recarray to be indexed by group ids\n",
      "    'scores', sorted np.recarray to be indexed by group ids\n",
      "    'logfoldchanges', sorted np.recarray to be indexed by group ids\n",
      "    'pvals', sorted np.recarray to be indexed by group ids\n",
      "    'pvals_adj', sorted np.recarray to be indexed by group ids (0:00:00)\n"
     ]
    }
   ],
   "source": [
    "sc.tl.rank_genes_groups(adata_012,\n",
    "                        groupby='leiden',\n",
    "                        key_added='rank_genes'\n",
    ")\n",
    "\n",
    "if bool_plot == True:\n",
    "    sc.pl.rank_genes_groups(adata_012, \n",
    "                            key='rank_genes',\n",
    "                            groups=['0','1','2'],\n",
    "                            save=\"_clust012_1.png\"\n",
    "    )\n",
    "    sc.pl.rank_genes_groups(adata_012, \n",
    "                            key='rank_genes',\n",
    "                            groups=['3','4'], \n",
    "                            save=\"_clust012_2.png\"\n",
    "    )\n",
    "    #sc.pl.rank_genes_groups(adata_012, key='rank_genes', groups=['6','7'], save=\"_clust012_3.png\")"
   ]
  },
  {
   "cell_type": "markdown",
   "metadata": {},
   "source": [
    "### Summary heatmap, dotplot and stacked_violin for cluster assignments"
   ]
  },
  {
   "cell_type": "code",
   "execution_count": 259,
   "metadata": {},
   "outputs": [],
   "source": [
    "if bool_plot == True:\n",
    "    sc.pl.heatmap(adata=adata_012, \n",
    "                  var_names=marker_genes_dict, \n",
    "                  groupby=\"leiden\", \n",
    "                  use_raw=False, \n",
    "                  log=False, \n",
    "                  dendrogram=True, \n",
    "                  var_group_rotation=90, \n",
    "                  show_gene_labels=True, \n",
    "                  show=True, \n",
    "                  save=\"_clust012_celltypes.png\"\n",
    "    )"
   ]
  },
  {
   "cell_type": "code",
   "execution_count": 260,
   "metadata": {},
   "outputs": [],
   "source": [
    "if bool_plot == True:\n",
    "    sc.pl.dotplot(adata=adata_012,\n",
    "                  var_names=marker_genes_dict, \n",
    "                  groupby='leiden',\n",
    "                  use_raw=False, \n",
    "                  log=False, \n",
    "                  dendrogram=True, \n",
    "                  var_group_rotation=90, \n",
    "                  show=True, \n",
    "                  save=\"_clust012_celltypes.png\"\n",
    "    )"
   ]
  },
  {
   "cell_type": "code",
   "execution_count": 261,
   "metadata": {},
   "outputs": [],
   "source": [
    "if bool_plot == True:\n",
    "    sc.pl.stacked_violin(adata=adata_012, \n",
    "                         var_names=marker_genes_dict, \n",
    "                         groupby='leiden', \n",
    "                         use_raw=False,\n",
    "                         dendrogram=True,\n",
    "                         cmap='viridis_r',\n",
    "                         show=True,\n",
    "                         save=\"_clust012_celltypes.png\"\n",
    "    )"
   ]
  },
  {
   "cell_type": "code",
   "execution_count": 262,
   "metadata": {},
   "outputs": [],
   "source": [
    "if bool_plot == True:\n",
    "    plt.figure(figsize=(7,7))\n",
    "    cell_annotation = sc.tl.marker_gene_overlap(adata_012,\n",
    "                                                marker_genes_dict, \n",
    "                                                key='rank_genes', \n",
    "                                                normalize='data'\n",
    "    )\n",
    "    sb.heatmap(cell_annotation, \n",
    "               cbar=False,\n",
    "               annot=True\n",
    "    )\n",
    "    plt.savefig(sc_settings_figdir+'heatmap_clust012_rank_genes_cell_annotation.png')"
   ]
  },
  {
   "cell_type": "code",
   "execution_count": 263,
   "metadata": {},
   "outputs": [],
   "source": [
    "if bool_plot == True:\n",
    "    sc.tl.embedding_density(adata_012,\n",
    "                            basis='umap',\n",
    "                            groupby='diet'\n",
    "    )\n",
    "    sc.pl.embedding_density(adata_012, \n",
    "                            basis='umap',\n",
    "                            key='umap_density_diet',\n",
    "                            group=['chow', 'hfd_5', 'hfd_15'],\n",
    "                            bg_dotsize=5, \n",
    "                            fg_dotsize=30,\n",
    "                            save=\"clust012.png\"\n",
    "    )"
   ]
  },
  {
   "cell_type": "markdown",
   "metadata": {},
   "source": [
    "## Count distribution for Aldh1l1 and Gfap"
   ]
  },
  {
   "cell_type": "markdown",
   "metadata": {},
   "source": [
    "#### Single and double positive counts¶"
   ]
  },
  {
   "cell_type": "markdown",
   "metadata": {},
   "source": [
    "Define booleans for single and double positive counts of Gfap and Aldh1l1"
   ]
  },
  {
   "cell_type": "code",
   "execution_count": 264,
   "metadata": {},
   "outputs": [],
   "source": [
    "non_boolean_int = np.array((adata_012[:,'Gfap'].X <= 0) & (adata_012[:,'Aldh1l1'].X <= 0)\n",
    "                           , dtype=int\n",
    ")\n",
    "gfap_single_boolean = (adata_012[:,'Gfap'].X > 0) & (adata_012[:,'Aldh1l1'].X <= 0)\n",
    "aldh_single_boolean = (adata_012[:,'Aldh1l1'].X > 0) & (adata_012[:,'Gfap'].X <= 0) \n",
    "single_boolean_int = np.array((gfap_single_boolean | aldh_single_boolean), \n",
    "                              dtype=int)*1\n",
    "\n",
    "gfap_aldh_double_boolean = (adata_012[:,'Gfap'].X>0) & (adata_012[:,'Aldh1l1'].X>0)\n",
    "double_boolean_int = np.array((gfap_aldh_double_boolean), \n",
    "                              dtype=int)*2\n",
    "\n",
    "non_boolean_int *=0"
   ]
  },
  {
   "cell_type": "code",
   "execution_count": 265,
   "metadata": {},
   "outputs": [
    {
     "name": "stdout",
     "output_type": "stream",
     "text": [
      "Gfap Single Positive  1698\n",
      "Aldh1l1 Single Positive  965\n",
      "Gfap/Aldh1l1 Double Positive  736\n"
     ]
    }
   ],
   "source": [
    "gfap_single_pos = adata_012[:,'Gfap'].X[gfap_single_boolean]\n",
    "aldh_single_pos = adata_012[:,'Aldh1l1'].X[aldh_single_boolean]\n",
    "\n",
    "print('Gfap Single Positive ',len(gfap_single_pos))\n",
    "print('Aldh1l1 Single Positive ',len(aldh_single_pos))\n",
    "\n",
    "gfap_aldh_double_pos = adata_012[:,'Gfap'].X[gfap_aldh_double_boolean]\n",
    "\n",
    "print('Gfap/Aldh1l1 Double Positive ',len(gfap_aldh_double_pos))\n"
   ]
  },
  {
   "cell_type": "markdown",
   "metadata": {},
   "source": [
    "<a id=\"adipmarkers\"></a>"
   ]
  },
  {
   "cell_type": "code",
   "execution_count": 266,
   "metadata": {},
   "outputs": [],
   "source": [
    "adata_012.obs['sdt_pos'] = np.array((non_boolean_int + single_boolean_int + double_boolean_int),\n",
    "                                    dtype=str\n",
    ")\n",
    "adata_012.obs['s_pos'] = np.array((np.array(gfap_single_boolean, dtype=int)*1)+(np.array(aldh_single_boolean, dtype=int)*2), \n",
    "                                  dtype=str\n",
    ")\n",
    "adata_012.obs['d_pos'] = np.array((np.array(gfap_aldh_double_boolean, dtype=int)*1),\n",
    "                                  dtype=str\n",
    ")\n",
    "\n",
    "# make them categorical\n",
    "adata_012.obs['sdt_pos'] = pd.Series(adata_012.obs['sdt_pos'],\n",
    "                                     dtype=\"category\"\n",
    ")\n",
    "adata_012.obs['s_pos'] = pd.Series(adata_012.obs['s_pos'], \n",
    "                                   dtype=\"category\"\n",
    ")\n",
    "adata_012.obs['d_pos'] = pd.Series(adata_012.obs['d_pos'],\n",
    "                                   dtype=\"category\"\n",
    ")"
   ]
  },
  {
   "cell_type": "code",
   "execution_count": 267,
   "metadata": {},
   "outputs": [],
   "source": [
    "if bool_plot == True:\n",
    "    new_cluster_names = ['Non Positives', 'Single Positives', 'Double Positives']\n",
    "    adata_012.rename_categories('sdt_pos', \n",
    "                                new_cluster_names\n",
    "    )\n",
    "    sc.pl.umap(adata_012,\n",
    "               color=['sdt_pos'],\n",
    "               size=10, \n",
    "               palette=[\"lightgrey\", \"tomato\", \"blue\"], \n",
    "               save=\"_clust012_gfap-aldh_single_double_positiv.png\"\n",
    "    )\n",
    "    new_cluster_names = ['Non Single Positives', 'Gfap Single Positives', 'Aldh1l1 Single Positives']\n",
    "    adata_012.rename_categories('s_pos',\n",
    "                                new_cluster_names\n",
    "    )\n",
    "    sc.pl.umap(adata_012[adata_012.obs['s_pos'] != 'Non Single Positives'],\n",
    "               color=['s_pos'],\n",
    "               size=10, \n",
    "               palette=[\"magenta\", \"lime\"],\n",
    "               save=\"_clust012_gfap-aldh_single_positiv.png\"\n",
    "    )\n",
    "    new_cluster_names = ['Non Double Positives', 'Gfap/Aldh1l1 Double Positive']\n",
    "    adata_012.rename_categories('d_pos',\n",
    "                                new_cluster_names\n",
    "    )\n",
    "    sc.pl.umap(adata_012[adata_012.obs['d_pos'] != 'Non Double Positives'],\n",
    "               color=['d_pos'],\n",
    "               size=10,\n",
    "               save=\"_clust012_gfap-aldh_doble_positiv.png\"\n",
    "    )"
   ]
  },
  {
   "cell_type": "markdown",
   "metadata": {},
   "source": [
    "### Cluster 0,1,2 chow diet"
   ]
  },
  {
   "cell_type": "code",
   "execution_count": 268,
   "metadata": {},
   "outputs": [],
   "source": [
    "if bool_plot == True:\n",
    "    fig, (ax1, ax2) = plt.subplots(1, 2, figsize=(12,4), gridspec_kw={'wspace':0.8})\n",
    "    ax1_dict = ax1.scatter(adata_012[adata_012.obs['diet'] == 'chow', ][:, ['Gfap']].X, \n",
    "                           adata_012[adata_012.obs['diet'] == 'chow', ][:, ['Aldh1l1']].X, \n",
    "                           s=9,\n",
    "                           cmap='seismic',\n",
    "                           c='dodgerblue'\n",
    "    )\n",
    "    ax1.set_title('chow')\n",
    "    ax1.set_ylabel('Gfap')\n",
    "    ax1.set_xlabel('Aldh1l1')\n",
    "    ax2_dict = sc.pl.umap(adata_012[adata_012.obs['diet']=='chow', ], \n",
    "                          color=['leiden'],\n",
    "                          size=10,\n",
    "                          ax=ax2,\n",
    "                          show=False\n",
    "    )\n",
    "    plt.savefig(sc_settings_figdir+'gfap-aldh_clust012_chow.png')"
   ]
  },
  {
   "cell_type": "code",
   "execution_count": 269,
   "metadata": {},
   "outputs": [],
   "source": [
    "if bool_plot == True:\n",
    "    cf.plot_umap_marker(adata_012,\n",
    "                        ['Gfap', 'Aldh1l1'],\n",
    "                        save=\"_clust012_chow_gfap-aldh.png\",\n",
    "                        size=10, \n",
    "                        color_map=mymap,\n",
    "                        use_raw=False\n",
    "    )"
   ]
  },
  {
   "cell_type": "code",
   "execution_count": 270,
   "metadata": {},
   "outputs": [],
   "source": [
    "if bool_plot == True:\n",
    "    aldh_pos = adata_012[adata_012.obs['diet'] == 'chow', ].obs_names[np.asarray(adata_012[adata_012.obs['diet'] == 'chow', ][:,'Aldh1l1'].X).flatten()>0]\n",
    "    gfap_pos = adata_012[adata_012.obs['diet'] == 'chow', ].obs_names[np.asarray(adata_012[adata_012.obs['diet'] == 'chow', ][:,'Gfap'].X).flatten()>0]\n",
    "\n",
    "    matplotlib_venn.venn2([set(aldh_pos),\n",
    "                           set(gfap_pos)],\n",
    "                          set_labels=(\"Aldh1l1\", \"Gfap\"),\n",
    "                          set_colors=('lime', 'magenta')\n",
    "    )\n",
    "    plt.savefig(sc_settings_figdir+'venndiagram_clust012_chow_gfap-aldh.png')"
   ]
  },
  {
   "cell_type": "markdown",
   "metadata": {},
   "source": [
    "### Cluster 0,1,2 hfd_5 diet"
   ]
  },
  {
   "cell_type": "code",
   "execution_count": 271,
   "metadata": {},
   "outputs": [],
   "source": [
    "if bool_plot == True:\n",
    "    fig, (ax1, ax2) = plt.subplots(1, 2, figsize=(12,4), gridspec_kw={'wspace':0.8})\n",
    "    ax1_dict = ax1.scatter(adata_012[adata_012.obs['diet'] == 'hfd_5', ][:, ['Gfap']].X, \n",
    "                           adata_012[adata_012.obs['diet'] == 'hfd_5', ][:, ['Aldh1l1']].X, \n",
    "                           s=9,\n",
    "                           cmap='seismic', \n",
    "                           c='darkorange'\n",
    "    )\n",
    "    ax1.set_title('hfd_5')\n",
    "    ax1.set_ylabel('Gfap')\n",
    "    ax1.set_xlabel('Aldh1l1')\n",
    "    ax2_dict = sc.pl.umap(adata_012[adata_012.obs['diet'] == 'hfd_5', ],\n",
    "                          color=['leiden'],\n",
    "                          size=10,\n",
    "                          ax=ax2,\n",
    "                          show=False\n",
    "    )\n",
    "    plt.savefig(sc_settings_figdir+'gfap-aldh_clust012_hfd5.png')"
   ]
  },
  {
   "cell_type": "code",
   "execution_count": 272,
   "metadata": {},
   "outputs": [],
   "source": [
    "if bool_plot == True:\n",
    "    cf.plot_umap_marker(adata_012[adata_012.obs['diet'] == 'hfd_5', ], ['Gfap', 'Aldh1l1'],\n",
    "                        save=\"_clust012_hfd5_gfap-aldh.png\", size=10, color_map=mymap, use_raw=False)"
   ]
  },
  {
   "cell_type": "code",
   "execution_count": 273,
   "metadata": {},
   "outputs": [],
   "source": [
    "if bool_plot == True:\n",
    "    aldh_pos = adata_012[adata_012.obs['diet'] == 'hfd_5', ].obs_names[np.asarray(adata_012[adata_012.obs['diet'] == 'hfd_5', ][:,'Aldh1l1'].X).flatten()>0]\n",
    "    gfap_pos = adata_012[adata_012.obs['diet'] == 'hfd_5', ].obs_names[np.asarray(adata_012[adata_012.obs['diet'] == 'hfd_5', ][:,'Gfap'].X).flatten()>0]\n",
    "\n",
    "    matplotlib_venn.venn2([set(aldh_pos),\n",
    "                           set(gfap_pos)],\n",
    "                          set_labels=(\"Aldh1l1\", \"Gfap\"), \n",
    "                          set_colors=('lime', 'magenta')\n",
    "    )\n",
    "    plt.savefig(sc_settings_figdir+'venndiagram_clust012_hfd5_gfap-aldh.png')"
   ]
  },
  {
   "cell_type": "markdown",
   "metadata": {},
   "source": [
    "### Cluster 0,1,2 hfd_15 diet"
   ]
  },
  {
   "cell_type": "code",
   "execution_count": 274,
   "metadata": {},
   "outputs": [],
   "source": [
    "if bool_plot == True:\n",
    "    fig, (ax1, ax2) = plt.subplots(1, 2, figsize=(12,4), gridspec_kw={'wspace':0.8})\n",
    "    ax1_dict = ax1.scatter(adata_012[adata_012.obs['diet'] == 'hfd_15', ][:, ['Gfap']].X, \n",
    "                           adata_012[adata_012.obs['diet'] == 'hfd_15', ][:, ['Aldh1l1']].X, \n",
    "                           s=9,\n",
    "                           cmap='seismic',\n",
    "                           c='green'\n",
    "    )\n",
    "    ax1.set_title('hfd_15')\n",
    "    ax1.set_ylabel('Gfap')\n",
    "    ax1.set_xlabel('Aldh1l1')\n",
    "    ax2_dict = sc.pl.umap(adata_012[adata_012.obs['diet'] == 'hfd_15', ],\n",
    "                          color=['leiden'],\n",
    "                          size=10,\n",
    "                          ax=ax2,\n",
    "                          show=False\n",
    "    )\n",
    "    plt.savefig(sc_settings_figdir+'gfap-aldh_clust012_hfd15.png')"
   ]
  },
  {
   "cell_type": "code",
   "execution_count": 275,
   "metadata": {},
   "outputs": [],
   "source": [
    "if bool_plot == True:\n",
    "    cf.plot_umap_marker(adata_012[adata_012.obs['diet'] == 'hfd_15', ], \n",
    "                        ['Gfap', 'Aldh1l1'],\n",
    "                        save=\"_clust012_hfd15_gfap-aldh.png\",\n",
    "                        size=10, \n",
    "                        color_map=mymap,\n",
    "                        use_raw=False\n",
    "    )"
   ]
  },
  {
   "cell_type": "code",
   "execution_count": 276,
   "metadata": {},
   "outputs": [],
   "source": [
    "if bool_plot == True:\n",
    "    aldh_pos = adata_012[adata_012.obs['diet'] == 'hfd_15', ].obs_names[np.asarray(adata_012[adata_012.obs['diet'] == 'hfd_15', ][:,'Aldh1l1'].X).flatten()>0]\n",
    "    gfap_pos = adata_012[adata_012.obs['diet'] == 'hfd_15', ].obs_names[np.asarray(adata_012[adata_012.obs['diet'] == 'hfd_15', ][:,'Gfap'].X).flatten()>0]\n",
    "\n",
    "    matplotlib_venn.venn2([set(aldh_pos),\n",
    "                           set(gfap_pos)],\n",
    "                          set_labels=(\"Aldh1l1\", \"Gfap\"), \n",
    "                          set_colors=('lime', 'magenta')\n",
    "    ) \n",
    "    plt.savefig(sc_settings_figdir+'venndiagram_clust012_hfd15_gfap-aldh.png')"
   ]
  },
  {
   "cell_type": "markdown",
   "metadata": {},
   "source": [
    "## Cells expression Gfap and Aldh1l1"
   ]
  },
  {
   "cell_type": "code",
   "execution_count": 277,
   "metadata": {},
   "outputs": [],
   "source": [
    "adata_012.obs['gfap_aldh'] = np.select([((adata_012[:,'Gfap'].X > 0) & (adata_012[:,'Aldh1l1'].X == 0)), \n",
    "                                        ((adata_012[:,'Gfap'].X == 0) & (adata_012[:,'Aldh1l1'].X > 0)),\n",
    "                                        ((adata_012[:,'Gfap'].X > 0) & (adata_012[:,'Aldh1l1'].X > 0)), \n",
    "                                        ((adata_012[:,'Gfap'].X == 0) & (adata_012[:,'Aldh1l1'].X == 0))],\n",
    "                                        ['gfap_only', 'aldh_only', 'both', 'none'])"
   ]
  },
  {
   "cell_type": "markdown",
   "metadata": {},
   "source": [
    "### Chow"
   ]
  },
  {
   "cell_type": "code",
   "execution_count": 278,
   "metadata": {},
   "outputs": [],
   "source": [
    "if bool_plot == True:\n",
    "    data = adata_012[adata_012.obs['diet'] == 'chow', ].obs['gfap_aldh'].value_counts().sort_index()\n",
    "\n",
    "    fig, (ax0, ax1) = plt.subplots(ncols=2, figsize=(16, 6), subplot_kw=dict(aspect=\"equal\"))\n",
    "    ax0 = sc.pl.umap(adata_012[adata_012.obs['diet']=='chow', ], \n",
    "                     color=['gfap_aldh'], size=10, ax=ax0, show=False,\n",
    "                     palette=['green','blue','magenta','gainsboro'])\n",
    "    wedges, texts, autotexts = ax1.pie(data, autopct=lambda pct: func(pct, data), textprops=dict(color=\"w\"),\n",
    "                                      colors=['green','blue','magenta','gainsboro'])\n",
    "    ax1.set_title('Chow diet cells - markers share')\n",
    "\n",
    "    fig.savefig(sc_settings_figdir+'umap_pie_chart_clust012_chow_gfap-aldh.png')"
   ]
  },
  {
   "cell_type": "markdown",
   "metadata": {},
   "source": [
    "### HFD_5"
   ]
  },
  {
   "cell_type": "code",
   "execution_count": 279,
   "metadata": {},
   "outputs": [],
   "source": [
    "if bool_plot == True:\n",
    "    data = adata_012[adata_012.obs['diet'] == 'hfd_5', ].obs['gfap_aldh'].value_counts().sort_index()\n",
    "\n",
    "    fig, (ax0, ax1) = plt.subplots(ncols=2, figsize=(16, 6), subplot_kw=dict(aspect=\"equal\"))\n",
    "    ax0 = sc.pl.umap(adata_012[adata_012.obs['diet']=='hfd_5', ], \n",
    "                     color=['gfap_aldh'],\n",
    "                     size=10,\n",
    "                     ax=ax0,\n",
    "                     show=False,\n",
    "                     palette=['green','blue','magenta','gainsboro']\n",
    "    )\n",
    "    wedges, texts, autotexts = ax1.pie(data, autopct=lambda pct: func(pct, data), textprops=dict(color=\"w\"),\n",
    "                                       colors=['green', 'blue', 'magenta', 'gainsboro']\n",
    "    )\n",
    "    ax1.set_title('Chow diet cells - markers share')\n",
    "\n",
    "    fig.savefig(sc_settings_figdir+'umap_pie_chart_clust012_hfd5_gfap-aldh.png')"
   ]
  },
  {
   "cell_type": "markdown",
   "metadata": {},
   "source": [
    "### HFD_15"
   ]
  },
  {
   "cell_type": "code",
   "execution_count": 280,
   "metadata": {},
   "outputs": [],
   "source": [
    "if bool_plot == True: \n",
    "    data = adata_012[adata_012.obs['diet'] == 'hfd_15', ].obs['gfap_aldh'].value_counts().sort_index()\n",
    "\n",
    "    fig, (ax0, ax1) = plt.subplots(ncols=2, figsize=(16, 6), subplot_kw=dict(aspect=\"equal\"))\n",
    "    ax0 = sc.pl.umap(adata_012[adata_012.obs['diet']=='hfd_15', ], \n",
    "                     color=['gfap_aldh'],\n",
    "                     size=10,\n",
    "                     ax=ax0, \n",
    "                     show=False,\n",
    "                     palette=['green', 'blue', 'magenta', 'gainsboro']\n",
    "    )\n",
    "    wedges, texts, autotexts = ax1.pie(data, autopct=lambda pct: func(pct, data), textprops=dict(color=\"w\"),\n",
    "                                       colors=['green', 'blue', 'magenta', 'gainsboro']\n",
    "    )\n",
    "    ax1.set_title('Chow diet cells - markers share')\n",
    "\n",
    "    fig.savefig(sc_settings_figdir+'umap_pie_chart_clust012_hfd15_gfap-aldh.png')"
   ]
  },
  {
   "cell_type": "code",
   "execution_count": 281,
   "metadata": {},
   "outputs": [],
   "source": [
    "if bool_plot == True:\n",
    "    cf.cell_percent(adata_012, cluster='diet', condition='gfap_aldh', xlabel='clusters', ylabel='percentage', \n",
    "                 title='barplot_per_diet_clust012_gfap-aldh', save=sc_settings_figdir, table=False)"
   ]
  },
  {
   "cell_type": "markdown",
   "metadata": {},
   "source": [
    "## Per marker and diet"
   ]
  },
  {
   "cell_type": "code",
   "execution_count": 282,
   "metadata": {},
   "outputs": [],
   "source": [
    "adata_012.obs['gfap_only'] = adata_012.obs['gfap_aldh']=='gfap_only'\n",
    "adata_012.obs['aldh_only'] = adata_012.obs['gfap_aldh']=='aldh_only'\n",
    "adata_012.obs['both'] = adata_012.obs['gfap_aldh']=='both'"
   ]
  },
  {
   "cell_type": "code",
   "execution_count": 283,
   "metadata": {},
   "outputs": [],
   "source": [
    "# make them categorical\n",
    "adata_012.obs['gfap_only'] = pd.Series(adata_012.obs['gfap_only'],\n",
    "                                       dtype=\"category\"\n",
    ")\n",
    "adata_012.obs['aldh_only'] = pd.Series(adata_012.obs['aldh_only'], \n",
    "                                       dtype=\"category\"\n",
    ")\n",
    "adata_012.obs['both'] = pd.Series(adata_012.obs['both'],\n",
    "                                  dtype=\"category\"\n",
    ")"
   ]
  },
  {
   "cell_type": "code",
   "execution_count": 284,
   "metadata": {},
   "outputs": [],
   "source": [
    "adata_012.rename_categories('gfap_only', ['none', 'gfap_only'])"
   ]
  },
  {
   "cell_type": "code",
   "execution_count": 285,
   "metadata": {},
   "outputs": [],
   "source": [
    "adata_012.rename_categories('aldh_only', ['none', 'aldh_only'])\n",
    "adata_012.rename_categories('both', ['none', 'both'])"
   ]
  },
  {
   "cell_type": "markdown",
   "metadata": {},
   "source": [
    "### chow"
   ]
  },
  {
   "cell_type": "code",
   "execution_count": 286,
   "metadata": {},
   "outputs": [],
   "source": [
    "if bool_plot == True:\n",
    "    cf.plot_umap_marker(adata_012[adata_012.obs['diet'] == 'chow', ],\n",
    "                        ['gfap_only'],\n",
    "                        palette=['gainsboro','magenta'],\n",
    "                        save=\"_clust012_gfap_only_chow.png\", \n",
    "                        size=10, \n",
    "                        color_map=mymap, \n",
    "                        use_raw=False\n",
    "    )"
   ]
  },
  {
   "cell_type": "code",
   "execution_count": 287,
   "metadata": {},
   "outputs": [],
   "source": [
    "if bool_plot == True:\n",
    "    cf.plot_umap_marker(adata_012[adata_012.obs['diet'] == 'chow', ],\n",
    "                        ['aldh_only'],\n",
    "                        palette=['gainsboro','green'],\n",
    "                        save=\"_clust012_aldh_only_chow.png\",\n",
    "                        size=10, \n",
    "                        color_map=mymap, \n",
    "                        use_raw=False\n",
    "    )"
   ]
  },
  {
   "cell_type": "code",
   "execution_count": 288,
   "metadata": {},
   "outputs": [],
   "source": [
    "if bool_plot == True:\n",
    "    cf.plot_umap_marker(adata_012[adata_012.obs['diet'] == 'chow', ],\n",
    "                        ['both'],\n",
    "                        palette=['gainsboro','blue'],\n",
    "                        save=\"_clust012_both_chow.png\",\n",
    "                        size=10, \n",
    "                        color_map=mymap,\n",
    "                        use_raw=False\n",
    "    )"
   ]
  },
  {
   "cell_type": "code",
   "execution_count": 289,
   "metadata": {},
   "outputs": [],
   "source": [
    "if bool_plot == True: \n",
    "    cf.plot_umap_marker(adata_012[adata_012.obs['diet'] == 'chow', ], \n",
    "                        ['gfap_aldh'], \n",
    "                        palette=['green', 'blue', 'magenta', 'gainsboro'],\n",
    "                        save=\"_clust012_gfap_aldh_chow.png\", \n",
    "                        size=10,\n",
    "                        color_map=mymap,\n",
    "                        use_raw=False\n",
    "    )"
   ]
  },
  {
   "cell_type": "markdown",
   "metadata": {},
   "source": [
    "### Differential gene expression - chow"
   ]
  },
  {
   "cell_type": "code",
   "execution_count": 290,
   "metadata": {},
   "outputs": [],
   "source": [
    "astro_0 = adata_012[:,~adata_012.var.index.isin(['Gfap', 'Aldh1l1'])]"
   ]
  },
  {
   "cell_type": "code",
   "execution_count": 291,
   "metadata": {},
   "outputs": [],
   "source": [
    "if bool_plot==True:\n",
    "    astro0 = astro_0[(astro_0.obs['diet'] == 'chow') & \n",
    "                     (astro_0.obs['gfap_aldh'].isin(['aldh_only','gfap_only'])), ]\n",
    "    dets_mark = de.test.t_test(data=astro0, \n",
    "                               sample_description=astro0.obs,\n",
    "                               grouping=\"gfap_aldh\", \n",
    "                               is_logged=False\n",
    "    )\n",
    "    dets_mark_summary = dets_mark.summary(mean_thres=np.log(0.01), \n",
    "                                          qval_thres=0.1, \n",
    "                                          fc_lower_thres=1,\n",
    "                                          fc_upper_thres=1\n",
    "    )\n",
    "    dets_mark_summary\n",
    "    #dets_age_summary.to_csv(path_or_buf=dir_tables+\"DE_preadip_by_age.tab\", sep=\"\\t\")\n",
    "    dets_mark.plot_volcano(alpha=0.05,\n",
    "                           corrected_pval=False,\n",
    "                           min_fc=1,  \n",
    "                           size=15, \n",
    "                           log10_p_threshold=-40, \n",
    "                           log2_fc_threshold=6, save=sc_settings_figdir+\"dge_volcano_chow_aldh-gfap\",\n",
    "                           suffix=\"_clust012.png\"\n",
    "    )"
   ]
  },
  {
   "cell_type": "code",
   "execution_count": 292,
   "metadata": {},
   "outputs": [],
   "source": [
    "if bool_plot==True:\n",
    "    astro0 = astro_0[(astro_0.obs['diet'] == 'chow') & \n",
    "                     (astro_0.obs['gfap_aldh'].isin(['both','gfap_only'])), ]\n",
    "    dets_mark = de.test.t_test(data=astro0,\n",
    "                               sample_description=astro0.obs,\n",
    "                               grouping=\"gfap_aldh\",\n",
    "                               is_logged=False\n",
    "    )\n",
    "    dets_mark_summary = dets_mark.summary(mean_thres=np.log(0.01),\n",
    "                                          qval_thres=0.1, \n",
    "                                          fc_lower_thres=1,\n",
    "                                          fc_upper_thres=1\n",
    "    )\n",
    "    #dets_age_summary.to_csv(path_or_buf=dir_tables+\"DE_preadip_by_age.tab\", sep=\"\\t\")\n",
    "    dets_mark.plot_volcano(alpha=0.05,\n",
    "                           corrected_pval=False,\n",
    "                           min_fc=1, \n",
    "                           size=15, \n",
    "                           log10_p_threshold=-40,\n",
    "                           log2_fc_threshold=6,\n",
    "                           save=sc_settings_figdir+\"dge_volcano_chow_gfap-both\",\n",
    "                           suffix=\"_clust012.png\"\n",
    "    )"
   ]
  },
  {
   "cell_type": "code",
   "execution_count": 293,
   "metadata": {},
   "outputs": [],
   "source": [
    "if bool_plot == True:\n",
    "    astro0 = astro_0[(astro_0.obs['diet']=='chow') & \n",
    "                     (astro_0.obs['gfap_aldh'].isin(['aldh_only','both'])), ]\n",
    "    dets_mark = de.test.t_test(data=astro0, \n",
    "                               sample_description=astro0.obs, \n",
    "                               grouping=\"gfap_aldh\",\n",
    "                               is_logged=False\n",
    "    )\n",
    "    dets_mark_summary = dets_mark.summary(mean_thres=np.log(0.01),\n",
    "                                          qval_thres=0.1,\n",
    "                                          fc_lower_thres=1,\n",
    "                                          fc_upper_thres=1\n",
    "    )\n",
    "    #dets_age_summary.to_csv(path_or_buf=dir_tables+\"DE_preadip_by_age.tab\", sep=\"\\t\")\n",
    "    dets_mark.plot_volcano(alpha=0.05,\n",
    "                           corrected_pval=False, \n",
    "                           min_fc=1,\n",
    "                           size=15,\n",
    "                           log10_p_threshold=-40, \n",
    "                           log2_fc_threshold=6,\n",
    "                           save=sc_settings_figdir+\"dge_volcano_chow_aldh-both\",\n",
    "                           suffix=\"_clust012.png\"\n",
    "    )"
   ]
  },
  {
   "cell_type": "markdown",
   "metadata": {},
   "source": [
    "### hfd 5"
   ]
  },
  {
   "cell_type": "code",
   "execution_count": 294,
   "metadata": {},
   "outputs": [],
   "source": [
    "if bool_plot == True:\n",
    "    cf.plot_umap_marker(adata_012[adata_012.obs['diet'] == 'hfd_5', ],\n",
    "                        ['gfap_only'],\n",
    "                        palette=['gainsboro','magenta'],\n",
    "                        save=\"_clust012_gfap_only_hfd5.png\", \n",
    "                        size=10, \n",
    "                        color_map=mymap, \n",
    "                        use_raw=False\n",
    "    )"
   ]
  },
  {
   "cell_type": "code",
   "execution_count": 295,
   "metadata": {},
   "outputs": [],
   "source": [
    "if bool_plot == True:\n",
    "    cf.plot_umap_marker(adata_012[adata_012.obs['diet'] == 'hfd_5', ], \n",
    "                        ['aldh_only'],\n",
    "                        palette=['gainsboro', 'green'],\n",
    "                        save=\"_clust012_aldh_only_hfd5.png\",\n",
    "                        size=10, \n",
    "                        color_map=mymap, \n",
    "                        use_raw=False\n",
    "    )"
   ]
  },
  {
   "cell_type": "code",
   "execution_count": 296,
   "metadata": {},
   "outputs": [],
   "source": [
    "if bool_plot == True:\n",
    "    cf.plot_umap_marker(adata_012[adata_012.obs['diet'] == 'hfd_5', ],\n",
    "                        ['both'], \n",
    "                        palette=['gainsboro','blue'],\n",
    "                        save=\"_clust012_both_hfd5.png\",\n",
    "                        size=10, \n",
    "                        color_map=mymap,\n",
    "                        use_raw=False\n",
    "    )"
   ]
  },
  {
   "cell_type": "code",
   "execution_count": 297,
   "metadata": {},
   "outputs": [],
   "source": [
    "if bool_plot == True:\n",
    "    cf.plot_umap_marker(adata_012[adata_012.obs['diet'] == 'hfd_5', ], \n",
    "                        ['gfap_aldh'],\n",
    "                        palette=['green', 'blue', 'magenta', 'gainsboro'],\n",
    "                        save=\"_clust012_gfap_aldh_hfd5.png\",\n",
    "                        size=10, \n",
    "                        color_map=mymap, \n",
    "                        use_raw=False\n",
    "    )"
   ]
  },
  {
   "cell_type": "markdown",
   "metadata": {},
   "source": [
    "### Differential gene expression - hfd_5"
   ]
  },
  {
   "cell_type": "code",
   "execution_count": 298,
   "metadata": {},
   "outputs": [],
   "source": [
    "astro_5 = adata_012[:,~adata_012.var.index.isin(['Gfap', 'Aldh1l1'])]"
   ]
  },
  {
   "cell_type": "code",
   "execution_count": 299,
   "metadata": {},
   "outputs": [],
   "source": [
    "if bool_plot == True:\n",
    "    astro5 = astro_5[(astro_5.obs['diet'] == 'hfd_5') & \n",
    "                     (astro_5.obs['gfap_aldh'].isin(['aldh_only','gfap_only'])), ]\n",
    "    dets_mark = de.test.t_test(data=astro5, \n",
    "                               sample_description=astro5.obs,\n",
    "                               grouping=\"gfap_aldh\", \n",
    "                               is_logged=False\n",
    "    )\n",
    "    dets_mark_summary = dets_mark.summary(mean_thres=np.log(0.01),\n",
    "                                          qval_thres=0.1, \n",
    "                                          fc_lower_thres=1,\n",
    "                                          fc_upper_thres=1\n",
    "    )\n",
    "    dets_mark_summary\n",
    "    #dets_age_summary.to_csv(path_or_buf=dir_tables+\"DE_preadip_by_age.tab\", sep=\"\\t\")\n",
    "    dets_mark.plot_volcano(alpha=0.05,\n",
    "                           corrected_pval=False,\n",
    "                           min_fc=1, \n",
    "                           size=15,\n",
    "                           log10_p_threshold=-50, \n",
    "                           log2_fc_threshold=6, \n",
    "                           save=sc_settings_figdir+\"dge_volcano_hfd5_aldh-gfap\",\n",
    "                           suffix=\"_clust012.png\"\n",
    "    )"
   ]
  },
  {
   "cell_type": "code",
   "execution_count": 300,
   "metadata": {},
   "outputs": [],
   "source": [
    "if bool_plot == True:\n",
    "    astro5 = astro_5[(astro_5.obs['diet'] == 'hfd_5') & \n",
    "                     (astro_5.obs['gfap_aldh'].isin(['both','gfap_only'])), ]\n",
    "    dets_mark = de.test.t_test(data=astro5,\n",
    "                               sample_description=astro5.obs,\n",
    "                               grouping=\"gfap_aldh\", \n",
    "                               is_logged=False\n",
    "    )\n",
    "    dets_mark_summary = dets_mark.summary(mean_thres=np.log(0.01), \n",
    "                                          qval_thres=0.1, \n",
    "                                          fc_lower_thres=1,\n",
    "                                          fc_upper_thres=1\n",
    "    )\n",
    "    #dets_age_summary.to_csv(path_or_buf=dir_tables+\"DE_preadip_by_age.tab\", sep=\"\\t\")\n",
    "    dets_mark.plot_volcano(alpha=0.05,\n",
    "                           corrected_pval=False,\n",
    "                           min_fc=1, \n",
    "                           size=15,\n",
    "                           log10_p_threshold=-50,\n",
    "                           log2_fc_threshold=6,\n",
    "                           save=sc_settings_figdir+\"dge_volcano_hfd5_both-gfap\",\n",
    "                           suffix=\"_clust012.png\"\n",
    "    )"
   ]
  },
  {
   "cell_type": "code",
   "execution_count": 301,
   "metadata": {},
   "outputs": [],
   "source": [
    "if bool_plot == True:\n",
    "    astro5 = astro_5[(astro_5.obs['diet']=='hfd_5') & \n",
    "                     (astro_5.obs['gfap_aldh'].isin(['aldh_only','both'])), ]\n",
    "    dets_mark = de.test.t_test(data=astro5,\n",
    "                               sample_description=astro5.obs, \n",
    "                               grouping=\"gfap_aldh\",\n",
    "                               is_logged=False\n",
    "    )\n",
    "    dets_mark_summary = dets_mark.summary(mean_thres=np.log(0.01), \n",
    "                                          qval_thres=0.1,\n",
    "                                          fc_lower_thres=1,\n",
    "                                          fc_upper_thres=1\n",
    "    )\n",
    "    #dets_age_summary.to_csv(path_or_buf=dir_tables+\"DE_preadip_by_age.tab\", sep=\"\\t\")\n",
    "    dets_mark.plot_volcano(alpha=0.05,\n",
    "                           corrected_pval=False, \n",
    "                           min_fc=1,\n",
    "                           size=15,\n",
    "                           log10_p_threshold=-50, \n",
    "                           log2_fc_threshold=6,\n",
    "                           save=sc_settings_figdir+\"dge_volcano_hfd5_aldh-both\",\n",
    "                           suffix=\"_clust012.png\"\n",
    "    )"
   ]
  },
  {
   "cell_type": "markdown",
   "metadata": {},
   "source": [
    "### hfd 15"
   ]
  },
  {
   "cell_type": "code",
   "execution_count": 302,
   "metadata": {},
   "outputs": [],
   "source": [
    "if bool_plot == True:\n",
    "    cf.plot_umap_marker(adata_012[adata_012.obs['diet'] == 'hfd_15', ], \n",
    "                        ['gfap_only'],\n",
    "                        palette=['gainsboro', 'magenta'],\n",
    "                        save=\"_clust012_gfap_only_hfd15.png\",\n",
    "                        size=10, \n",
    "                        color_map=mymap,\n",
    "                        use_raw=False\n",
    "    )"
   ]
  },
  {
   "cell_type": "code",
   "execution_count": 303,
   "metadata": {},
   "outputs": [],
   "source": [
    "if bool_plot == True:\n",
    "    cf.plot_umap_marker(adata_012[adata_012.obs['diet'] == 'hfd_15', ],\n",
    "                        ['aldh_only'],\n",
    "                        palette=['gainsboro', 'green'],\n",
    "                        save=\"_clust012_aldh_only_hfd15.png\",\n",
    "                        size=10,\n",
    "                        color_map=mymap,\n",
    "                        use_raw=False\n",
    "    )"
   ]
  },
  {
   "cell_type": "code",
   "execution_count": 304,
   "metadata": {},
   "outputs": [],
   "source": [
    "if bool_plot == True:\n",
    "    cf.plot_umap_marker(adata_012[adata_012.obs['diet'] == 'hfd_15', ], \n",
    "                        ['both'],\n",
    "                        palette=['gainsboro', 'blue'],\n",
    "                        save=\"_clust012_both_hfd15.png\",\n",
    "                        size=10,\n",
    "                        color_map=mymap,\n",
    "                        use_raw=False\n",
    "    )"
   ]
  },
  {
   "cell_type": "code",
   "execution_count": 305,
   "metadata": {},
   "outputs": [],
   "source": [
    "if bool_plot == True:\n",
    "    cf.plot_umap_marker(adata_012[adata_012.obs['diet'] == 'hfd_15', ],\n",
    "                        ['gfap_aldh'], \n",
    "                        palette=['green', 'blue', 'magenta', 'gainsboro'],\n",
    "                        save=\"_clust012_gfap_aldh_hfd15.png\",\n",
    "                        size=10, \n",
    "                        color_map=mymap,\n",
    "                        use_raw=False\n",
    "    )"
   ]
  },
  {
   "cell_type": "markdown",
   "metadata": {},
   "source": [
    "### Differential gene expression - hfd_15"
   ]
  },
  {
   "cell_type": "code",
   "execution_count": 306,
   "metadata": {},
   "outputs": [],
   "source": [
    "astro_15 = adata_012[:,~adata_012.var.index.isin(['Gfap', 'Aldh1l1'])]"
   ]
  },
  {
   "cell_type": "code",
   "execution_count": 307,
   "metadata": {},
   "outputs": [],
   "source": [
    "if bool_plot == True:\n",
    "    astro15 = astro_15[(astro_15.obs['diet'] == 'hfd_15') & \n",
    "                    (astro_15.obs['gfap_aldh'].isin(['aldh_only','gfap_only'])), ]\n",
    "    dets_mark = de.test.t_test(data=astro15,\n",
    "                               sample_description=astro15.obs, \n",
    "                               grouping=\"gfap_aldh\", \n",
    "                               is_logged=False\n",
    "    )\n",
    "    dets_mark_summary = dets_mark.summary(mean_thres=np.log(0.01),\n",
    "                                          qval_thres=0.1,\n",
    "                                          fc_lower_thres=1,\n",
    "                                          fc_upper_thres=1\n",
    "    )\n",
    "    dets_mark_summary\n",
    "    #dets_age_summary.to_csv(path_or_buf=dir_tables+\"DE_preadip_by_age.tab\", sep=\"\\t\")\n",
    "    dets_mark.plot_volcano(alpha=0.05, \n",
    "                           corrected_pval=False,\n",
    "                           min_fc=1,\n",
    "                           size=15, \n",
    "                           log10_p_threshold=-50,\n",
    "                           log2_fc_threshold=6,\n",
    "                           save=sc_settings_figdir+\"dge_volcano_hfd15_gfap-aldh\",\n",
    "                           suffix=\"_clust012.png\"\n",
    "    )"
   ]
  },
  {
   "cell_type": "code",
   "execution_count": 308,
   "metadata": {},
   "outputs": [],
   "source": [
    "if bool_plot == True:\n",
    "    astro15 = astro_15[(astro_15.obs['diet'] == 'hfd_15') & \n",
    "                       (astro_15.obs['gfap_aldh'].isin(['both', 'gfap_only'])), ]\n",
    "    dets_mark = de.test.t_test(data=astro15, \n",
    "                               sample_description=astro15.obs,\n",
    "                               grouping=\"gfap_aldh\",\n",
    "                               is_logged=False\n",
    "    )\n",
    "    dets_mark_summary = dets_mark.summary(mean_thres=np.log(0.01),\n",
    "                                          qval_thres=0.1,\n",
    "                                          fc_lower_thres=1, \n",
    "                                          fc_upper_thres=1\n",
    "    )\n",
    "    #dets_age_summary.to_csv(path_or_buf=dir_tables+\"DE_preadip_by_age.tab\", sep=\"\\t\")\n",
    "    dets_mark.plot_volcano(alpha=0.05, \n",
    "                           corrected_pval=False, \n",
    "                           min_fc=1, \n",
    "                           size=15,\n",
    "                           log10_p_threshold=-50, \n",
    "                           log2_fc_threshold=6,\n",
    "                           save=sc_settings_figdir+\"dge_volcano_hfd15_gfap-both\",\n",
    "                           suffix=\"_clust012.png\"\n",
    "    )"
   ]
  },
  {
   "cell_type": "code",
   "execution_count": 309,
   "metadata": {},
   "outputs": [],
   "source": [
    "if bool_plot == True:\n",
    "    astro15 = astro_15[(astro_15.obs['diet'] == 'hfd_15') & \n",
    "                    (astro_15.obs['gfap_aldh'].isin(['aldh_only', 'both'])), ]\n",
    "    dets_mark = de.test.t_test(data=astro15,\n",
    "                               sample_description=astro15.obs,\n",
    "                               grouping=\"gfap_aldh\",\n",
    "                               is_logged=False\n",
    "    )\n",
    "    dets_mark_summary = dets_mark.summary(mean_thres=np.log(0.01),\n",
    "                                          qval_thres=0.1, \n",
    "                                          fc_lower_thres=1,\n",
    "                                          fc_upper_thres=1\n",
    "    )\n",
    "    #dets_age_summary.to_csv(path_or_buf=dir_tables+\"DE_preadip_by_age.tab\", sep=\"\\t\")\n",
    "    dets_mark.plot_volcano(alpha=0.05, \n",
    "                           corrected_pval=False,\n",
    "                           min_fc=1,\n",
    "                           size=15,\n",
    "                           log10_p_threshold=-50, \n",
    "                           log2_fc_threshold=5.6,\n",
    "                           save=sc_settings_figdir+\"dge_volcano_hfd15_aldh-both\",\n",
    "                           suffix=\"_clust012.png\"\n",
    "    )"
   ]
  }
 ],
 "metadata": {
  "kernelspec": {
   "display_name": "Python 3",
   "language": "python",
   "name": "python3"
  },
  "language_info": {
   "codemirror_mode": {
    "name": "ipython",
    "version": 3
   },
   "file_extension": ".py",
   "mimetype": "text/x-python",
   "name": "python",
   "nbconvert_exporter": "python",
   "pygments_lexer": "ipython3",
   "version": "3.9.2"
  },
  "toc": {
   "base_numbering": 1,
   "nav_menu": {},
   "number_sections": true,
   "sideBar": true,
   "skip_h1_title": false,
   "title_cell": "Table of Contents",
   "title_sidebar": "Contents",
   "toc_cell": false,
   "toc_position": {},
   "toc_section_display": true,
   "toc_window_display": true
  }
 },
 "nbformat": 4,
 "nbformat_minor": 2
}
