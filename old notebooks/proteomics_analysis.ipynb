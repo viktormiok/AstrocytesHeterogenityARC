{
 "cells": [
  {
   "cell_type": "code",
   "execution_count": 1,
   "metadata": {},
   "outputs": [
    {
     "name": "stderr",
     "output_type": "stream",
     "text": [
      "Warning message in fun(libname, pkgname):\n",
      "“mzR has been built against a different Rcpp version (1.0.4.6)\n",
      "than is installed on your system (1.0.6). This might lead to errors\n",
      "when loading mzR. If you encounter such issues, please send a report,\n",
      "including the output of sessionInfo() to the Bioc support forum at \n",
      "https://support.bioconductor.org/. For details see also\n",
      "https://github.com/sneumann/mzR/wiki/mzR-Rcpp-compiler-linker-issue.”\n"
     ]
    }
   ],
   "source": [
    "inst <- suppressMessages(lapply(c('DEP',\n",
    "                                  'SummarizedExperiment',\n",
    "                                  'pheatmap',\n",
    "                                  'ggplot2',\n",
    "                                  'EnhancedVolcano',\n",
    "                                  'VennDiagram',\n",
    "                                  'org.Mm.eg.db',\n",
    "                                  'clusterProfiler',\n",
    "                                  'readxl',\n",
    "                                  'tidyverse',\n",
    "                                  'KEGGREST'),\n",
    "                                library,\n",
    "                                character.only=TRUE)\n",
    ") "
   ]
  },
  {
   "cell_type": "markdown",
   "metadata": {},
   "source": [
    "Set whether to produce plots, set to False for test runs."
   ]
  },
  {
   "cell_type": "code",
   "execution_count": 2,
   "metadata": {},
   "outputs": [],
   "source": [
    "bool_plot = FALSE"
   ]
  },
  {
   "cell_type": "code",
   "execution_count": 3,
   "metadata": {},
   "outputs": [],
   "source": [
    "input_file = '~/Documents/consultation/Luiza/omics_data/data/astrocyteprotoeme12102017-1.xlsx'\n",
    "options(repr.plot.width=8, repr.plot.height=8)\n",
    "my_palette = colorRampPalette(c(\"blue\", \"white\", \"red\"))(n=255)"
   ]
  },
  {
   "cell_type": "markdown",
   "metadata": {},
   "source": [
    "## Compare Acsa2 positive vs. negative"
   ]
  },
  {
   "cell_type": "code",
   "execution_count": 4,
   "metadata": {},
   "outputs": [],
   "source": [
    "# load the imputed and normalized data from \n",
    "datraw <- read_excel(input_file,\n",
    "                     sheet=2)[,c(4, 3, 11:57)]"
   ]
  },
  {
   "cell_type": "code",
   "execution_count": 5,
   "metadata": {},
   "outputs": [],
   "source": [
    "dat <- apply(datraw[,-c(1,2)], \n",
    "             2, \n",
    "             function(x) as.numeric(x)\n",
    ")\n",
    "gen = as.character(as.matrix(datraw[,1]))"
   ]
  },
  {
   "cell_type": "code",
   "execution_count": 6,
   "metadata": {},
   "outputs": [],
   "source": [
    "dat = aggregate(dat,\n",
    "                by=list(gen),\n",
    "                FUN=mean, \n",
    "                na.rm=TRUE\n",
    ")\n",
    "rownames(dat) = dat[,1]\n",
    "dat = dat[,-1]"
   ]
  },
  {
   "cell_type": "code",
   "execution_count": 7,
   "metadata": {},
   "outputs": [],
   "source": [
    "astro = c('Slc1a2', 'Slc1a3', 'Aqp4', 'S100b', 'Sox9', 'Gfap', 'Aldh1l1', 'Gja1', 'Gjb6', 'Agt', 'Atp1b2')\n",
    "neuro = c('Syp', 'Tubb3', 'Snap25', 'Syt1')\n",
    "microglia = c('Itgam', 'Aif1')\n",
    "oligodendrocyte = c('Mog', 'Mag')\n",
    "endothelial = c('Slco1c1')\n",
    "mural = c('Mustn1', 'Pdgfrb', 'Des')\n",
    "tanycyes = c('Crym')\n",
    "npc = c('Nes', 'Sox2', 'Prom1')\n",
    "vlmc = c('Col1a1')"
   ]
  },
  {
   "cell_type": "code",
   "execution_count": 8,
   "metadata": {},
   "outputs": [],
   "source": [
    "datfin = data.frame(CTX = apply(dat %>% select(ends_with(\"CTX\")), 1, mean),\n",
    "                    HPT = apply(dat %>% select(ends_with(\"HPT\")), 1, mean),\n",
    "                    Hippo = apply(dat %>% select(ends_with(\"Hippo\")), 1, mean),\n",
    "                    CTX_FT = apply(dat %>% select(ends_with(\"CTX_FT\")), 1, mean),\n",
    "                    HPT_FT = apply(dat %>% select(ends_with(\"HPT_FT\")), 1, mean),\n",
    "                    Hippo_FT = apply(dat %>% select(ends_with(\"Hippo_FT\")), 1, mean))"
   ]
  },
  {
   "cell_type": "code",
   "execution_count": 9,
   "metadata": {},
   "outputs": [],
   "source": [
    "astro = datfin[rownames(datfin)%in%c('Slc1a2', 'Slc1a3', 'Aqp4', 'S100b', 'Sox9',\n",
    "                                     'Gfap','Aldh1l1','Gja1','Gjb6','Agt','Atp1b2'),]\n",
    "neuro = datfin[rownames(datfin)%in%c('Syp', 'Tubb3','Snap25','Syt1'),]\n",
    "mglia = datfin[rownames(datfin)%in%c('Itgam','Aif1'),]\n",
    "oligo = datfin[rownames(datfin)%in%c('Mog','Mag'),]\n",
    "endo = datfin[rownames(datfin)%in%c('Slco1c1'),]\n",
    "mural = datfin[rownames(datfin)%in%c('Mustn1','Pdgfrb','Des'),]\n",
    "tcyes = datfin[rownames(datfin)%in%c('Crym'),]\n",
    "npc = datfin[rownames(datfin)%in%c('Nes','Sox2','Prom1'),]\n",
    "vlmc = datfin[rownames(datfin)%in%c('Col1a1'),]"
   ]
  },
  {
   "cell_type": "markdown",
   "metadata": {},
   "source": [
    "### heatmap"
   ]
  },
  {
   "cell_type": "code",
   "execution_count": 10,
   "metadata": {},
   "outputs": [],
   "source": [
    "options(repr.plot.width=8, repr.plot.height=8)"
   ]
  },
  {
   "cell_type": "code",
   "execution_count": 11,
   "metadata": {},
   "outputs": [],
   "source": [
    "mat = as.matrix(rbind(astro, neuro, mglia, oligo, endo, mural)) # ,npc ,vlmc,tcyes\n",
    "\n",
    "Omics = c(rep(\"transcriptomics\", 3), rep(\"proteomics\", 3))\n",
    "Acsa2 = c(rep(\"Acsa2_pos\", 3), rep(\"Acsa2_neg\", 3))\n",
    "Tissue = c(rep(c(\"cortex\", \"hypothalamus\", \"hippocampus\"),2))\n",
    "dcol = as.data.frame(cbind(Tissue, Acsa2, Omics))\n",
    "rownames(dcol) = colnames(mat)\n",
    "\n",
    "pheatmap(mat, \n",
    "         scale=\"row\",\n",
    "         show_rownames=F,\n",
    "         show_colnames=F,\n",
    "         color=my_palette,\n",
    "         cluster_cols=F,\n",
    "         cluster_rows=F, \n",
    "         gaps_col=3,\n",
    "         gaps_row=c(11, 15, 17, 19, 20, 23),\n",
    "         fontsize=18,\n",
    "         legend=T,\n",
    "         filename=\"heatmap_ACSA2.pdf\",\n",
    "         width=8,\n",
    "         height=8\n",
    ") "
   ]
  },
  {
   "cell_type": "markdown",
   "metadata": {},
   "source": [
    "### pca plot"
   ]
  },
  {
   "cell_type": "code",
   "execution_count": 12,
   "metadata": {},
   "outputs": [],
   "source": [
    "df_pca <- prcomp(t(dat), \n",
    "                 scale=T\n",
    ")\n",
    "df_out = as.data.frame(df_pca$x)\n",
    "df_out$group = c(rep(\"Acsa2_pos\",24), rep(\"Acsa2_neg\",23))\n",
    "df_out$tissue = c(rep(\"cortex\",8), rep(\"hippocampus\",8), rep(\"hypothalamus\",8), \n",
    "                rep(\"cortex\",8), rep(\"hypothalamus\",8), rep(\"hippocampus\",7))"
   ]
  },
  {
   "cell_type": "code",
   "execution_count": 13,
   "metadata": {},
   "outputs": [],
   "source": [
    "if(bool_plot){\n",
    "    ggplot(df_out, aes(x=PC1, y=PC2, color=group, shape=tissue)) +\n",
    "           geom_point(size=6) + \n",
    "           theme(axis.text=element_text(size=20), \n",
    "                 axis.title=element_text(size=20), \n",
    "                 legend.title=element_text(siz=20),\n",
    "                 legend.text=element_text(size=20),\n",
    "                 plot.title=element_text(size=20)) + \n",
    "           ggtitle(\"PCA of Acsa2 positive vs. negative\")\n",
    "}"
   ]
  },
  {
   "cell_type": "code",
   "execution_count": 14,
   "metadata": {},
   "outputs": [],
   "source": [
    "dat = dat[,1:24]"
   ]
  },
  {
   "cell_type": "markdown",
   "metadata": {},
   "source": [
    "## PCA"
   ]
  },
  {
   "cell_type": "code",
   "execution_count": 15,
   "metadata": {},
   "outputs": [],
   "source": [
    "options(repr.plot.width=10, repr.plot.height=8)"
   ]
  },
  {
   "cell_type": "code",
   "execution_count": 16,
   "metadata": {},
   "outputs": [],
   "source": [
    "dat1 <- read.table(file=\"/Users/viktorian.miok/Documents/data/Protein_Data/proteingroups_astrocytes_imputed.txt\",\n",
    "                   header=T, \n",
    "                   sep='\\t'\n",
    ")\n",
    "dat1 = dat1[-1, c(1:24)]"
   ]
  },
  {
   "cell_type": "code",
   "execution_count": 17,
   "metadata": {},
   "outputs": [],
   "source": [
    "dat1 <- apply(dat1,\n",
    "              2,\n",
    "              function(x) as.numeric(x))\n",
    "df_pca <- prcomp(t(dat1),\n",
    "                 scale=T\n",
    ")\n",
    "df_out = as.data.frame(df_pca$x)\n",
    "df_out$tissue = as.factor(condition=c(rep(\"Hippo_CD\", 4), rep(\"Hippo_hfd\", 4), rep(\"HPT_CD\", 4),\n",
    "                                    rep(\"HPT_hfd\", 4), rep(\"CTX_CD\", 4), rep(\"CTX_hfd\", 4))\n",
    ") "
   ]
  },
  {
   "cell_type": "code",
   "execution_count": 18,
   "metadata": {},
   "outputs": [],
   "source": [
    "options(repr.plot.width=10, repr.plot.height=10)"
   ]
  },
  {
   "cell_type": "code",
   "execution_count": 19,
   "metadata": {},
   "outputs": [
    {
     "data": {
      "text/html": [
       "<strong>pdf:</strong> 2"
      ],
      "text/latex": [
       "\\textbf{pdf:} 2"
      ],
      "text/markdown": [
       "**pdf:** 2"
      ],
      "text/plain": [
       "pdf \n",
       "  2 "
      ]
     },
     "metadata": {},
     "output_type": "display_data"
    }
   ],
   "source": [
    "#if(bool_plot){\n",
    "pdf(file=\"PCA.pdf\", width=10, height=10)\n",
    "    ggplot(df_out, aes(x=PC1, y=PC2, color=tissue)) + \n",
    "           geom_point(aes(color=tissue), size=10) + \n",
    "           geom_point(shape = 1, color = \"black\", size=10) + \n",
    "           xlab(paste0(\"PC1: \",round(df_pca$sdev[1]),\"% variance\")) + \n",
    "           ylab(paste0(\"PC2: \",round(df_pca$sdev[2]),\"% variance\")) +\n",
    "           theme(axis.text=element_text(size=25), \n",
    "                 axis.title=element_text(size=30)) + \n",
    "           scale_color_manual(values=c(\"aquamarine4\", \"aquamarine2\", \"darkorange2\", \n",
    "                                       \"orange\", \"blueviolet\", \"mediumpurple1\")) +\n",
    "           theme(legend.position=\"none\")\n",
    "dev.off()\n",
    "#}"
   ]
  },
  {
   "cell_type": "markdown",
   "metadata": {},
   "source": [
    "### volcano plot"
   ]
  },
  {
   "cell_type": "code",
   "execution_count": 20,
   "metadata": {},
   "outputs": [],
   "source": [
    "ft <- read_excel(input_file,\n",
    "                 sheet=2)[,c(4, 6 ,10)]\n",
    "colnames(ft) = c(\"GeneName\", \"pvalue\", \"log2FoldChange\")\n",
    "for (i in 1:nrow(ft)) ft[i,2]=10 ^ -ft[i,2]"
   ]
  },
  {
   "cell_type": "code",
   "execution_count": 21,
   "metadata": {},
   "outputs": [],
   "source": [
    "if(bool_plot){ \n",
    "    EnhancedVolcano(ft,\n",
    "                    lab=ft$GeneName,\n",
    "                    pCutoff=0.05,\n",
    "                    x='log2FoldChange',\n",
    "                    y='pvalue',\n",
    "                    ylim=c(-0, 25),\n",
    "                    col=c(\"grey30\", \"grey30\", \"red2\", \"red2\"),\n",
    "                    title=\"Acsa2_neg vs. Acsa2_pos\"\n",
    "    )\n",
    "}"
   ]
  },
  {
   "cell_type": "code",
   "execution_count": 22,
   "metadata": {},
   "outputs": [],
   "source": [
    "if(bool_plot){ \n",
    "    EnhancedVolcano(ft,\n",
    "                    lab=ft$GeneName,\n",
    "                    pCutoff=0.05,\n",
    "                    FCcutoff=10,\n",
    "                    x='log2FoldChange',\n",
    "                    y='pvalue',\n",
    "                    ylim=c(-0, 25),\n",
    "                    selectLab=rownames(mat),\n",
    "                    labSize=5,\n",
    "                    labCol='green',\n",
    "                    col=c(\"grey30\", \"grey30\", \"red2\", \"red2\"),\n",
    "                    title=\"Acsa2_neg vs. Acsa2_pos\"\n",
    "    )\n",
    "}"
   ]
  },
  {
   "cell_type": "markdown",
   "metadata": {},
   "source": [
    "## Differential expression analysis visualization"
   ]
  },
  {
   "cell_type": "markdown",
   "metadata": {},
   "source": [
    "### tissue effect"
   ]
  },
  {
   "cell_type": "code",
   "execution_count": 23,
   "metadata": {},
   "outputs": [],
   "source": [
    "diff = read.table(file=\"/Users/viktorian.miok/Documents/data/Protein_Data/Perseus-Proteomics_Analysis-Chow.txt\",\n",
    "                  header=T, \n",
    "                  sep=\"\\t\", \n",
    "                  skip=1\n",
    ")\n",
    "diff = diff[,c(30:38, 42)]\n",
    "colnames(diff) = c(\"pvalHippo_vs_HPT\", \"diffHippo_vs_HPT\", \"testHippo_vs_HPT\", \"pvalHippo_vs_CTX\", \"diffHippo_vs_CTX\",\n",
    "                 \"testHippo_vs_CTX\", \"pvalHPT_vs_CTX\", \"diffHPT_vs_CTX\", \"testHPT_vs_CTX\", \"GeneName\")"
   ]
  },
  {
   "cell_type": "code",
   "execution_count": 24,
   "metadata": {
    "scrolled": false
   },
   "outputs": [],
   "source": [
    "if(bool_plot){ \n",
    "    Hippo_vs_HPT = data.frame(diff$GeneName, diff$diffHippo_vs_HPT, diff$pvalHippo_vs_HPT)\n",
    "    colnames(Hippo_vs_HPT) = c(\"GeneName\", \"log2FoldChange\", \"pvalue\")\n",
    "    EnhancedVolcano(Hippo_vs_HPT,\n",
    "                    lab=diff$GeneName,\n",
    "                    pCutoff=0.05,\n",
    "                    FCcutoff=10,\n",
    "                    x='log2FoldChange',\n",
    "                    y='pvalue',\n",
    "                    ylim=c(0, 10),\n",
    "                    xlim=c(-7, 7),\n",
    "                    col=c(\"grey30\", \"grey30\", \"red2\", \"red2\"),\n",
    "                    title=\"HPT vs. Hippo\")\n",
    "}"
   ]
  },
  {
   "cell_type": "code",
   "execution_count": 25,
   "metadata": {},
   "outputs": [],
   "source": [
    "if(bool_plot){    \n",
    "    Hippo_vs_CTX = data.frame(diff$GeneName, diff$diffHippo_vs_CTX, diff$pvalHippo_vs_CTX)\n",
    "    colnames(Hippo_vs_CTX) = c(\"GeneName\", \"log2FoldChange\", \"pvalue\")\n",
    "    EnhancedVolcano(Hippo_vs_CTX,\n",
    "                    lab=Hippo_vs_CTX$GeneName,\n",
    "                    pCutoff=0.05,\n",
    "                    FCcutoff=10,\n",
    "                    x='log2FoldChange',\n",
    "                    y='pvalue',\n",
    "                    ylim=c(0, 10),\n",
    "                    xlim=c(-7, 7),\n",
    "                    col=c(\"grey30\", \"grey30\", \"red2\", \"red2\"),\n",
    "                    title=\"CTX vs. Hippo\"\n",
    "    )\n",
    "}"
   ]
  },
  {
   "cell_type": "code",
   "execution_count": 26,
   "metadata": {},
   "outputs": [],
   "source": [
    "if(bool_plot){ \n",
    "    HPT_vs_CTX = data.frame(diff$GeneName, diff$diffHPT_vs_CTX, diff$pvalHPT_vs_CTX)\n",
    "    colnames(HPT_vs_CTX) = c(\"GeneName\", \"log2FoldChange\", \"pvalue\")\n",
    "    EnhancedVolcano(HPT_vs_CTX,\n",
    "                    lab=HPT_vs_CTX$GeneName,\n",
    "                    pCutoff=0.05,\n",
    "                    FCcutoff=10,\n",
    "                    x='log2FoldChange',\n",
    "                    y='pvalue',\n",
    "                    ylim=c(0, 10),\n",
    "                    xlim=c(-7, 7),\n",
    "                    col=c(\"grey30\", \"grey30\", \"red2\", \"red2\"),\n",
    "                    title=\"HPT vs. CTX\")\n",
    "}"
   ]
  },
  {
   "cell_type": "code",
   "execution_count": 27,
   "metadata": {},
   "outputs": [],
   "source": [
    "if(bool_plot){ \n",
    "    df = data.frame(location=c(\"HPT_vs_Hippo\", \"HPT_vs_CTX\", \"CTX_vs_Hippo\"),\n",
    "                    Sig_genes=c(dim(Hippo_vs_HPT[Hippo_vs_HPT[,3] < 0.05,])[1],\n",
    "                                dim(HPT_vs_CTX[HPT_vs_CTX[,3] < 0.05,])[1], \n",
    "                                dim(Hippo_vs_CTX[Hippo_vs_CTX[,3] < 0.05,])[1])\n",
    "    )\n",
    "    ggplot(df, aes(x=location, y=Sig_genes, fill=location))  +\n",
    "           geom_bar(stat=\"identity\") + \n",
    "           theme_minimal() +\n",
    "           theme(legend.position=\"none\") +\n",
    "           scale_fill_manual(values=c(\"purple\", \"brown\", \"blue\"))\n",
    "}"
   ]
  },
  {
   "cell_type": "code",
   "execution_count": 28,
   "metadata": {},
   "outputs": [],
   "source": [
    "if(bool_plot){ \n",
    "    vp <- venn.diagram(list(HPT_vs_CTX = HPT_vs_CTX[which(HPT_vs_CTX[,3]<0.05),1],\n",
    "                            Hippo_vs_CTX = Hippo_vs_CTX[which(Hippo_vs_CTX[,3]<0.05),1],\n",
    "                            HPT_vs_Hippo = Hippo_vs_HPT[which(Hippo_vs_HPT[,3]<0.05),1]),\n",
    "                       fill=c(\"red\", \"darkorchid1\", \"cornflowerblue\"),\n",
    "                       filename=NULL, \n",
    "                       cex=1.5,\n",
    "                       col=\"transparent\",\n",
    "                       cat.cex=1.3, \n",
    "                       margin=0.01, \n",
    "                       main=\"Proteome\",\n",
    "                       main.cex=2);\n",
    "    grid.draw(vp)\n",
    "}"
   ]
  },
  {
   "cell_type": "markdown",
   "metadata": {},
   "source": [
    "### diet effect"
   ]
  },
  {
   "cell_type": "code",
   "execution_count": 29,
   "metadata": {},
   "outputs": [],
   "source": [
    "# load the results from Persus\n",
    "hippo <- read_excel(input_file,\n",
    "                    sheet=10)[,c(4, 6, 7)]\n",
    "colnames(hippo) = c(\"GeneName\", \"pvalue\", \"log2FoldChange\")\n",
    "for (i in 1:nrow(hippo)) hippo[i,2]=10 ^ -hippo[i,2]"
   ]
  },
  {
   "cell_type": "code",
   "execution_count": 30,
   "metadata": {},
   "outputs": [
    {
     "name": "stderr",
     "output_type": "stream",
     "text": [
      "Warning message:\n",
      "“Removed 2 rows containing missing values (geom_vline).”\n"
     ]
    },
    {
     "data": {
      "text/html": [
       "<strong>pdf:</strong> 2"
      ],
      "text/latex": [
       "\\textbf{pdf:} 2"
      ],
      "text/markdown": [
       "**pdf:** 2"
      ],
      "text/plain": [
       "pdf \n",
       "  2 "
      ]
     },
     "metadata": {},
     "output_type": "display_data"
    }
   ],
   "source": [
    "pdf(file=\"volcano_hippo.pdf\", width=10, height=10)\n",
    "    EnhancedVolcano(hippo,\n",
    "                    lab=hippo$GeneName,\n",
    "                    x='log2FoldChange',\n",
    "                    y='pvalue',\n",
    "                    FCcutoff=10,\n",
    "                    pCutoff=0.05,\n",
    "                    axisLabSize=30,\n",
    "                    title=NULL,\n",
    "                    subtitle=NULL,\n",
    "                    caption=NULL,\n",
    "                    xlim=c(-5, 5),\n",
    "                    ylim=c(0, 5),\n",
    "                    col=c(\"grey30\", \"grey30\", \"red2\", \"red2\"),\n",
    "                    legendLabels=c('NS', expression(Log[2]~FC),'p-value>0.05', expression(p-value~and~log[2]~FC)),\n",
    "                    legendLabSize=30\n",
    "    )\n",
    "dev.off()"
   ]
  },
  {
   "cell_type": "code",
   "execution_count": 31,
   "metadata": {},
   "outputs": [],
   "source": [
    "# load the results from Persus\n",
    "ctx <- read_excel(input_file, \n",
    "                  sheet=8)[,c(4, 6, 7)]\n",
    "colnames(ctx) = c(\"GeneName\", \"pvalue\", \"log2FoldChange\")\n",
    "for (i in 1:nrow(ctx)) ctx[i,2]=10 ^ -ctx[i,2]"
   ]
  },
  {
   "cell_type": "code",
   "execution_count": 32,
   "metadata": {},
   "outputs": [
    {
     "name": "stderr",
     "output_type": "stream",
     "text": [
      "Warning message:\n",
      "“Removed 2 rows containing missing values (geom_vline).”\n"
     ]
    },
    {
     "data": {
      "text/html": [
       "<strong>pdf:</strong> 2"
      ],
      "text/latex": [
       "\\textbf{pdf:} 2"
      ],
      "text/markdown": [
       "**pdf:** 2"
      ],
      "text/plain": [
       "pdf \n",
       "  2 "
      ]
     },
     "metadata": {},
     "output_type": "display_data"
    }
   ],
   "source": [
    "pdf(file=\"volcano_ctx.pdf\", width=10, height=10)\n",
    "    EnhancedVolcano(ctx,\n",
    "                    lab=ctx$GeneName,\n",
    "                    x='log2FoldChange',\n",
    "                    y='pvalue',\n",
    "                    FCcutoff=10,\n",
    "                    pCutoff=0.05,\n",
    "                    axisLabSize=30,\n",
    "                    title=NULL,\n",
    "                    subtitle=NULL,\n",
    "                    caption=NULL,\n",
    "                    xlim=c(-5, 5),\n",
    "                    ylim=c(0, 5),\n",
    "                    col=c(\"grey30\", \"grey30\", \"red2\", \"red2\"),\n",
    "                    legendLabels=c('NS', expression(Log[2]~FC), 'p-value>0.05', expression(p-value~and~log[2]~FC)),\n",
    "                    legendLabSize=30\n",
    "   )\n",
    "dev.off()"
   ]
  },
  {
   "cell_type": "code",
   "execution_count": 33,
   "metadata": {},
   "outputs": [],
   "source": [
    "# load the results from Persus\n",
    "hpt <- read_excel(input_file, \n",
    "                  sheet=6)[,c(4, 6, 7)]\n",
    "colnames(hpt) = c(\"GeneName\", \"pvalue\", \"log2FoldChange\")\n",
    "for (i in 1:nrow(hpt)) hpt[i,2]=10 ^ -hpt[i,2]"
   ]
  },
  {
   "cell_type": "code",
   "execution_count": 34,
   "metadata": {},
   "outputs": [
    {
     "name": "stderr",
     "output_type": "stream",
     "text": [
      "Warning message:\n",
      "“Removed 2 rows containing missing values (geom_vline).”\n"
     ]
    },
    {
     "data": {
      "text/html": [
       "<strong>pdf:</strong> 2"
      ],
      "text/latex": [
       "\\textbf{pdf:} 2"
      ],
      "text/markdown": [
       "**pdf:** 2"
      ],
      "text/plain": [
       "pdf \n",
       "  2 "
      ]
     },
     "metadata": {},
     "output_type": "display_data"
    }
   ],
   "source": [
    "pdf(file=\"volcano_hpt.pdf\", width=10, height=10)\n",
    "    EnhancedVolcano(hpt,\n",
    "                    lab=hpt$GeneName,\n",
    "                    x='log2FoldChange',\n",
    "                    y='pvalue',\n",
    "                    FCcutoff=10,\n",
    "                    pCutoff=0.05,\n",
    "                    axisLabSize=30,\n",
    "                    title=NULL,\n",
    "                    subtitle=NULL,\n",
    "                    caption=NULL,\n",
    "                    xlim=c(-5, 5),\n",
    "                    ylim=c(0, 5),\n",
    "                    col=c(\"grey30\", \"grey30\", \"red2\", \"red2\"),\n",
    "                    legendLabels=c('NS', expression(Log[2]~FC),'p-value>0.05', expression(p-value~and~log[2]~FC)),\n",
    "                    legendLabSize=30)\n",
    "dev.off()"
   ]
  },
  {
   "cell_type": "code",
   "execution_count": 35,
   "metadata": {},
   "outputs": [],
   "source": [
    "if(bool_plot){ \n",
    "    df = data.frame(location=c(\"Hypothalamus\", \"Hippocampus\", \"Cortex\"),\n",
    "                    Sig_genes=c(dim(hpt[which(hpt[,2]<0.05),])[1], \n",
    "                                dim(hippo[which(hippo[,2]<0.05),])[1],\n",
    "                                dim(ctx[which(ctx[,2]<0.05),])[1])\n",
    "    )\n",
    "    ggplot(df, aes(x=location, y=Sig_genes, fill=location)) +\n",
    "           geom_bar(stat=\"identity\") +\n",
    "           theme(axis.text=element_text(size=20), \n",
    "                 axis.title=element_text(size=20), \n",
    "                 legend.title=element_text(siz=20),\n",
    "                 legend.text=element_text(size=20),\n",
    "                 plot.title=element_text(size=20)) +\n",
    "           theme(legend.position=\"none\") +\n",
    "           scale_fill_manual(values=c(\"lightblue\",\"lightgreen\",\"tan1\"))\n",
    "}"
   ]
  },
  {
   "cell_type": "code",
   "execution_count": 36,
   "metadata": {},
   "outputs": [],
   "source": [
    "options(repr.plot.width=8, repr.plot.height=8)"
   ]
  },
  {
   "cell_type": "code",
   "execution_count": 37,
   "metadata": {},
   "outputs": [
    {
     "data": {
      "text/html": [
       "<strong>pdf:</strong> 2"
      ],
      "text/latex": [
       "\\textbf{pdf:} 2"
      ],
      "text/markdown": [
       "**pdf:** 2"
      ],
      "text/plain": [
       "pdf \n",
       "  2 "
      ]
     },
     "metadata": {},
     "output_type": "display_data"
    }
   ],
   "source": [
    "pdf(file=\"venn_tran.pdf\", width=8, height=8)\n",
    "vp <- venn.diagram(list(' '=as.matrix(hpt[hpt[,2]<0.05,1]),\n",
    "                        ' '=as.matrix(hippo[hippo[,2]<0.05,1]),\n",
    "                        ' '=na.omit(as.matrix(ctx[ctx[,2]<0.05,])[,1])), \n",
    "                   fill=c(\"orange\", \"mediumpurple1\", \"aquamarine2\"),\n",
    "                   filename=NULL, \n",
    "                   cex=3.5,\n",
    "                   col=\"transparent\",\n",
    "                   cat.cex=0.01,\n",
    "                   margin=0.01,\n",
    "                   main=NULL,\n",
    "                   main.cex=3);\n",
    "    grid.draw(vp)\n",
    "dev.off()"
   ]
  },
  {
   "cell_type": "code",
   "execution_count": 38,
   "metadata": {},
   "outputs": [],
   "source": [
    "options(repr.plot.width=5, repr.plot.height=8)"
   ]
  },
  {
   "cell_type": "code",
   "execution_count": 39,
   "metadata": {},
   "outputs": [],
   "source": [
    "datr <- read_excel(input_file,\n",
    "                   sheet=8)[,c(4,9:16)]\n",
    "datctx <- apply(datr[,-1],\n",
    "                2, \n",
    "                function(x) as.numeric(x)\n",
    ")\n",
    "gen = as.character(as.matrix(datr[,1]))\n",
    "datctx <- aggregate(datctx,\n",
    "                    by=list(gen),\n",
    "                    FUN=mean,\n",
    "                    na.rm=TRUE\n",
    ")\n",
    "rownames(datctx) = datctx[,1]\n",
    "datctx = datctx[,-1]"
   ]
  },
  {
   "cell_type": "code",
   "execution_count": 40,
   "metadata": {
    "scrolled": false
   },
   "outputs": [],
   "source": [
    "vsd_ctx = datctx[rownames(datctx)%in%as.character(as.matrix(ctx[ctx[,2] < 0.05,1])),]\n",
    "pheatmap(vsd_ctx, \n",
    "         scale=\"row\", \n",
    "         show_rownames=FALSE,\n",
    "         show_colnames=FALSE,\n",
    "         color=my_palette,\n",
    "         cluster_cols=FALSE, \n",
    "         fontsize=15,\n",
    "         legend=FALSE,\n",
    "         filename=\"heatmap_ctx.pdf\",\n",
    "         width=5, \n",
    "         height=8,\n",
    "         breaks=seq(-2, 2, length.out=255)\n",
    ")"
   ]
  },
  {
   "cell_type": "code",
   "execution_count": 41,
   "metadata": {},
   "outputs": [],
   "source": [
    "datr <- read_excel(input_file,\n",
    "                   sheet=10)[,c(4, 9:16)]\n",
    "datctx <- apply(datr[,-1],\n",
    "                2,\n",
    "                function(x) as.numeric(x)\n",
    ")\n",
    "gen = as.character(as.matrix(datr[,1]))\n",
    "datctx <- aggregate(datctx, \n",
    "                    by=list(gen),\n",
    "                    FUN=mean, \n",
    "                    na.rm=TRUE\n",
    ")\n",
    "rownames(datctx) = datctx[,1]\n",
    "datctx = datctx[,-1]"
   ]
  },
  {
   "cell_type": "code",
   "execution_count": 42,
   "metadata": {},
   "outputs": [],
   "source": [
    "vsd_hip = datctx[rownames(datctx)%in%as.character(as.matrix(hippo[hippo[,2] < 0.05,1])),]\n",
    "pheatmap(vsd_hip,\n",
    "         scale=\"row\",\n",
    "         show_rownames=FALSE,\n",
    "         show_colnames=FALSE,\n",
    "         color=my_palette, \n",
    "         cluster_cols=FALSE,\n",
    "         fontsize=15,\n",
    "         legend=FALSE,\n",
    "         filename=\"heatmap_hippo.pdf\",\n",
    "         width=5, \n",
    "         height=8,\n",
    "         breaks=seq(-2, 2, length.out=255)\n",
    ")"
   ]
  },
  {
   "cell_type": "code",
   "execution_count": 43,
   "metadata": {},
   "outputs": [],
   "source": [
    "datr <- read_excel(input_file,\n",
    "                   sheet=6)[,c(4,9:16)]\n",
    "datctx <- apply(datr[,-1],\n",
    "                2, \n",
    "                function(x) as.numeric(x))\n",
    "gen = as.character(as.matrix(datr[,1]))\n",
    "datctx <- aggregate(datctx, \n",
    "                    by=list(gen),\n",
    "                    FUN=mean, \n",
    "                    na.rm=TRUE\n",
    ")\n",
    "rownames(datctx) = datctx[,1]\n",
    "datctx=datctx[,-1]"
   ]
  },
  {
   "cell_type": "code",
   "execution_count": 44,
   "metadata": {},
   "outputs": [],
   "source": [
    "vsd_hpt = datctx[rownames(datctx)%in%as.character(as.matrix(hpt[hpt[,2] < 0.05, 1])),]\n",
    "pheatmap(vsd_hpt,\n",
    "         scale=\"row\",\n",
    "         show_rownames=FALSE,\n",
    "         show_colnames=FALSE,\n",
    "         color=my_palette,\n",
    "         cluster_cols=F,\n",
    "         fontsize=15,\n",
    "         legend=T,\n",
    "         filename=\"heatmap_hpt.pdf\",\n",
    "         width=5, \n",
    "         height=8,\n",
    "         breaks=seq(-2, 2, length.out=255)\n",
    ") "
   ]
  },
  {
   "cell_type": "markdown",
   "metadata": {},
   "source": [
    "### HPT"
   ]
  },
  {
   "cell_type": "code",
   "execution_count": 45,
   "metadata": {},
   "outputs": [
    {
     "data": {
      "text/html": [
       "251"
      ],
      "text/latex": [
       "251"
      ],
      "text/markdown": [
       "251"
      ],
      "text/plain": [
       "[1] 251"
      ]
     },
     "metadata": {},
     "output_type": "display_data"
    },
    {
     "data": {
      "text/html": [
       "205"
      ],
      "text/latex": [
       "205"
      ],
      "text/markdown": [
       "205"
      ],
      "text/plain": [
       "[1] 205"
      ]
     },
     "metadata": {},
     "output_type": "display_data"
    },
    {
     "data": {
      "text/html": [
       "456"
      ],
      "text/latex": [
       "456"
      ],
      "text/markdown": [
       "456"
      ],
      "text/plain": [
       "[1] 456"
      ]
     },
     "metadata": {},
     "output_type": "display_data"
    }
   ],
   "source": [
    "nrow(hpt[(hpt$pvalue < 0.05)&(hpt$log2FoldChange < 0),])\n",
    "nrow(hpt[(hpt$pvalue < 0.05)&(hpt$log2FoldChange > 0),])\n",
    "nrow(hpt[(hpt$pvalue < 0.05),])"
   ]
  },
  {
   "cell_type": "markdown",
   "metadata": {},
   "source": [
    "### CTX"
   ]
  },
  {
   "cell_type": "code",
   "execution_count": 46,
   "metadata": {},
   "outputs": [
    {
     "data": {
      "text/html": [
       "75"
      ],
      "text/latex": [
       "75"
      ],
      "text/markdown": [
       "75"
      ],
      "text/plain": [
       "[1] 75"
      ]
     },
     "metadata": {},
     "output_type": "display_data"
    },
    {
     "data": {
      "text/html": [
       "29"
      ],
      "text/latex": [
       "29"
      ],
      "text/markdown": [
       "29"
      ],
      "text/plain": [
       "[1] 29"
      ]
     },
     "metadata": {},
     "output_type": "display_data"
    },
    {
     "data": {
      "text/html": [
       "104"
      ],
      "text/latex": [
       "104"
      ],
      "text/markdown": [
       "104"
      ],
      "text/plain": [
       "[1] 104"
      ]
     },
     "metadata": {},
     "output_type": "display_data"
    }
   ],
   "source": [
    "nrow(ctx[(ctx$pvalue < 0.05)&(ctx$log2FoldChange < 0),])\n",
    "nrow(ctx[(ctx$pvalue < 0.05)&(ctx$log2FoldChange > 0),])\n",
    "nrow(ctx[(ctx$pvalue < 0.05),])"
   ]
  },
  {
   "cell_type": "markdown",
   "metadata": {},
   "source": [
    "### Hippo"
   ]
  },
  {
   "cell_type": "code",
   "execution_count": 47,
   "metadata": {},
   "outputs": [
    {
     "data": {
      "text/html": [
       "95"
      ],
      "text/latex": [
       "95"
      ],
      "text/markdown": [
       "95"
      ],
      "text/plain": [
       "[1] 95"
      ]
     },
     "metadata": {},
     "output_type": "display_data"
    },
    {
     "data": {
      "text/html": [
       "36"
      ],
      "text/latex": [
       "36"
      ],
      "text/markdown": [
       "36"
      ],
      "text/plain": [
       "[1] 36"
      ]
     },
     "metadata": {},
     "output_type": "display_data"
    },
    {
     "data": {
      "text/html": [
       "131"
      ],
      "text/latex": [
       "131"
      ],
      "text/markdown": [
       "131"
      ],
      "text/plain": [
       "[1] 131"
      ]
     },
     "metadata": {},
     "output_type": "display_data"
    }
   ],
   "source": [
    "nrow(hippo[(hippo$pvalue < 0.05)&(hippo$log2FoldChange < 0),])\n",
    "nrow(hippo[(hippo$pvalue < 0.05)&(hippo$log2FoldChange > 0),])\n",
    "nrow(hippo[(hippo$pvalue < 0.05),])"
   ]
  },
  {
   "cell_type": "markdown",
   "metadata": {},
   "source": [
    "## Pathway enrichment"
   ]
  },
  {
   "cell_type": "code",
   "execution_count": 48,
   "metadata": {},
   "outputs": [
    {
     "name": "stderr",
     "output_type": "stream",
     "text": [
      "'select()' returned 1:1 mapping between keys and columns\n",
      "\n",
      "Warning message in bitr(rownames(vsd_ctx), fromType = \"SYMBOL\", toType = \"ENTREZID\", :\n",
      "“4.9% of input gene IDs are fail to map...”\n",
      "'select()' returned 1:1 mapping between keys and columns\n",
      "\n",
      "Warning message in bitr(rownames(vsd_hpt), fromType = \"SYMBOL\", toType = \"ENTREZID\", :\n",
      "“9.43% of input gene IDs are fail to map...”\n",
      "'select()' returned 1:1 mapping between keys and columns\n",
      "\n",
      "Warning message in bitr(rownames(vsd_hip), fromType = \"SYMBOL\", toType = \"ENTREZID\", :\n",
      "“6.11% of input gene IDs are fail to map...”\n"
     ]
    }
   ],
   "source": [
    "sg.ctx <- bitr(rownames(vsd_ctx),\n",
    "               fromType=\"SYMBOL\",\n",
    "               toType=\"ENTREZID\",\n",
    "               OrgDb=org.Mm.eg.db\n",
    ")\n",
    "go.ctx <- enrichGO(sg.ctx[,2],\n",
    "                   'org.Mm.eg.db',\n",
    "                   ont=\"BP\",\n",
    "                   pvalueCutoff=0.1\n",
    ")\n",
    "sg.hpt <- bitr(rownames(vsd_hpt), \n",
    "               fromType=\"SYMBOL\",\n",
    "               toType=\"ENTREZID\",\n",
    "               OrgDb=org.Mm.eg.db\n",
    ")\n",
    "go.hpt <- enrichGO(sg.hpt[,2], \n",
    "                   'org.Mm.eg.db',\n",
    "                   ont=\"BP\",\n",
    "                   pvalueCutoff=0.1\n",
    ")\n",
    "sg.hip <- bitr(rownames(vsd_hip), \n",
    "               fromType=\"SYMBOL\",\n",
    "               toType=\"ENTREZID\", \n",
    "               OrgDb=org.Mm.eg.db\n",
    ")\n",
    "go.hip <- enrichGO(sg.hip[,2],\n",
    "                   'org.Mm.eg.db',\n",
    "                   ont=\"BP\", \n",
    "                   pvalueCutoff=0.1\n",
    ")"
   ]
  },
  {
   "cell_type": "markdown",
   "metadata": {},
   "source": [
    "### GO"
   ]
  },
  {
   "cell_type": "code",
   "execution_count": 49,
   "metadata": {},
   "outputs": [],
   "source": [
    "go = c(#intracellular estrogen receptor signaling pathway\n",
    "    #regulation of cellular response to insulin stimulus\n",
    "    #negative regulation of insulin receptor signaling pathway\n",
    "    \"insulin receptor signaling pathway\",\n",
    "    #response to insulin\n",
    "    \"leptin-mediated signaling pathway\",\n",
    "    \"response to leptin\",\n",
    "    \"glycolytic process\",\n",
    "    \"cellular response to glucose stimulus\",\n",
    "    \"cellular carbohydrate metabolic process\",\n",
    "    \"glycogen metabolic process\",\n",
    "    \"glucose transmembrane transport\",\n",
    "    #regulation of lipid storage\n",
    "    #triglyceride biosynthetic process\n",
    "    #fatty acid metabolic process\n",
    "    #regulation of lipid transport\n",
    "    \"fatty acid catabolic process\",\n",
    "    \"lipid import into cell\",\n",
    "    \"response to endoplasmic reticulum stress\",\n",
    "    \"response to reactive oxygen species\",\n",
    "    \"response to oxidative stress\",\n",
    "    #mitochondrion organization\n",
    "    #regulation of mitochondrion organization\n",
    "    \"positive regulation of G1/S transition of mitotic cell cycle\",\n",
    "    \"glial cell proliferation\",\n",
    "    \"microtubule cytoskeleton organization involved in mitosis\",\n",
    "    \"smoothened signaling pathway\",\n",
    "    \"astrocyte activation\",\n",
    "    \"positive regulation of inflammatory response\",\n",
    "    \"microglial cell activation\",\n",
    "    #positive regulation of cell adhesion\n",
    "    #cell adhesion mediated by integrin\n",
    "    \"cell-substrate junction assembly\",\n",
    "    \"regulation of cell shape\",\n",
    "    \"calcium ion transport into cytosol\",\n",
    "    \"calcium-mediated signaling\",\n",
    "    #regulation of ARF protein signal transduction\n",
    "    #ARF protein signal transduction\n",
    "    #exocytosis\n",
    "    #regulation of axon regeneration\n",
    "    \"axon guidance\",\n",
    "    \"regulation of neurotransmitter levels\",\n",
    "    \"glutamate receptor signaling pathway\",\n",
    "    \"axonogenesis\",\n",
    "    \"regulation of synaptic transmission, dopaminergic\",\n",
    "    \"regulation of neuronal synaptic plasticity\",\n",
    "    \"exploration behavior\",\n",
    "    \"feeding behavior\",\n",
    "    \"locomotory behavior\"\n",
    ")\n",
    "    #regulation of generation of precursor metabolites and energy\n",
    "    #response to nutrient levels\n",
    "    #energy homeostasis\n",
    "    #adaptive thermogenesis)"
   ]
  },
  {
   "cell_type": "code",
   "execution_count": 50,
   "metadata": {},
   "outputs": [],
   "source": [
    "options(repr.plot.width=15, repr.plot.height=15)"
   ]
  },
  {
   "cell_type": "code",
   "execution_count": 51,
   "metadata": {},
   "outputs": [
    {
     "data": {
      "text/html": [
       "<strong>pdf:</strong> 2"
      ],
      "text/latex": [
       "\\textbf{pdf:} 2"
      ],
      "text/markdown": [
       "**pdf:** 2"
      ],
      "text/plain": [
       "pdf \n",
       "  2 "
      ]
     },
     "metadata": {},
     "output_type": "display_data"
    }
   ],
   "source": [
    "pdf(file = \"enrich_path.pdf\", width=15, height=15)\n",
    "    enr_ctx.go = go.ctx@result[go.ctx@result[,5] < 0.05, c(2, 5, 6, 8, 9)]\n",
    "    enr_ctx.go$Tissue='CTX'\n",
    "    enr_hpt.go = go.hpt@result[go.hpt@result[,5] < 0.05, c(2, 5, 6, 8, 9)]\n",
    "    enr_hpt.go$Tissue='HPT'\n",
    "    enr_hip.go = go.hip@result[go.hip@result[,5] < 0.05, c(2, 5, 6, 8, 9)]\n",
    "    enr_hip.go$Tissue='Hippo'\n",
    "    \n",
    "    all = rbind(enr_ctx.go, enr_hpt.go, enr_hip.go)\n",
    "    #write.csv(all, file=\"GO_proteome.csv\")\n",
    "    all = all[all$Description%in%go,]\n",
    "    colnames(all) = c('Description', 'pvalue', 'p.adjust', 'geneID', 'count', 'Tissue')\n",
    "    ggplot(all,    \n",
    "           aes(Tissue, y=factor(Description, level=go[length(go):1]), col=pvalue, size=count)) + \n",
    "           geom_point() + \n",
    "           scale_colour_gradient(low=\"red\", high=\"blue\") +\n",
    "           scale_size_continuous(range=c(3, 10)) +\n",
    "           xlab(\"\") + \n",
    "           ylab(\"\") + \n",
    "           theme(axis.text.x=element_blank()) + \n",
    "           theme(legend.position=\"none\") +\n",
    "           theme(text=element_text(size=40))\n",
    "dev.off()"
   ]
  },
  {
   "cell_type": "code",
   "execution_count": 52,
   "metadata": {},
   "outputs": [],
   "source": [
    "all = rbind(enr_ctx.go, enr_hpt.go, enr_hip.go)\n",
    "all = all[all$Description%in%go,]"
   ]
  },
  {
   "cell_type": "code",
   "execution_count": 53,
   "metadata": {},
   "outputs": [
    {
     "name": "stderr",
     "output_type": "stream",
     "text": [
      "'select()' returned 1:1 mapping between keys and columns\n",
      "\n",
      "Warning message in bitr(hpt$GeneName, fromType = \"SYMBOL\", toType = \"ENTREZID\", :\n",
      "“6.93% of input gene IDs are fail to map...”\n",
      "'select()' returned 1:1 mapping between keys and columns\n",
      "\n",
      "Warning message in bitr(ctx$GeneName, fromType = \"SYMBOL\", toType = \"ENTREZID\", :\n",
      "“6.8% of input gene IDs are fail to map...”\n",
      "'select()' returned 1:1 mapping between keys and columns\n",
      "\n",
      "Warning message in bitr(hippo$GeneName, fromType = \"SYMBOL\", toType = \"ENTREZID\", :\n",
      "“6.91% of input gene IDs are fail to map...”\n"
     ]
    }
   ],
   "source": [
    "sig.gene.hpt.all <- bitr(hpt$GeneName, \n",
    "                         fromType=\"SYMBOL\",\n",
    "                         toType=\"ENTREZID\", \n",
    "                         OrgDb=org.Mm.eg.db\n",
    ")\n",
    "sig.gene.ctx.all <- bitr(ctx$GeneName,\n",
    "                         fromType=\"SYMBOL\",\n",
    "                         toType=\"ENTREZID\",\n",
    "                         OrgDb=org.Mm.eg.db\n",
    ")\n",
    "sig.gene.hip.all <- bitr(hippo$GeneName,\n",
    "                         fromType=\"SYMBOL\", \n",
    "                         toType=\"ENTREZID\", \n",
    "                         OrgDb=org.Mm.eg.db\n",
    ")"
   ]
  },
  {
   "cell_type": "code",
   "execution_count": 54,
   "metadata": {},
   "outputs": [],
   "source": [
    "options(repr.plot.width=7, repr.plot.height=15)"
   ]
  },
  {
   "cell_type": "code",
   "execution_count": 73,
   "metadata": {},
   "outputs": [
    {
     "data": {
      "text/html": [
       "<strong>pdf:</strong> 2"
      ],
      "text/latex": [
       "\\textbf{pdf:} 2"
      ],
      "text/markdown": [
       "**pdf:** 2"
      ],
      "text/plain": [
       "pdf \n",
       "  2 "
      ]
     },
     "metadata": {},
     "output_type": "display_data"
    }
   ],
   "source": [
    "pdf(file=\"enrichdot_ctx.pdf\", width=7, height=15)\n",
    "    df_total.ctx=data.frame()\n",
    "    for(i in 1:nrow(all)){   \n",
    "        p = as.data.frame(ctx[which(ctx$GeneName%in%\n",
    "                        sig.gene.ctx.all[sig.gene.ctx.all[,2]%in%unlist(strsplit(all$geneID[i],\"/\")),1]), c(2,3)])\n",
    "        p$pathway = all$Description[i]\n",
    "        p$padjPath = all$p.adjust[i]\n",
    "        p$count = all$Count[i]\n",
    "        df_total.ctx = rbind(df_total.ctx, p)    \n",
    "    }\n",
    "    df_total.ctx$significance <- ifelse(df_total.ctx$pvalue < 0.05,\n",
    "                                        \"significant\",\n",
    "                                        \"not significant\"\n",
    "    )\n",
    "    ggplot(df_total.ctx, aes(log2FoldChange, y=factor(pathway, level=go[length(go):1]))) + \n",
    "           geom_point(aes(colour=significance, size=-log10(pvalue)), alpha=0.5) + \n",
    "           scale_color_manual(values=c(\"gray85\", \"red\")) + \n",
    "           scale_size_continuous(range=c(0, 7.5)) +  #\n",
    "           geom_vline(xintercept=0)+\n",
    "           theme(axis.title=element_text(size=20),\n",
    "                 title=element_text(size=20), \n",
    "                 text = element_text(size=35)) + #guides(color=guide_legend(override.aes=list(size=5) ) ) +\n",
    "           theme(legend.position=\"none\") + \n",
    "           theme(axis.text.y=element_blank()) + \n",
    "           ylab(\"\") + \n",
    "           xlab(\"\") +\n",
    "           xlim(-2.68, 3.82)\n",
    "dev.off()"
   ]
  },
  {
   "cell_type": "code",
   "execution_count": 74,
   "metadata": {},
   "outputs": [
    {
     "data": {
      "text/html": [
       "<strong>pdf:</strong> 2"
      ],
      "text/latex": [
       "\\textbf{pdf:} 2"
      ],
      "text/markdown": [
       "**pdf:** 2"
      ],
      "text/plain": [
       "pdf \n",
       "  2 "
      ]
     },
     "metadata": {},
     "output_type": "display_data"
    }
   ],
   "source": [
    "pdf(file=\"enrichdot_hpt.pdf\", width=7, height=15)\n",
    "    df_total.hpt=data.frame()\n",
    "    for(i in 1:nrow(all)){\n",
    "        p=as.data.frame(hpt[which(hpt$GeneName%in%\n",
    "                        sig.gene.hpt.all[sig.gene.hpt.all[,2]%in%unlist(strsplit(all$geneID[i],\"/\")),1]), c(2,3)])\n",
    "        p$pathway=all$Description[i]\n",
    "        p$tissue=all$Tissue[i]\n",
    "        p$padjPath=all$pvalue[i]\n",
    "        p$count=all$Count[i]\n",
    "        df_total.hpt=rbind(df_total.hpt, p)    \n",
    "    } \n",
    "    for(j in 1:nrow(df_total.hpt)) {if((df_total.hpt$tissue[j] == 'HPT')&(df_total.hpt$pvalue[j] > 0.05)) df_total.hpt$pvalue[j] <- 0.05}\n",
    "    \n",
    "    df_total.hpt$significance <- ifelse(df_total.hpt$pvalue <= 0.05,\n",
    "                                        \"significant\",\n",
    "                                        \"not significant\"\n",
    "    )\n",
    "    ggplot(df_total.hpt, aes(log2FoldChange, y=factor(pathway, level=go[length(go):1]))) + \n",
    "           geom_point(aes(colour=significance, size= -log10(pvalue)), alpha=0.5) + \n",
    "           scale_color_manual(values=c(\"gray85\", \"red\")) + \n",
    "           scale_size_continuous(range=c(0, 8.5)) +  #\n",
    "           geom_vline(xintercept=0) +\n",
    "           theme(axis.title=element_text(size=20),\n",
    "                 title=element_text(size=20), \n",
    "                 text = element_text(size=35)) + \n",
    "           theme(legend.position=\"none\") + \n",
    "           theme(axis.text.y=element_blank()) + \n",
    "           ylab(\"\") +\n",
    "           xlab(\"\") + \n",
    "           xlim(-2.68, 3.82)\n",
    "dev.off()"
   ]
  },
  {
   "cell_type": "code",
   "execution_count": 75,
   "metadata": {},
   "outputs": [
    {
     "data": {
      "text/html": [
       "<strong>pdf:</strong> 2"
      ],
      "text/latex": [
       "\\textbf{pdf:} 2"
      ],
      "text/markdown": [
       "**pdf:** 2"
      ],
      "text/plain": [
       "pdf \n",
       "  2 "
      ]
     },
     "metadata": {},
     "output_type": "display_data"
    }
   ],
   "source": [
    "pdf(file=\"enrichdot_hippo.pdf\", width=7, height=15)\n",
    "    df_total.hip=data.frame()\n",
    "    for(i in 1:nrow(all)){\n",
    "        p=as.data.frame(hippo[which(hippo$GeneName%in%\n",
    "                        sig.gene.hip.all[sig.gene.hip.all[,2]%in%unlist(strsplit(all$geneID[i],\"/\")),1]), c(2,3)])\n",
    "        p$pathway=all$Description[i]\n",
    "        p$padjPath=all$p.adjust[i]\n",
    "        p$count=all$Count[i]\n",
    "        df_total.hip=rbind(df_total.hip, p)    \n",
    "    }    \n",
    "    df_total.hip$col <- ifelse(df_total.hip$pvalue <= 0.05,\n",
    "                               \"red\",\n",
    "                               \"grey\"\n",
    "    )\n",
    "    ggplot(df_total.hip, aes(log2FoldChange, y=factor(pathway, level=go[length(go):1]))) + \n",
    "           geom_point(aes(colour=col, size=-log10(pvalue)), alpha=0.5) + \n",
    "           scale_color_manual(values=c(\"gray85\", \"red\"))+ \n",
    "           scale_size_continuous(range = c(0, 7.5)) +\n",
    "           geom_vline(xintercept=0) +\n",
    "           theme(axis.title=element_text(size=20),\n",
    "                 title=element_text(size=20), \n",
    "                 text = element_text(size=35)) +\n",
    "           theme(legend.position=\"none\") + \n",
    "           theme(axis.text.y=element_blank()) + \n",
    "           ylab(\"\") +\n",
    "           xlab(\"\") + \n",
    "           xlim(-2.68, 3.82)\n",
    "dev.off()"
   ]
  },
  {
   "cell_type": "code",
   "execution_count": 60,
   "metadata": {},
   "outputs": [],
   "source": [
    "#ggplot(df_total.hip, aes(log2FoldChange, y=factor(pathway, level=go[length(go):1]))) +\n",
    "    #       scale_color_gradient(low=\"gray90\", high=\"red3\", limits=c(0,3.2)) +\n",
    "    #       geom_point(aes(color=-log10(pvalue)), size=7, alpha=0.8) +\n",
    "    #       geom_vline(xintercept=0)+\n",
    "    #       theme(axis.title=element_text(size=20),#face=\"bold\"),\n",
    "    #             legend.title=element_text(size=35),#face=\"bold\"),\n",
    "    #             title=element_text(size=20),#,face=\"bold\"),\n",
    "    #             text=element_text(size=35)) +\n",
    "    #       ylab(\"\") + \n",
    "    #       theme(legend.position=\"none\") + \n",
    "    #       xlab(\"\") + \n",
    "    #       theme(axis.text.y=element_blank())+ xlim(-2.68,3.82)"
   ]
  },
  {
   "cell_type": "markdown",
   "metadata": {},
   "source": [
    "### KEGG"
   ]
  },
  {
   "cell_type": "code",
   "execution_count": 58,
   "metadata": {},
   "outputs": [],
   "source": [
    "#kegg <- c(\"Apoptosis\",\"Inositol phosphate metabolism\",\"Tight junction\",\"Glycosaminoglycan degradation\",\n",
    "#          \"Adherens junction\",\"Endocytosis\",\"SNARE interactions in vesicular transport\",\"AMPK signaling pathway\",\n",
    "#          \"Oxidative phosphorylation\",\"Amino sugar and nucleotide sugar metabolism\",\"Adipocytokine signaling pathway\",\n",
    "#          \"FoxO signaling pathway\",\"Insulin resistance\",\"Insulin signaling pathway\",\"Fatty acid elongation\",\n",
    "#          \"Retrograde endocannabinoid signaling\",\"Thermogenesis\") # \"Fatty acid metabolism\","
   ]
  },
  {
   "cell_type": "code",
   "execution_count": 59,
   "metadata": {},
   "outputs": [],
   "source": [
    "#if(bool_plot){  \n",
    "#    enr_ctx.kegg = kegg.ctx@result[kegg.ctx@result[,5] < 0.05, c(2,5,6,8,9)]\n",
    "#    enr_ctx.kegg$Tissue='CTX'\n",
    "#    enr_hpt.kegg=kegg.hpt@result[kegg.hpt@result[,5] < 0.05, c(2,5,6,8,9)]\n",
    "#    enr_hpt.kegg$Tissue='HPT'\n",
    "#    enr_hip.kegg=kegg.hip@result[kegg.hip@result[,5] < 0.05, c(2,5,6,8,9)]\n",
    "#    enr_hip.kegg$Tissue='Hippo'\n",
    "#        \n",
    "#    all = rbind(enr_ctx.kegg, enr_hpt.kegg, enr_hip.kegg)\n",
    "#    #write.csv(all, file=\"KEGG_proteome.csv\")\n",
    "#    all = all[all$Description%in%kegg,]\n",
    "#    \n",
    "#    options(repr.plot.width=10, repr.plot.height=12)\n",
    "#    ggplot(all, \n",
    "#           aes(Tissue, Description, col=pvalue, size=Count)) + \n",
    "#           geom_point()+ \n",
    "#           scale_colour_gradient(low=\"red\", high=\"blue\") +\n",
    "#           xlab(\"Tissue\") + \n",
    "#           ylab(\"KEGG enriched pathways\") + \n",
    "#           theme(text=element_text(size=25),axis.text.x=element_text(angle=45, hjust=1))\n",
    "#}"
   ]
  },
  {
   "cell_type": "code",
   "execution_count": 60,
   "metadata": {},
   "outputs": [],
   "source": [
    "#if(bool_plot){\n",
    "#    options(repr.plot.width=12, repr.plot.height=15)\n",
    "#\n",
    "#    all = rbind(enr_ctx.kegg, enr_hpt.kegg, enr_hip.kegg)\n",
    "#    all = all[all$Description%in%kegg,]\n",
    "#\n",
    "#    sig.gene.hpt.all <- bitr(hpt$GeneName,\n",
    "#                             fromType=\"SYMBOL\",\n",
    "#                             toType=\"ENTREZID\",\n",
    "#                             OrgDb=org.Mm.eg.db\n",
    "#    )\n",
    "#    sig.gene.ctx.all <- bitr(ctx$GeneName, \n",
    "#                             fromType=\"SYMBOL\",\n",
    "#                             toType=\"ENTREZID\",\n",
    "#                             OrgDb=org.Mm.eg.db\n",
    "#    )\n",
    "#    sig.gene.hip.all <- bitr(hippo$GeneName, \n",
    "#                             fromType=\"SYMBOL\",\n",
    "#                             toType=\"ENTREZID\",\n",
    "#                             OrgDb=org.Mm.eg.db\n",
    "#    )\n",
    "#}"
   ]
  },
  {
   "cell_type": "code",
   "execution_count": 61,
   "metadata": {},
   "outputs": [],
   "source": [
    "#if(bool_plot){   \n",
    "#    df_total.ctx=data.frame()\n",
    "#    for(i in 1:nrow(all)){        \n",
    "#        names = keggGet(substr(rownames(all)[i],1,8))[[1]]$GENE\n",
    "#        namesodd = names[seq(0,length(names),2)]\n",
    "#        p = ctx[as.matrix(ctx[,1])%in%gsub(\"\\\\;.*\",\"\",namesodd),c(2,3)]\n",
    "#        \n",
    "#        p$pathway = all$Description[i]\n",
    "#        p$padjPath = all$p.adjust[i]\n",
    "#        p$count = all$Count[i]\n",
    "#        df_total.ctx = rbind(df_total.ctx,p)\n",
    "#    }    \n",
    "#    ggplot(df_total.ctx, aes(log2FoldChange, pathway)) + \n",
    "#           scale_color_gradient(low=\"grey\", high=\"red\") +\n",
    "#           geom_point(aes(color=-log10(pvalue))) +\n",
    "#           geom_vline(xintercept=0)+\n",
    "#           theme(axis.title=element_text(size=20,face=\"bold\"),\n",
    "#                 title=element_text(size=20,face=\"bold\"), \n",
    "#                 text = element_text(size=25)) +\n",
    "#           ylab(\"Pathway Names\") +\n",
    "#           ggtitle(\"CTX\") + \n",
    "#           xlab(\"log2FC\")\n",
    "#}"
   ]
  },
  {
   "cell_type": "code",
   "execution_count": 62,
   "metadata": {},
   "outputs": [],
   "source": [
    "#if(bool_plot){       \n",
    "#    df_total.hpt = data.frame()\n",
    "#    for(i in 1:nrow(all)){\n",
    "#        names = keggGet(substr(rownames(all)[i],1,8))[[1]]$GENE\n",
    "#        namesodd = names[seq(0,length(names),2)]\n",
    "#        p = hpt[as.matrix(hpt[,1])%in%gsub(\"\\\\;.*\",\"\",namesodd),c(2,3)]\n",
    "# \n",
    "#        p$pathway = all$Description[i]\n",
    "#        p$padjPath = all$p.adjust[i]\n",
    "#        p$count = all$Count[i]\n",
    "#        df_total.hpt = rbind(df_total.hpt, p)\n",
    "#    }\n",
    "#    ggplot(df_total.hpt, aes(log2FoldChange, pathway)) +\n",
    "#           scale_color_gradient(low=\"grey\", high=\"red\") +\n",
    "#           geom_point(aes(color=-log10(pvalue))) +\n",
    "#           geom_vline(xintercept=0)+\n",
    "#           theme(axis.title=element_text(size=20,face=\"bold\"),\n",
    "#                 title=element_text(size=20,face=\"bold\"),\n",
    "#                 text=element_text(size=25)) +\n",
    "#           ylab(\"Pathway Names\") +\n",
    "#           ggtitle(\"HPT\") +\n",
    "#           xlab(\"log2FC\")\n",
    "#}"
   ]
  },
  {
   "cell_type": "code",
   "execution_count": 63,
   "metadata": {},
   "outputs": [],
   "source": [
    "#if(bool_plot){ \n",
    "#    df_total.hip = data.frame()\n",
    "#    for(i in 1:nrow(all)){\n",
    "#        names = keggGet(substr(rownames(all)[i],1,8))[[1]]$GENE\n",
    "#        namesodd = names[seq(0,length(names),2)]\n",
    "#        p = hippo[as.matrix(hippo[,1])%in%gsub(\"\\\\;.*\",\"\",namesodd),c(2,3)]\n",
    "#\n",
    "#        p$pathway = all$Description[i]\n",
    "#        p$padjPath = all$p.adjust[i]\n",
    "#        p$count = all$Count[i]\n",
    "#        df_total.hip = rbind(df_total.hip,p)\n",
    "#    }\n",
    "#    ggplot(df_total.hip, aes(log2FoldChange, pathway)) +\n",
    "#               scale_color_gradient(low=\"grey\", high=\"red\") +\n",
    "#               geom_point(aes(color=-log10(pvalue))) +\n",
    "#               geom_vline(xintercept=0)+\n",
    "#               theme(axis.title=element_text(size=20,face=\"bold\"),\n",
    "#                     title=element_text(size=20,face=\"bold\"),\n",
    "#                     text=element_text(size=25)) +\n",
    "#               ylab(\"Pathway Names\") +\n",
    "#               ggtitle(\"Hippo\") +\n",
    "#               xlab(\"log2FC\")\n",
    "#}"
   ]
  },
  {
   "cell_type": "code",
   "execution_count": null,
   "metadata": {},
   "outputs": [],
   "source": [
    "#if(bool_plot){       \n",
    "#    df_total.hpt = data.frame()\n",
    "#    for(i in 1:nrow(all)){\n",
    "#        p = as.data.frame(hpt[which(hpt$GeneName%in%\n",
    "#                          sig.gene.hpt.all[sig.gene.hpt.all[,2]%in%unlist(strsplit(all$geneID[i],\"/\")),1]),c(2,3)])\n",
    "#        p$pathway = all$Description[i]\n",
    "#        p$padjPath = all$p.adjust[i]\n",
    "#        p$count = all$Count[i]\n",
    "#        df_total.hpt = rbind(df_total.hpt,p)\n",
    "#    }\n",
    "    #df_total.hpt$log2FoldChange <- ifelse(df_total.hpt$log2FoldChange>8,8,df_total.ctx$log2FoldChange )\n",
    "    #df_total.hpt$log2FoldChange <- ifelse(df_total.hpt$log2FoldChange< -8,-8,df_total.ctx$log2FoldChange )\n",
    "    #df_total.hpt$pvalue <- ifelse(df_total.hpt$pvalue<1e-05,1e-05,df_total.ctx$pvalue )\n",
    "\n",
    "#    ggplot(df_total.hpt, aes(log2FoldChange, pathway)) +\n",
    "#           scale_color_gradient(low=\"grey\", high=\"red\") +\n",
    "#           geom_point(aes(color = -log10(pvalue))) +\n",
    "#           geom_vline(xintercept=0)+\n",
    "#           theme(axis.title=element_text(size=20,face=\"bold\"),\n",
    "#                 title=element_text(size=20,face=\"bold\"),\n",
    "#                 text=element_text(size=25)) +\n",
    "#           ylab(\"Pathway Names\") +\n",
    "#           ggtitle(\"Significant Genes\") +\n",
    "#           xlab(\"log2FC\")\n",
    "#}"
   ]
  },
  {
   "cell_type": "code",
   "execution_count": 63,
   "metadata": {},
   "outputs": [],
   "source": [
    "#if(bool_plot){   \n",
    "#    df_total.ctx=data.frame()\n",
    "#    for(i in 1:nrow(all)){\n",
    "#        gene_list = data.frame(mget(substr(rownames(all)[i],1,10), org.Mm.egGO2ALLEGS)[[1]])\n",
    "#        p = ctx[as.matrix(ctx[,1])%in%sig.gene.ctx.all[sig.gene.ctx.all[,2]%in%gene_list[,1],1],c(2,3)]\n",
    "#        p$pathway = all$Description[i]\n",
    "#        p$padjPath = all$p.adjust[i]\n",
    "#        p$count = all$Count[i]\n",
    "#        df_total.ctx = rbind(df_total.ctx, p)\n",
    "#    }\n",
    "#    ggplot(df_total.ctx, aes(log2FoldChange, pathway)) + \n",
    "#           scale_color_gradient(low=\"grey\", high=\"red\") +\n",
    "#           geom_point(aes(color=-log10(pvalue))) +\n",
    "#           geom_vline(xintercept=0)+\n",
    "#           theme(axis.title=element_text(size=20,face=\"bold\"),\n",
    "#                 title=element_text(size=20,face=\"bold\"), \n",
    "#                 text=element_text(size=25)) +\n",
    "#           ylab(\"Pathway Names\") +\n",
    "#           ggtitle(\"CTX\") + \n",
    "#           xlab(\"log2FC\")\n",
    "#}"
   ]
  }
 ],
 "metadata": {
  "kernelspec": {
   "display_name": "R",
   "language": "R",
   "name": "ir"
  },
  "language_info": {
   "codemirror_mode": "r",
   "file_extension": ".r",
   "mimetype": "text/x-r-source",
   "name": "R",
   "pygments_lexer": "r",
   "version": "4.0.3"
  }
 },
 "nbformat": 4,
 "nbformat_minor": 2
}
